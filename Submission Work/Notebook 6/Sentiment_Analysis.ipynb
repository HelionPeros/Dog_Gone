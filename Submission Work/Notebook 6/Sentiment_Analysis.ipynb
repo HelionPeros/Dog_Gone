{
 "cells": [
  {
   "cell_type": "code",
   "execution_count": 2,
   "metadata": {},
   "outputs": [
    {
     "name": "stderr",
     "output_type": "stream",
     "text": [
      "── \u001b[1mAttaching packages\u001b[22m ─────────────────────────────────────── tidyverse 1.3.0 ──\n",
      "\n",
      "\u001b[32m✔\u001b[39m \u001b[34mggplot2\u001b[39m 3.3.2     \u001b[32m✔\u001b[39m \u001b[34mpurrr  \u001b[39m 0.3.4\n",
      "\u001b[32m✔\u001b[39m \u001b[34mtibble \u001b[39m 3.0.4     \u001b[32m✔\u001b[39m \u001b[34mdplyr  \u001b[39m 1.0.2\n",
      "\u001b[32m✔\u001b[39m \u001b[34mtidyr  \u001b[39m 1.1.2     \u001b[32m✔\u001b[39m \u001b[34mstringr\u001b[39m 1.4.0\n",
      "\u001b[32m✔\u001b[39m \u001b[34mreadr  \u001b[39m 1.3.1     \u001b[32m✔\u001b[39m \u001b[34mforcats\u001b[39m 0.5.0\n",
      "\n",
      "── \u001b[1mConflicts\u001b[22m ────────────────────────────────────────── tidyverse_conflicts() ──\n",
      "\u001b[31m✖\u001b[39m \u001b[34mdplyr\u001b[39m::\u001b[32mfilter()\u001b[39m masks \u001b[34mstats\u001b[39m::filter()\n",
      "\u001b[31m✖\u001b[39m \u001b[34mdplyr\u001b[39m::\u001b[32mlag()\u001b[39m    masks \u001b[34mstats\u001b[39m::lag()\n",
      "\n"
     ]
    },
    {
     "ename": "ERROR",
     "evalue": "Error in library(textdata): there is no package called ‘textdata’\n",
     "output_type": "error",
     "traceback": [
      "Error in library(textdata): there is no package called ‘textdata’\nTraceback:\n",
      "1. library(textdata)"
     ]
    }
   ],
   "source": [
    "library(tidyverse)\n",
    "library(tidytext)\n",
    "library(textdata)\n",
    "library(syuzhet)\n",
    "library(purrr)\n",
    "library(plotly)"
   ]
  },
  {
   "cell_type": "code",
   "execution_count": 3,
   "metadata": {},
   "outputs": [],
   "source": [
    "scores_csv = read.csv(\"~/Documents/Uni/DATA422/Group_project/Submission Work/Notebook 6/sorted_akc_breeds.csv\")"
   ]
  },
  {
   "cell_type": "code",
   "execution_count": 4,
   "metadata": {},
   "outputs": [],
   "source": [
    "get_scores <- function(x){\n",
    "    temperment_scores <- get_tokens(x, pattern = \"\\\\W\") %>%\n",
    "      get_sentiment(method=\"syuzhet\") %>%\n",
    "      sum()\n",
    "return(temperment_scores)\n",
    "}"
   ]
  },
  {
   "cell_type": "code",
   "execution_count": 6,
   "metadata": {},
   "outputs": [
    {
     "ename": "ERROR",
     "evalue": "Error in lapply(start_csv$Temperment, function(x) sapply(x, get_scores)): object 'start_csv' not found\n",
     "output_type": "error",
     "traceback": [
      "Error in lapply(start_csv$Temperment, function(x) sapply(x, get_scores)): object 'start_csv' not found\nTraceback:\n",
      "1. lapply(start_csv$Temperment, function(x) sapply(x, get_scores))"
     ]
    }
   ],
   "source": [
    "scores_csv$Sentiment_Scores <- lapply(start_csv$Temperment, function(x) sapply(x, get_scores))"
   ]
  },
  {
   "cell_type": "code",
   "execution_count": 7,
   "metadata": {},
   "outputs": [
    {
     "ename": "ERROR",
     "evalue": "Error: Problem with `mutate()` input `Sentiment_Scores`.\n\u001b[31m✖\u001b[39m object 'Sentiment_Scores' not found\n\u001b[34mℹ\u001b[39m Input `Sentiment_Scores` is `sapply(Sentiment_Scores, toString)`.\n",
     "output_type": "error",
     "traceback": [
      "Error: Problem with `mutate()` input `Sentiment_Scores`.\n\u001b[31m✖\u001b[39m object 'Sentiment_Scores' not found\n\u001b[34mℹ\u001b[39m Input `Sentiment_Scores` is `sapply(Sentiment_Scores, toString)`.\nTraceback:\n",
      "1. scores_csv %>% mutate(Sentiment_Scores = sapply(Sentiment_Scores, \n .     toString))",
      "2. withVisible(eval(quote(`_fseq`(`_lhs`)), env, env))",
      "3. eval(quote(`_fseq`(`_lhs`)), env, env)",
      "4. eval(quote(`_fseq`(`_lhs`)), env, env)",
      "5. `_fseq`(`_lhs`)",
      "6. freduce(value, `_function_list`)",
      "7. withVisible(function_list[[k]](value))",
      "8. function_list[[k]](value)",
      "9. mutate(., Sentiment_Scores = sapply(Sentiment_Scores, toString))",
      "10. mutate.data.frame(., Sentiment_Scores = sapply(Sentiment_Scores, \n  .     toString))",
      "11. mutate_cols(.data, ...)",
      "12. withCallingHandlers({\n  .     for (i in seq_along(dots)) {\n  .         not_named <- (is.null(dots_names) || dots_names[i] == \n  .             \"\")\n  .         chunks <- NULL\n  .         result <- NULL\n  .         if (quo_is_symbol(dots[[i]])) {\n  .             name <- as_string(quo_get_expr(dots[[i]]))\n  .             if (name %in% names(new_columns)) {\n  .                 result <- new_columns[[name]]\n  .                 chunks <- mask$get_resolved(name)\n  .             }\n  .             else if (name %in% names(.data)) {\n  .                 result <- .data[[name]]\n  .                 chunks <- mask$resolve(name)\n  .             }\n  .             if (inherits(.data, \"rowwise_df\") && vec_is_list(result)) {\n  .                 sizes <- list_sizes(result)\n  .                 wrong <- which(sizes != 1)\n  .                 if (length(wrong)) {\n  .                   group <- wrong[1L]\n  .                   mask$set_current_group(group)\n  .                   abort(x_size = sizes[group], class = \"dplyr:::mutate_incompatible_size\")\n  .                 }\n  .             }\n  .         }\n  .         if (is.null(chunks)) {\n  .             chunks <- mask$eval_all_mutate(dots[[i]])\n  .         }\n  .         mask$across_cache_reset()\n  .         if (is.null(chunks)) {\n  .             if (!is.null(dots_names) && dots_names[i] != \"\") {\n  .                 new_columns[[dots_names[i]]] <- zap()\n  .                 mask$remove(dots_names[i])\n  .             }\n  .             next\n  .         }\n  .         if (is.null(result)) {\n  .             if (length(rows) == 1) {\n  .                 result <- chunks[[1]]\n  .             }\n  .             else {\n  .                 result <- withCallingHandlers(vec_unchop(chunks, \n  .                   rows), vctrs_error_incompatible_type = function(cnd) {\n  .                   abort(class = \"dplyr:::error_mutate_incompatible_combine\", \n  .                     parent = cnd)\n  .                 })\n  .             }\n  .         }\n  .         if (not_named && is.data.frame(result)) {\n  .             new_columns[names(result)] <- result\n  .             map2(seq_along(result), names(result), function(i, \n  .                 nm) {\n  .                 mask$add(nm, pluck(chunks, i))\n  .             })\n  .         }\n  .         else {\n  .             name <- if (not_named) \n  .                 auto_named_dots[i]\n  .             else dots_names[i]\n  .             new_columns[[name]] <- result\n  .             mask$add(name, chunks)\n  .         }\n  .     }\n  . }, error = function(e) {\n  .     local_call_step(dots = dots, .index = i, .fn = \"mutate\", \n  .         .dot_data = inherits(e, \"rlang_error_data_pronoun_not_found\"))\n  .     call_step_envir <- peek_call_step()\n  .     error_name <- call_step_envir$error_name\n  .     error_expression <- call_step_envir$error_expression\n  .     show_group_details <- TRUE\n  .     if (inherits(e, \"dplyr:::mutate_incompatible_size\")) {\n  .         size <- vec_size(rows[[i]])\n  .         x_size <- e$x_size\n  .         bullets <- c(x = glue(\"Input `{error_name}` can't be recycled to size {size}.\"), \n  .             i = cnd_bullet_input_info(), i = glue(\"Input `{error_name}` must be size {or_1(size)}, not {x_size}.\"), \n  .             i = cnd_bullet_rowwise_unlist())\n  .     }\n  .     else if (inherits(e, \"dplyr:::mutate_mixed_null\")) {\n  .         show_group_details <- FALSE\n  .         bullets <- c(x = glue(\"`{error_name}` must return compatible vectors across groups.\"), \n  .             i = cnd_bullet_input_info(), i = \"Cannot combine NULL and non NULL results.\", \n  .             i = cnd_bullet_rowwise_unlist())\n  .     }\n  .     else if (inherits(e, \"dplyr:::mutate_not_vector\")) {\n  .         bullets <- c(x = glue(\"Input `{error_name}` must be a vector, not {friendly_type_of(e$result)}.\"), \n  .             i = cnd_bullet_input_info(), i = cnd_bullet_rowwise_unlist())\n  .     }\n  .     else if (inherits(e, \"dplyr:::error_mutate_incompatible_combine\")) {\n  .         show_group_details <- FALSE\n  .         bullets <- c(x = glue(\"Input `{error_name}` must return compatible vectors across groups\"), \n  .             i = cnd_bullet_input_info(), i = cnd_bullet_combine_details(e$parent$x, \n  .                 e$parent$x_arg), i = cnd_bullet_combine_details(e$parent$y, \n  .                 e$parent$y_arg))\n  .     }\n  .     else {\n  .         bullets <- c(x = conditionMessage(e), i = cnd_bullet_input_info())\n  .     }\n  .     abort(c(cnd_bullet_header(), bullets, i = if (show_group_details) cnd_bullet_cur_group_label()), \n  .         class = c(\"dplyr:::mutate_error\", \"dplyr_error\"), error_name = error_name, \n  .         error_expression = error_expression)\n  . }, warning = function(w) {\n  .     local_call_step(dots = dots, .index = i, .fn = \"mutate\")\n  .     warn(c(cnd_bullet_header(), i = conditionMessage(w), i = cnd_bullet_input_info(), \n  .         i = cnd_bullet_cur_group_label()))\n  . })",
      "13. mask$eval_all_mutate(dots[[i]])",
      "14. sapply(Sentiment_Scores, toString)",
      "15. lapply(X = X, FUN = FUN, ...)",
      "16. .handleSimpleError(function (e) \n  . {\n  .     local_call_step(dots = dots, .index = i, .fn = \"mutate\", \n  .         .dot_data = inherits(e, \"rlang_error_data_pronoun_not_found\"))\n  .     call_step_envir <- peek_call_step()\n  .     error_name <- call_step_envir$error_name\n  .     error_expression <- call_step_envir$error_expression\n  .     show_group_details <- TRUE\n  .     if (inherits(e, \"dplyr:::mutate_incompatible_size\")) {\n  .         size <- vec_size(rows[[i]])\n  .         x_size <- e$x_size\n  .         bullets <- c(x = glue(\"Input `{error_name}` can't be recycled to size {size}.\"), \n  .             i = cnd_bullet_input_info(), i = glue(\"Input `{error_name}` must be size {or_1(size)}, not {x_size}.\"), \n  .             i = cnd_bullet_rowwise_unlist())\n  .     }\n  .     else if (inherits(e, \"dplyr:::mutate_mixed_null\")) {\n  .         show_group_details <- FALSE\n  .         bullets <- c(x = glue(\"`{error_name}` must return compatible vectors across groups.\"), \n  .             i = cnd_bullet_input_info(), i = \"Cannot combine NULL and non NULL results.\", \n  .             i = cnd_bullet_rowwise_unlist())\n  .     }\n  .     else if (inherits(e, \"dplyr:::mutate_not_vector\")) {\n  .         bullets <- c(x = glue(\"Input `{error_name}` must be a vector, not {friendly_type_of(e$result)}.\"), \n  .             i = cnd_bullet_input_info(), i = cnd_bullet_rowwise_unlist())\n  .     }\n  .     else if (inherits(e, \"dplyr:::error_mutate_incompatible_combine\")) {\n  .         show_group_details <- FALSE\n  .         bullets <- c(x = glue(\"Input `{error_name}` must return compatible vectors across groups\"), \n  .             i = cnd_bullet_input_info(), i = cnd_bullet_combine_details(e$parent$x, \n  .                 e$parent$x_arg), i = cnd_bullet_combine_details(e$parent$y, \n  .                 e$parent$y_arg))\n  .     }\n  .     else {\n  .         bullets <- c(x = conditionMessage(e), i = cnd_bullet_input_info())\n  .     }\n  .     abort(c(cnd_bullet_header(), bullets, i = if (show_group_details) cnd_bullet_cur_group_label()), \n  .         class = c(\"dplyr:::mutate_error\", \"dplyr_error\"), error_name = error_name, \n  .         error_expression = error_expression)\n  . }, \"object 'Sentiment_Scores' not found\", base::quote(lapply(X = X, \n  .     FUN = FUN, ...)))",
      "17. h(simpleError(msg, call))",
      "18. abort(c(cnd_bullet_header(), bullets, i = if (show_group_details) cnd_bullet_cur_group_label()), \n  .     class = c(\"dplyr:::mutate_error\", \"dplyr_error\"), error_name = error_name, \n  .     error_expression = error_expression)",
      "19. signal_abort(cnd)"
     ]
    }
   ],
   "source": [
    "final_sentiment_csv <- scores_csv %>% \n",
    "  mutate(Sentiment_Scores = sapply(Sentiment_Scores, toString))"
   ]
  },
  {
   "cell_type": "code",
   "execution_count": 177,
   "metadata": {},
   "outputs": [
    {
     "data": {
      "text/html": [
       "<table>\n",
       "<caption>A data.frame: 25 × 7</caption>\n",
       "<thead>\n",
       "\t<tr><th scope=col>X</th><th scope=col>Rank</th><th scope=col>Height</th><th scope=col>Weight</th><th scope=col>Temperment</th><th scope=col>Breed</th><th scope=col>Sentiment_Scores</th></tr>\n",
       "\t<tr><th scope=col>&lt;int&gt;</th><th scope=col>&lt;int&gt;</th><th scope=col>&lt;chr&gt;</th><th scope=col>&lt;int&gt;</th><th scope=col>&lt;chr&gt;</th><th scope=col>&lt;chr&gt;</th><th scope=col>&lt;chr&gt;</th></tr>\n",
       "</thead>\n",
       "<tbody>\n",
       "\t<tr><td> 1</td><td><span style=white-space:pre-wrap>  7</span></td><td><span style=white-space:pre-wrap>13 inches &amp; under, 13-15 inches                   </span></td><td>20</td><td><span style=white-space:pre-wrap>Friendly, Curious, Merry         </span></td><td><span style=white-space:pre-wrap>Beagle                       </span></td><td>2.15</td></tr>\n",
       "\t<tr><td> 2</td><td> 43</td><td>9.5-11.5 inches                                   </td><td>12</td><td>Playful, Curious, Peppy          </td><td>Bichon Frise                 </td><td>2.4 </td></tr>\n",
       "\t<tr><td> 3</td><td> 14</td><td>23-25 inches (male), 21.5-23.5 inches (female)    </td><td>65</td><td>Bright, Fun-Loving, Active       </td><td>Boxer                        </td><td>2.25</td></tr>\n",
       "\t<tr><td> 4</td><td> 55</td><td>18-20 inches (male), 17-19 inches (female)        </td><td>35</td><td>Alert, Curious, Pleasant         </td><td>Australian Cattle Dog        </td><td>1.15</td></tr>\n",
       "\t<tr><td> 5</td><td> 35</td><td>5-8 inches                                        </td><td> 6</td><td>Charming, Graceful, Sassy        </td><td>Chihuahua                    </td><td>1.75</td></tr>\n",
       "\t<tr><td> 6</td><td>136</td><td>21-22 inches (male), 20-21 inches (female)        </td><td>45</td><td>Smart, Bouncy, Charismatic       </td><td>Bearded Collie               </td><td>1.5 </td></tr>\n",
       "\t<tr><td> 7</td><td> 33</td><td>19-22 inches (male), 18-21 inches (female)        </td><td>30</td><td>Affectionate, Smart, Energetic   </td><td>Border Collie                </td><td>1.75</td></tr>\n",
       "\t<tr><td> 8</td><td> 38</td><td>24-26 inches (male), 22-24 inches (female)        </td><td>60</td><td>Devoted, Graceful, Proud         </td><td>Collie                       </td><td>2.3 </td></tr>\n",
       "\t<tr><td> 9</td><td>162</td><td>28-30 inches (male), 27-28 inches (female)        </td><td>65</td><td>Gentle, Independent, Noble       </td><td>Greyhound                    </td><td>1.75</td></tr>\n",
       "\t<tr><td>10</td><td> 36</td><td>7-9 inches                                        </td><td> 7</td><td>Gentle, Playful, Charming        </td><td>Maltese                      </td><td>3   </td></tr>\n",
       "\t<tr><td>11</td><td>  6</td><td>Over 15 inches (standard)                         </td><td>60</td><td>Active, Proud, Very Smart        </td><td>Poodle (Standard)            </td><td>1.5 </td></tr>\n",
       "\t<tr><td>12</td><td>  3</td><td>23-24 inches (male), 21.5-22.5 inches (female)    </td><td>65</td><td>Friendly, Intelligent, Devoted   </td><td>Golden Retriever             </td><td>2.55</td></tr>\n",
       "\t<tr><td>13</td><td>  1</td><td>22.5-24.5 inches (male), 21.5-23.5 inches (female)</td><td>65</td><td>Friendly, Active, Outgoing       </td><td>Labrador Retriever           </td><td>1   </td></tr>\n",
       "\t<tr><td>14</td><td>  8</td><td>24-27 inches (male), 22-25 inches (female)        </td><td>95</td><td>Loyal, Loving, Confident Guardian</td><td>Rottweiler                   </td><td>2.65</td></tr>\n",
       "\t<tr><td>15</td><td> 18</td><td>12-14 inches                                      </td><td>11</td><td>Friendly, Smart, Obedient        </td><td>Miniature Schnauzer          </td><td>1.25</td></tr>\n",
       "\t<tr><td>16</td><td>  2</td><td>24-26 inches (male), 22-24 inches (female)        </td><td>65</td><td>Confident, Courageous, Smart     </td><td>German Shepherd Dog          </td><td>2.3 </td></tr>\n",
       "\t<tr><td>17</td><td> 20</td><td>9-10.5 inches                                     </td><td> 9</td><td>Affectionate, Playful, Outgoing  </td><td>Shih Tzu                     </td><td>1.5 </td></tr>\n",
       "\t<tr><td>18</td><td> 16</td><td>12-13 inches                                      </td><td>13</td><td>Affectionate, Gentle, Graceful   </td><td>Cavalier King Charles Spaniel</td><td>2.25</td></tr>\n",
       "\t<tr><td>19</td><td> 28</td><td>14.5-15.5 inches (male), 13.5-14.5 inches (female)</td><td>25</td><td>Gentle, Smart, Happy             </td><td>Cocker Spaniel               </td><td>2.25</td></tr>\n",
       "\t<tr><td>20</td><td> 27</td><td>20 inches (male), 19 inches (female)              </td><td>50</td><td>Friendly, Playful, Obedient      </td><td>English Springer Spaniel     </td><td>1.75</td></tr>\n",
       "\t<tr><td>21</td><td> 61</td><td>21-22 inches                                      </td><td>50</td><td>Playful, Charming, Mischievous   </td><td>Bull Terrier                 </td><td>1.5 </td></tr>\n",
       "\t<tr><td>22</td><td>122</td><td>15½ inches                                        </td><td>18</td><td>Friendly, Independent, Amusing   </td><td>Smooth Fox Terrier           </td><td>1.25</td></tr>\n",
       "\t<tr><td>23</td><td> 75</td><td>10-12 inches                                      </td><td> 9</td><td>Alert, Inquisitive, Lively       </td><td>Russell Terrier              </td><td>1   </td></tr>\n",
       "\t<tr><td>24</td><td> 82</td><td>14-16 inches                                      </td><td>28</td><td>Clever, Brave, Tenacious         </td><td>Staffordshire Bull Terrier   </td><td>1.75</td></tr>\n",
       "\t<tr><td>25</td><td> 44</td><td>11 inches (male). 10 inches, female               </td><td>15</td><td>Loyal, Happy, Entertaining       </td><td>West Highland White Terrier  </td><td>2.5 </td></tr>\n",
       "</tbody>\n",
       "</table>\n"
      ],
      "text/latex": [
       "A data.frame: 25 × 7\n",
       "\\begin{tabular}{lllllll}\n",
       " X & Rank & Height & Weight & Temperment & Breed & Sentiment\\_Scores\\\\\n",
       " <int> & <int> & <chr> & <int> & <chr> & <chr> & <chr>\\\\\n",
       "\\hline\n",
       "\t  1 &   7 & 13 inches \\& under, 13-15 inches                    & 20 & Friendly, Curious, Merry          & Beagle                        & 2.15\\\\\n",
       "\t  2 &  43 & 9.5-11.5 inches                                    & 12 & Playful, Curious, Peppy           & Bichon Frise                  & 2.4 \\\\\n",
       "\t  3 &  14 & 23-25 inches (male), 21.5-23.5 inches (female)     & 65 & Bright, Fun-Loving, Active        & Boxer                         & 2.25\\\\\n",
       "\t  4 &  55 & 18-20 inches (male), 17-19 inches (female)         & 35 & Alert, Curious, Pleasant          & Australian Cattle Dog         & 1.15\\\\\n",
       "\t  5 &  35 & 5-8 inches                                         &  6 & Charming, Graceful, Sassy         & Chihuahua                     & 1.75\\\\\n",
       "\t  6 & 136 & 21-22 inches (male), 20-21 inches (female)         & 45 & Smart, Bouncy, Charismatic        & Bearded Collie                & 1.5 \\\\\n",
       "\t  7 &  33 & 19-22 inches (male), 18-21 inches (female)         & 30 & Affectionate, Smart, Energetic    & Border Collie                 & 1.75\\\\\n",
       "\t  8 &  38 & 24-26 inches (male), 22-24 inches (female)         & 60 & Devoted, Graceful, Proud          & Collie                        & 2.3 \\\\\n",
       "\t  9 & 162 & 28-30 inches (male), 27-28 inches (female)         & 65 & Gentle, Independent, Noble        & Greyhound                     & 1.75\\\\\n",
       "\t 10 &  36 & 7-9 inches                                         &  7 & Gentle, Playful, Charming         & Maltese                       & 3   \\\\\n",
       "\t 11 &   6 & Over 15 inches (standard)                          & 60 & Active, Proud, Very Smart         & Poodle (Standard)             & 1.5 \\\\\n",
       "\t 12 &   3 & 23-24 inches (male), 21.5-22.5 inches (female)     & 65 & Friendly, Intelligent, Devoted    & Golden Retriever              & 2.55\\\\\n",
       "\t 13 &   1 & 22.5-24.5 inches (male), 21.5-23.5 inches (female) & 65 & Friendly, Active, Outgoing        & Labrador Retriever            & 1   \\\\\n",
       "\t 14 &   8 & 24-27 inches (male), 22-25 inches (female)         & 95 & Loyal, Loving, Confident Guardian & Rottweiler                    & 2.65\\\\\n",
       "\t 15 &  18 & 12-14 inches                                       & 11 & Friendly, Smart, Obedient         & Miniature Schnauzer           & 1.25\\\\\n",
       "\t 16 &   2 & 24-26 inches (male), 22-24 inches (female)         & 65 & Confident, Courageous, Smart      & German Shepherd Dog           & 2.3 \\\\\n",
       "\t 17 &  20 & 9-10.5 inches                                      &  9 & Affectionate, Playful, Outgoing   & Shih Tzu                      & 1.5 \\\\\n",
       "\t 18 &  16 & 12-13 inches                                       & 13 & Affectionate, Gentle, Graceful    & Cavalier King Charles Spaniel & 2.25\\\\\n",
       "\t 19 &  28 & 14.5-15.5 inches (male), 13.5-14.5 inches (female) & 25 & Gentle, Smart, Happy              & Cocker Spaniel                & 2.25\\\\\n",
       "\t 20 &  27 & 20 inches (male), 19 inches (female)               & 50 & Friendly, Playful, Obedient       & English Springer Spaniel      & 1.75\\\\\n",
       "\t 21 &  61 & 21-22 inches                                       & 50 & Playful, Charming, Mischievous    & Bull Terrier                  & 1.5 \\\\\n",
       "\t 22 & 122 & 15½ inches                                         & 18 & Friendly, Independent, Amusing    & Smooth Fox Terrier            & 1.25\\\\\n",
       "\t 23 &  75 & 10-12 inches                                       &  9 & Alert, Inquisitive, Lively        & Russell Terrier               & 1   \\\\\n",
       "\t 24 &  82 & 14-16 inches                                       & 28 & Clever, Brave, Tenacious          & Staffordshire Bull Terrier    & 1.75\\\\\n",
       "\t 25 &  44 & 11 inches (male). 10 inches, female                & 15 & Loyal, Happy, Entertaining        & West Highland White Terrier   & 2.5 \\\\\n",
       "\\end{tabular}\n"
      ],
      "text/markdown": [
       "\n",
       "A data.frame: 25 × 7\n",
       "\n",
       "| X &lt;int&gt; | Rank &lt;int&gt; | Height &lt;chr&gt; | Weight &lt;int&gt; | Temperment &lt;chr&gt; | Breed &lt;chr&gt; | Sentiment_Scores &lt;chr&gt; |\n",
       "|---|---|---|---|---|---|---|\n",
       "|  1 |   7 | 13 inches &amp; under, 13-15 inches                    | 20 | Friendly, Curious, Merry          | Beagle                        | 2.15 |\n",
       "|  2 |  43 | 9.5-11.5 inches                                    | 12 | Playful, Curious, Peppy           | Bichon Frise                  | 2.4  |\n",
       "|  3 |  14 | 23-25 inches (male), 21.5-23.5 inches (female)     | 65 | Bright, Fun-Loving, Active        | Boxer                         | 2.25 |\n",
       "|  4 |  55 | 18-20 inches (male), 17-19 inches (female)         | 35 | Alert, Curious, Pleasant          | Australian Cattle Dog         | 1.15 |\n",
       "|  5 |  35 | 5-8 inches                                         |  6 | Charming, Graceful, Sassy         | Chihuahua                     | 1.75 |\n",
       "|  6 | 136 | 21-22 inches (male), 20-21 inches (female)         | 45 | Smart, Bouncy, Charismatic        | Bearded Collie                | 1.5  |\n",
       "|  7 |  33 | 19-22 inches (male), 18-21 inches (female)         | 30 | Affectionate, Smart, Energetic    | Border Collie                 | 1.75 |\n",
       "|  8 |  38 | 24-26 inches (male), 22-24 inches (female)         | 60 | Devoted, Graceful, Proud          | Collie                        | 2.3  |\n",
       "|  9 | 162 | 28-30 inches (male), 27-28 inches (female)         | 65 | Gentle, Independent, Noble        | Greyhound                     | 1.75 |\n",
       "| 10 |  36 | 7-9 inches                                         |  7 | Gentle, Playful, Charming         | Maltese                       | 3    |\n",
       "| 11 |   6 | Over 15 inches (standard)                          | 60 | Active, Proud, Very Smart         | Poodle (Standard)             | 1.5  |\n",
       "| 12 |   3 | 23-24 inches (male), 21.5-22.5 inches (female)     | 65 | Friendly, Intelligent, Devoted    | Golden Retriever              | 2.55 |\n",
       "| 13 |   1 | 22.5-24.5 inches (male), 21.5-23.5 inches (female) | 65 | Friendly, Active, Outgoing        | Labrador Retriever            | 1    |\n",
       "| 14 |   8 | 24-27 inches (male), 22-25 inches (female)         | 95 | Loyal, Loving, Confident Guardian | Rottweiler                    | 2.65 |\n",
       "| 15 |  18 | 12-14 inches                                       | 11 | Friendly, Smart, Obedient         | Miniature Schnauzer           | 1.25 |\n",
       "| 16 |   2 | 24-26 inches (male), 22-24 inches (female)         | 65 | Confident, Courageous, Smart      | German Shepherd Dog           | 2.3  |\n",
       "| 17 |  20 | 9-10.5 inches                                      |  9 | Affectionate, Playful, Outgoing   | Shih Tzu                      | 1.5  |\n",
       "| 18 |  16 | 12-13 inches                                       | 13 | Affectionate, Gentle, Graceful    | Cavalier King Charles Spaniel | 2.25 |\n",
       "| 19 |  28 | 14.5-15.5 inches (male), 13.5-14.5 inches (female) | 25 | Gentle, Smart, Happy              | Cocker Spaniel                | 2.25 |\n",
       "| 20 |  27 | 20 inches (male), 19 inches (female)               | 50 | Friendly, Playful, Obedient       | English Springer Spaniel      | 1.75 |\n",
       "| 21 |  61 | 21-22 inches                                       | 50 | Playful, Charming, Mischievous    | Bull Terrier                  | 1.5  |\n",
       "| 22 | 122 | 15½ inches                                         | 18 | Friendly, Independent, Amusing    | Smooth Fox Terrier            | 1.25 |\n",
       "| 23 |  75 | 10-12 inches                                       |  9 | Alert, Inquisitive, Lively        | Russell Terrier               | 1    |\n",
       "| 24 |  82 | 14-16 inches                                       | 28 | Clever, Brave, Tenacious          | Staffordshire Bull Terrier    | 1.75 |\n",
       "| 25 |  44 | 11 inches (male). 10 inches, female                | 15 | Loyal, Happy, Entertaining        | West Highland White Terrier   | 2.5  |\n",
       "\n"
      ],
      "text/plain": [
       "   X  Rank Height                                             Weight\n",
       "1   1   7  13 inches & under, 13-15 inches                    20    \n",
       "2   2  43  9.5-11.5 inches                                    12    \n",
       "3   3  14  23-25 inches (male), 21.5-23.5 inches (female)     65    \n",
       "4   4  55  18-20 inches (male), 17-19 inches (female)         35    \n",
       "5   5  35  5-8 inches                                          6    \n",
       "6   6 136  21-22 inches (male), 20-21 inches (female)         45    \n",
       "7   7  33  19-22 inches (male), 18-21 inches (female)         30    \n",
       "8   8  38  24-26 inches (male), 22-24 inches (female)         60    \n",
       "9   9 162  28-30 inches (male), 27-28 inches (female)         65    \n",
       "10 10  36  7-9 inches                                          7    \n",
       "11 11   6  Over 15 inches (standard)                          60    \n",
       "12 12   3  23-24 inches (male), 21.5-22.5 inches (female)     65    \n",
       "13 13   1  22.5-24.5 inches (male), 21.5-23.5 inches (female) 65    \n",
       "14 14   8  24-27 inches (male), 22-25 inches (female)         95    \n",
       "15 15  18  12-14 inches                                       11    \n",
       "16 16   2  24-26 inches (male), 22-24 inches (female)         65    \n",
       "17 17  20  9-10.5 inches                                       9    \n",
       "18 18  16  12-13 inches                                       13    \n",
       "19 19  28  14.5-15.5 inches (male), 13.5-14.5 inches (female) 25    \n",
       "20 20  27  20 inches (male), 19 inches (female)               50    \n",
       "21 21  61  21-22 inches                                       50    \n",
       "22 22 122  15½ inches                                         18    \n",
       "23 23  75  10-12 inches                                        9    \n",
       "24 24  82  14-16 inches                                       28    \n",
       "25 25  44  11 inches (male). 10 inches, female                15    \n",
       "   Temperment                        Breed                        \n",
       "1  Friendly, Curious, Merry          Beagle                       \n",
       "2  Playful, Curious, Peppy           Bichon Frise                 \n",
       "3  Bright, Fun-Loving, Active        Boxer                        \n",
       "4  Alert, Curious, Pleasant          Australian Cattle Dog        \n",
       "5  Charming, Graceful, Sassy         Chihuahua                    \n",
       "6  Smart, Bouncy, Charismatic        Bearded Collie               \n",
       "7  Affectionate, Smart, Energetic    Border Collie                \n",
       "8  Devoted, Graceful, Proud          Collie                       \n",
       "9  Gentle, Independent, Noble        Greyhound                    \n",
       "10 Gentle, Playful, Charming         Maltese                      \n",
       "11 Active, Proud, Very Smart         Poodle (Standard)            \n",
       "12 Friendly, Intelligent, Devoted    Golden Retriever             \n",
       "13 Friendly, Active, Outgoing        Labrador Retriever           \n",
       "14 Loyal, Loving, Confident Guardian Rottweiler                   \n",
       "15 Friendly, Smart, Obedient         Miniature Schnauzer          \n",
       "16 Confident, Courageous, Smart      German Shepherd Dog          \n",
       "17 Affectionate, Playful, Outgoing   Shih Tzu                     \n",
       "18 Affectionate, Gentle, Graceful    Cavalier King Charles Spaniel\n",
       "19 Gentle, Smart, Happy              Cocker Spaniel               \n",
       "20 Friendly, Playful, Obedient       English Springer Spaniel     \n",
       "21 Playful, Charming, Mischievous    Bull Terrier                 \n",
       "22 Friendly, Independent, Amusing    Smooth Fox Terrier           \n",
       "23 Alert, Inquisitive, Lively        Russell Terrier              \n",
       "24 Clever, Brave, Tenacious          Staffordshire Bull Terrier   \n",
       "25 Loyal, Happy, Entertaining        West Highland White Terrier  \n",
       "   Sentiment_Scores\n",
       "1  2.15            \n",
       "2  2.4             \n",
       "3  2.25            \n",
       "4  1.15            \n",
       "5  1.75            \n",
       "6  1.5             \n",
       "7  1.75            \n",
       "8  2.3             \n",
       "9  1.75            \n",
       "10 3               \n",
       "11 1.5             \n",
       "12 2.55            \n",
       "13 1               \n",
       "14 2.65            \n",
       "15 1.25            \n",
       "16 2.3             \n",
       "17 1.5             \n",
       "18 2.25            \n",
       "19 2.25            \n",
       "20 1.75            \n",
       "21 1.5             \n",
       "22 1.25            \n",
       "23 1               \n",
       "24 1.75            \n",
       "25 2.5             "
      ]
     },
     "metadata": {},
     "output_type": "display_data"
    }
   ],
   "source": [
    "final_sentiment_csv"
   ]
  },
  {
   "cell_type": "code",
   "execution_count": null,
   "metadata": {},
   "outputs": [],
   "source": []
  },
  {
   "cell_type": "code",
   "execution_count": 1,
   "metadata": {},
   "outputs": [
    {
     "ename": "ERROR",
     "evalue": "Error in plot_ly(final_sentiment_csv, x = ~Sentiment_Scores, y = ~Rank, : could not find function \"plot_ly\"\n",
     "output_type": "error",
     "traceback": [
      "Error in plot_ly(final_sentiment_csv, x = ~Sentiment_Scores, y = ~Rank, : could not find function \"plot_ly\"\nTraceback:\n"
     ]
    }
   ],
   "source": [
    "colors <- c('#4AC6B7', '#1972A4', '#965F8A', '#FF7070', '#C61951')\n",
    "\n",
    "r1 <- plot_ly(final_sentiment_csv, x = ~`Sentiment_Scores`, y = ~`Rank`,  \n",
    "  color = ~`Breed`, type = \"scatter\",\n",
    "  mode=\"markers\", colors=~colors, size=~`Weight`,\n",
    "  marker = list(symbol = 'circle', sizemode = 'diameter',\n",
    "                      line = list(width = 2, color = '#FFFFFF'), opacity=0.4)\n",
    "  )\n",
    "r1 %>% layout(\n",
    "        title=\"Home Ownership Per Capita Compared to Dogs Per Capita\",\n",
    "        xaxis = list(title = 'Sentiment'),\n",
    "        yaxis = list(title = 'Rank')\n",
    "  )"
   ]
  },
  {
   "cell_type": "code",
   "execution_count": null,
   "metadata": {},
   "outputs": [],
   "source": []
  }
 ],
 "metadata": {
  "kernelspec": {
   "display_name": "R",
   "language": "R",
   "name": "ir"
  },
  "language_info": {
   "codemirror_mode": "r",
   "file_extension": ".r",
   "mimetype": "text/x-r-source",
   "name": "R",
   "pygments_lexer": "r",
   "version": "4.0.3"
  }
 },
 "nbformat": 4,
 "nbformat_minor": 4
}
