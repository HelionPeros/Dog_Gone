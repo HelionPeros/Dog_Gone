{
 "cells": [
  {
   "cell_type": "markdown",
   "metadata": {},
   "source": [
    "## Data Wrangling Project: Looking at the Pets of New Zealand "
   ]
  },
  {
   "cell_type": "markdown",
   "metadata": {},
   "source": [
    "## This project looked at all of the dog breeds in New Zealands Regions "
   ]
  },
  {
   "cell_type": "markdown",
   "metadata": {},
   "source": [
    "## At the end of this notebook we will end with 4 dataframes:\n"
   ]
  },
  {
   "cell_type": "markdown",
   "metadata": {},
   "source": [
    "One for the pet information for all the regions \n"
   ]
  },
  {
   "cell_type": "markdown",
   "metadata": {},
   "source": [
    "One for the population information for all three regions \n"
   ]
  },
  {
   "cell_type": "markdown",
   "metadata": {},
   "source": [
    "One for the income information for all three regions \n"
   ]
  },
  {
   "cell_type": "markdown",
   "metadata": {},
   "source": [
    "One for the home ownership information for all three regions  "
   ]
  },
  {
   "cell_type": "markdown",
   "metadata": {},
   "source": [
    "We had CSVs from all of the regions in New Zealand that contained information about Pets counts, population information median income and home ownership \n"
   ]
  },
  {
   "cell_type": "markdown",
   "metadata": {},
   "source": [
    "The first step is to extract this information from the CSVs and make a dataframe for each of this information"
   ]
  },
  {
   "cell_type": "markdown",
   "metadata": {},
   "source": [
    "To do this we sorted the information about different districts in New Zealnd (61) into folders for different regions in New Zealand. "
   ]
  },
  {
   "cell_type": "code",
   "execution_count": null,
   "metadata": {},
   "outputs": [],
   "source": [
    "#first load the tidyverse library which has many useful libraries within it\n",
    "library(tidyverse)"
   ]
  },
  {
   "cell_type": "markdown",
   "metadata": {},
   "source": [
    "## Define functions to extract the information we want from the CSVs"
   ]
  },
  {
   "cell_type": "code",
   "execution_count": null,
   "metadata": {},
   "outputs": [],
   "source": [
    "#Extract the pets information from the CSV\n",
    "#This function takes a dataframe and a file list\n",
    "#This loops through each file name in a file list and extracts information about the counts of dogs in that csv\n",
    "#It then appends this to the dataframe before going to the next file in the file list and repeating the process\n",
    "#At the end it will return the dataframe, which will now have all the information from all of the CSVs appended to it \n",
    "\n",
    "\n",
    "pet_reader = function(file_list,df){\n",
    "        for (i in 1:length(file_list)){\n",
    "              data = read_csv(file_list[i])\n",
    "              pets_data = data[data$Topic == \"Pets\",]\n",
    "            #it also strips out information that isn't needed for us from the csv, done below\n",
    "              pets_data$Topic = NULL\n",
    "              pets_data$NullReason = NULL\n",
    "              pets_data$Source = NULL\n",
    "              pets_data$ValueUnit = NULL\n",
    "              pets_data$ValueLabel = NULL\n",
    "              pets_data$Date = NULL\n",
    "              pets_data$DateLabel = NULL  \n",
    "    \n",
    "              #this is specific to the pets portion, this removes the acc data\n",
    "              pets_counts = pets_data[c(-1,-2,-3),]\n",
    "              pets_counts\n",
    "  \n",
    "  \n",
    "              total_registered_dogs = pets_counts[pets_counts$Measure ==\"Registered dogs — Total registered dogs\",]\n",
    "    \n",
    "  \n",
    "              df <- rbind(df, total_registered_dogs) #for each iteration, bind the new data to the building dataset\n",
    "\n",
    "        }\n",
    "    return(df)\n",
    "}"
   ]
  },
  {
   "cell_type": "code",
   "execution_count": null,
   "metadata": {},
   "outputs": [],
   "source": [
    "#This is a similar function but focuses on reading just the population data from CSV\n",
    "#It takes a file list and a dataframe and for each file name in the file list \n",
    "#goes through and reads the csv, extracts the informatino about the population and appends it to the dataframe that you\n",
    "#give it. It then moves to the next file in the file list and repeats \n",
    "#at the end it returns the dataframe. \n",
    "pop_reader = function(file_list, df){\n",
    "\n",
    "        for (i in 1:length(file_list)){\n",
    "          data = read.csv(file_list[i])\n",
    "          demo_data = data[data$Topic == \"Demographics\",]\n",
    "            #it also strips out information that isn't needed for us from the csv, done below\n",
    "\n",
    "          demo_data$Topic = NULL\n",
    "          demo_data$NullReason = NULL\n",
    "          demo_data$Source = NULL\n",
    "          demo_data$ValueUnit = NULL\n",
    "          demo_data$ValueLabel = NULL\n",
    "          demo_data$Date = NULL\n",
    "          demo_data$DateLabel = NULL  \n",
    "\n",
    "          population = demo_data[demo_data$Measure == \"Population - residents at 2013 census\",]  \n",
    "          df <- rbind(df, population) #for each iteration, bind the new data to the building dataset\n",
    "    }\n",
    "        return(df)\n",
    "\n",
    "}"
   ]
  },
  {
   "cell_type": "code",
   "execution_count": null,
   "metadata": {},
   "outputs": [],
   "source": [
    "#Again a similar function, this one just gets information about home ownership. \n",
    "#Given a dataframe and a file list, will read through each file in the file list \n",
    "#extract the informatino about the home ownership in that file\n",
    "#append it to the dataframe \n",
    "#and move to the enxt file in the file list \n",
    "home_reader = function(file_list, df){\n",
    "        for (i in 1:length(file_list)){\n",
    "          data = read.csv(file_list[i])\n",
    "          home_data = data[data$Topic == \"Households\",]\n",
    "            #it also strips out information that isn't needed for us from the csv, done below\n",
    "\n",
    "          home_data$Topic = NULL\n",
    "          home_data$NullReason = NULL\n",
    "          home_data$Source = NULL\n",
    "          home_data$ValueUnit = NULL\n",
    "          home_data$ValueLabel = NULL  \n",
    "          home_data$Date = NULL\n",
    "          home_data$DateLabel = NULL  \n",
    "\n",
    "          ownership = home_data[home_data$Measure == \"Home ownership by households\",]  \n",
    "          df <- rbind(df, ownership) #for each iteration, bind the new data to the building dataset\n",
    "        }\n",
    "        return(df)\n",
    "\n",
    "}"
   ]
  },
  {
   "cell_type": "code",
   "execution_count": null,
   "metadata": {},
   "outputs": [],
   "source": [
    "#The final function, this gets information about the median income in a region\n",
    "#takes in a dataframe and a file list\n",
    "#and for each name in the file list will go through the csv, get the information about the income \n",
    "#append it to the dataframe\n",
    "#and then repeat for the next file in the file list\n",
    "income_reader = function(file_list, df){\n",
    "        for (i in 1:length(file_list)){\n",
    "          data = read.csv(file_list[i])\n",
    "          income_data = data[data$Topic == \"Income\",]\n",
    "            #it also strips out information that isn't needed for us from the csv, done below\n",
    "\n",
    "          income_data$Topic = NULL\n",
    "          income_data$NullReason = NULL\n",
    "          income_data$Source = NULL\n",
    "          income_data$ValueUnit = NULL\n",
    "          income_data$ValueLabel = NULL  \n",
    "          income_data$Date = NULL\n",
    "          income_data$DateLabel = NULL\n",
    "\n",
    "          personal_income = income_data[income_data$Measure == \"Median personal income ($)\",]  \n",
    "          df <- rbind(df, personal_income) #for each iteration, bind the new data to the building dataset\n",
    "        }\n",
    "        return(df)\n",
    "\n",
    "}"
   ]
  },
  {
   "cell_type": "markdown",
   "metadata": {},
   "source": [
    "## Auckland To Hawkes Bay - Extract the information that we want from the CSVs"
   ]
  },
  {
   "cell_type": "code",
   "execution_count": null,
   "metadata": {},
   "outputs": [],
   "source": [
    "#set the working directory to the folder that has all of the csv's for the region we are working on \n",
    "setwd(\"~/UNI SHIT/Masters/Year 1 /Semester 2 /Data Wrangling/Group Project/Pets/Region_CSVs/Auckland\")"
   ]
  },
  {
   "cell_type": "code",
   "execution_count": null,
   "metadata": {},
   "outputs": [],
   "source": [
    "#Read all of the file names in a path (which is where we have saved all of the CSVs for a region)\n",
    "file_list <- list.files(path=\"~/UNI SHIT/Masters/Year 1 /Semester 2 /Data Wrangling/Group Project/Pets/Region_CSVs/Auckland\")\n",
    "file_list"
   ]
  },
  {
   "cell_type": "code",
   "execution_count": null,
   "metadata": {},
   "outputs": [],
   "source": [
    "#Make an empty dataframe for the 4 bits of information that we want to extract from the CSV\n",
    "auckland_pet <- data.frame()\n",
    "auckland_pop <- data.frame()\n",
    "auckland_homes <- data.frame()\n",
    "auckland_income <- data.frame()"
   ]
  },
  {
   "cell_type": "code",
   "execution_count": null,
   "metadata": {},
   "outputs": [],
   "source": [
    "#run through the reader function that we defined earlier with the file list and the pet dataframe\n",
    "auckland_pets = pet_reader(file_list, auckland_pet)\n",
    "auckland_pets"
   ]
  },
  {
   "cell_type": "code",
   "execution_count": null,
   "metadata": {},
   "outputs": [],
   "source": [
    "#use the population reader with the file list and population dataframe \n",
    "auckland_pop = pop_reader(file_list, auckland_pop)\n",
    "auckland_pop"
   ]
  },
  {
   "cell_type": "code",
   "execution_count": null,
   "metadata": {},
   "outputs": [],
   "source": [
    "#use the home reader with the file list and the home dataframe \n",
    "auckland_homes = home_reader(file_list, auckland_homes)\n",
    "auckland_homes"
   ]
  },
  {
   "cell_type": "code",
   "execution_count": null,
   "metadata": {},
   "outputs": [],
   "source": [
    "auckland_income = income_reader(file_list, auckland_income)\n",
    "auckland_income"
   ]
  },
  {
   "cell_type": "markdown",
   "metadata": {},
   "source": [
    "We can repeat the steps we have taken with the Auckland region with all of the other regions in New Zealand"
   ]
  },
  {
   "cell_type": "markdown",
   "metadata": {},
   "source": [
    "## Bay of Plenty"
   ]
  },
  {
   "cell_type": "code",
   "execution_count": null,
   "metadata": {},
   "outputs": [],
   "source": [
    "#set the working directory to the folder that has all of the csv's for the region we are working on \n",
    "setwd(\"~/UNI SHIT/Masters/Year 1 /Semester 2 /Data Wrangling/Group Project/Pets/Region_CSVs/Bay of Plenty\")\n",
    "#and make the file list a list of names in the location\n",
    "file_list <- list.files(path=\"~/UNI SHIT/Masters/Year 1 /Semester 2 /Data Wrangling/Group Project/Pets/Region_CSVs/Bay of Plenty\")\n",
    "file_list"
   ]
  },
  {
   "cell_type": "code",
   "execution_count": null,
   "metadata": {},
   "outputs": [],
   "source": [
    "#make the empty dataframes for the bay of plenty\n",
    "bop_pet <- data.frame()\n",
    "bop_pop <- data.frame()\n",
    "bop_homes <- data.frame()\n",
    "bop_income <- data.frame()"
   ]
  },
  {
   "cell_type": "code",
   "execution_count": null,
   "metadata": {},
   "outputs": [],
   "source": [
    "#go through the readeder functions with the file list and the dataframes that we have just defined\n",
    "bop_pet = pet_reader(file_list, bop_pet)\n",
    "bop_pet\n",
    "\n",
    "bop_pop = pop_reader(file_list, bop_pop)\n",
    "bop_pop\n",
    "\n",
    "bop_homes = home_reader(file_list, bop_homes)\n",
    "bop_homes\n",
    "\n",
    "bop_income = income_reader(file_list, bop_income)\n",
    "bop_income"
   ]
  },
  {
   "cell_type": "markdown",
   "metadata": {},
   "source": [
    "## Canterbury"
   ]
  },
  {
   "cell_type": "code",
   "execution_count": null,
   "metadata": {},
   "outputs": [],
   "source": [
    "setwd(\"~/UNI SHIT/Masters/Year 1 /Semester 2 /Data Wrangling/Group Project/Pets/Region_CSVs/Canterbury\")\n",
    "#Set the working directory to where the canterbury csvs are and make the file list for those csvs\n",
    "file_list <- list.files(path=\"~/UNI SHIT/Masters/Year 1 /Semester 2 /Data Wrangling/Group Project/Pets/Region_CSVs/Canterbury\")\n",
    "file_list"
   ]
  },
  {
   "cell_type": "code",
   "execution_count": null,
   "metadata": {},
   "outputs": [],
   "source": [
    "#define the empty dataframes for canterbury\n",
    "cant_pet <- data.frame()\n",
    "cant_pop <- data.frame()\n",
    "cant_homes <- data.frame()\n",
    "cant_income <- data.frame()"
   ]
  },
  {
   "cell_type": "code",
   "execution_count": null,
   "metadata": {},
   "outputs": [],
   "source": [
    "#run through the reader functions with the dataframes defined before \n",
    "cant_pet = pet_reader(file_list, cant_pet)\n",
    "cant_pet\n",
    "\n",
    "cant_pop = pop_reader(file_list, cant_pop)\n",
    "cant_pop\n",
    "\n",
    "cant_homes = home_reader(file_list, cant_homes)\n",
    "cant_homes\n",
    "\n",
    "cant_income = income_reader(file_list, cant_income)\n",
    "cant_income"
   ]
  },
  {
   "cell_type": "markdown",
   "metadata": {},
   "source": [
    "## Gisbourne"
   ]
  },
  {
   "cell_type": "code",
   "execution_count": null,
   "metadata": {},
   "outputs": [],
   "source": [
    "setwd(\"~/UNI SHIT/Masters/Year 1 /Semester 2 /Data Wrangling/Group Project/Pets/Region_CSVs/Gisbourne\")\n",
    "#get the file list for the gisbourne files\n",
    "file_list <- list.files(path=\"~/UNI SHIT/Masters/Year 1 /Semester 2 /Data Wrangling/Group Project/Pets/Region_CSVs/Gisbourne\")\n",
    "file_list"
   ]
  },
  {
   "cell_type": "code",
   "execution_count": null,
   "metadata": {},
   "outputs": [],
   "source": [
    "#make the empty dataframes for the gisbourne region\n",
    "gisb_pet <- data.frame()\n",
    "gisb_pop <- data.frame()\n",
    "gisb_homes <- data.frame()\n",
    "gisb_income <- data.frame()"
   ]
  },
  {
   "cell_type": "code",
   "execution_count": null,
   "metadata": {},
   "outputs": [],
   "source": [
    "#run through the reader functions with those dataframes\n",
    "gisb_pet = pet_reader(file_list, gisb_pet)\n",
    "gisb_pet\n",
    "\n",
    "gisb_pop = pop_reader(file_list, gisb_pop)\n",
    "gisb_pop\n",
    "\n",
    "gisb_homes = home_reader(file_list, gisb_homes)\n",
    "gisb_homes\n",
    "\n",
    "gisb_income = income_reader(file_list, gisb_income)\n",
    "gisb_income"
   ]
  },
  {
   "cell_type": "markdown",
   "metadata": {},
   "source": [
    "## Hawke's Bay"
   ]
  },
  {
   "cell_type": "code",
   "execution_count": null,
   "metadata": {},
   "outputs": [],
   "source": [
    "setwd(\"~/UNI SHIT/Masters/Year 1 /Semester 2 /Data Wrangling/Group Project/Pets/Region_CSVs/Hawke's Bay\")\n",
    "#get the file list for the hawkes bay region\n",
    "file_list <- list.files(path=\"~/UNI SHIT/Masters/Year 1 /Semester 2 /Data Wrangling/Group Project/Pets/Region_CSVs/Hawke's Bay\")\n",
    "file_list"
   ]
  },
  {
   "cell_type": "code",
   "execution_count": null,
   "metadata": {},
   "outputs": [],
   "source": [
    "#make our empty datframes for the hawkes bay reigon\n",
    "hb_pet <- data.frame()\n",
    "hb_pop <- data.frame()\n",
    "hb_homes <- data.frame()\n",
    "hb_income <- data.frame()"
   ]
  },
  {
   "cell_type": "code",
   "execution_count": null,
   "metadata": {},
   "outputs": [],
   "source": [
    "#run through the reader functions with the hawkes bay dataframes\n",
    "hb_pet = pet_reader(file_list, hb_pet)\n",
    "hb_pet\n",
    "\n",
    "hb_pop = pop_reader(file_list, hb_pop)\n",
    "hb_pop\n",
    "\n",
    "hb_homes = home_reader(file_list, hb_homes)\n",
    "hb_homes\n",
    "\n",
    "hb_income = income_reader(file_list, hb_income)\n",
    "hb_income"
   ]
  },
  {
   "cell_type": "markdown",
   "metadata": {},
   "source": [
    "## Aggregration now "
   ]
  },
  {
   "cell_type": "markdown",
   "metadata": {},
   "source": [
    "Now we must aggregate. This is because we do not want information about individual districts, we want information about the region as a whole. Therefore we can use the aggregrate function to aggregarate the dataframes by a metric we have given it (either sum or mean)"
   ]
  },
  {
   "cell_type": "markdown",
   "metadata": {},
   "source": [
    "## Compress Pets"
   ]
  },
  {
   "cell_type": "code",
   "execution_count": null,
   "metadata": {},
   "outputs": [],
   "source": [
    "#here im going to write a function just to save having to write the aggregrate function a lot of times\n",
    "#this aggregrates the value column by the category column and sums them (the category column is the breed name)\n",
    "#the value column is the count for that breed name\n",
    "compress_pets = function(region){\n",
    "        df<- aggregate(region['Value'], by=region['Category'], sum) \n",
    "       return(df)\n",
    "}"
   ]
  },
  {
   "cell_type": "code",
   "execution_count": null,
   "metadata": {},
   "outputs": [],
   "source": [
    "#compress the pets dataframes\n",
    "auckland_pets = compress_pets(auckland_pets)\n",
    "bop_pet = compress_pets(bop_pet)\n",
    "cant_pet = compress_pets(cant_pet)\n",
    "gisb_pet = compress_pets(gisb_pet)\n",
    "hb_pet = compress_pets(hb_pet)"
   ]
  },
  {
   "cell_type": "code",
   "execution_count": null,
   "metadata": {},
   "outputs": [],
   "source": [
    "#check that they're now compressed and aren't showing for districts \n",
    "auckland_pets\n",
    "bop_pet\n",
    "cant_pet\n",
    "gisb_pet\n",
    "hb_pet"
   ]
  },
  {
   "cell_type": "code",
   "execution_count": null,
   "metadata": {},
   "outputs": [],
   "source": [
    "#Now we want to rename the columns in the dataframe to be more sensible \n",
    "#We will rename the category column to Breeds as this is what that column shows\n",
    "#and rename each value column to the name of the region for the respective region\n",
    "\n",
    "\n",
    "auckland_pets <- rename(auckland_pets, Breed = Category, Auckland = Value)\n",
    "bop_pet <- rename(bop_pet, Breed = Category, Bay_of_Plenty = Value)\n",
    "cant_pet <- rename(cant_pet, Breed = Category, Canterbury = Value)\n",
    "gisb_pet <- rename(gisb_pet, Breed = Category, Gisbourne = Value)\n",
    "hb_pet <- rename(hb_pet, Breed = Category, Hawkes_Bay = Value)\n",
    "\n",
    "\n",
    "auckland_pets\n",
    "bop_pet\n",
    "cant_pet\n",
    "gisb_pet\n",
    "hb_pet"
   ]
  },
  {
   "cell_type": "markdown",
   "metadata": {},
   "source": [
    "## Stitch them all together"
   ]
  },
  {
   "cell_type": "code",
   "execution_count": null,
   "metadata": {},
   "outputs": [],
   "source": [
    "#then we want these all as one bigger dataframe, so we will join them by the breed name \n",
    "a_b <- auckland_pets %>%\n",
    " left_join(bop_pet, by = \"Breed\")\n",
    "\n",
    "a_b_c <- a_b %>%\n",
    " left_join(cant_pet, by = \"Breed\")\n",
    "\n",
    "a_b_c_g <- a_b_c %>%\n",
    " left_join(gisb_pet, by = \"Breed\")\n",
    "\n",
    "final_pets <- a_b_c_g %>%\n",
    " left_join(hb_pet, by = \"Breed\")\n"
   ]
  },
  {
   "cell_type": "code",
   "execution_count": null,
   "metadata": {},
   "outputs": [],
   "source": [
    "final_pets\n"
   ]
  },
  {
   "cell_type": "markdown",
   "metadata": {},
   "source": [
    "## Population"
   ]
  },
  {
   "cell_type": "code",
   "execution_count": null,
   "metadata": {},
   "outputs": [],
   "source": [
    "#make a compress function for the population \n",
    "#this is the same as the previous function for pets, it sums the population for all of the distrcits \n",
    "#to give a population count for the whole region \n",
    "compress_pop = function(region){\n",
    "    df <- aggregate(region[\"Value\"], by = region['Category'], sum)\n",
    "    return(df)\n",
    "}"
   ]
  },
  {
   "cell_type": "code",
   "execution_count": null,
   "metadata": {},
   "outputs": [],
   "source": [
    "#Do the same as we did for pets but all in one cell. \n",
    "#So do the compress function to aggregrate the dataframes to be just regionwide counts\n",
    "auckland_pop = compress_pop(auckland_pop)\n",
    "bop_pop = compress_pop(bop_pop)\n",
    "cant_pop = compress_pop(cant_pop)\n",
    "gisb_pop = compress_pop(gisb_pop)\n",
    "hb_pop = compress_pop(hb_pop)\n",
    "\n",
    "#And rename the columns in the dataframes to be sensible\n",
    "auckland_pop  <- rename(auckland_pop, Total_People = Category, Auckland = Value) \n",
    "bop_pop <- rename(bop_pop, Total_People = Category, Bay_Of_Plenty = Value) \n",
    "cant_pop <- rename(cant_pop, Total_People = Category, Canterbury = Value) \n",
    "gisb_pop <- rename(gisb_pop, Total_People = Category, Gisbourne = Value) \n",
    "hb_pop <- rename(hb_pop, Total_People = Category, Hawks_Bay = Value) "
   ]
  },
  {
   "cell_type": "code",
   "execution_count": null,
   "metadata": {},
   "outputs": [],
   "source": [
    "#Stitch them together for one big population dataframe\n",
    "a_b <- auckland_pop %>%\n",
    " left_join(bop_pop, by = \"Total_People\")\n",
    "\n",
    "a_b_c <- a_b %>%\n",
    " left_join(cant_pop, by = \"Total_People\")\n",
    "\n",
    "a_b_c_g <- a_b_c %>%\n",
    " left_join(gisb_pop, by = \"Total_People\")\n",
    "\n",
    "final_pops <- a_b_c_g %>%\n",
    " left_join(hb_pop, by = \"Total_People\")"
   ]
  },
  {
   "cell_type": "code",
   "execution_count": null,
   "metadata": {},
   "outputs": [],
   "source": [
    "final_pops"
   ]
  },
  {
   "cell_type": "markdown",
   "metadata": {},
   "source": [
    "## Income"
   ]
  },
  {
   "cell_type": "code",
   "execution_count": null,
   "metadata": {},
   "outputs": [],
   "source": [
    "#make a compress function for the population \n",
    "#this is different from the previous function for pets, it takes the mean the of the median income for all of the distrcits \n",
    "#to give a mean median income for the region \n",
    "#you can't do the sum as otherwise it will just balloon and a region with more districts will be higher\n",
    "compress_inc = function(region){\n",
    "        df<- aggregate(region['Value'], by=region['Measure'], mean) \n",
    "       return(df)\n",
    "}"
   ]
  },
  {
   "cell_type": "code",
   "execution_count": null,
   "metadata": {},
   "outputs": [],
   "source": [
    "#compress the incomes\n",
    "auckland_income = compress_inc(auckland_income)\n",
    "bop_income = compress_inc(bop_income)\n",
    "cant_income = compress_inc(cant_income)\n",
    "gisb_income = compress_inc(gisb_income)\n",
    "hb_income = compress_inc(hb_income)"
   ]
  },
  {
   "cell_type": "code",
   "execution_count": null,
   "metadata": {},
   "outputs": [],
   "source": [
    "#rename the columns to have region names and and say median income \n",
    "auckland_income <- rename(auckland_income, Median_Income = Measure, Auckland = Value) \n",
    "bop_income <- rename(bop_income, Median_Income = Measure, Bay_Of_Plenty = Value) \n",
    "cant_income <- rename(cant_income, Median_Income = Measure, Canterbury = Value) \n",
    "gisb_income <- rename(gisb_income, Median_Income = Measure, Gisbourne = Value) \n",
    "hb_income<- rename(hb_income, Median_Income = Measure, Hawks_Bay = Value) "
   ]
  },
  {
   "cell_type": "code",
   "execution_count": null,
   "metadata": {},
   "outputs": [],
   "source": [
    "#Stitch them together into one bigger dataframe\n",
    "a_b <- auckland_income %>%\n",
    " left_join(bop_income, by = \"Median_Income\")\n",
    "\n",
    "a_b_c <- a_b %>%\n",
    " left_join(cant_income, by = \"Median_Income\")\n",
    "\n",
    "a_b_c_g <- a_b_c %>%\n",
    " left_join(gisb_income, by = \"Median_Income\")\n",
    "\n",
    "final_incomes <- a_b_c_g %>%\n",
    " left_join(hb_income, by = \"Median_Income\")"
   ]
  },
  {
   "cell_type": "code",
   "execution_count": null,
   "metadata": {},
   "outputs": [],
   "source": [
    "final_incomes\n"
   ]
  },
  {
   "cell_type": "markdown",
   "metadata": {},
   "source": [
    "## Home Ownership"
   ]
  },
  {
   "cell_type": "code",
   "execution_count": null,
   "metadata": {},
   "outputs": [],
   "source": [
    "#make a last function to compress the home ownership for all of the districts in the region\n",
    "#again this does the same as the pets one, sums them for the count of homes owned for the whole region\n",
    "#done this so i dont have to write the whole thing out every time \n",
    "compress = function(region){\n",
    "        df<- aggregate(region['Value'], by=region['Category'], sum) \n",
    "       return(df)\n",
    "}"
   ]
  },
  {
   "cell_type": "code",
   "execution_count": null,
   "metadata": {},
   "outputs": [],
   "source": [
    "#compress the home dataframes\n",
    "auckland_homes = compress(auckland_homes)\n",
    "bop_homes = compress(bop_homes)\n",
    "cant_homes = compress(cant_homes)\n",
    "gisb_homes = compress(gisb_homes)\n",
    "hb_homes = compress(hb_homes)"
   ]
  },
  {
   "cell_type": "code",
   "execution_count": null,
   "metadata": {},
   "outputs": [],
   "source": [
    "#rename them with region names and a total people count \n",
    "auckland_homes <- rename(auckland_homes, Total_People = Category, Auckland = Value) \n",
    "bop_homes <- rename(bop_homes, Total_People = Category, Bay_Of_Plenty = Value) \n",
    "cant_homes <- rename(cant_homes, Total_People = Category, Canterbury = Value) \n",
    "gisb_homes <- rename(gisb_homes, Total_People = Category, Gisbourne = Value) \n",
    "hb_homes<- rename(hb_homes, Total_People = Category, Hawks_Bay = Value) "
   ]
  },
  {
   "cell_type": "code",
   "execution_count": null,
   "metadata": {},
   "outputs": [],
   "source": [
    "#Stitch them together into one bigger dataframe\n",
    "a_b <- auckland_homes %>%\n",
    " left_join(bop_homes, by = \"Total_People\")\n",
    "\n",
    "a_b_c <- a_b %>%\n",
    " left_join(cant_homes, by = \"Total_People\")\n",
    "\n",
    "a_b_c_g <- a_b_c %>%\n",
    " left_join(gisb_homes, by = \"Total_People\")\n",
    "\n",
    "final_homes <- a_b_c_g %>%\n",
    " left_join(hb_homes, by = \"Total_People\")"
   ]
  },
  {
   "cell_type": "code",
   "execution_count": null,
   "metadata": {},
   "outputs": [],
   "source": [
    "final_homes"
   ]
  },
  {
   "cell_type": "markdown",
   "metadata": {},
   "source": [
    "## So now we have 5 of the regions in NZ, we want to get the other regions as well"
   ]
  },
  {
   "cell_type": "markdown",
   "metadata": {},
   "source": [
    "## Looking at Taranki region - West Coast Region"
   ]
  },
  {
   "cell_type": "markdown",
   "metadata": {},
   "source": [
    "Get the pets information, the population data, the home ownership and the income"
   ]
  },
  {
   "cell_type": "markdown",
   "metadata": {},
   "source": [
    "## Taranaki"
   ]
  },
  {
   "cell_type": "code",
   "execution_count": null,
   "metadata": {},
   "outputs": [],
   "source": [
    "setwd(\"~/UNI SHIT/Masters/Year 1 /Semester 2 /Data Wrangling/Group Project/Pets/Region_CSVs/Taranaki\")"
   ]
  },
  {
   "cell_type": "code",
   "execution_count": null,
   "metadata": {},
   "outputs": [],
   "source": [
    "getwd()"
   ]
  },
  {
   "cell_type": "code",
   "execution_count": null,
   "metadata": {},
   "outputs": [],
   "source": [
    "#get a list of files in the taranaki region\n",
    "file_list <- list.files(path=\"~/UNI SHIT/Masters/Year 1 /Semester 2 /Data Wrangling/Group Project/Pets/Region_CSVs/Taranaki\")\n",
    "file_list"
   ]
  },
  {
   "cell_type": "code",
   "execution_count": null,
   "metadata": {},
   "outputs": [],
   "source": [
    "#initiate a blank data frame, each iteration of the loop will append the data from the given file to this variable\n",
    "taranaki_pets <- data.frame()\n",
    "taranaki_pop <- data.frame()\n",
    "taranaki_homes <- data.frame()\n",
    "taranaki_income <- data.frame()"
   ]
  },
  {
   "cell_type": "code",
   "execution_count": null,
   "metadata": {},
   "outputs": [],
   "source": [
    "#use the reader functions on each of these dataframes\n",
    "taranaki_pets = pet_reader(file_list, taranaki_pets)\n",
    "taranaki_pets\n",
    "\n",
    "taranaki_pop = pop_reader(file_list, taranaki_pop)\n",
    "taranaki_pop\n",
    "\n",
    "taranaki_homes = home_reader(file_list, taranaki_homes)\n",
    "taranaki_homes\n",
    "\n",
    "taranaki_income = income_reader(file_list, taranaki_income)\n",
    "taranaki_income"
   ]
  },
  {
   "cell_type": "markdown",
   "metadata": {},
   "source": [
    "## Tasman"
   ]
  },
  {
   "cell_type": "code",
   "execution_count": null,
   "metadata": {},
   "outputs": [],
   "source": [
    "setwd(\"~/UNI SHIT/Masters/Year 1 /Semester 2 /Data Wrangling/Group Project/Pets/Region_CSVs/Tasman\")\n",
    "getwd()"
   ]
  },
  {
   "cell_type": "code",
   "execution_count": null,
   "metadata": {},
   "outputs": [],
   "source": [
    "#get the file list for the tasman region\n",
    "file_list <- list.files(path=\"~/UNI SHIT/Masters/Year 1 /Semester 2 /Data Wrangling/Group Project/Pets/Region_CSVs/Tasman\")\n",
    "file_list"
   ]
  },
  {
   "cell_type": "code",
   "execution_count": null,
   "metadata": {},
   "outputs": [],
   "source": [
    "#initiate the blank dataframes\n",
    "tasman_pets <- data.frame()\n",
    "tasman_pop <- data.frame()\n",
    "tasman_homes <- data.frame()\n",
    "tasman_income <- data.frame()"
   ]
  },
  {
   "cell_type": "code",
   "execution_count": null,
   "metadata": {},
   "outputs": [],
   "source": [
    "#use the reader functions to get the information\n",
    "tasman_pets = pet_reader(file_list, tasman_pets)\n",
    "tasman_pets\n",
    "\n",
    "tasman_pop = pop_reader(file_list, tasman_pop)\n",
    "tasman_pop\n",
    "\n",
    "tasman_homes = home_reader(file_list, tasman_homes)\n",
    "tasman_homes\n",
    "\n",
    "tasman_income = income_reader(file_list, tasman_income)\n",
    "tasman_income"
   ]
  },
  {
   "cell_type": "markdown",
   "metadata": {},
   "source": [
    "## Waikato"
   ]
  },
  {
   "cell_type": "code",
   "execution_count": null,
   "metadata": {},
   "outputs": [],
   "source": [
    "setwd(\"~/UNI SHIT/Masters/Year 1 /Semester 2 /Data Wrangling/Group Project/Pets/Region_CSVs/Waikato\")\n",
    "getwd()"
   ]
  },
  {
   "cell_type": "code",
   "execution_count": null,
   "metadata": {},
   "outputs": [],
   "source": [
    "#get the file list for the waikato region\n",
    "file_list <- list.files(path=\"~/UNI SHIT/Masters/Year 1 /Semester 2 /Data Wrangling/Group Project/Pets/Region_CSVs/Waikato\")\n",
    "file_list"
   ]
  },
  {
   "cell_type": "code",
   "execution_count": null,
   "metadata": {},
   "outputs": [],
   "source": [
    "#make the blank dataframes\n",
    "waikato_pets <- data.frame()\n",
    "waikato_pop <- data.frame()\n",
    "waikato_homes <- data.frame()\n",
    "waikato_income <- data.frame()"
   ]
  },
  {
   "cell_type": "code",
   "execution_count": null,
   "metadata": {},
   "outputs": [],
   "source": [
    "#use the reader functions for the waikato region\n",
    "waikato_pets = pet_reader(file_list, waikato_pets)\n",
    "waikato_pets\n",
    "\n",
    "waikato_pop = pop_reader(file_list, waikato_pop)\n",
    "waikato_pop\n",
    "\n",
    "waikato_homes = home_reader(file_list, waikato_homes)\n",
    "tasman_homes\n",
    "\n",
    "waikato_income = income_reader(file_list, waikato_income)\n",
    "waikato_income"
   ]
  },
  {
   "cell_type": "markdown",
   "metadata": {},
   "source": [
    "## Wellington"
   ]
  },
  {
   "cell_type": "code",
   "execution_count": null,
   "metadata": {},
   "outputs": [],
   "source": [
    "setwd(\"~/UNI SHIT/Masters/Year 1 /Semester 2 /Data Wrangling/Group Project/Pets/Region_CSVs/Wellington\")\n",
    "getwd()"
   ]
  },
  {
   "cell_type": "code",
   "execution_count": null,
   "metadata": {},
   "outputs": [],
   "source": [
    "#get the file list for the wellington region\n",
    "file_list <- list.files(path=\"~/UNI SHIT/Masters/Year 1 /Semester 2 /Data Wrangling/Group Project/Pets/Region_CSVs/Wellington\")\n",
    "file_list"
   ]
  },
  {
   "cell_type": "code",
   "execution_count": null,
   "metadata": {},
   "outputs": [],
   "source": [
    "#make the blank dataframes for the wellington region\n",
    "wellington_pets <- data.frame()\n",
    "wellington_pop <- data.frame()\n",
    "wellington_homes <- data.frame()\n",
    "wellington_income <- data.frame()"
   ]
  },
  {
   "cell_type": "code",
   "execution_count": null,
   "metadata": {},
   "outputs": [],
   "source": [
    "#use the reder functions with these dataframes for the wellington region\n",
    "wellington_pets = pet_reader(file_list, wellington_pets)\n",
    "wellington_pets\n",
    "\n",
    "wellington_pop = pop_reader(file_list, wellington_pop)\n",
    "wellington_pop\n",
    "\n",
    "wellington_homes = home_reader(file_list, wellington_homes)\n",
    "wellington_homes\n",
    "\n",
    "wellington_income = income_reader(file_list, wellington_income)\n",
    "wellington_income"
   ]
  },
  {
   "cell_type": "markdown",
   "metadata": {},
   "source": [
    "## West Coast"
   ]
  },
  {
   "cell_type": "code",
   "execution_count": null,
   "metadata": {},
   "outputs": [],
   "source": [
    "setwd(\"~/UNI SHIT/Masters/Year 1 /Semester 2 /Data Wrangling/Group Project/Pets/Region_CSVs/West Coast\")\n",
    "getwd()"
   ]
  },
  {
   "cell_type": "code",
   "execution_count": null,
   "metadata": {},
   "outputs": [],
   "source": [
    "#get the file list for the west coast region\n",
    "file_list <- list.files(path=\"~/UNI SHIT/Masters/Year 1 /Semester 2 /Data Wrangling/Group Project/Pets/Region_CSVs/West Coast\")\n",
    "file_list"
   ]
  },
  {
   "cell_type": "code",
   "execution_count": null,
   "metadata": {},
   "outputs": [],
   "source": [
    "#make the blank dataframes\n",
    "west_coast_pets <- data.frame()\n",
    "west_coast_pop <- data.frame()\n",
    "west_coast_homes <- data.frame()\n",
    "west_coast_income <- data.frame()"
   ]
  },
  {
   "cell_type": "code",
   "execution_count": null,
   "metadata": {},
   "outputs": [],
   "source": [
    "#use the reader functions for the dataframes\n",
    "west_coast_pets = pet_reader(file_list, west_coast_pets)\n",
    "west_coast_pets\n",
    "\n",
    "west_coast_pop = pop_reader(file_list, west_coast_pop)\n",
    "west_coast_pop\n",
    "\n",
    "west_coast_homes = home_reader(file_list, west_coast_homes)\n",
    "west_coast_homes\n",
    "\n",
    "west_coast_income = income_reader(file_list, west_coast_income)\n",
    "west_coast_income"
   ]
  },
  {
   "cell_type": "markdown",
   "metadata": {},
   "source": [
    "## Aggregration now for these. "
   ]
  },
  {
   "cell_type": "markdown",
   "metadata": {},
   "source": [
    "## Aggregrate the pet information "
   ]
  },
  {
   "cell_type": "code",
   "execution_count": null,
   "metadata": {},
   "outputs": [],
   "source": [
    "#use the compress pets functions on the pets dataframes\n",
    "taranaki_pets = compress_pets(taranaki_pets)\n",
    "tasman_pets = compress_pets(tasman_pets)\n",
    "waikato_pets = compress_pets(waikato_pets)\n",
    "wellington_pets = compress_pets(wellington_pets)\n",
    "west_coast_pets = compress_pets(west_coast_pets)\n"
   ]
  },
  {
   "cell_type": "code",
   "execution_count": null,
   "metadata": {},
   "outputs": [],
   "source": [
    "#rename them with the region names and the Breed for the breeds colums\n",
    "taranaki_pets <- rename(taranaki_pets, Breed = Category, Taranaki = Value)\n",
    "tasman_pets <- rename(tasman_pets, Breed = Category, Tasman = Value)\n",
    "waikato_pets <- rename(waikato_pets, Breed = Category, Waikato = Value)\n",
    "wellington_pets <- rename(wellington_pets, Breed = Category, Wellington = Value)\n",
    "west_coast_pets <- rename(west_coast_pets, Breed = Category, West_Coast = Value)\n"
   ]
  },
  {
   "cell_type": "code",
   "execution_count": null,
   "metadata": {},
   "outputs": [],
   "source": [
    "#Check that the compression and renaming worked\n",
    "taranaki_pets\n",
    "tasman_pets\n",
    "waikato_pets\n",
    "wellington_pets\n",
    "west_coast_pets"
   ]
  },
  {
   "cell_type": "code",
   "execution_count": null,
   "metadata": {},
   "outputs": [],
   "source": [
    "#Join these regions pet informatino together into a bigger dataframe\n",
    "tar_tas <- taranaki_pets%>%\n",
    " left_join(tasman_pets, by = \"Breed\")\n",
    "\n",
    "tar_tas_wai<- tar_tas %>%\n",
    " left_join(waikato_pets, by = \"Breed\")\n",
    "\n",
    "tar_tas_wai_wel <- tar_tas_wai %>%\n",
    " left_join(wellington_pets, by = \"Breed\")\n",
    "\n",
    "tar_to_wc_pets <- tar_tas_wai_wel %>%\n",
    " left_join(west_coast_pets, by = \"Breed\")\n",
    "\n"
   ]
  },
  {
   "cell_type": "code",
   "execution_count": null,
   "metadata": {},
   "outputs": [],
   "source": [
    "tar_to_wc_pets"
   ]
  },
  {
   "cell_type": "markdown",
   "metadata": {},
   "source": [
    "## Next we want to add these to the previous larger pet dataframe made"
   ]
  },
  {
   "cell_type": "code",
   "execution_count": null,
   "metadata": {},
   "outputs": [],
   "source": [
    "#and join it to the dataframe we made for the first five regions, joining by breed \n",
    "final_pets <- final_pets %>%\n",
    " left_join(tar_to_wc_pets, by = \"Breed\")"
   ]
  },
  {
   "cell_type": "code",
   "execution_count": null,
   "metadata": {},
   "outputs": [],
   "source": [
    "final_pets"
   ]
  },
  {
   "cell_type": "markdown",
   "metadata": {},
   "source": [
    "## Compressing the Income, population and home ownership"
   ]
  },
  {
   "cell_type": "markdown",
   "metadata": {},
   "source": [
    "## Taranaki - West Coast: Population"
   ]
  },
  {
   "cell_type": "code",
   "execution_count": null,
   "metadata": {},
   "outputs": [],
   "source": [
    "#compress the population dataframes\n",
    "taranaki_pop = compress_pop(taranaki_pop )\n",
    "tasman_pop = compress_pop(tasman_pop)\n",
    "waikato_pop = compress_pop(waikato_pop)\n",
    "wellington_pop = compress_pop(wellington_pop)\n",
    "west_coast_pop = compress_pop(west_coast_pop)\n"
   ]
  },
  {
   "cell_type": "code",
   "execution_count": null,
   "metadata": {},
   "outputs": [],
   "source": [
    "#rename them with the region names \n",
    "taranaki_pop  <- rename(taranaki_pop, Total_People = Category, Taranaki = Value) \n",
    "tasman_pop <- rename(tasman_pop, Total_People = Category, Tasman = Value) \n",
    "waikato_pop <- rename(waikato_pop, Total_People = Category, Waikato = Value) \n",
    "wellington_pop <- rename(wellington_pop, Total_People = Category, Wellington = Value) \n",
    "west_coast_pop <- rename(west_coast_pop, Total_People = Category, West_Coast = Value) "
   ]
  },
  {
   "cell_type": "code",
   "execution_count": null,
   "metadata": {},
   "outputs": [],
   "source": [
    "#Stitch them together\n",
    "\n",
    "a_b <- taranaki_pop %>%\n",
    " left_join(tasman_pop, by = \"Total_People\")\n",
    "\n",
    "a_b_c <- a_b %>%\n",
    " left_join(waikato_pop, by = \"Total_People\")\n",
    "\n",
    "a_b_c_g <- a_b_c %>%\n",
    " left_join(wellington_pop, by = \"Total_People\")\n",
    "\n",
    "tar_to_west_pop <- a_b_c_g %>%\n",
    " left_join(west_coast_pop, by = \"Total_People\")\n",
    "\n",
    "\n",
    "tar_to_west_pop  "
   ]
  },
  {
   "cell_type": "markdown",
   "metadata": {},
   "source": [
    "Then combine these with the previous dataframe"
   ]
  },
  {
   "cell_type": "code",
   "execution_count": null,
   "metadata": {},
   "outputs": [],
   "source": [
    "#then join them with previous population dataframe\n",
    "final_pops <- final_pops %>%\n",
    " left_join(tar_to_west_pop, by = \"Total_People\")"
   ]
  },
  {
   "cell_type": "code",
   "execution_count": null,
   "metadata": {},
   "outputs": [],
   "source": [
    "final_pops"
   ]
  },
  {
   "cell_type": "markdown",
   "metadata": {},
   "source": [
    "## Income"
   ]
  },
  {
   "cell_type": "code",
   "execution_count": null,
   "metadata": {},
   "outputs": [],
   "source": [
    "#Compress the the regions again, dont want to know about the individual districts \n",
    "taranaki_income = compress_inc(taranaki_income)\n",
    "tasman_income = compress_inc(tasman_income)\n",
    "waikato_income = compress_inc(waikato_income)\n",
    "wellington_income = compress_inc(wellington_income)\n",
    "west_coast_income = compress_inc(west_coast_income)"
   ]
  },
  {
   "cell_type": "code",
   "execution_count": null,
   "metadata": {},
   "outputs": [],
   "source": [
    "#Rename them so that we have the region names in the dataframe\n",
    "taranaki_income <- rename(taranaki_income, Median_Income = Measure, Taranaki = Value) \n",
    "tasman_income <- rename(tasman_income, Median_Income = Measure, Tasman = Value) \n",
    "waikato_income <- rename(waikato_income, Median_Income = Measure, Waikato = Value) \n",
    "wellington_income <- rename(wellington_income, Median_Income = Measure, Wellington = Value) \n",
    "west_coast_income<- rename(west_coast_income, Median_Income = Measure, West_Coast = Value) "
   ]
  },
  {
   "cell_type": "code",
   "execution_count": null,
   "metadata": {},
   "outputs": [],
   "source": [
    "#Stitch them together\n",
    "a_b <- taranaki_income %>%\n",
    " left_join(tasman_income, by = \"Median_Income\")\n",
    "\n",
    "a_b_c <- a_b %>%\n",
    " left_join(waikato_income, by = \"Median_Income\")\n",
    "\n",
    "a_b_c_g <- a_b_c %>%\n",
    " left_join(wellington_income, by = \"Median_Income\")\n",
    "\n",
    "tar_to_wc_income <- a_b_c_g %>%\n",
    " left_join(west_coast_income, by = \"Median_Income\")"
   ]
  },
  {
   "cell_type": "markdown",
   "metadata": {},
   "source": [
    "Join it with the previous income dataframe"
   ]
  },
  {
   "cell_type": "code",
   "execution_count": null,
   "metadata": {},
   "outputs": [],
   "source": [
    "final_incomes  <- final_incomes %>%\n",
    " left_join(tar_to_wc_income, by = \"Median_Income\")"
   ]
  },
  {
   "cell_type": "code",
   "execution_count": null,
   "metadata": {},
   "outputs": [],
   "source": [
    "final_incomes"
   ]
  },
  {
   "cell_type": "markdown",
   "metadata": {},
   "source": [
    "## Home Ownership"
   ]
  },
  {
   "cell_type": "code",
   "execution_count": null,
   "metadata": {},
   "outputs": [],
   "source": [
    "#Compress the homes dataframes that we've just made\n",
    "taranaki_homes = compress(taranaki_homes)\n",
    "tasman_homes = compress(tasman_homes)\n",
    "waikato_homes = compress(waikato_homes)\n",
    "wellington_homes = compress(wellington_homes)\n",
    "west_coast_homes = compress(west_coast_homes)"
   ]
  },
  {
   "cell_type": "code",
   "execution_count": null,
   "metadata": {},
   "outputs": [],
   "source": [
    "#rename them with the region names\n",
    "taranaki_homes <- rename(taranaki_homes, Total_People = Category, Taranaki = Value) \n",
    "tasman_homes <- rename(tasman_homes, Total_People = Category, Tasman = Value) \n",
    "waikato_homes <- rename(waikato_homes, Total_People = Category, Waikato = Value) \n",
    "wellington_homes <- rename(wellington_homes, Total_People = Category, Wellington = Value) \n",
    "west_coast_homes<- rename(west_coast_homes, Total_People = Category, West_Coast = Value) "
   ]
  },
  {
   "cell_type": "code",
   "execution_count": null,
   "metadata": {},
   "outputs": [],
   "source": [
    "#Stitch them together\n",
    "a_b <- taranaki_homes %>%\n",
    " left_join(tasman_homes, by = \"Total_People\")\n",
    "\n",
    "a_b_c <- a_b %>%\n",
    " left_join(waikato_homes, by = \"Total_People\")\n",
    "\n",
    "a_b_c_g <- a_b_c %>%\n",
    " left_join(wellington_homes, by = \"Total_People\")\n",
    "\n",
    "tar_wc_homes <- a_b_c_g %>%\n",
    " left_join(west_coast_homes, by = \"Total_People\")"
   ]
  },
  {
   "cell_type": "code",
   "execution_count": null,
   "metadata": {},
   "outputs": [],
   "source": [
    "#Add this to the other dataframe made previously \n",
    "final_homes <- final_homes %>%\n",
    " left_join(tar_wc_homes, by = \"Total_People\")"
   ]
  },
  {
   "cell_type": "code",
   "execution_count": null,
   "metadata": {},
   "outputs": [],
   "source": [
    "final_homes"
   ]
  },
  {
   "cell_type": "markdown",
   "metadata": {},
   "source": [
    "## Looking at Manawatu  - Southland (the last regions )"
   ]
  },
  {
   "cell_type": "markdown",
   "metadata": {},
   "source": [
    "This portion changes in style due to the seperation of this task between group members\n",
    "(However I did change the working directories to be on my computer to check it all runs)"
   ]
  },
  {
   "cell_type": "code",
   "execution_count": null,
   "metadata": {},
   "outputs": [],
   "source": [
    "library(tidyr)\n",
    "library(tidyverse)\n",
    "library(readr)\n",
    "library(skimr)"
   ]
  },
  {
   "cell_type": "code",
   "execution_count": null,
   "metadata": {},
   "outputs": [],
   "source": [
    "getwd()\n",
    "#set the working directory to the file that the region you're looking at is saved to\n",
    "setwd(\"~/UNI SHIT/Masters/Year 1 /Semester 2 /Data Wrangling/Group Project/Pets/Region_CSVs/Manawatu - Whanganui\")"
   ]
  },
  {
   "cell_type": "code",
   "execution_count": null,
   "metadata": {},
   "outputs": [],
   "source": [
    "#Get the list of files that you're going to be reading from \n",
    "#se the path to be to the folder of the region that you're looking at\n",
    "Manawatu_Whanganui_file_list <- list.files(path=\"~/UNI SHIT/Masters/Year 1 /Semester 2 /Data Wrangling/Group Project/Pets/Region_CSVs/Manawatu - Whanganui\")\n",
    "#change this above to be where the files are save on your computer"
   ]
  },
  {
   "cell_type": "code",
   "execution_count": null,
   "metadata": {},
   "outputs": [],
   "source": [
    "#initiate a blank data frame, each iteration of the loop will append the data from the given file to this variable\n",
    "Manawatu_Whanganui_dogs_df <- data.frame()"
   ]
  },
  {
   "cell_type": "code",
   "execution_count": null,
   "metadata": {},
   "outputs": [],
   "source": [
    "#Specifically to get the information about pets this is the loop, \n",
    "#but can change the data[data$Topic == \"\"] to get it to be about other information in the csvs\n",
    "\n",
    "for (i in 1:length(Manawatu_Whanganui_file_list)){\n",
    "  data = read_csv(Manawatu_Whanganui_file_list[i])\n",
    "  #e.g. if we wanted household information we would change the topic to be \"Households\" below\n",
    "  pets_data = data[data$Topic == \"Pets\",]\n",
    "  #and then would just change these variables names to be something sensible like house_data\n",
    "  pets_data$Topic = NULL\n",
    "  pets_data$NullReason = NULL\n",
    "  pets_data$Source = NULL\n",
    "  pets_data$ValueUnit = NULL\n",
    "  pets_data$ValueLabel = NULL\n",
    "    \n",
    "    \n",
    "  #this is specific to the pets portion, this removes the acc data\n",
    "  pets_counts = pets_data[c(-1,-2,-3),]\n",
    "  pets_counts\n",
    "  \n",
    "  \n",
    "  #and if we wanted to get home ownership instead of dogs\n",
    "  #we'd change the measure == \"Home ownership by households\"\n",
    "  total_registered_dogs = pets_counts[pets_counts$Measure ==\"Registered dogs — Total registered dogs\",]\n",
    "    \n",
    "  \n",
    "  Manawatu_Whanganui_dogs_df <- rbind(Manawatu_Whanganui_dogs_df, total_registered_dogs) #for each iteration, bind the new data to the building dataset\n",
    "\n",
    "}"
   ]
  },
  {
   "cell_type": "code",
   "execution_count": null,
   "metadata": {},
   "outputs": [],
   "source": [
    "Manawatu_Whanganui_dogs_df"
   ]
  },
  {
   "cell_type": "code",
   "execution_count": null,
   "metadata": {},
   "outputs": [],
   "source": [
    "Manawatu_Whanganui_population_df = data.frame()"
   ]
  },
  {
   "cell_type": "code",
   "execution_count": null,
   "metadata": {},
   "outputs": [],
   "source": [
    "for (i in 1:length(Manawatu_Whanganui_file_list)){\n",
    "  data = read.csv(Manawatu_Whanganui_file_list[i])\n",
    "  #e.g. if we wanted household information we would change the topic to be \"Households\" below\n",
    "  demo_data = data[data$Topic == \"Demographics\",]\n",
    "\n",
    "  demo_data$Topic = NULL\n",
    "  demo_data$NullReason = NULL\n",
    "  demo_data$Source = NULL\n",
    "  demo_data$ValueUnit = NULL\n",
    "  demo_data$ValueLabel = NULL  \n",
    "\n",
    "  population = demo_data[demo_data$Measure == \"Population - residents at 2013 census\",]  \n",
    "  Manawatu_Whanganui_population_df <- rbind(Manawatu_Whanganui_population_df, population) #for each iteration, bind the new data to the building dataset\n",
    "  #dataset <- rbind(dataset, population)  \n",
    "}\n",
    "#population_df"
   ]
  },
  {
   "cell_type": "code",
   "execution_count": null,
   "metadata": {},
   "outputs": [],
   "source": [
    "Manawatu_Whanganui_population_df"
   ]
  },
  {
   "cell_type": "markdown",
   "metadata": {},
   "source": [
    "Make a function to read through and look at the home ovwnership now "
   ]
  },
  {
   "cell_type": "code",
   "execution_count": null,
   "metadata": {},
   "outputs": [],
   "source": [
    "Manawatu_Whanganui_homes_df  = data.frame()"
   ]
  },
  {
   "cell_type": "code",
   "execution_count": null,
   "metadata": {},
   "outputs": [],
   "source": [
    "for (i in 1:length(Manawatu_Whanganui_file_list)){\n",
    "  data = read.csv(Manawatu_Whanganui_file_list[i])\n",
    "  #e.g. if we wanted household information we would change the topic to be \"Households\" below\n",
    "  home_data = data[data$Topic == \"Households\",]\n",
    "\n",
    "  home_data$Topic = NULL\n",
    "  home_data$NullReason = NULL\n",
    "  home_data$Source = NULL\n",
    "  home_data$ValueUnit = NULL\n",
    "  home_data$ValueLabel = NULL  \n",
    "\n",
    "  ownership = home_data[home_data$Measure == \"Home ownership by households\",]  \n",
    "  Manawatu_Whanganui_homes_df <- rbind(Manawatu_Whanganui_homes_df, ownership) #for each iteration, bind the new data to the building dataset\n",
    "}"
   ]
  },
  {
   "cell_type": "code",
   "execution_count": null,
   "metadata": {},
   "outputs": [],
   "source": [
    "Manawatu_Whanganui_homes_df"
   ]
  },
  {
   "cell_type": "markdown",
   "metadata": {},
   "source": [
    "Loop through and make the income into a dataframe"
   ]
  },
  {
   "cell_type": "code",
   "execution_count": null,
   "metadata": {},
   "outputs": [],
   "source": [
    "Manawatu_Whanganui_median_income_df = data.frame()"
   ]
  },
  {
   "cell_type": "code",
   "execution_count": null,
   "metadata": {},
   "outputs": [],
   "source": [
    "for (i in 1:length(Manawatu_Whanganui_file_list)){\n",
    "  data = read.csv(Manawatu_Whanganui_file_list[i])\n",
    "  #e.g. if we wanted household information we would change the topic to be \"Households\" below\n",
    "  income_data = data[data$Topic == \"Income\",]\n",
    "\n",
    "  income_data$Topic = NULL\n",
    "  income_data$NullReason = NULL\n",
    "  income_data$Source = NULL\n",
    "  income_data$ValueUnit = NULL\n",
    "  income_data$ValueLabel = NULL  \n",
    "\n",
    "  personal_income = income_data[income_data$Measure == \"Median personal income ($)\",]  \n",
    "  Manawatu_Whanganui_median_income_df <- rbind(Manawatu_Whanganui_median_income_df, personal_income) #for each iteration, bind the new data to the building dataset\n",
    "}"
   ]
  },
  {
   "cell_type": "code",
   "execution_count": null,
   "metadata": {},
   "outputs": [],
   "source": [
    "Manawatu_Whanganui_median_income_df"
   ]
  },
  {
   "cell_type": "code",
   "execution_count": null,
   "metadata": {},
   "outputs": [],
   "source": [
    "Manawatu_Whanganui_income_bracket_df = data.frame()"
   ]
  },
  {
   "cell_type": "code",
   "execution_count": null,
   "metadata": {},
   "outputs": [],
   "source": [
    "for (i in 1:length(Manawatu_Whanganui_file_list)){\n",
    "  data = read.csv(Manawatu_Whanganui_file_list[i])\n",
    "  #e.g. if we wanted household information we would change the topic to be \"Households\" below\n",
    "  income_bracket_data = data[data$Topic == \"Income\",]\n",
    "\n",
    "  income_bracket_data$Topic = NULL\n",
    "  income_bracket_data$NullReason = NULL\n",
    "  income_bracket_data$Source = NULL\n",
    "  income_bracket_data$ValueUnit = NULL\n",
    "  income_bracket_data$ValueLabel = NULL  \n",
    "\n",
    "  bracket_income = income_bracket_data[income_bracket_data$Measure == \"Number of families in income bracket\",]  \n",
    "  Manawatu_Whanganui_income_bracket_df <- rbind(Manawatu_Whanganui_income_bracket_df, bracket_income) #for each iteration, bind the new data to the building dataset\n",
    "}"
   ]
  },
  {
   "cell_type": "code",
   "execution_count": null,
   "metadata": {},
   "outputs": [],
   "source": [
    "Manawatu_Whanganui_income_bracket_df"
   ]
  },
  {
   "cell_type": "markdown",
   "metadata": {},
   "source": [
    "## **Manawatu-Whanganui Data Frames:**\n",
    "\n",
    " - Manawatu_Whanganui_dogs_df\n",
    " - Manawatu_Whanganui_population_df\n",
    " - Manawatu_Whanganui_homes_df\n",
    " - Manawatu_Whanganui_median_income_df\n",
    " - Manawatu_Whanganui_income_bracket_df"
   ]
  },
  {
   "cell_type": "code",
   "execution_count": null,
   "metadata": {},
   "outputs": [],
   "source": [
    "getwd()\n",
    "#set the working directory to the file that the region you're looking at is saved to\n",
    "setwd(\"~/UNI SHIT/Masters/Year 1 /Semester 2 /Data Wrangling/Group Project/Pets/Region_CSVs/Marlborough\")"
   ]
  },
  {
   "cell_type": "code",
   "execution_count": null,
   "metadata": {},
   "outputs": [],
   "source": [
    "#Get the list of files that you're going to be reading from \n",
    "#se the path to be to the folder of the region that you're looking at\n",
    "Marlborough_file_list <- list.files(path=\"~/UNI SHIT/Masters/Year 1 /Semester 2 /Data Wrangling/Group Project/Pets/Region_CSVs/Marlborough\")\n",
    "#change this above to be where the files are save on your computer"
   ]
  },
  {
   "cell_type": "code",
   "execution_count": null,
   "metadata": {},
   "outputs": [],
   "source": [
    "#initiate a blank data frame, each iteration of the loop will append the data from the given file to this variable\n",
    "Marlborough_dogs_df <- data.frame()"
   ]
  },
  {
   "cell_type": "code",
   "execution_count": null,
   "metadata": {},
   "outputs": [],
   "source": [
    "#Specifically to get the information about pets this is the loop, \n",
    "#but can change the data[data$Topic == \"\"] to get it to be about other information in the csvs\n",
    "\n",
    "for (i in 1:length(Marlborough_file_list)){\n",
    "  data = read_csv(Marlborough_file_list[i])\n",
    "  #e.g. if we wanted household information we would change the topic to be \"Households\" below\n",
    "  pets_data = data[data$Topic == \"Pets\",]\n",
    "  #and then would just change these variables names to be something sensible like house_data\n",
    "  pets_data$Topic = NULL\n",
    "  pets_data$NullReason = NULL\n",
    "  pets_data$Source = NULL\n",
    "  pets_data$ValueUnit = NULL\n",
    "  pets_data$ValueLabel = NULL\n",
    "    \n",
    "    \n",
    "  #this is specific to the pets portion, this removes the acc data\n",
    "  pets_counts = pets_data[c(-1,-2,-3),]\n",
    "  pets_counts\n",
    "  \n",
    "  \n",
    "  #and if we wanted to get home ownership instead of dogs\n",
    "  #we'd change the measure == \"Home ownership by households\"\n",
    "  total_registered_dogs = pets_counts[pets_counts$Measure ==\"Registered dogs — Total registered dogs\",]\n",
    "    \n",
    "  \n",
    "  Marlborough_dogs_df <- rbind(Marlborough_dogs_df, total_registered_dogs) #for each iteration, bind the new data to the building dataset\n",
    "\n",
    "}"
   ]
  },
  {
   "cell_type": "code",
   "execution_count": null,
   "metadata": {},
   "outputs": [],
   "source": [
    "Marlborough_dogs_df"
   ]
  },
  {
   "cell_type": "code",
   "execution_count": null,
   "metadata": {},
   "outputs": [],
   "source": [
    "Marlborough_population_df = data.frame()"
   ]
  },
  {
   "cell_type": "code",
   "execution_count": null,
   "metadata": {},
   "outputs": [],
   "source": [
    "for (i in 1:length(Marlborough_file_list)){\n",
    "  data = read.csv(Marlborough_file_list[i])\n",
    "  #e.g. if we wanted household information we would change the topic to be \"Households\" below\n",
    "  demo_data = data[data$Topic == \"Demographics\",]\n",
    "\n",
    "  demo_data$Topic = NULL\n",
    "  demo_data$NullReason = NULL\n",
    "  demo_data$Source = NULL\n",
    "  demo_data$ValueUnit = NULL\n",
    "  demo_data$ValueLabel = NULL  \n",
    "\n",
    "  population = demo_data[demo_data$Measure == \"Population - residents at 2013 census\",]  \n",
    "  Marlborough_population_df <- rbind(Marlborough_population_df, population) #for each iteration, bind the new data to the building dataset\n",
    "  #dataset <- rbind(dataset, population)  \n",
    "}\n",
    "#population_df"
   ]
  },
  {
   "cell_type": "code",
   "execution_count": null,
   "metadata": {},
   "outputs": [],
   "source": [
    "Marlborough_population_df"
   ]
  },
  {
   "cell_type": "code",
   "execution_count": null,
   "metadata": {},
   "outputs": [],
   "source": [
    "Marlborough_homes_df  = data.frame()"
   ]
  },
  {
   "cell_type": "code",
   "execution_count": null,
   "metadata": {},
   "outputs": [],
   "source": [
    "for (i in 1:length(Marlborough_file_list)){\n",
    "  data = read.csv(Marlborough_file_list[i])\n",
    "  #e.g. if we wanted household information we would change the topic to be \"Households\" below\n",
    "  home_data = data[data$Topic == \"Households\",]\n",
    "\n",
    "  home_data$Topic = NULL\n",
    "  home_data$NullReason = NULL\n",
    "  home_data$Source = NULL\n",
    "  home_data$ValueUnit = NULL\n",
    "  home_data$ValueLabel = NULL  \n",
    "\n",
    "  ownership = home_data[home_data$Measure == \"Home ownership by households\",]  \n",
    "  Marlborough_homes_df <- rbind(Marlborough_homes_df, ownership) #for each iteration, bind the new data to the building dataset\n",
    "}"
   ]
  },
  {
   "cell_type": "code",
   "execution_count": null,
   "metadata": {},
   "outputs": [],
   "source": [
    "Marlborough_homes_df"
   ]
  },
  {
   "cell_type": "code",
   "execution_count": null,
   "metadata": {},
   "outputs": [],
   "source": [
    "Marlborough_median_income_df = data.frame()"
   ]
  },
  {
   "cell_type": "code",
   "execution_count": null,
   "metadata": {},
   "outputs": [],
   "source": [
    "for (i in 1:length(Marlborough_file_list)){\n",
    "  data = read.csv(Marlborough_file_list[i])\n",
    "  #e.g. if we wanted household information we would change the topic to be \"Households\" below\n",
    "  income_data = data[data$Topic == \"Income\",]\n",
    "\n",
    "  income_data$Topic = NULL\n",
    "  income_data$NullReason = NULL\n",
    "  income_data$Source = NULL\n",
    "  income_data$ValueUnit = NULL\n",
    "  income_data$ValueLabel = NULL  \n",
    "\n",
    "  personal_income = income_data[income_data$Measure == \"Median personal income ($)\",]  \n",
    "  Marlborough_median_income_df <- rbind(Marlborough_median_income_df, personal_income) #for each iteration, bind the new data to the building dataset\n",
    "}"
   ]
  },
  {
   "cell_type": "code",
   "execution_count": null,
   "metadata": {},
   "outputs": [],
   "source": [
    "Marlborough_median_income_df"
   ]
  },
  {
   "cell_type": "code",
   "execution_count": null,
   "metadata": {},
   "outputs": [],
   "source": [
    "Marlborough_income_bracket_df = data.frame()"
   ]
  },
  {
   "cell_type": "code",
   "execution_count": null,
   "metadata": {},
   "outputs": [],
   "source": [
    "for (i in 1:length(Marlborough_file_list)){\n",
    "  data = read.csv(Marlborough_file_list[i])\n",
    "  #e.g. if we wanted household information we would change the topic to be \"Households\" below\n",
    "  income_bracket_data = data[data$Topic == \"Income\",]\n",
    "\n",
    "  income_bracket_data$Topic = NULL\n",
    "  income_bracket_data$NullReason = NULL\n",
    "  income_bracket_data$Source = NULL\n",
    "  income_bracket_data$ValueUnit = NULL\n",
    "  income_bracket_data$ValueLabel = NULL  \n",
    "\n",
    "  bracket_income = income_bracket_data[income_bracket_data$Measure == \"Number of families in income bracket\",]  \n",
    "  Marlborough_income_bracket_df <- rbind(Marlborough_income_bracket_df, bracket_income) #for each iteration, bind the new data to the building dataset\n",
    "}"
   ]
  },
  {
   "cell_type": "code",
   "execution_count": null,
   "metadata": {},
   "outputs": [],
   "source": [
    "Marlborough_income_bracket_df"
   ]
  },
  {
   "cell_type": "markdown",
   "metadata": {},
   "source": [
    "## **Marlborough Data Frames:**\n",
    "\n",
    " - Marlborough_dogs_df\n",
    " - Marlborough_population_df\n",
    " - Marlborough_homes_df\n",
    " - Marlborough_median_income_df\n",
    " - Marlborough_income_bracket_df"
   ]
  },
  {
   "cell_type": "code",
   "execution_count": null,
   "metadata": {},
   "outputs": [],
   "source": [
    "getwd()\n",
    "#set the working directory to the file that the region you're looking at is saved to\n",
    "setwd(\"~/UNI SHIT/Masters/Year 1 /Semester 2 /Data Wrangling/Group Project/Pets/Region_CSVs/Nelson\")"
   ]
  },
  {
   "cell_type": "code",
   "execution_count": null,
   "metadata": {},
   "outputs": [],
   "source": [
    "#Get the list of files that you're going to be reading from \n",
    "#se the path to be to the folder of the region that you're looking at\n",
    "Nelson_file_list <- list.files(path=\"~/UNI SHIT/Masters/Year 1 /Semester 2 /Data Wrangling/Group Project/Pets/Region_CSVs/Nelson\")\n",
    "#change this above to be where the files are save on your computer"
   ]
  },
  {
   "cell_type": "code",
   "execution_count": null,
   "metadata": {},
   "outputs": [],
   "source": [
    "#initiate a blank data frame, each iteration of the loop will append the data from the given file to this variable\n",
    "Nelson_dogs_df <- data.frame()"
   ]
  },
  {
   "cell_type": "code",
   "execution_count": null,
   "metadata": {},
   "outputs": [],
   "source": [
    "#Specifically to get the information about pets this is the loop, \n",
    "#but can change the data[data$Topic == \"\"] to get it to be about other information in the csvs\n",
    "\n",
    "for (i in 1:length(Nelson_file_list)){\n",
    "  data = read_csv(Nelson_file_list[i])\n",
    "  #e.g. if we wanted household information we would change the topic to be \"Households\" below\n",
    "  pets_data = data[data$Topic == \"Pets\",]\n",
    "  #and then would just change these variables names to be something sensible like house_data\n",
    "  pets_data$Topic = NULL\n",
    "  pets_data$NullReason = NULL\n",
    "  pets_data$Source = NULL\n",
    "  pets_data$ValueUnit = NULL\n",
    "  pets_data$ValueLabel = NULL\n",
    "    \n",
    "    \n",
    "  #this is specific to the pets portion, this removes the acc data\n",
    "  pets_counts = pets_data[c(-1,-2,-3),]\n",
    "  pets_counts\n",
    "  \n",
    "  \n",
    "  #and if we wanted to get home ownership instead of dogs\n",
    "  #we'd change the measure == \"Home ownership by households\"\n",
    "  total_registered_dogs = pets_counts[pets_counts$Measure ==\"Registered dogs — Total registered dogs\",]\n",
    "    \n",
    "  \n",
    "  Nelson_dogs_df <- rbind(Nelson_dogs_df, total_registered_dogs) #for each iteration, bind the new data to the building dataset\n",
    "\n",
    "}"
   ]
  },
  {
   "cell_type": "code",
   "execution_count": null,
   "metadata": {},
   "outputs": [],
   "source": [
    "Nelson_population_df = data.frame()"
   ]
  },
  {
   "cell_type": "code",
   "execution_count": null,
   "metadata": {},
   "outputs": [],
   "source": [
    "for (i in 1:length(Nelson_file_list)){\n",
    "  data = read.csv(Nelson_file_list[i])\n",
    "  #e.g. if we wanted household information we would change the topic to be \"Households\" below\n",
    "  demo_data = data[data$Topic == \"Demographics\",]\n",
    "\n",
    "  demo_data$Topic = NULL\n",
    "  demo_data$NullReason = NULL\n",
    "  demo_data$Source = NULL\n",
    "  demo_data$ValueUnit = NULL\n",
    "  demo_data$ValueLabel = NULL  \n",
    "\n",
    "  population = demo_data[demo_data$Measure == \"Population - residents at 2013 census\",]  \n",
    "  Nelson_population_df <- rbind(Nelson_population_df, population) #for each iteration, bind the new data to the building dataset\n",
    "  #dataset <- rbind(dataset, population)  \n",
    "}\n",
    "#population_df"
   ]
  },
  {
   "cell_type": "code",
   "execution_count": null,
   "metadata": {},
   "outputs": [],
   "source": [
    "Nelson_homes_df  = data.frame()"
   ]
  },
  {
   "cell_type": "code",
   "execution_count": null,
   "metadata": {},
   "outputs": [],
   "source": [
    "for (i in 1:length(Nelson_file_list)){\n",
    "  data = read.csv(Nelson_file_list[i])\n",
    "  #e.g. if we wanted household information we would change the topic to be \"Households\" below\n",
    "  home_data = data[data$Topic == \"Households\",]\n",
    "\n",
    "  home_data$Topic = NULL\n",
    "  home_data$NullReason = NULL\n",
    "  home_data$Source = NULL\n",
    "  home_data$ValueUnit = NULL\n",
    "  home_data$ValueLabel = NULL  \n",
    "\n",
    "  ownership = home_data[home_data$Measure == \"Home ownership by households\",]  \n",
    "  Nelson_homes_df <- rbind(Nelson_homes_df, ownership) #for each iteration, bind the new data to the building dataset\n",
    "}"
   ]
  },
  {
   "cell_type": "code",
   "execution_count": null,
   "metadata": {},
   "outputs": [],
   "source": [
    "Nelson_median_income_df = data.frame()"
   ]
  },
  {
   "cell_type": "code",
   "execution_count": null,
   "metadata": {},
   "outputs": [],
   "source": [
    "for (i in 1:length(Nelson_file_list)){\n",
    "  data = read.csv(Nelson_file_list[i])\n",
    "  #e.g. if we wanted household information we would change the topic to be \"Households\" below\n",
    "  income_data = data[data$Topic == \"Income\",]\n",
    "\n",
    "  income_data$Topic = NULL\n",
    "  income_data$NullReason = NULL\n",
    "  income_data$Source = NULL\n",
    "  income_data$ValueUnit = NULL\n",
    "  income_data$ValueLabel = NULL  \n",
    "\n",
    "  personal_income = income_data[income_data$Measure == \"Median personal income ($)\",]  \n",
    "  Nelson_median_income_df <- rbind(Nelson_median_income_df, personal_income) #for each iteration, bind the new data to the building dataset\n",
    "}"
   ]
  },
  {
   "cell_type": "code",
   "execution_count": null,
   "metadata": {},
   "outputs": [],
   "source": [
    "Nelson_income_bracket_df = data.frame()"
   ]
  },
  {
   "cell_type": "code",
   "execution_count": null,
   "metadata": {},
   "outputs": [],
   "source": [
    "for (i in 1:length(Nelson_file_list)){\n",
    "  data = read.csv(Nelson_file_list[i])\n",
    "  #e.g. if we wanted household information we would change the topic to be \"Households\" below\n",
    "  income_bracket_data = data[data$Topic == \"Income\",]\n",
    "\n",
    "  income_bracket_data$Topic = NULL\n",
    "  income_bracket_data$NullReason = NULL\n",
    "  income_bracket_data$Source = NULL\n",
    "  income_bracket_data$ValueUnit = NULL\n",
    "  income_bracket_data$ValueLabel = NULL  \n",
    "\n",
    "  bracket_income = income_bracket_data[income_bracket_data$Measure == \"Number of families in income bracket\",]  \n",
    "  Nelson_income_bracket_df <- rbind(Nelson_income_bracket_df, bracket_income) #for each iteration, bind the new data to the building dataset\n",
    "}"
   ]
  },
  {
   "cell_type": "markdown",
   "metadata": {},
   "source": [
    "## **Nelson Data Frames:**\n",
    "\n",
    " - Nelson_dogs_df\n",
    " - Nelson_population_df\n",
    " - Nelson_homes_df\n",
    " - Nelson_median_income_df\n",
    " - Nelson_income_bracket_df"
   ]
  },
  {
   "cell_type": "code",
   "execution_count": null,
   "metadata": {},
   "outputs": [],
   "source": [
    "getwd()\n",
    "#set the working directory to the file that the region you're looking at is saved to\n",
    "setwd(\"~/UNI SHIT/Masters/Year 1 /Semester 2 /Data Wrangling/Group Project/Pets/Region_CSVs/Northland\")"
   ]
  },
  {
   "cell_type": "code",
   "execution_count": null,
   "metadata": {},
   "outputs": [],
   "source": [
    "#Get the list of files that you're going to be reading from \n",
    "#se the path to be to the folder of the region that you're looking at\n",
    "Northland_file_list <- list.files(path=\"~/UNI SHIT/Masters/Year 1 /Semester 2 /Data Wrangling/Group Project/Pets/Region_CSVs/Northland\")\n",
    "#change this above to be where the files are save on your computer"
   ]
  },
  {
   "cell_type": "code",
   "execution_count": null,
   "metadata": {},
   "outputs": [],
   "source": [
    "#initiate a blank data frame, each iteration of the loop will append the data from the given file to this variable\n",
    "Northland_dogs_df <- data.frame()"
   ]
  },
  {
   "cell_type": "code",
   "execution_count": null,
   "metadata": {},
   "outputs": [],
   "source": [
    "#Specifically to get the information about pets this is the loop, \n",
    "#but can change the data[data$Topic == \"\"] to get it to be about other information in the csvs\n",
    "\n",
    "for (i in 1:length(Northland_file_list)){\n",
    "  data = read_csv(Northland_file_list[i])\n",
    "  #e.g. if we wanted household information we would change the topic to be \"Households\" below\n",
    "  pets_data = data[data$Topic == \"Pets\",]\n",
    "  #and then would just change these variables names to be something sensible like house_data\n",
    "  pets_data$Topic = NULL\n",
    "  pets_data$NullReason = NULL\n",
    "  pets_data$Source = NULL\n",
    "  pets_data$ValueUnit = NULL\n",
    "  pets_data$ValueLabel = NULL\n",
    "    \n",
    "    \n",
    "  #this is specific to the pets portion, this removes the acc data\n",
    "  pets_counts = pets_data[c(-1,-2,-3),]\n",
    "  pets_counts\n",
    "  \n",
    "  \n",
    "  #and if we wanted to get home ownership instead of dogs\n",
    "  #we'd change the measure == \"Home ownership by households\"\n",
    "  total_registered_dogs = pets_counts[pets_counts$Measure ==\"Registered dogs — Total registered dogs\",]\n",
    "    \n",
    "  \n",
    "  Northland_dogs_df <- rbind(Northland_dogs_df, total_registered_dogs) #for each iteration, bind the new data to the building dataset\n",
    "\n",
    "}"
   ]
  },
  {
   "cell_type": "code",
   "execution_count": null,
   "metadata": {},
   "outputs": [],
   "source": [
    "Northland_population_df = data.frame()"
   ]
  },
  {
   "cell_type": "code",
   "execution_count": null,
   "metadata": {},
   "outputs": [],
   "source": [
    "for (i in 1:length(Northland_file_list)){\n",
    "  data = read.csv(Northland_file_list[i])\n",
    "  #e.g. if we wanted household information we would change the topic to be \"Households\" below\n",
    "  demo_data = data[data$Topic == \"Demographics\",]\n",
    "\n",
    "  demo_data$Topic = NULL\n",
    "  demo_data$NullReason = NULL\n",
    "  demo_data$Source = NULL\n",
    "  demo_data$ValueUnit = NULL\n",
    "  demo_data$ValueLabel = NULL  \n",
    "\n",
    "  population = demo_data[demo_data$Measure == \"Population - residents at 2013 census\",]  \n",
    "  Northland_population_df <- rbind(Northland_population_df, population) #for each iteration, bind the new data to the building dataset\n",
    "  #dataset <- rbind(dataset, population)  \n",
    "}\n",
    "#population_df"
   ]
  },
  {
   "cell_type": "code",
   "execution_count": null,
   "metadata": {},
   "outputs": [],
   "source": [
    "Northland_homes_df  = data.frame()"
   ]
  },
  {
   "cell_type": "code",
   "execution_count": null,
   "metadata": {},
   "outputs": [],
   "source": [
    "for (i in 1:length(Northland_file_list)){\n",
    "  data = read.csv(Northland_file_list[i])\n",
    "  #e.g. if we wanted household information we would change the topic to be \"Households\" below\n",
    "  home_data = data[data$Topic == \"Households\",]\n",
    "\n",
    "  home_data$Topic = NULL\n",
    "  home_data$NullReason = NULL\n",
    "  home_data$Source = NULL\n",
    "  home_data$ValueUnit = NULL\n",
    "  home_data$ValueLabel = NULL  \n",
    "\n",
    "  ownership = home_data[home_data$Measure == \"Home ownership by households\",]  \n",
    "  Northland_homes_df <- rbind(Northland_homes_df, ownership) #for each iteration, bind the new data to the building dataset\n",
    "}"
   ]
  },
  {
   "cell_type": "code",
   "execution_count": null,
   "metadata": {},
   "outputs": [],
   "source": [
    "Northland_median_income_df = data.frame()"
   ]
  },
  {
   "cell_type": "code",
   "execution_count": null,
   "metadata": {},
   "outputs": [],
   "source": [
    "for (i in 1:length(Northland_file_list)){\n",
    "  data = read.csv(Northland_file_list[i])\n",
    "  #e.g. if we wanted household information we would change the topic to be \"Households\" below\n",
    "  income_data = data[data$Topic == \"Income\",]\n",
    "\n",
    "  income_data$Topic = NULL\n",
    "  income_data$NullReason = NULL\n",
    "  income_data$Source = NULL\n",
    "  income_data$ValueUnit = NULL\n",
    "  income_data$ValueLabel = NULL  \n",
    "\n",
    "  personal_income = income_data[income_data$Measure == \"Median personal income ($)\",]  \n",
    "  Northland_median_income_df <- rbind(Northland_median_income_df, personal_income) #for each iteration, bind the new data to the building dataset\n",
    "}"
   ]
  },
  {
   "cell_type": "code",
   "execution_count": null,
   "metadata": {},
   "outputs": [],
   "source": [
    "Northland_income_bracket_df = data.frame()"
   ]
  },
  {
   "cell_type": "code",
   "execution_count": null,
   "metadata": {},
   "outputs": [],
   "source": [
    "for (i in 1:length(Northland_file_list)){\n",
    "  data = read.csv(Northland_file_list[i])\n",
    "  #e.g. if we wanted household information we would change the topic to be \"Households\" below\n",
    "  income_bracket_data = data[data$Topic == \"Income\",]\n",
    "\n",
    "  income_bracket_data$Topic = NULL\n",
    "  income_bracket_data$NullReason = NULL\n",
    "  income_bracket_data$Source = NULL\n",
    "  income_bracket_data$ValueUnit = NULL\n",
    "  income_bracket_data$ValueLabel = NULL  \n",
    "\n",
    "  bracket_income = income_bracket_data[income_bracket_data$Measure == \"Number of families in income bracket\",]  \n",
    "  Northland_income_bracket_df <- rbind(Northland_income_bracket_df, bracket_income) #for each iteration, bind the new data to the building dataset\n",
    "}"
   ]
  },
  {
   "cell_type": "markdown",
   "metadata": {},
   "source": [
    "## **Northland Data Frames:**\n",
    "\n",
    " - Northland_dogs_df\n",
    " - Northland_population_df\n",
    " - Northland_homes_df\n",
    " - Northland_median_income_df\n",
    " - Northland_income_bracket_df"
   ]
  },
  {
   "cell_type": "code",
   "execution_count": null,
   "metadata": {},
   "outputs": [],
   "source": [
    "getwd()\n",
    "#set the working directory to the file that the region you're looking at is saved to\n",
    "setwd(\"~/UNI SHIT/Masters/Year 1 /Semester 2 /Data Wrangling/Group Project/Pets/Region_CSVs/Otago\")"
   ]
  },
  {
   "cell_type": "code",
   "execution_count": null,
   "metadata": {},
   "outputs": [],
   "source": [
    "#Get the list of files that you're going to be reading from \n",
    "#se the path to be to the folder of the region that you're looking at\n",
    "Otago_file_list <- list.files(path=\"~/UNI SHIT/Masters/Year 1 /Semester 2 /Data Wrangling/Group Project/Pets/Region_CSVs/Otago\")\n",
    "#change this above to be where the files are save on your computer"
   ]
  },
  {
   "cell_type": "code",
   "execution_count": null,
   "metadata": {},
   "outputs": [],
   "source": [
    "#initiate a blank data frame, each iteration of the loop will append the data from the given file to this variable\n",
    "Otago_dogs_df <- data.frame()"
   ]
  },
  {
   "cell_type": "code",
   "execution_count": null,
   "metadata": {},
   "outputs": [],
   "source": [
    "#Specifically to get the information about pets this is the loop, \n",
    "#but can change the data[data$Topic == \"\"] to get it to be about other information in the csvs\n",
    "\n",
    "for (i in 1:length(Otago_file_list)){\n",
    "  data = read_csv(Otago_file_list[i])\n",
    "  #e.g. if we wanted household information we would change the topic to be \"Households\" below\n",
    "  pets_data = data[data$Topic == \"Pets\",]\n",
    "  #and then would just change these variables names to be something sensible like house_data\n",
    "  pets_data$Topic = NULL\n",
    "  pets_data$NullReason = NULL\n",
    "  pets_data$Source = NULL\n",
    "  pets_data$ValueUnit = NULL\n",
    "  pets_data$ValueLabel = NULL\n",
    "    \n",
    "    \n",
    "  #this is specific to the pets portion, this removes the acc data\n",
    "  pets_counts = pets_data[c(-1,-2,-3),]\n",
    "  pets_counts\n",
    "  \n",
    "  \n",
    "  #and if we wanted to get home ownership instead of dogs\n",
    "  #we'd change the measure == \"Home ownership by households\"\n",
    "  total_registered_dogs = pets_counts[pets_counts$Measure ==\"Registered dogs — Total registered dogs\",]\n",
    "    \n",
    "  \n",
    "  Otago_dogs_df <- rbind(Otago_dogs_df, total_registered_dogs) #for each iteration, bind the new data to the building dataset\n",
    "\n",
    "}"
   ]
  },
  {
   "cell_type": "code",
   "execution_count": null,
   "metadata": {},
   "outputs": [],
   "source": [
    "Otago_population_df = data.frame()"
   ]
  },
  {
   "cell_type": "code",
   "execution_count": null,
   "metadata": {},
   "outputs": [],
   "source": [
    "for (i in 1:length(Otago_file_list)){\n",
    "  data = read.csv(Otago_file_list[i])\n",
    "  #e.g. if we wanted household information we would change the topic to be \"Households\" below\n",
    "  demo_data = data[data$Topic == \"Demographics\",]\n",
    "\n",
    "  demo_data$Topic = NULL\n",
    "  demo_data$NullReason = NULL\n",
    "  demo_data$Source = NULL\n",
    "  demo_data$ValueUnit = NULL\n",
    "  demo_data$ValueLabel = NULL  \n",
    "\n",
    "  population = demo_data[demo_data$Measure == \"Population - residents at 2013 census\",]  \n",
    "  Otago_population_df <- rbind(Otago_population_df, population) #for each iteration, bind the new data to the building dataset\n",
    "  #dataset <- rbind(dataset, population)  \n",
    "}\n",
    "#population_df"
   ]
  },
  {
   "cell_type": "code",
   "execution_count": null,
   "metadata": {},
   "outputs": [],
   "source": [
    "Otago_homes_df  = data.frame()"
   ]
  },
  {
   "cell_type": "code",
   "execution_count": null,
   "metadata": {},
   "outputs": [],
   "source": [
    "for (i in 1:length(Otago_file_list)){\n",
    "  data = read.csv(Otago_file_list[i])\n",
    "  #e.g. if we wanted household information we would change the topic to be \"Households\" below\n",
    "  home_data = data[data$Topic == \"Households\",]\n",
    "\n",
    "  home_data$Topic = NULL\n",
    "  home_data$NullReason = NULL\n",
    "  home_data$Source = NULL\n",
    "  home_data$ValueUnit = NULL\n",
    "  home_data$ValueLabel = NULL  \n",
    "\n",
    "  ownership = home_data[home_data$Measure == \"Home ownership by households\",]  \n",
    "  Otago_homes_df <- rbind(Otago_homes_df, ownership) #for each iteration, bind the new data to the building dataset\n",
    "}"
   ]
  },
  {
   "cell_type": "code",
   "execution_count": null,
   "metadata": {},
   "outputs": [],
   "source": [
    "Otago_median_income_df = data.frame()"
   ]
  },
  {
   "cell_type": "code",
   "execution_count": null,
   "metadata": {},
   "outputs": [],
   "source": [
    "for (i in 1:length(Otago_file_list)){\n",
    "  data = read.csv(Otago_file_list[i])\n",
    "  #e.g. if we wanted household information we would change the topic to be \"Households\" below\n",
    "  income_data = data[data$Topic == \"Income\",]\n",
    "\n",
    "  income_data$Topic = NULL\n",
    "  income_data$NullReason = NULL\n",
    "  income_data$Source = NULL\n",
    "  income_data$ValueUnit = NULL\n",
    "  income_data$ValueLabel = NULL  \n",
    "\n",
    "  personal_income = income_data[income_data$Measure == \"Median personal income ($)\",]  \n",
    "  Otago_median_income_df <- rbind(Otago_median_income_df, personal_income) #for each iteration, bind the new data to the building dataset\n",
    "}"
   ]
  },
  {
   "cell_type": "code",
   "execution_count": null,
   "metadata": {},
   "outputs": [],
   "source": [
    "Otago_income_bracket_df = data.frame()"
   ]
  },
  {
   "cell_type": "code",
   "execution_count": null,
   "metadata": {},
   "outputs": [],
   "source": [
    "for (i in 1:length(Otago_file_list)){\n",
    "  data = read.csv(Otago_file_list[i])\n",
    "  #e.g. if we wanted household information we would change the topic to be \"Households\" below\n",
    "  income_bracket_data = data[data$Topic == \"Income\",]\n",
    "\n",
    "  income_bracket_data$Topic = NULL\n",
    "  income_bracket_data$NullReason = NULL\n",
    "  income_bracket_data$Source = NULL\n",
    "  income_bracket_data$ValueUnit = NULL\n",
    "  income_bracket_data$ValueLabel = NULL  \n",
    "\n",
    "  bracket_income = income_bracket_data[income_bracket_data$Measure == \"Number of families in income bracket\",]  \n",
    "  Otago_income_bracket_df <- rbind(Otago_income_bracket_df, bracket_income) #for each iteration, bind the new data to the building dataset\n",
    "}"
   ]
  },
  {
   "cell_type": "markdown",
   "metadata": {},
   "source": [
    "## **Otago Data Frames:**\n",
    "\n",
    " - Otago_dogs_df\n",
    " - Otago_population_df\n",
    " - Otago_homes_df\n",
    " - Otago_median_income_df\n",
    " - Otago_income_bracket_df"
   ]
  },
  {
   "cell_type": "code",
   "execution_count": null,
   "metadata": {},
   "outputs": [],
   "source": [
    "getwd()\n",
    "#set the working directory to the file that the region you're looking at is saved to\n",
    "setwd(\"~/UNI SHIT/Masters/Year 1 /Semester 2 /Data Wrangling/Group Project/Pets/Region_CSVs/Southland\")"
   ]
  },
  {
   "cell_type": "code",
   "execution_count": null,
   "metadata": {},
   "outputs": [],
   "source": [
    "#Get the list of files that you're going to be reading from \n",
    "#se the path to be to the folder of the region that you're looking at\n",
    "Southland_file_list <- list.files(path=\"~/UNI SHIT/Masters/Year 1 /Semester 2 /Data Wrangling/Group Project/Pets/Region_CSVs/Southland\")\n",
    "#change this above to be where the files are save on your computer"
   ]
  },
  {
   "cell_type": "code",
   "execution_count": null,
   "metadata": {},
   "outputs": [],
   "source": [
    "#initiate a blank data frame, each iteration of the loop will append the data from the given file to this variable\n",
    "Southland_dogs_df <- data.frame()"
   ]
  },
  {
   "cell_type": "code",
   "execution_count": null,
   "metadata": {},
   "outputs": [],
   "source": [
    "#Specifically to get the information about pets this is the loop, \n",
    "#but can change the data[data$Topic == \"\"] to get it to be about other information in the csvs\n",
    "\n",
    "for (i in 1:length(Southland_file_list)){\n",
    "  data = read_csv(Southland_file_list[i])\n",
    "  #e.g. if we wanted household information we would change the topic to be \"Households\" below\n",
    "  pets_data = data[data$Topic == \"Pets\",]\n",
    "  #and then would just change these variables names to be something sensible like house_data\n",
    "  pets_data$Topic = NULL\n",
    "  pets_data$NullReason = NULL\n",
    "  pets_data$Source = NULL\n",
    "  pets_data$ValueUnit = NULL\n",
    "  pets_data$ValueLabel = NULL\n",
    "    \n",
    "    \n",
    "  #this is specific to the pets portion, this removes the acc data\n",
    "  pets_counts = pets_data[c(-1,-2,-3),]\n",
    "  pets_counts\n",
    "  \n",
    "  \n",
    "  #and if we wanted to get home ownership instead of dogs\n",
    "  #we'd change the measure == \"Home ownership by households\"\n",
    "  total_registered_dogs = pets_counts[pets_counts$Measure ==\"Registered dogs — Total registered dogs\",]\n",
    "    \n",
    "  \n",
    "  Southland_dogs_df <- rbind(Southland_dogs_df, total_registered_dogs) #for each iteration, bind the new data to the building dataset\n",
    "\n",
    "}"
   ]
  },
  {
   "cell_type": "code",
   "execution_count": null,
   "metadata": {},
   "outputs": [],
   "source": [
    "Southland_population_df = data.frame()"
   ]
  },
  {
   "cell_type": "code",
   "execution_count": null,
   "metadata": {},
   "outputs": [],
   "source": [
    "for (i in 1:length(Southland_file_list)){\n",
    "  data = read.csv(Southland_file_list[i])\n",
    "  #e.g. if we wanted household information we would change the topic to be \"Households\" below\n",
    "  demo_data = data[data$Topic == \"Demographics\",]\n",
    "\n",
    "  demo_data$Topic = NULL\n",
    "  demo_data$NullReason = NULL\n",
    "  demo_data$Source = NULL\n",
    "  demo_data$ValueUnit = NULL\n",
    "  demo_data$ValueLabel = NULL  \n",
    "\n",
    "  population = demo_data[demo_data$Measure == \"Population - residents at 2013 census\",]  \n",
    "  Southland_population_df <- rbind(Southland_population_df, population) #for each iteration, bind the new data to the building dataset\n",
    "  #dataset <- rbind(dataset, population)  \n",
    "}\n",
    "#population_df"
   ]
  },
  {
   "cell_type": "code",
   "execution_count": null,
   "metadata": {},
   "outputs": [],
   "source": [
    "Southland_homes_df  = data.frame()"
   ]
  },
  {
   "cell_type": "code",
   "execution_count": null,
   "metadata": {},
   "outputs": [],
   "source": [
    "for (i in 1:length(Southland_file_list)){\n",
    "  data = read.csv(Southland_file_list[i])\n",
    "  #e.g. if we wanted household information we would change the topic to be \"Households\" below\n",
    "  home_data = data[data$Topic == \"Households\",]\n",
    "\n",
    "  home_data$Topic = NULL\n",
    "  home_data$NullReason = NULL\n",
    "  home_data$Source = NULL\n",
    "  home_data$ValueUnit = NULL\n",
    "  home_data$ValueLabel = NULL  \n",
    "\n",
    "  ownership = home_data[home_data$Measure == \"Home ownership by households\",]  \n",
    "  Southland_homes_df <- rbind(Southland_homes_df, ownership) #for each iteration, bind the new data to the building dataset\n",
    "}"
   ]
  },
  {
   "cell_type": "code",
   "execution_count": null,
   "metadata": {},
   "outputs": [],
   "source": [
    "Southland_median_income_df = data.frame()"
   ]
  },
  {
   "cell_type": "code",
   "execution_count": null,
   "metadata": {},
   "outputs": [],
   "source": [
    "for (i in 1:length(Southland_file_list)){\n",
    "  data = read.csv(Southland_file_list[i])\n",
    "  #e.g. if we wanted household information we would change the topic to be \"Households\" below\n",
    "  income_data = data[data$Topic == \"Income\",]\n",
    "\n",
    "  income_data$Topic = NULL\n",
    "  income_data$NullReason = NULL\n",
    "  income_data$Source = NULL\n",
    "  income_data$ValueUnit = NULL\n",
    "  income_data$ValueLabel = NULL  \n",
    "\n",
    "  personal_income = income_data[income_data$Measure == \"Median personal income ($)\",]  \n",
    "  Southland_median_income_df <- rbind(Southland_median_income_df, personal_income) #for each iteration, bind the new data to the building dataset\n",
    "}"
   ]
  },
  {
   "cell_type": "code",
   "execution_count": null,
   "metadata": {},
   "outputs": [],
   "source": [
    "Southland_income_bracket_df = data.frame()"
   ]
  },
  {
   "cell_type": "code",
   "execution_count": null,
   "metadata": {},
   "outputs": [],
   "source": [
    "for (i in 1:length(Southland_file_list)){\n",
    "  data = read.csv(Southland_file_list[i])\n",
    "  #e.g. if we wanted household information we would change the topic to be \"Households\" below\n",
    "  income_bracket_data = data[data$Topic == \"Income\",]\n",
    "\n",
    "  income_bracket_data$Topic = NULL\n",
    "  income_bracket_data$NullReason = NULL\n",
    "  income_bracket_data$Source = NULL\n",
    "  income_bracket_data$ValueUnit = NULL\n",
    "  income_bracket_data$ValueLabel = NULL  \n",
    "\n",
    "  bracket_income = income_bracket_data[income_bracket_data$Measure == \"Number of families in income bracket\",]  \n",
    "  Southland_income_bracket_df <- rbind(Southland_income_bracket_df, bracket_income) #for each iteration, bind the new data to the building dataset\n",
    "}"
   ]
  },
  {
   "cell_type": "markdown",
   "metadata": {},
   "source": [
    "## **Southland Data Frames:**\n",
    "\n",
    " - Southland_dogs_df\n",
    " - Southland_population_df\n",
    " - Southland_homes_df\n",
    " - Southland_median_income_df\n",
    " - Southland_income_bracket_df"
   ]
  },
  {
   "cell_type": "markdown",
   "metadata": {},
   "source": [
    "## **All Data Frames:**\n",
    "\n",
    " - Manawatu_Whanganui_dogs_df\n",
    " - Manawatu_Whanganui_population_df\n",
    " - Manawatu_Whanganui_homes_df\n",
    " - Manawatu_Whanganui_median_income_df\n",
    " - Manawatu_Whanganui_income_bracket_dfSouthland_file_listNelson_dogs_df\n",
    " - Marlborough_dogs_df\n",
    " - Marlborough_population_df\n",
    " - Marlborugh_homes_df\n",
    " - Marlborough_median_income_df\n",
    " - Marlborough_income_bracket_df\n",
    " - Nelson_dogs_df\n",
    " - Nelson_population_df\n",
    " - Nelson_homes_df\n",
    " - Nelson_median_income_df\n",
    " - Nelson_income_bracket_df\n",
    " - Northland_dogs_df\n",
    " - Northland_population_df\n",
    " - Northland_homes_df\n",
    " - Northland_median_income_df\n",
    " - Northland_income_bracket_df\n",
    " - Otago_dogs_df\n",
    " - Otago_population_df\n",
    " - Otago_homes_df\n",
    " - Otago_median_income_df\n",
    " - Otago_income_bracket_df\n",
    " - Southland_dogs_df\n",
    " - Southland_population_df\n",
    " - Southland_homes_df\n",
    " - Southland_median_income_df\n",
    " - Southland_income_bracket_df"
   ]
  },
  {
   "cell_type": "code",
   "execution_count": null,
   "metadata": {},
   "outputs": [],
   "source": [
    "Manawatu_Whanganui_dogs_totals_df <- aggregate(Manawatu_Whanganui_dogs_df['Value'], by=Manawatu_Whanganui_dogs_df['Category'], sum) "
   ]
  },
  {
   "cell_type": "code",
   "execution_count": null,
   "metadata": {},
   "outputs": [],
   "source": [
    "Marlborough_dogs_totals_df <- aggregate(Marlborough_dogs_df['Value'], by=Marlborough_dogs_df['Category'], sum) "
   ]
  },
  {
   "cell_type": "code",
   "execution_count": null,
   "metadata": {},
   "outputs": [],
   "source": [
    "Nelson_dogs_totals_df <- aggregate(Nelson_dogs_df['Value'], by=Nelson_dogs_df['Category'], sum) "
   ]
  },
  {
   "cell_type": "code",
   "execution_count": null,
   "metadata": {},
   "outputs": [],
   "source": [
    "Otago_dogs_totals_df <- aggregate(Otago_dogs_df['Value'], by=Otago_dogs_df['Category'], sum) "
   ]
  },
  {
   "cell_type": "code",
   "execution_count": null,
   "metadata": {},
   "outputs": [],
   "source": [
    "Southland_dogs_totals_df <- aggregate(Southland_dogs_df['Value'], by=Southland_dogs_df['Category'], sum) "
   ]
  },
  {
   "cell_type": "code",
   "execution_count": null,
   "metadata": {},
   "outputs": [],
   "source": [
    "Northland_dogs_totals_df <- aggregate(Northland_dogs_df['Value'], by=Northland_dogs_df['Category'], sum) "
   ]
  },
  {
   "cell_type": "code",
   "execution_count": null,
   "metadata": {},
   "outputs": [],
   "source": [
    "dog_totals_df <- bind_cols(Manawatu_Whanganui_dogs_totals_df, Marlborough_dogs_totals_df, Nelson_dogs_totals_df, Otago_dogs_totals_df, Southland_dogs_totals_df, Northland_dogs_totals_df)"
   ]
  },
  {
   "cell_type": "code",
   "execution_count": null,
   "metadata": {},
   "outputs": [],
   "source": [
    "clean_dog_totals_df <- subset(dog_totals_df, select = -c(Category...3, Category...5, Category...7, Category...9, Category...11))"
   ]
  },
  {
   "cell_type": "code",
   "execution_count": null,
   "metadata": {},
   "outputs": [],
   "source": [
    "Final_dog_df <- rename(clean_dog_totals_df, c(\"Breed\"=\"Category...1\", \"Manawatu_Whanganui\"=\"Value...2\", \"Marlborough\"=\"Value...4\", \"Nelson\"=\"Value...6\", \"Otago\"=\"Value...8\", \"Southland\"=\"Value...10\", \"Northland\"=\"Value...12\"))"
   ]
  },
  {
   "cell_type": "code",
   "execution_count": null,
   "metadata": {},
   "outputs": [],
   "source": [
    "Final_dog_df"
   ]
  },
  {
   "cell_type": "code",
   "execution_count": null,
   "metadata": {},
   "outputs": [],
   "source": [
    "Manawatu_Whanganui_populations_totals_df <- aggregate(Manawatu_Whanganui_population_df['Value'], by=Manawatu_Whanganui_population_df['Category'], sum)"
   ]
  },
  {
   "cell_type": "code",
   "execution_count": null,
   "metadata": {},
   "outputs": [],
   "source": [
    "Marlborough_populations_totals_df <- aggregate(Marlborough_population_df['Value'], by=Marlborough_population_df['Category'], sum)"
   ]
  },
  {
   "cell_type": "code",
   "execution_count": null,
   "metadata": {},
   "outputs": [],
   "source": [
    "Nelson_populations_totals_df <- aggregate(Nelson_population_df['Value'], by=Nelson_population_df['Category'], sum)"
   ]
  },
  {
   "cell_type": "code",
   "execution_count": null,
   "metadata": {},
   "outputs": [],
   "source": [
    "Otago_populations_totals_df <- aggregate(Otago_population_df['Value'], by=Otago_population_df['Category'], sum)"
   ]
  },
  {
   "cell_type": "code",
   "execution_count": null,
   "metadata": {},
   "outputs": [],
   "source": [
    "Southland_populations_totals_df <- aggregate(Southland_population_df['Value'], by=Southland_population_df['Category'], sum)"
   ]
  },
  {
   "cell_type": "code",
   "execution_count": null,
   "metadata": {},
   "outputs": [],
   "source": [
    "Northland_populations_totals_df <- aggregate(Northland_population_df['Value'], by=Northland_population_df['Category'], sum)"
   ]
  },
  {
   "cell_type": "code",
   "execution_count": null,
   "metadata": {},
   "outputs": [],
   "source": [
    "populations_totals_df <- bind_cols(Manawatu_Whanganui_populations_totals_df, Marlborough_populations_totals_df, Nelson_populations_totals_df, Otago_populations_totals_df, Southland_populations_totals_df, Northland_populations_totals_df)"
   ]
  },
  {
   "cell_type": "code",
   "execution_count": null,
   "metadata": {},
   "outputs": [],
   "source": [
    "clean_populations_totals_df <- subset(populations_totals_df, select = -c(Category...3, Category...5, Category...7, Category...9, Category...11))"
   ]
  },
  {
   "cell_type": "code",
   "execution_count": null,
   "metadata": {},
   "outputs": [],
   "source": [
    "Final_populations_df <- rename(clean_populations_totals_df, c(\"Total_People\"=\"Category...1\", \"Manawatu_Whanganui\"=\"Value...2\", \"Marlborough\"=\"Value...4\", \"Nelson\"=\"Value...6\", \"Otago\"=\"Value...8\", \"Southland\"=\"Value...10\", \"Northland\"=\"Value...12\"))"
   ]
  },
  {
   "cell_type": "code",
   "execution_count": null,
   "metadata": {},
   "outputs": [],
   "source": [
    "Final_populations_df"
   ]
  },
  {
   "cell_type": "code",
   "execution_count": null,
   "metadata": {},
   "outputs": [],
   "source": [
    "Manawatu_Whanganui_homes_totals_df <- aggregate(Manawatu_Whanganui_homes_df['Value'], by=Manawatu_Whanganui_homes_df['Category'], sum)"
   ]
  },
  {
   "cell_type": "code",
   "execution_count": null,
   "metadata": {},
   "outputs": [],
   "source": [
    "Marlborough_homes_totals_df <- aggregate(Marlborough_homes_df['Value'], by=Marlborough_homes_df['Category'], sum)"
   ]
  },
  {
   "cell_type": "code",
   "execution_count": null,
   "metadata": {},
   "outputs": [],
   "source": [
    "Nelson_homes_totals_df <- aggregate(Nelson_homes_df['Value'], by=Nelson_homes_df['Category'], sum)"
   ]
  },
  {
   "cell_type": "code",
   "execution_count": null,
   "metadata": {},
   "outputs": [],
   "source": [
    "Otago_homes_totals_df <- aggregate(Otago_homes_df['Value'], by=Otago_homes_df['Category'], sum)"
   ]
  },
  {
   "cell_type": "code",
   "execution_count": null,
   "metadata": {},
   "outputs": [],
   "source": [
    "Southland_homes_totals_df <- aggregate(Southland_homes_df['Value'], by=Southland_homes_df['Category'], sum)"
   ]
  },
  {
   "cell_type": "code",
   "execution_count": null,
   "metadata": {},
   "outputs": [],
   "source": [
    "Northland_homes_totals_df <- aggregate(Northland_homes_df['Value'], by=Northland_homes_df['Category'], sum)"
   ]
  },
  {
   "cell_type": "code",
   "execution_count": null,
   "metadata": {},
   "outputs": [],
   "source": [
    "homes_totals_df <- bind_cols(Manawatu_Whanganui_homes_totals_df, Marlborough_homes_totals_df, Nelson_homes_totals_df, Otago_homes_totals_df, Southland_homes_totals_df, Northland_homes_totals_df)"
   ]
  },
  {
   "cell_type": "code",
   "execution_count": null,
   "metadata": {},
   "outputs": [],
   "source": [
    "clean_homes_totals_df <- subset(homes_totals_df, select = -c(Category...3, Category...5, Category...7, Category...9, Category...11))"
   ]
  },
  {
   "cell_type": "code",
   "execution_count": null,
   "metadata": {},
   "outputs": [],
   "source": [
    "Final_homes_df <- rename(clean_homes_totals_df, c(\"Total_People\"=\"Category...1\", \"Manawatu_Whanganui\"=\"Value...2\", \"Marlborough\"=\"Value...4\", \"Nelson\"=\"Value...6\", \"Otago\"=\"Value...8\", \"Southland\"=\"Value...10\", \"Northland\"=\"Value...12\"))"
   ]
  },
  {
   "cell_type": "code",
   "execution_count": null,
   "metadata": {},
   "outputs": [],
   "source": [
    "Final_homes_df"
   ]
  },
  {
   "cell_type": "code",
   "execution_count": null,
   "metadata": {},
   "outputs": [],
   "source": [
    "Manawatu_Whanganui_median_income_totals_df <- aggregate(Manawatu_Whanganui_median_income_df['Value'], by=Manawatu_Whanganui_median_income_df['Measure'], mean)"
   ]
  },
  {
   "cell_type": "code",
   "execution_count": null,
   "metadata": {},
   "outputs": [],
   "source": [
    "Marlborough_median_income_totals_df <- aggregate(Marlborough_median_income_df['Value'], by=Marlborough_median_income_df['Measure'], mean)"
   ]
  },
  {
   "cell_type": "code",
   "execution_count": null,
   "metadata": {},
   "outputs": [],
   "source": [
    "Nelson_median_income_totals_df <- aggregate(Nelson_median_income_df['Value'], by=Nelson_median_income_df['Measure'], mean)"
   ]
  },
  {
   "cell_type": "code",
   "execution_count": null,
   "metadata": {},
   "outputs": [],
   "source": [
    "Otago_median_income_totals_df <- aggregate(Otago_median_income_df['Value'], by=Otago_median_income_df['Measure'], mean)"
   ]
  },
  {
   "cell_type": "code",
   "execution_count": null,
   "metadata": {},
   "outputs": [],
   "source": [
    "Southland_median_income_totals_df <- aggregate(Southland_median_income_df['Value'], by=Southland_median_income_df['Measure'], mean)"
   ]
  },
  {
   "cell_type": "code",
   "execution_count": null,
   "metadata": {},
   "outputs": [],
   "source": [
    "Northland_median_income_totals_df <- aggregate(Northland_median_income_df['Value'], by=Northland_median_income_df['Measure'], mean)"
   ]
  },
  {
   "cell_type": "code",
   "execution_count": null,
   "metadata": {},
   "outputs": [],
   "source": [
    "median_income_totals_df <- bind_cols(Manawatu_Whanganui_median_income_totals_df, Marlborough_median_income_totals_df, Nelson_median_income_totals_df, Otago_median_income_totals_df, Southland_median_income_totals_df, Northland_median_income_totals_df)"
   ]
  },
  {
   "cell_type": "code",
   "execution_count": null,
   "metadata": {},
   "outputs": [],
   "source": [
    "clean_median_income_totals_df <- subset(median_income_totals_df, select = -c(Measure...3, Measure...5, Measure...7, Measure...9, Measure...11))"
   ]
  },
  {
   "cell_type": "code",
   "execution_count": null,
   "metadata": {},
   "outputs": [],
   "source": [
    "Final_median_income_totals_df <- rename(clean_median_income_totals_df, c(\"Median_Income\"=\"Measure...1\", \"Manawatu_Whanganui\"=\"Value...2\", \"Marlborough\"=\"Value...4\", \"Nelson\"=\"Value...6\", \"Otago\"=\"Value...8\", \"Southland\"=\"Value...10\", \"Northland\"=\"Value...12\"))"
   ]
  },
  {
   "cell_type": "code",
   "execution_count": null,
   "metadata": {},
   "outputs": [],
   "source": [
    "Final_median_income_totals_df"
   ]
  },
  {
   "cell_type": "markdown",
   "metadata": {},
   "source": [
    "## **Final Total Data Frames For Manawatu - Southland:**\n",
    "\n",
    " - Final_dog_df\n",
    " - Final_populations_df\n",
    " - Final_homes_df\n",
    " - Final_median_income_totals_df"
   ]
  },
  {
   "cell_type": "markdown",
   "metadata": {},
   "source": [
    "Now we will combine these with the dataframes previously made on income owenrship population and dogs"
   ]
  },
  {
   "cell_type": "code",
   "execution_count": null,
   "metadata": {},
   "outputs": [],
   "source": [
    "final_pets = final_pets %>%\n",
    "    left_join(Final_dog_df, by = \"Breed\")"
   ]
  },
  {
   "cell_type": "code",
   "execution_count": null,
   "metadata": {},
   "outputs": [],
   "source": [
    "final_pets"
   ]
  },
  {
   "cell_type": "code",
   "execution_count": null,
   "metadata": {},
   "outputs": [],
   "source": [
    "final_pops = final_pops %>%\n",
    "    left_join(Final_populations_df, by = \"Total_People\")"
   ]
  },
  {
   "cell_type": "code",
   "execution_count": null,
   "metadata": {},
   "outputs": [],
   "source": [
    "final_pops"
   ]
  },
  {
   "cell_type": "code",
   "execution_count": null,
   "metadata": {},
   "outputs": [],
   "source": [
    "final_incomes = final_incomes %>%\n",
    "    left_join(Final_median_income_totals_df, by = \"Median_Income\")"
   ]
  },
  {
   "cell_type": "code",
   "execution_count": null,
   "metadata": {},
   "outputs": [],
   "source": [
    "final_incomes"
   ]
  },
  {
   "cell_type": "code",
   "execution_count": null,
   "metadata": {},
   "outputs": [],
   "source": [
    "final_homes = final_homes %>%\n",
    "    left_join(Final_homes_df, by = \"Total_People\")"
   ]
  },
  {
   "cell_type": "code",
   "execution_count": null,
   "metadata": {},
   "outputs": [],
   "source": [
    "final_homes"
   ]
  },
  {
   "cell_type": "markdown",
   "metadata": {},
   "source": [
    "## This leaves us with 4 dataframes that contain all the infomartion that we want from the CSVs from the figures NZ site"
   ]
  },
  {
   "cell_type": "markdown",
   "metadata": {},
   "source": [
    "Now we will write these to CSVs, so that we can work with them in another notebook as this one is becoming rather long"
   ]
  },
  {
   "cell_type": "code",
   "execution_count": null,
   "metadata": {},
   "outputs": [],
   "source": [
    "write.csv(final_pets, \"All_Pets_FiguresNZ.csv\" )"
   ]
  },
  {
   "cell_type": "code",
   "execution_count": null,
   "metadata": {},
   "outputs": [],
   "source": [
    "write.csv(final_homes, \"All_Homes_FiguresNZ.csv\")"
   ]
  },
  {
   "cell_type": "code",
   "execution_count": null,
   "metadata": {},
   "outputs": [],
   "source": [
    "write.csv(final_incomes, \"All_Incomes_FiguresNZ.csv\")"
   ]
  },
  {
   "cell_type": "code",
   "execution_count": null,
   "metadata": {},
   "outputs": [],
   "source": [
    "write.csv(final_pops, \"All_Populations_FiguresNZ.csv\")"
   ]
  }
 ],
 "metadata": {
  "kernelspec": {
   "display_name": "R",
   "language": "R",
   "name": "ir"
  },
  "language_info": {
   "codemirror_mode": "r",
   "file_extension": ".r",
   "mimetype": "text/x-r-source",
   "name": "R",
   "pygments_lexer": "r",
   "version": "3.6.3"
  }
 },
 "nbformat": 4,
 "nbformat_minor": 4
}
