{
 "cells": [
  {
   "cell_type": "code",
   "execution_count": 1,
   "metadata": {},
   "outputs": [
    {
     "name": "stderr",
     "output_type": "stream",
     "text": [
      "Warning message:\n",
      "“replacing previous import ‘vctrs::data_frame’ by ‘tibble::data_frame’ when loading ‘dplyr’”\n",
      "── \u001b[1mAttaching packages\u001b[22m ─────────────────────────────────────── tidyverse 1.3.0 ──\n",
      "\n",
      "\u001b[32m✔\u001b[39m \u001b[34mggplot2\u001b[39m 3.3.2     \u001b[32m✔\u001b[39m \u001b[34mdplyr  \u001b[39m 1.0.0\n",
      "\u001b[32m✔\u001b[39m \u001b[34mtibble \u001b[39m 3.0.3     \u001b[32m✔\u001b[39m \u001b[34mstringr\u001b[39m 1.4.0\n",
      "\u001b[32m✔\u001b[39m \u001b[34mreadr  \u001b[39m 1.3.1     \u001b[32m✔\u001b[39m \u001b[34mforcats\u001b[39m 0.5.0\n",
      "\u001b[32m✔\u001b[39m \u001b[34mpurrr  \u001b[39m 0.3.4     \n",
      "\n",
      "── \u001b[1mConflicts\u001b[22m ────────────────────────────────────────── tidyverse_conflicts() ──\n",
      "\u001b[31m✖\u001b[39m \u001b[34mdplyr\u001b[39m::\u001b[32mfilter()\u001b[39m masks \u001b[34mstats\u001b[39m::filter()\n",
      "\u001b[31m✖\u001b[39m \u001b[34mdplyr\u001b[39m::\u001b[32mlag()\u001b[39m    masks \u001b[34mstats\u001b[39m::lag()\n",
      "\n"
     ]
    }
   ],
   "source": [
    "library(tidyr)\n",
    "library(tidyverse)\n",
    "library(readr)\n",
    "library(skimr)"
   ]
  },
  {
   "cell_type": "code",
   "execution_count": 265,
   "metadata": {},
   "outputs": [
    {
     "data": {
      "text/html": [
       "'/Users/oscarevans/Desktop/Region_CSVs/Manawatu - Whanganui'"
      ],
      "text/latex": [
       "'/Users/oscarevans/Desktop/Region\\_CSVs/Manawatu - Whanganui'"
      ],
      "text/markdown": [
       "'/Users/oscarevans/Desktop/Region_CSVs/Manawatu - Whanganui'"
      ],
      "text/plain": [
       "[1] \"/Users/oscarevans/Desktop/Region_CSVs/Manawatu - Whanganui\""
      ]
     },
     "metadata": {},
     "output_type": "display_data"
    }
   ],
   "source": [
    "getwd()\n",
    "#set the working directory to the file that the region you're looking at is saved to\n",
    "setwd(\"/Users/oscarevans/Desktop/Region_CSVs/Manawatu - Whanganui\")"
   ]
  },
  {
   "cell_type": "code",
   "execution_count": 269,
   "metadata": {},
   "outputs": [],
   "source": [
    "#Get the list of files that you're going to be reading from \n",
    "#se the path to be to the folder of the region that you're looking at\n",
    "Manawatu_Whanganui_file_list <- list.files(path=\"/Users/oscarevans/Desktop/Region_CSVs/Manawatu - Whanganui\")\n",
    "#change this above to be where the files are save on your computer"
   ]
  },
  {
   "cell_type": "code",
   "execution_count": 270,
   "metadata": {},
   "outputs": [],
   "source": [
    "#initiate a blank data frame, each iteration of the loop will append the data from the given file to this variable\n",
    "Manawatu_Whanganui_dogs_df <- data.frame()"
   ]
  },
  {
   "cell_type": "code",
   "execution_count": 271,
   "metadata": {},
   "outputs": [
    {
     "name": "stderr",
     "output_type": "stream",
     "text": [
      "Parsed with column specification:\n",
      "cols(\n",
      "  `Territorial Authority` = \u001b[31mcol_character()\u001b[39m,\n",
      "  Topic = \u001b[31mcol_character()\u001b[39m,\n",
      "  Measure = \u001b[31mcol_character()\u001b[39m,\n",
      "  Category = \u001b[31mcol_character()\u001b[39m,\n",
      "  Value = \u001b[32mcol_double()\u001b[39m,\n",
      "  ValueUnit = \u001b[31mcol_character()\u001b[39m,\n",
      "  ValueLabel = \u001b[31mcol_character()\u001b[39m,\n",
      "  NullReason = \u001b[31mcol_character()\u001b[39m,\n",
      "  Date = \u001b[31mcol_character()\u001b[39m,\n",
      "  DateLabel = \u001b[31mcol_character()\u001b[39m,\n",
      "  Source = \u001b[31mcol_character()\u001b[39m\n",
      ")\n",
      "\n",
      "Parsed with column specification:\n",
      "cols(\n",
      "  `Territorial Authority` = \u001b[31mcol_character()\u001b[39m,\n",
      "  Topic = \u001b[31mcol_character()\u001b[39m,\n",
      "  Measure = \u001b[31mcol_character()\u001b[39m,\n",
      "  Category = \u001b[31mcol_character()\u001b[39m,\n",
      "  Value = \u001b[32mcol_double()\u001b[39m,\n",
      "  ValueUnit = \u001b[31mcol_character()\u001b[39m,\n",
      "  ValueLabel = \u001b[31mcol_character()\u001b[39m,\n",
      "  NullReason = \u001b[31mcol_character()\u001b[39m,\n",
      "  Date = \u001b[31mcol_character()\u001b[39m,\n",
      "  DateLabel = \u001b[31mcol_character()\u001b[39m,\n",
      "  Source = \u001b[31mcol_character()\u001b[39m\n",
      ")\n",
      "\n",
      "Parsed with column specification:\n",
      "cols(\n",
      "  `Territorial Authority` = \u001b[31mcol_character()\u001b[39m,\n",
      "  Topic = \u001b[31mcol_character()\u001b[39m,\n",
      "  Measure = \u001b[31mcol_character()\u001b[39m,\n",
      "  Category = \u001b[31mcol_character()\u001b[39m,\n",
      "  Value = \u001b[32mcol_double()\u001b[39m,\n",
      "  ValueUnit = \u001b[31mcol_character()\u001b[39m,\n",
      "  ValueLabel = \u001b[31mcol_character()\u001b[39m,\n",
      "  NullReason = \u001b[31mcol_character()\u001b[39m,\n",
      "  Date = \u001b[31mcol_character()\u001b[39m,\n",
      "  DateLabel = \u001b[31mcol_character()\u001b[39m,\n",
      "  Source = \u001b[31mcol_character()\u001b[39m\n",
      ")\n",
      "\n",
      "Parsed with column specification:\n",
      "cols(\n",
      "  `Territorial Authority` = \u001b[31mcol_character()\u001b[39m,\n",
      "  Topic = \u001b[31mcol_character()\u001b[39m,\n",
      "  Measure = \u001b[31mcol_character()\u001b[39m,\n",
      "  Category = \u001b[31mcol_character()\u001b[39m,\n",
      "  Value = \u001b[32mcol_double()\u001b[39m,\n",
      "  ValueUnit = \u001b[31mcol_character()\u001b[39m,\n",
      "  ValueLabel = \u001b[31mcol_character()\u001b[39m,\n",
      "  NullReason = \u001b[31mcol_character()\u001b[39m,\n",
      "  Date = \u001b[31mcol_character()\u001b[39m,\n",
      "  DateLabel = \u001b[31mcol_character()\u001b[39m,\n",
      "  Source = \u001b[31mcol_character()\u001b[39m\n",
      ")\n",
      "\n",
      "Parsed with column specification:\n",
      "cols(\n",
      "  `Territorial Authority` = \u001b[31mcol_character()\u001b[39m,\n",
      "  Topic = \u001b[31mcol_character()\u001b[39m,\n",
      "  Measure = \u001b[31mcol_character()\u001b[39m,\n",
      "  Category = \u001b[31mcol_character()\u001b[39m,\n",
      "  Value = \u001b[32mcol_double()\u001b[39m,\n",
      "  ValueUnit = \u001b[31mcol_character()\u001b[39m,\n",
      "  ValueLabel = \u001b[31mcol_character()\u001b[39m,\n",
      "  NullReason = \u001b[31mcol_character()\u001b[39m,\n",
      "  Date = \u001b[31mcol_character()\u001b[39m,\n",
      "  DateLabel = \u001b[31mcol_character()\u001b[39m,\n",
      "  Source = \u001b[31mcol_character()\u001b[39m\n",
      ")\n",
      "\n",
      "Parsed with column specification:\n",
      "cols(\n",
      "  `Territorial Authority` = \u001b[31mcol_character()\u001b[39m,\n",
      "  Topic = \u001b[31mcol_character()\u001b[39m,\n",
      "  Measure = \u001b[31mcol_character()\u001b[39m,\n",
      "  Category = \u001b[31mcol_character()\u001b[39m,\n",
      "  Value = \u001b[32mcol_double()\u001b[39m,\n",
      "  ValueUnit = \u001b[31mcol_character()\u001b[39m,\n",
      "  ValueLabel = \u001b[31mcol_character()\u001b[39m,\n",
      "  NullReason = \u001b[31mcol_character()\u001b[39m,\n",
      "  Date = \u001b[31mcol_character()\u001b[39m,\n",
      "  DateLabel = \u001b[31mcol_character()\u001b[39m,\n",
      "  Source = \u001b[31mcol_character()\u001b[39m\n",
      ")\n",
      "\n",
      "Parsed with column specification:\n",
      "cols(\n",
      "  `Territorial Authority` = \u001b[31mcol_character()\u001b[39m,\n",
      "  Topic = \u001b[31mcol_character()\u001b[39m,\n",
      "  Measure = \u001b[31mcol_character()\u001b[39m,\n",
      "  Category = \u001b[31mcol_character()\u001b[39m,\n",
      "  Value = \u001b[32mcol_double()\u001b[39m,\n",
      "  ValueUnit = \u001b[31mcol_character()\u001b[39m,\n",
      "  ValueLabel = \u001b[31mcol_character()\u001b[39m,\n",
      "  NullReason = \u001b[31mcol_character()\u001b[39m,\n",
      "  Date = \u001b[31mcol_character()\u001b[39m,\n",
      "  DateLabel = \u001b[31mcol_character()\u001b[39m,\n",
      "  Source = \u001b[31mcol_character()\u001b[39m\n",
      ")\n",
      "\n"
     ]
    }
   ],
   "source": [
    "#Specifically to get the information about pets this is the loop, \n",
    "#but can change the data[data$Topic == \"\"] to get it to be about other information in the csvs\n",
    "\n",
    "for (i in 1:length(Manawatu_Whanganui_file_list)){\n",
    "  data = read_csv(Manawatu_Whanganui_file_list[i])\n",
    "  #e.g. if we wanted household information we would change the topic to be \"Households\" below\n",
    "  pets_data = data[data$Topic == \"Pets\",]\n",
    "  #and then would just change these variables names to be something sensible like house_data\n",
    "  pets_data$Topic = NULL\n",
    "  pets_data$NullReason = NULL\n",
    "  pets_data$Source = NULL\n",
    "  pets_data$ValueUnit = NULL\n",
    "  pets_data$ValueLabel = NULL\n",
    "    \n",
    "    \n",
    "  #this is specific to the pets portion, this removes the acc data\n",
    "  pets_counts = pets_data[c(-1,-2,-3),]\n",
    "  pets_counts\n",
    "  \n",
    "  \n",
    "  #and if we wanted to get home ownership instead of dogs\n",
    "  #we'd change the measure == \"Home ownership by households\"\n",
    "  total_registered_dogs = pets_counts[pets_counts$Measure ==\"Registered dogs — Total registered dogs\",]\n",
    "    \n",
    "  \n",
    "  Manawatu_Whanganui_dogs_df <- rbind(Manawatu_Whanganui_dogs_df, total_registered_dogs) #for each iteration, bind the new data to the building dataset\n",
    "\n",
    "}"
   ]
  },
  {
   "cell_type": "code",
   "execution_count": 272,
   "metadata": {},
   "outputs": [
    {
     "data": {
      "text/html": [
       "<table>\n",
       "<caption>A tibble: 266 × 6</caption>\n",
       "<thead>\n",
       "\t<tr><th scope=col>Territorial Authority</th><th scope=col>Measure</th><th scope=col>Category</th><th scope=col>Value</th><th scope=col>Date</th><th scope=col>DateLabel</th></tr>\n",
       "\t<tr><th scope=col>&lt;chr&gt;</th><th scope=col>&lt;chr&gt;</th><th scope=col>&lt;chr&gt;</th><th scope=col>&lt;dbl&gt;</th><th scope=col>&lt;chr&gt;</th><th scope=col>&lt;chr&gt;</th></tr>\n",
       "</thead>\n",
       "<tbody>\n",
       "\t<tr><td>Horowhenua</td><td>Registered dogs — Total registered dogs</td><td>All pure and cross breeds     </td><td>6287</td><td>2019</td><td>Year ended June</td></tr>\n",
       "\t<tr><td>Horowhenua</td><td>Registered dogs — Total registered dogs</td><td>All pure breeds               </td><td>3790</td><td>2019</td><td>Year ended June</td></tr>\n",
       "\t<tr><td>Horowhenua</td><td>Registered dogs — Total registered dogs</td><td>Beagle                        </td><td>  29</td><td>2019</td><td>Year ended June</td></tr>\n",
       "\t<tr><td>Horowhenua</td><td>Registered dogs — Total registered dogs</td><td>Bichon Frise                  </td><td>  60</td><td>2019</td><td>Year ended June</td></tr>\n",
       "\t<tr><td>Horowhenua</td><td>Registered dogs — Total registered dogs</td><td>Boxer                         </td><td>  38</td><td>2019</td><td>Year ended June</td></tr>\n",
       "\t<tr><td>Horowhenua</td><td>Registered dogs — Total registered dogs</td><td>Brazilian Fila                </td><td>   0</td><td>2019</td><td>Year ended June</td></tr>\n",
       "\t<tr><td>Horowhenua</td><td>Registered dogs — Total registered dogs</td><td>Cattle, Australian            </td><td>  47</td><td>2019</td><td>Year ended June</td></tr>\n",
       "\t<tr><td>Horowhenua</td><td>Registered dogs — Total registered dogs</td><td>Chihuahua, Long Coat          </td><td>  33</td><td>2019</td><td>Year ended June</td></tr>\n",
       "\t<tr><td>Horowhenua</td><td>Registered dogs — Total registered dogs</td><td>Chihuahua, Smooth Coat        </td><td>  43</td><td>2019</td><td>Year ended June</td></tr>\n",
       "\t<tr><td>Horowhenua</td><td>Registered dogs — Total registered dogs</td><td>Collie, Bearded               </td><td>  21</td><td>2019</td><td>Year ended June</td></tr>\n",
       "\t<tr><td>Horowhenua</td><td>Registered dogs — Total registered dogs</td><td>Collie, Border                </td><td> 161</td><td>2019</td><td>Year ended June</td></tr>\n",
       "\t<tr><td>Horowhenua</td><td>Registered dogs — Total registered dogs</td><td>Collie, Rough                 </td><td>  19</td><td>2019</td><td>Year ended June</td></tr>\n",
       "\t<tr><td>Horowhenua</td><td>Registered dogs — Total registered dogs</td><td>Collie, Smooth                </td><td>  10</td><td>2019</td><td>Year ended June</td></tr>\n",
       "\t<tr><td>Horowhenua</td><td>Registered dogs — Total registered dogs</td><td>Dogo Argentino                </td><td>   1</td><td>2019</td><td>Year ended June</td></tr>\n",
       "\t<tr><td>Horowhenua</td><td>Registered dogs — Total registered dogs</td><td>Greyhound                     </td><td> 229</td><td>2019</td><td>Year ended June</td></tr>\n",
       "\t<tr><td>Horowhenua</td><td>Registered dogs — Total registered dogs</td><td>Heading                       </td><td> 134</td><td>2019</td><td>Year ended June</td></tr>\n",
       "\t<tr><td>Horowhenua</td><td>Registered dogs — Total registered dogs</td><td>Huntaway                      </td><td> 179</td><td>2019</td><td>Year ended June</td></tr>\n",
       "\t<tr><td>Horowhenua</td><td>Registered dogs — Total registered dogs</td><td>Maltese                       </td><td>  30</td><td>2019</td><td>Year ended June</td></tr>\n",
       "\t<tr><td>Horowhenua</td><td>Registered dogs — Total registered dogs</td><td>Perro de Presa Canario        </td><td>   0</td><td>2019</td><td>Year ended June</td></tr>\n",
       "\t<tr><td>Horowhenua</td><td>Registered dogs — Total registered dogs</td><td>Poodle, Miniature             </td><td>  45</td><td>2019</td><td>Year ended June</td></tr>\n",
       "\t<tr><td>Horowhenua</td><td>Registered dogs — Total registered dogs</td><td>Poodle, Toy                   </td><td>  51</td><td>2019</td><td>Year ended June</td></tr>\n",
       "\t<tr><td>Horowhenua</td><td>Registered dogs — Total registered dogs</td><td>Retriever, Golden             </td><td>  71</td><td>2019</td><td>Year ended June</td></tr>\n",
       "\t<tr><td>Horowhenua</td><td>Registered dogs — Total registered dogs</td><td>Retriever, Labrador           </td><td> 492</td><td>2019</td><td>Year ended June</td></tr>\n",
       "\t<tr><td>Horowhenua</td><td>Registered dogs — Total registered dogs</td><td>Rottweiler                    </td><td> 126</td><td>2019</td><td>Year ended June</td></tr>\n",
       "\t<tr><td>Horowhenua</td><td>Registered dogs — Total registered dogs</td><td>Schnauzer, Miniature          </td><td>  61</td><td>2019</td><td>Year ended June</td></tr>\n",
       "\t<tr><td>Horowhenua</td><td>Registered dogs — Total registered dogs</td><td>Shepherd, German              </td><td> 184</td><td>2019</td><td>Year ended June</td></tr>\n",
       "\t<tr><td>Horowhenua</td><td>Registered dogs — Total registered dogs</td><td>Shih Tzu                      </td><td>  77</td><td>2019</td><td>Year ended June</td></tr>\n",
       "\t<tr><td>Horowhenua</td><td>Registered dogs — Total registered dogs</td><td>Spaniel, Cavalier King Charles</td><td>  61</td><td>2019</td><td>Year ended June</td></tr>\n",
       "\t<tr><td>Horowhenua</td><td>Registered dogs — Total registered dogs</td><td>Spaniel, Cocker               </td><td>  29</td><td>2019</td><td>Year ended June</td></tr>\n",
       "\t<tr><td>Horowhenua</td><td>Registered dogs — Total registered dogs</td><td>Spaniel, English Springer     </td><td>  23</td><td>2019</td><td>Year ended June</td></tr>\n",
       "\t<tr><td>⋮</td><td>⋮</td><td>⋮</td><td>⋮</td><td>⋮</td><td>⋮</td></tr>\n",
       "\t<tr><td>Whanganui</td><td>Registered dogs — Total registered dogs</td><td>Chihuahua, Smooth Coat        </td><td> 119</td><td>2019</td><td>Year ended June</td></tr>\n",
       "\t<tr><td>Whanganui</td><td>Registered dogs — Total registered dogs</td><td>Collie, Bearded               </td><td>  26</td><td>2019</td><td>Year ended June</td></tr>\n",
       "\t<tr><td>Whanganui</td><td>Registered dogs — Total registered dogs</td><td>Collie, Border                </td><td> 345</td><td>2019</td><td>Year ended June</td></tr>\n",
       "\t<tr><td>Whanganui</td><td>Registered dogs — Total registered dogs</td><td>Collie, Rough                 </td><td>  41</td><td>2019</td><td>Year ended June</td></tr>\n",
       "\t<tr><td>Whanganui</td><td>Registered dogs — Total registered dogs</td><td>Collie, Smooth                </td><td>   0</td><td>2019</td><td>Year ended June</td></tr>\n",
       "\t<tr><td>Whanganui</td><td>Registered dogs — Total registered dogs</td><td>Dogo Argentino                </td><td>   1</td><td>2019</td><td>Year ended June</td></tr>\n",
       "\t<tr><td>Whanganui</td><td>Registered dogs — Total registered dogs</td><td>Greyhound                     </td><td> 153</td><td>2019</td><td>Year ended June</td></tr>\n",
       "\t<tr><td>Whanganui</td><td>Registered dogs — Total registered dogs</td><td>Heading                       </td><td>   0</td><td>2019</td><td>Year ended June</td></tr>\n",
       "\t<tr><td>Whanganui</td><td>Registered dogs — Total registered dogs</td><td>Huntaway                      </td><td>1331</td><td>2019</td><td>Year ended June</td></tr>\n",
       "\t<tr><td>Whanganui</td><td>Registered dogs — Total registered dogs</td><td>Maltese                       </td><td> 158</td><td>2019</td><td>Year ended June</td></tr>\n",
       "\t<tr><td>Whanganui</td><td>Registered dogs — Total registered dogs</td><td>Perro de Presa Canario        </td><td>   0</td><td>2019</td><td>Year ended June</td></tr>\n",
       "\t<tr><td>Whanganui</td><td>Registered dogs — Total registered dogs</td><td>Poodle, Miniature             </td><td>  49</td><td>2019</td><td>Year ended June</td></tr>\n",
       "\t<tr><td>Whanganui</td><td>Registered dogs — Total registered dogs</td><td>Poodle, Toy                   </td><td>  34</td><td>2019</td><td>Year ended June</td></tr>\n",
       "\t<tr><td>Whanganui</td><td>Registered dogs — Total registered dogs</td><td>Retriever, Golden             </td><td> 100</td><td>2019</td><td>Year ended June</td></tr>\n",
       "\t<tr><td>Whanganui</td><td>Registered dogs — Total registered dogs</td><td>Retriever, Labrador           </td><td> 717</td><td>2019</td><td>Year ended June</td></tr>\n",
       "\t<tr><td>Whanganui</td><td>Registered dogs — Total registered dogs</td><td>Rottweiler                    </td><td> 169</td><td>2019</td><td>Year ended June</td></tr>\n",
       "\t<tr><td>Whanganui</td><td>Registered dogs — Total registered dogs</td><td>Schnauzer, Miniature          </td><td>  55</td><td>2019</td><td>Year ended June</td></tr>\n",
       "\t<tr><td>Whanganui</td><td>Registered dogs — Total registered dogs</td><td>Shepherd, German              </td><td> 193</td><td>2019</td><td>Year ended June</td></tr>\n",
       "\t<tr><td>Whanganui</td><td>Registered dogs — Total registered dogs</td><td>Shih Tzu                      </td><td> 174</td><td>2019</td><td>Year ended June</td></tr>\n",
       "\t<tr><td>Whanganui</td><td>Registered dogs — Total registered dogs</td><td>Spaniel, Cavalier King Charles</td><td>  61</td><td>2019</td><td>Year ended June</td></tr>\n",
       "\t<tr><td>Whanganui</td><td>Registered dogs — Total registered dogs</td><td>Spaniel, Cocker               </td><td>  16</td><td>2019</td><td>Year ended June</td></tr>\n",
       "\t<tr><td>Whanganui</td><td>Registered dogs — Total registered dogs</td><td>Spaniel, English Springer     </td><td>  37</td><td>2019</td><td>Year ended June</td></tr>\n",
       "\t<tr><td>Whanganui</td><td>Registered dogs — Total registered dogs</td><td>Terrier, American Pit Bull    </td><td> 194</td><td>2019</td><td>Year ended June</td></tr>\n",
       "\t<tr><td>Whanganui</td><td>Registered dogs — Total registered dogs</td><td>Terrier, Fox (Smooth)         </td><td> 479</td><td>2019</td><td>Year ended June</td></tr>\n",
       "\t<tr><td>Whanganui</td><td>Registered dogs — Total registered dogs</td><td>Terrier, Jack Russell         </td><td> 257</td><td>2019</td><td>Year ended June</td></tr>\n",
       "\t<tr><td>Whanganui</td><td>Registered dogs — Total registered dogs</td><td>Terrier, Staffordshire Bull   </td><td> 238</td><td>2019</td><td>Year ended June</td></tr>\n",
       "\t<tr><td>Whanganui</td><td>Registered dogs — Total registered dogs</td><td>Terrier, West Highland White  </td><td>  43</td><td>2019</td><td>Year ended June</td></tr>\n",
       "\t<tr><td>Whanganui</td><td>Registered dogs — Total registered dogs</td><td>Tosa, Japanese                </td><td>   0</td><td>2019</td><td>Year ended June</td></tr>\n",
       "\t<tr><td>Whanganui</td><td>Registered dogs — Total registered dogs</td><td>Other pure breeds             </td><td>1800</td><td>2019</td><td>Year ended June</td></tr>\n",
       "\t<tr><td>Whanganui</td><td>Registered dogs — Total registered dogs</td><td>All cross breeds              </td><td> 494</td><td>2019</td><td>Year ended June</td></tr>\n",
       "</tbody>\n",
       "</table>\n"
      ],
      "text/latex": [
       "A tibble: 266 × 6\n",
       "\\begin{tabular}{llllll}\n",
       " Territorial Authority & Measure & Category & Value & Date & DateLabel\\\\\n",
       " <chr> & <chr> & <chr> & <dbl> & <chr> & <chr>\\\\\n",
       "\\hline\n",
       "\t Horowhenua & Registered dogs — Total registered dogs & All pure and cross breeds      & 6287 & 2019 & Year ended June\\\\\n",
       "\t Horowhenua & Registered dogs — Total registered dogs & All pure breeds                & 3790 & 2019 & Year ended June\\\\\n",
       "\t Horowhenua & Registered dogs — Total registered dogs & Beagle                         &   29 & 2019 & Year ended June\\\\\n",
       "\t Horowhenua & Registered dogs — Total registered dogs & Bichon Frise                   &   60 & 2019 & Year ended June\\\\\n",
       "\t Horowhenua & Registered dogs — Total registered dogs & Boxer                          &   38 & 2019 & Year ended June\\\\\n",
       "\t Horowhenua & Registered dogs — Total registered dogs & Brazilian Fila                 &    0 & 2019 & Year ended June\\\\\n",
       "\t Horowhenua & Registered dogs — Total registered dogs & Cattle, Australian             &   47 & 2019 & Year ended June\\\\\n",
       "\t Horowhenua & Registered dogs — Total registered dogs & Chihuahua, Long Coat           &   33 & 2019 & Year ended June\\\\\n",
       "\t Horowhenua & Registered dogs — Total registered dogs & Chihuahua, Smooth Coat         &   43 & 2019 & Year ended June\\\\\n",
       "\t Horowhenua & Registered dogs — Total registered dogs & Collie, Bearded                &   21 & 2019 & Year ended June\\\\\n",
       "\t Horowhenua & Registered dogs — Total registered dogs & Collie, Border                 &  161 & 2019 & Year ended June\\\\\n",
       "\t Horowhenua & Registered dogs — Total registered dogs & Collie, Rough                  &   19 & 2019 & Year ended June\\\\\n",
       "\t Horowhenua & Registered dogs — Total registered dogs & Collie, Smooth                 &   10 & 2019 & Year ended June\\\\\n",
       "\t Horowhenua & Registered dogs — Total registered dogs & Dogo Argentino                 &    1 & 2019 & Year ended June\\\\\n",
       "\t Horowhenua & Registered dogs — Total registered dogs & Greyhound                      &  229 & 2019 & Year ended June\\\\\n",
       "\t Horowhenua & Registered dogs — Total registered dogs & Heading                        &  134 & 2019 & Year ended June\\\\\n",
       "\t Horowhenua & Registered dogs — Total registered dogs & Huntaway                       &  179 & 2019 & Year ended June\\\\\n",
       "\t Horowhenua & Registered dogs — Total registered dogs & Maltese                        &   30 & 2019 & Year ended June\\\\\n",
       "\t Horowhenua & Registered dogs — Total registered dogs & Perro de Presa Canario         &    0 & 2019 & Year ended June\\\\\n",
       "\t Horowhenua & Registered dogs — Total registered dogs & Poodle, Miniature              &   45 & 2019 & Year ended June\\\\\n",
       "\t Horowhenua & Registered dogs — Total registered dogs & Poodle, Toy                    &   51 & 2019 & Year ended June\\\\\n",
       "\t Horowhenua & Registered dogs — Total registered dogs & Retriever, Golden              &   71 & 2019 & Year ended June\\\\\n",
       "\t Horowhenua & Registered dogs — Total registered dogs & Retriever, Labrador            &  492 & 2019 & Year ended June\\\\\n",
       "\t Horowhenua & Registered dogs — Total registered dogs & Rottweiler                     &  126 & 2019 & Year ended June\\\\\n",
       "\t Horowhenua & Registered dogs — Total registered dogs & Schnauzer, Miniature           &   61 & 2019 & Year ended June\\\\\n",
       "\t Horowhenua & Registered dogs — Total registered dogs & Shepherd, German               &  184 & 2019 & Year ended June\\\\\n",
       "\t Horowhenua & Registered dogs — Total registered dogs & Shih Tzu                       &   77 & 2019 & Year ended June\\\\\n",
       "\t Horowhenua & Registered dogs — Total registered dogs & Spaniel, Cavalier King Charles &   61 & 2019 & Year ended June\\\\\n",
       "\t Horowhenua & Registered dogs — Total registered dogs & Spaniel, Cocker                &   29 & 2019 & Year ended June\\\\\n",
       "\t Horowhenua & Registered dogs — Total registered dogs & Spaniel, English Springer      &   23 & 2019 & Year ended June\\\\\n",
       "\t ⋮ & ⋮ & ⋮ & ⋮ & ⋮ & ⋮\\\\\n",
       "\t Whanganui & Registered dogs — Total registered dogs & Chihuahua, Smooth Coat         &  119 & 2019 & Year ended June\\\\\n",
       "\t Whanganui & Registered dogs — Total registered dogs & Collie, Bearded                &   26 & 2019 & Year ended June\\\\\n",
       "\t Whanganui & Registered dogs — Total registered dogs & Collie, Border                 &  345 & 2019 & Year ended June\\\\\n",
       "\t Whanganui & Registered dogs — Total registered dogs & Collie, Rough                  &   41 & 2019 & Year ended June\\\\\n",
       "\t Whanganui & Registered dogs — Total registered dogs & Collie, Smooth                 &    0 & 2019 & Year ended June\\\\\n",
       "\t Whanganui & Registered dogs — Total registered dogs & Dogo Argentino                 &    1 & 2019 & Year ended June\\\\\n",
       "\t Whanganui & Registered dogs — Total registered dogs & Greyhound                      &  153 & 2019 & Year ended June\\\\\n",
       "\t Whanganui & Registered dogs — Total registered dogs & Heading                        &    0 & 2019 & Year ended June\\\\\n",
       "\t Whanganui & Registered dogs — Total registered dogs & Huntaway                       & 1331 & 2019 & Year ended June\\\\\n",
       "\t Whanganui & Registered dogs — Total registered dogs & Maltese                        &  158 & 2019 & Year ended June\\\\\n",
       "\t Whanganui & Registered dogs — Total registered dogs & Perro de Presa Canario         &    0 & 2019 & Year ended June\\\\\n",
       "\t Whanganui & Registered dogs — Total registered dogs & Poodle, Miniature              &   49 & 2019 & Year ended June\\\\\n",
       "\t Whanganui & Registered dogs — Total registered dogs & Poodle, Toy                    &   34 & 2019 & Year ended June\\\\\n",
       "\t Whanganui & Registered dogs — Total registered dogs & Retriever, Golden              &  100 & 2019 & Year ended June\\\\\n",
       "\t Whanganui & Registered dogs — Total registered dogs & Retriever, Labrador            &  717 & 2019 & Year ended June\\\\\n",
       "\t Whanganui & Registered dogs — Total registered dogs & Rottweiler                     &  169 & 2019 & Year ended June\\\\\n",
       "\t Whanganui & Registered dogs — Total registered dogs & Schnauzer, Miniature           &   55 & 2019 & Year ended June\\\\\n",
       "\t Whanganui & Registered dogs — Total registered dogs & Shepherd, German               &  193 & 2019 & Year ended June\\\\\n",
       "\t Whanganui & Registered dogs — Total registered dogs & Shih Tzu                       &  174 & 2019 & Year ended June\\\\\n",
       "\t Whanganui & Registered dogs — Total registered dogs & Spaniel, Cavalier King Charles &   61 & 2019 & Year ended June\\\\\n",
       "\t Whanganui & Registered dogs — Total registered dogs & Spaniel, Cocker                &   16 & 2019 & Year ended June\\\\\n",
       "\t Whanganui & Registered dogs — Total registered dogs & Spaniel, English Springer      &   37 & 2019 & Year ended June\\\\\n",
       "\t Whanganui & Registered dogs — Total registered dogs & Terrier, American Pit Bull     &  194 & 2019 & Year ended June\\\\\n",
       "\t Whanganui & Registered dogs — Total registered dogs & Terrier, Fox (Smooth)          &  479 & 2019 & Year ended June\\\\\n",
       "\t Whanganui & Registered dogs — Total registered dogs & Terrier, Jack Russell          &  257 & 2019 & Year ended June\\\\\n",
       "\t Whanganui & Registered dogs — Total registered dogs & Terrier, Staffordshire Bull    &  238 & 2019 & Year ended June\\\\\n",
       "\t Whanganui & Registered dogs — Total registered dogs & Terrier, West Highland White   &   43 & 2019 & Year ended June\\\\\n",
       "\t Whanganui & Registered dogs — Total registered dogs & Tosa, Japanese                 &    0 & 2019 & Year ended June\\\\\n",
       "\t Whanganui & Registered dogs — Total registered dogs & Other pure breeds              & 1800 & 2019 & Year ended June\\\\\n",
       "\t Whanganui & Registered dogs — Total registered dogs & All cross breeds               &  494 & 2019 & Year ended June\\\\\n",
       "\\end{tabular}\n"
      ],
      "text/markdown": [
       "\n",
       "A tibble: 266 × 6\n",
       "\n",
       "| Territorial Authority &lt;chr&gt; | Measure &lt;chr&gt; | Category &lt;chr&gt; | Value &lt;dbl&gt; | Date &lt;chr&gt; | DateLabel &lt;chr&gt; |\n",
       "|---|---|---|---|---|---|\n",
       "| Horowhenua | Registered dogs — Total registered dogs | All pure and cross breeds      | 6287 | 2019 | Year ended June |\n",
       "| Horowhenua | Registered dogs — Total registered dogs | All pure breeds                | 3790 | 2019 | Year ended June |\n",
       "| Horowhenua | Registered dogs — Total registered dogs | Beagle                         |   29 | 2019 | Year ended June |\n",
       "| Horowhenua | Registered dogs — Total registered dogs | Bichon Frise                   |   60 | 2019 | Year ended June |\n",
       "| Horowhenua | Registered dogs — Total registered dogs | Boxer                          |   38 | 2019 | Year ended June |\n",
       "| Horowhenua | Registered dogs — Total registered dogs | Brazilian Fila                 |    0 | 2019 | Year ended June |\n",
       "| Horowhenua | Registered dogs — Total registered dogs | Cattle, Australian             |   47 | 2019 | Year ended June |\n",
       "| Horowhenua | Registered dogs — Total registered dogs | Chihuahua, Long Coat           |   33 | 2019 | Year ended June |\n",
       "| Horowhenua | Registered dogs — Total registered dogs | Chihuahua, Smooth Coat         |   43 | 2019 | Year ended June |\n",
       "| Horowhenua | Registered dogs — Total registered dogs | Collie, Bearded                |   21 | 2019 | Year ended June |\n",
       "| Horowhenua | Registered dogs — Total registered dogs | Collie, Border                 |  161 | 2019 | Year ended June |\n",
       "| Horowhenua | Registered dogs — Total registered dogs | Collie, Rough                  |   19 | 2019 | Year ended June |\n",
       "| Horowhenua | Registered dogs — Total registered dogs | Collie, Smooth                 |   10 | 2019 | Year ended June |\n",
       "| Horowhenua | Registered dogs — Total registered dogs | Dogo Argentino                 |    1 | 2019 | Year ended June |\n",
       "| Horowhenua | Registered dogs — Total registered dogs | Greyhound                      |  229 | 2019 | Year ended June |\n",
       "| Horowhenua | Registered dogs — Total registered dogs | Heading                        |  134 | 2019 | Year ended June |\n",
       "| Horowhenua | Registered dogs — Total registered dogs | Huntaway                       |  179 | 2019 | Year ended June |\n",
       "| Horowhenua | Registered dogs — Total registered dogs | Maltese                        |   30 | 2019 | Year ended June |\n",
       "| Horowhenua | Registered dogs — Total registered dogs | Perro de Presa Canario         |    0 | 2019 | Year ended June |\n",
       "| Horowhenua | Registered dogs — Total registered dogs | Poodle, Miniature              |   45 | 2019 | Year ended June |\n",
       "| Horowhenua | Registered dogs — Total registered dogs | Poodle, Toy                    |   51 | 2019 | Year ended June |\n",
       "| Horowhenua | Registered dogs — Total registered dogs | Retriever, Golden              |   71 | 2019 | Year ended June |\n",
       "| Horowhenua | Registered dogs — Total registered dogs | Retriever, Labrador            |  492 | 2019 | Year ended June |\n",
       "| Horowhenua | Registered dogs — Total registered dogs | Rottweiler                     |  126 | 2019 | Year ended June |\n",
       "| Horowhenua | Registered dogs — Total registered dogs | Schnauzer, Miniature           |   61 | 2019 | Year ended June |\n",
       "| Horowhenua | Registered dogs — Total registered dogs | Shepherd, German               |  184 | 2019 | Year ended June |\n",
       "| Horowhenua | Registered dogs — Total registered dogs | Shih Tzu                       |   77 | 2019 | Year ended June |\n",
       "| Horowhenua | Registered dogs — Total registered dogs | Spaniel, Cavalier King Charles |   61 | 2019 | Year ended June |\n",
       "| Horowhenua | Registered dogs — Total registered dogs | Spaniel, Cocker                |   29 | 2019 | Year ended June |\n",
       "| Horowhenua | Registered dogs — Total registered dogs | Spaniel, English Springer      |   23 | 2019 | Year ended June |\n",
       "| ⋮ | ⋮ | ⋮ | ⋮ | ⋮ | ⋮ |\n",
       "| Whanganui | Registered dogs — Total registered dogs | Chihuahua, Smooth Coat         |  119 | 2019 | Year ended June |\n",
       "| Whanganui | Registered dogs — Total registered dogs | Collie, Bearded                |   26 | 2019 | Year ended June |\n",
       "| Whanganui | Registered dogs — Total registered dogs | Collie, Border                 |  345 | 2019 | Year ended June |\n",
       "| Whanganui | Registered dogs — Total registered dogs | Collie, Rough                  |   41 | 2019 | Year ended June |\n",
       "| Whanganui | Registered dogs — Total registered dogs | Collie, Smooth                 |    0 | 2019 | Year ended June |\n",
       "| Whanganui | Registered dogs — Total registered dogs | Dogo Argentino                 |    1 | 2019 | Year ended June |\n",
       "| Whanganui | Registered dogs — Total registered dogs | Greyhound                      |  153 | 2019 | Year ended June |\n",
       "| Whanganui | Registered dogs — Total registered dogs | Heading                        |    0 | 2019 | Year ended June |\n",
       "| Whanganui | Registered dogs — Total registered dogs | Huntaway                       | 1331 | 2019 | Year ended June |\n",
       "| Whanganui | Registered dogs — Total registered dogs | Maltese                        |  158 | 2019 | Year ended June |\n",
       "| Whanganui | Registered dogs — Total registered dogs | Perro de Presa Canario         |    0 | 2019 | Year ended June |\n",
       "| Whanganui | Registered dogs — Total registered dogs | Poodle, Miniature              |   49 | 2019 | Year ended June |\n",
       "| Whanganui | Registered dogs — Total registered dogs | Poodle, Toy                    |   34 | 2019 | Year ended June |\n",
       "| Whanganui | Registered dogs — Total registered dogs | Retriever, Golden              |  100 | 2019 | Year ended June |\n",
       "| Whanganui | Registered dogs — Total registered dogs | Retriever, Labrador            |  717 | 2019 | Year ended June |\n",
       "| Whanganui | Registered dogs — Total registered dogs | Rottweiler                     |  169 | 2019 | Year ended June |\n",
       "| Whanganui | Registered dogs — Total registered dogs | Schnauzer, Miniature           |   55 | 2019 | Year ended June |\n",
       "| Whanganui | Registered dogs — Total registered dogs | Shepherd, German               |  193 | 2019 | Year ended June |\n",
       "| Whanganui | Registered dogs — Total registered dogs | Shih Tzu                       |  174 | 2019 | Year ended June |\n",
       "| Whanganui | Registered dogs — Total registered dogs | Spaniel, Cavalier King Charles |   61 | 2019 | Year ended June |\n",
       "| Whanganui | Registered dogs — Total registered dogs | Spaniel, Cocker                |   16 | 2019 | Year ended June |\n",
       "| Whanganui | Registered dogs — Total registered dogs | Spaniel, English Springer      |   37 | 2019 | Year ended June |\n",
       "| Whanganui | Registered dogs — Total registered dogs | Terrier, American Pit Bull     |  194 | 2019 | Year ended June |\n",
       "| Whanganui | Registered dogs — Total registered dogs | Terrier, Fox (Smooth)          |  479 | 2019 | Year ended June |\n",
       "| Whanganui | Registered dogs — Total registered dogs | Terrier, Jack Russell          |  257 | 2019 | Year ended June |\n",
       "| Whanganui | Registered dogs — Total registered dogs | Terrier, Staffordshire Bull    |  238 | 2019 | Year ended June |\n",
       "| Whanganui | Registered dogs — Total registered dogs | Terrier, West Highland White   |   43 | 2019 | Year ended June |\n",
       "| Whanganui | Registered dogs — Total registered dogs | Tosa, Japanese                 |    0 | 2019 | Year ended June |\n",
       "| Whanganui | Registered dogs — Total registered dogs | Other pure breeds              | 1800 | 2019 | Year ended June |\n",
       "| Whanganui | Registered dogs — Total registered dogs | All cross breeds               |  494 | 2019 | Year ended June |\n",
       "\n"
      ],
      "text/plain": [
       "    Territorial Authority Measure                                \n",
       "1   Horowhenua            Registered dogs — Total registered dogs\n",
       "2   Horowhenua            Registered dogs — Total registered dogs\n",
       "3   Horowhenua            Registered dogs — Total registered dogs\n",
       "4   Horowhenua            Registered dogs — Total registered dogs\n",
       "5   Horowhenua            Registered dogs — Total registered dogs\n",
       "6   Horowhenua            Registered dogs — Total registered dogs\n",
       "7   Horowhenua            Registered dogs — Total registered dogs\n",
       "8   Horowhenua            Registered dogs — Total registered dogs\n",
       "9   Horowhenua            Registered dogs — Total registered dogs\n",
       "10  Horowhenua            Registered dogs — Total registered dogs\n",
       "11  Horowhenua            Registered dogs — Total registered dogs\n",
       "12  Horowhenua            Registered dogs — Total registered dogs\n",
       "13  Horowhenua            Registered dogs — Total registered dogs\n",
       "14  Horowhenua            Registered dogs — Total registered dogs\n",
       "15  Horowhenua            Registered dogs — Total registered dogs\n",
       "16  Horowhenua            Registered dogs — Total registered dogs\n",
       "17  Horowhenua            Registered dogs — Total registered dogs\n",
       "18  Horowhenua            Registered dogs — Total registered dogs\n",
       "19  Horowhenua            Registered dogs — Total registered dogs\n",
       "20  Horowhenua            Registered dogs — Total registered dogs\n",
       "21  Horowhenua            Registered dogs — Total registered dogs\n",
       "22  Horowhenua            Registered dogs — Total registered dogs\n",
       "23  Horowhenua            Registered dogs — Total registered dogs\n",
       "24  Horowhenua            Registered dogs — Total registered dogs\n",
       "25  Horowhenua            Registered dogs — Total registered dogs\n",
       "26  Horowhenua            Registered dogs — Total registered dogs\n",
       "27  Horowhenua            Registered dogs — Total registered dogs\n",
       "28  Horowhenua            Registered dogs — Total registered dogs\n",
       "29  Horowhenua            Registered dogs — Total registered dogs\n",
       "30  Horowhenua            Registered dogs — Total registered dogs\n",
       "⋮   ⋮                     ⋮                                      \n",
       "237 Whanganui             Registered dogs — Total registered dogs\n",
       "238 Whanganui             Registered dogs — Total registered dogs\n",
       "239 Whanganui             Registered dogs — Total registered dogs\n",
       "240 Whanganui             Registered dogs — Total registered dogs\n",
       "241 Whanganui             Registered dogs — Total registered dogs\n",
       "242 Whanganui             Registered dogs — Total registered dogs\n",
       "243 Whanganui             Registered dogs — Total registered dogs\n",
       "244 Whanganui             Registered dogs — Total registered dogs\n",
       "245 Whanganui             Registered dogs — Total registered dogs\n",
       "246 Whanganui             Registered dogs — Total registered dogs\n",
       "247 Whanganui             Registered dogs — Total registered dogs\n",
       "248 Whanganui             Registered dogs — Total registered dogs\n",
       "249 Whanganui             Registered dogs — Total registered dogs\n",
       "250 Whanganui             Registered dogs — Total registered dogs\n",
       "251 Whanganui             Registered dogs — Total registered dogs\n",
       "252 Whanganui             Registered dogs — Total registered dogs\n",
       "253 Whanganui             Registered dogs — Total registered dogs\n",
       "254 Whanganui             Registered dogs — Total registered dogs\n",
       "255 Whanganui             Registered dogs — Total registered dogs\n",
       "256 Whanganui             Registered dogs — Total registered dogs\n",
       "257 Whanganui             Registered dogs — Total registered dogs\n",
       "258 Whanganui             Registered dogs — Total registered dogs\n",
       "259 Whanganui             Registered dogs — Total registered dogs\n",
       "260 Whanganui             Registered dogs — Total registered dogs\n",
       "261 Whanganui             Registered dogs — Total registered dogs\n",
       "262 Whanganui             Registered dogs — Total registered dogs\n",
       "263 Whanganui             Registered dogs — Total registered dogs\n",
       "264 Whanganui             Registered dogs — Total registered dogs\n",
       "265 Whanganui             Registered dogs — Total registered dogs\n",
       "266 Whanganui             Registered dogs — Total registered dogs\n",
       "    Category                       Value Date DateLabel      \n",
       "1   All pure and cross breeds      6287  2019 Year ended June\n",
       "2   All pure breeds                3790  2019 Year ended June\n",
       "3   Beagle                           29  2019 Year ended June\n",
       "4   Bichon Frise                     60  2019 Year ended June\n",
       "5   Boxer                            38  2019 Year ended June\n",
       "6   Brazilian Fila                    0  2019 Year ended June\n",
       "7   Cattle, Australian               47  2019 Year ended June\n",
       "8   Chihuahua, Long Coat             33  2019 Year ended June\n",
       "9   Chihuahua, Smooth Coat           43  2019 Year ended June\n",
       "10  Collie, Bearded                  21  2019 Year ended June\n",
       "11  Collie, Border                  161  2019 Year ended June\n",
       "12  Collie, Rough                    19  2019 Year ended June\n",
       "13  Collie, Smooth                   10  2019 Year ended June\n",
       "14  Dogo Argentino                    1  2019 Year ended June\n",
       "15  Greyhound                       229  2019 Year ended June\n",
       "16  Heading                         134  2019 Year ended June\n",
       "17  Huntaway                        179  2019 Year ended June\n",
       "18  Maltese                          30  2019 Year ended June\n",
       "19  Perro de Presa Canario            0  2019 Year ended June\n",
       "20  Poodle, Miniature                45  2019 Year ended June\n",
       "21  Poodle, Toy                      51  2019 Year ended June\n",
       "22  Retriever, Golden                71  2019 Year ended June\n",
       "23  Retriever, Labrador             492  2019 Year ended June\n",
       "24  Rottweiler                      126  2019 Year ended June\n",
       "25  Schnauzer, Miniature             61  2019 Year ended June\n",
       "26  Shepherd, German                184  2019 Year ended June\n",
       "27  Shih Tzu                         77  2019 Year ended June\n",
       "28  Spaniel, Cavalier King Charles   61  2019 Year ended June\n",
       "29  Spaniel, Cocker                  29  2019 Year ended June\n",
       "30  Spaniel, English Springer        23  2019 Year ended June\n",
       "⋮   ⋮                              ⋮     ⋮    ⋮              \n",
       "237 Chihuahua, Smooth Coat          119  2019 Year ended June\n",
       "238 Collie, Bearded                  26  2019 Year ended June\n",
       "239 Collie, Border                  345  2019 Year ended June\n",
       "240 Collie, Rough                    41  2019 Year ended June\n",
       "241 Collie, Smooth                    0  2019 Year ended June\n",
       "242 Dogo Argentino                    1  2019 Year ended June\n",
       "243 Greyhound                       153  2019 Year ended June\n",
       "244 Heading                           0  2019 Year ended June\n",
       "245 Huntaway                       1331  2019 Year ended June\n",
       "246 Maltese                         158  2019 Year ended June\n",
       "247 Perro de Presa Canario            0  2019 Year ended June\n",
       "248 Poodle, Miniature                49  2019 Year ended June\n",
       "249 Poodle, Toy                      34  2019 Year ended June\n",
       "250 Retriever, Golden               100  2019 Year ended June\n",
       "251 Retriever, Labrador             717  2019 Year ended June\n",
       "252 Rottweiler                      169  2019 Year ended June\n",
       "253 Schnauzer, Miniature             55  2019 Year ended June\n",
       "254 Shepherd, German                193  2019 Year ended June\n",
       "255 Shih Tzu                        174  2019 Year ended June\n",
       "256 Spaniel, Cavalier King Charles   61  2019 Year ended June\n",
       "257 Spaniel, Cocker                  16  2019 Year ended June\n",
       "258 Spaniel, English Springer        37  2019 Year ended June\n",
       "259 Terrier, American Pit Bull      194  2019 Year ended June\n",
       "260 Terrier, Fox (Smooth)           479  2019 Year ended June\n",
       "261 Terrier, Jack Russell           257  2019 Year ended June\n",
       "262 Terrier, Staffordshire Bull     238  2019 Year ended June\n",
       "263 Terrier, West Highland White     43  2019 Year ended June\n",
       "264 Tosa, Japanese                    0  2019 Year ended June\n",
       "265 Other pure breeds              1800  2019 Year ended June\n",
       "266 All cross breeds                494  2019 Year ended June"
      ]
     },
     "metadata": {},
     "output_type": "display_data"
    }
   ],
   "source": [
    "Manawatu_Whanganui_dogs_df"
   ]
  },
  {
   "cell_type": "code",
   "execution_count": 273,
   "metadata": {},
   "outputs": [],
   "source": [
    "Manawatu_Whanganui_population_df = data.frame()"
   ]
  },
  {
   "cell_type": "code",
   "execution_count": 275,
   "metadata": {},
   "outputs": [],
   "source": [
    "for (i in 1:length(Manawatu_Whanganui_file_list)){\n",
    "  data = read.csv(Manawatu_Whanganui_file_list[i])\n",
    "  #e.g. if we wanted household information we would change the topic to be \"Households\" below\n",
    "  demo_data = data[data$Topic == \"Demographics\",]\n",
    "\n",
    "  demo_data$Topic = NULL\n",
    "  demo_data$NullReason = NULL\n",
    "  demo_data$Source = NULL\n",
    "  demo_data$ValueUnit = NULL\n",
    "  demo_data$ValueLabel = NULL  \n",
    "\n",
    "  population = demo_data[demo_data$Measure == \"Population - residents at 2013 census\",]  \n",
    "  Manawatu_Whanganui_population_df <- rbind(Manawatu_Whanganui_population_df, population) #for each iteration, bind the new data to the building dataset\n",
    "  #dataset <- rbind(dataset, population)  \n",
    "}\n",
    "#population_df"
   ]
  },
  {
   "cell_type": "code",
   "execution_count": 276,
   "metadata": {},
   "outputs": [
    {
     "data": {
      "text/html": [
       "<table>\n",
       "<caption>A data.frame: 14 × 6</caption>\n",
       "<thead>\n",
       "\t<tr><th scope=col>Territorial.Authority</th><th scope=col>Measure</th><th scope=col>Category</th><th scope=col>Value</th><th scope=col>Date</th><th scope=col>DateLabel</th></tr>\n",
       "\t<tr><th scope=col>&lt;chr&gt;</th><th scope=col>&lt;chr&gt;</th><th scope=col>&lt;chr&gt;</th><th scope=col>&lt;dbl&gt;</th><th scope=col>&lt;chr&gt;</th><th scope=col>&lt;chr&gt;</th></tr>\n",
       "</thead>\n",
       "<tbody>\n",
       "\t<tr><td>Horowhenua      </td><td>Population - residents at 2013 census</td><td>Total people</td><td>30096</td><td>2013</td><td>Census Year</td></tr>\n",
       "\t<tr><td>Manawatu        </td><td>Population - residents at 2013 census</td><td>Total people</td><td>27459</td><td>2013</td><td>Census Year</td></tr>\n",
       "\t<tr><td>Palmerston North</td><td>Population - residents at 2013 census</td><td>Total people</td><td>80079</td><td>2013</td><td>Census Year</td></tr>\n",
       "\t<tr><td>Rangitikei      </td><td>Population - residents at 2013 census</td><td>Total people</td><td>14019</td><td>2013</td><td>Census Year</td></tr>\n",
       "\t<tr><td>Ruapehu         </td><td>Population - residents at 2013 census</td><td>Total people</td><td>11844</td><td>2013</td><td>Census Year</td></tr>\n",
       "\t<tr><td>Tararua         </td><td>Population - residents at 2013 census</td><td>Total people</td><td>16854</td><td>2013</td><td>Census Year</td></tr>\n",
       "\t<tr><td>Whanganui       </td><td>Population - residents at 2013 census</td><td>Total people</td><td>42150</td><td>2013</td><td>Census Year</td></tr>\n",
       "\t<tr><td>Horowhenua      </td><td>Population - residents at 2013 census</td><td>Total people</td><td>30096</td><td>2013</td><td>Census Year</td></tr>\n",
       "\t<tr><td>Manawatu        </td><td>Population - residents at 2013 census</td><td>Total people</td><td>27459</td><td>2013</td><td>Census Year</td></tr>\n",
       "\t<tr><td>Palmerston North</td><td>Population - residents at 2013 census</td><td>Total people</td><td>80079</td><td>2013</td><td>Census Year</td></tr>\n",
       "\t<tr><td>Rangitikei      </td><td>Population - residents at 2013 census</td><td>Total people</td><td>14019</td><td>2013</td><td>Census Year</td></tr>\n",
       "\t<tr><td>Ruapehu         </td><td>Population - residents at 2013 census</td><td>Total people</td><td>11844</td><td>2013</td><td>Census Year</td></tr>\n",
       "\t<tr><td>Tararua         </td><td>Population - residents at 2013 census</td><td>Total people</td><td>16854</td><td>2013</td><td>Census Year</td></tr>\n",
       "\t<tr><td>Whanganui       </td><td>Population - residents at 2013 census</td><td>Total people</td><td>42150</td><td>2013</td><td>Census Year</td></tr>\n",
       "</tbody>\n",
       "</table>\n"
      ],
      "text/latex": [
       "A data.frame: 14 × 6\n",
       "\\begin{tabular}{llllll}\n",
       " Territorial.Authority & Measure & Category & Value & Date & DateLabel\\\\\n",
       " <chr> & <chr> & <chr> & <dbl> & <chr> & <chr>\\\\\n",
       "\\hline\n",
       "\t Horowhenua       & Population - residents at 2013 census & Total people & 30096 & 2013 & Census Year\\\\\n",
       "\t Manawatu         & Population - residents at 2013 census & Total people & 27459 & 2013 & Census Year\\\\\n",
       "\t Palmerston North & Population - residents at 2013 census & Total people & 80079 & 2013 & Census Year\\\\\n",
       "\t Rangitikei       & Population - residents at 2013 census & Total people & 14019 & 2013 & Census Year\\\\\n",
       "\t Ruapehu          & Population - residents at 2013 census & Total people & 11844 & 2013 & Census Year\\\\\n",
       "\t Tararua          & Population - residents at 2013 census & Total people & 16854 & 2013 & Census Year\\\\\n",
       "\t Whanganui        & Population - residents at 2013 census & Total people & 42150 & 2013 & Census Year\\\\\n",
       "\t Horowhenua       & Population - residents at 2013 census & Total people & 30096 & 2013 & Census Year\\\\\n",
       "\t Manawatu         & Population - residents at 2013 census & Total people & 27459 & 2013 & Census Year\\\\\n",
       "\t Palmerston North & Population - residents at 2013 census & Total people & 80079 & 2013 & Census Year\\\\\n",
       "\t Rangitikei       & Population - residents at 2013 census & Total people & 14019 & 2013 & Census Year\\\\\n",
       "\t Ruapehu          & Population - residents at 2013 census & Total people & 11844 & 2013 & Census Year\\\\\n",
       "\t Tararua          & Population - residents at 2013 census & Total people & 16854 & 2013 & Census Year\\\\\n",
       "\t Whanganui        & Population - residents at 2013 census & Total people & 42150 & 2013 & Census Year\\\\\n",
       "\\end{tabular}\n"
      ],
      "text/markdown": [
       "\n",
       "A data.frame: 14 × 6\n",
       "\n",
       "| Territorial.Authority &lt;chr&gt; | Measure &lt;chr&gt; | Category &lt;chr&gt; | Value &lt;dbl&gt; | Date &lt;chr&gt; | DateLabel &lt;chr&gt; |\n",
       "|---|---|---|---|---|---|\n",
       "| Horowhenua       | Population - residents at 2013 census | Total people | 30096 | 2013 | Census Year |\n",
       "| Manawatu         | Population - residents at 2013 census | Total people | 27459 | 2013 | Census Year |\n",
       "| Palmerston North | Population - residents at 2013 census | Total people | 80079 | 2013 | Census Year |\n",
       "| Rangitikei       | Population - residents at 2013 census | Total people | 14019 | 2013 | Census Year |\n",
       "| Ruapehu          | Population - residents at 2013 census | Total people | 11844 | 2013 | Census Year |\n",
       "| Tararua          | Population - residents at 2013 census | Total people | 16854 | 2013 | Census Year |\n",
       "| Whanganui        | Population - residents at 2013 census | Total people | 42150 | 2013 | Census Year |\n",
       "| Horowhenua       | Population - residents at 2013 census | Total people | 30096 | 2013 | Census Year |\n",
       "| Manawatu         | Population - residents at 2013 census | Total people | 27459 | 2013 | Census Year |\n",
       "| Palmerston North | Population - residents at 2013 census | Total people | 80079 | 2013 | Census Year |\n",
       "| Rangitikei       | Population - residents at 2013 census | Total people | 14019 | 2013 | Census Year |\n",
       "| Ruapehu          | Population - residents at 2013 census | Total people | 11844 | 2013 | Census Year |\n",
       "| Tararua          | Population - residents at 2013 census | Total people | 16854 | 2013 | Census Year |\n",
       "| Whanganui        | Population - residents at 2013 census | Total people | 42150 | 2013 | Census Year |\n",
       "\n"
      ],
      "text/plain": [
       "   Territorial.Authority Measure                               Category    \n",
       "1  Horowhenua            Population - residents at 2013 census Total people\n",
       "2  Manawatu              Population - residents at 2013 census Total people\n",
       "3  Palmerston North      Population - residents at 2013 census Total people\n",
       "4  Rangitikei            Population - residents at 2013 census Total people\n",
       "5  Ruapehu               Population - residents at 2013 census Total people\n",
       "6  Tararua               Population - residents at 2013 census Total people\n",
       "7  Whanganui             Population - residents at 2013 census Total people\n",
       "8  Horowhenua            Population - residents at 2013 census Total people\n",
       "9  Manawatu              Population - residents at 2013 census Total people\n",
       "10 Palmerston North      Population - residents at 2013 census Total people\n",
       "11 Rangitikei            Population - residents at 2013 census Total people\n",
       "12 Ruapehu               Population - residents at 2013 census Total people\n",
       "13 Tararua               Population - residents at 2013 census Total people\n",
       "14 Whanganui             Population - residents at 2013 census Total people\n",
       "   Value Date DateLabel  \n",
       "1  30096 2013 Census Year\n",
       "2  27459 2013 Census Year\n",
       "3  80079 2013 Census Year\n",
       "4  14019 2013 Census Year\n",
       "5  11844 2013 Census Year\n",
       "6  16854 2013 Census Year\n",
       "7  42150 2013 Census Year\n",
       "8  30096 2013 Census Year\n",
       "9  27459 2013 Census Year\n",
       "10 80079 2013 Census Year\n",
       "11 14019 2013 Census Year\n",
       "12 11844 2013 Census Year\n",
       "13 16854 2013 Census Year\n",
       "14 42150 2013 Census Year"
      ]
     },
     "metadata": {},
     "output_type": "display_data"
    }
   ],
   "source": [
    "Manawatu_Whanganui_population_df"
   ]
  },
  {
   "cell_type": "markdown",
   "metadata": {},
   "source": [
    "Make a function to read through and look at the home ovwnership now "
   ]
  },
  {
   "cell_type": "code",
   "execution_count": 66,
   "metadata": {},
   "outputs": [],
   "source": [
    "Manawatu_Whanganui_homes_df  = data.frame()"
   ]
  },
  {
   "cell_type": "code",
   "execution_count": 277,
   "metadata": {},
   "outputs": [],
   "source": [
    "for (i in 1:length(Manawatu_Whanganui_file_list)){\n",
    "  data = read.csv(Manawatu_Whanganui_file_list[i])\n",
    "  #e.g. if we wanted household information we would change the topic to be \"Households\" below\n",
    "  home_data = data[data$Topic == \"Households\",]\n",
    "\n",
    "  home_data$Topic = NULL\n",
    "  home_data$NullReason = NULL\n",
    "  home_data$Source = NULL\n",
    "  home_data$ValueUnit = NULL\n",
    "  home_data$ValueLabel = NULL  \n",
    "\n",
    "  ownership = home_data[home_data$Measure == \"Home ownership by households\",]  \n",
    "  Manawatu_Whanganui_homes_df <- rbind(Manawatu_Whanganui_homes_df, ownership) #for each iteration, bind the new data to the building dataset\n",
    "}"
   ]
  },
  {
   "cell_type": "code",
   "execution_count": 68,
   "metadata": {},
   "outputs": [
    {
     "data": {
      "text/html": [
       "<table>\n",
       "<caption>A data.frame: 28 × 6</caption>\n",
       "<thead>\n",
       "\t<tr><th></th><th scope=col>Territorial.Authority</th><th scope=col>Measure</th><th scope=col>Category</th><th scope=col>Value</th><th scope=col>Date</th><th scope=col>DateLabel</th></tr>\n",
       "\t<tr><th></th><th scope=col>&lt;chr&gt;</th><th scope=col>&lt;chr&gt;</th><th scope=col>&lt;chr&gt;</th><th scope=col>&lt;dbl&gt;</th><th scope=col>&lt;chr&gt;</th><th scope=col>&lt;chr&gt;</th></tr>\n",
       "</thead>\n",
       "<tbody>\n",
       "\t<tr><th scope=row>220</th><td>Horowhenua      </td><td>Home ownership by households</td><td>Dwelling Owned or Partly Owned                   </td><td> 6483</td><td>2013</td><td>Census Year</td></tr>\n",
       "\t<tr><th scope=row>221</th><td>Horowhenua      </td><td>Home ownership by households</td><td>Dwelling Not Owned and Not Held in a Family Trust</td><td> 3624</td><td>2013</td><td>Census Year</td></tr>\n",
       "\t<tr><th scope=row>222</th><td>Horowhenua      </td><td>Home ownership by households</td><td>Dwelling Held in a Family Trust                  </td><td> 1473</td><td>2013</td><td>Census Year</td></tr>\n",
       "\t<tr><th scope=row>223</th><td>Horowhenua      </td><td>Home ownership by households</td><td>Not Elsewhere Included                           </td><td>  915</td><td>2013</td><td>Census Year</td></tr>\n",
       "\t<tr><th scope=row>2201</th><td>Manawatu        </td><td>Home ownership by households</td><td>Dwelling Owned or Partly Owned                   </td><td> 5568</td><td>2013</td><td>Census Year</td></tr>\n",
       "\t<tr><th scope=row>2211</th><td>Manawatu        </td><td>Home ownership by households</td><td>Dwelling Not Owned and Not Held in a Family Trust</td><td> 2892</td><td>2013</td><td>Census Year</td></tr>\n",
       "\t<tr><th scope=row>2221</th><td>Manawatu        </td><td>Home ownership by households</td><td>Dwelling Held in a Family Trust                  </td><td> 1593</td><td>2013</td><td>Census Year</td></tr>\n",
       "\t<tr><th scope=row>2231</th><td>Manawatu        </td><td>Home ownership by households</td><td>Not Elsewhere Included                           </td><td>  423</td><td>2013</td><td>Census Year</td></tr>\n",
       "\t<tr><th scope=row>2202</th><td>Palmerston North</td><td>Home ownership by households</td><td>Dwelling Owned or Partly Owned                   </td><td>13932</td><td>2013</td><td>Census Year</td></tr>\n",
       "\t<tr><th scope=row>2212</th><td>Palmerston North</td><td>Home ownership by households</td><td>Dwelling Not Owned and Not Held in a Family Trust</td><td>10473</td><td>2013</td><td>Census Year</td></tr>\n",
       "\t<tr><th scope=row>2222</th><td>Palmerston North</td><td>Home ownership by households</td><td>Dwelling Held in a Family Trust                  </td><td> 3480</td><td>2013</td><td>Census Year</td></tr>\n",
       "\t<tr><th scope=row>2232</th><td>Palmerston North</td><td>Home ownership by households</td><td>Not Elsewhere Included                           </td><td> 1716</td><td>2013</td><td>Census Year</td></tr>\n",
       "\t<tr><th scope=row>2203</th><td>Rangitikei      </td><td>Home ownership by households</td><td>Dwelling Owned or Partly Owned                   </td><td> 2766</td><td>2013</td><td>Census Year</td></tr>\n",
       "\t<tr><th scope=row>2213</th><td>Rangitikei      </td><td>Home ownership by households</td><td>Dwelling Not Owned and Not Held in a Family Trust</td><td> 1851</td><td>2013</td><td>Census Year</td></tr>\n",
       "\t<tr><th scope=row>2223</th><td>Rangitikei      </td><td>Home ownership by households</td><td>Dwelling Held in a Family Trust                  </td><td>  750</td><td>2013</td><td>Census Year</td></tr>\n",
       "\t<tr><th scope=row>2233</th><td>Rangitikei      </td><td>Home ownership by households</td><td>Not Elsewhere Included                           </td><td>  303</td><td>2013</td><td>Census Year</td></tr>\n",
       "\t<tr><th scope=row>2204</th><td>Ruapehu         </td><td>Home ownership by households</td><td>Dwelling Owned or Partly Owned                   </td><td> 1806</td><td>2013</td><td>Census Year</td></tr>\n",
       "\t<tr><th scope=row>2214</th><td>Ruapehu         </td><td>Home ownership by households</td><td>Dwelling Not Owned and Not Held in a Family Trust</td><td> 1941</td><td>2013</td><td>Census Year</td></tr>\n",
       "\t<tr><th scope=row>2224</th><td>Ruapehu         </td><td>Home ownership by households</td><td>Dwelling Held in a Family Trust                  </td><td>  570</td><td>2013</td><td>Census Year</td></tr>\n",
       "\t<tr><th scope=row>2234</th><td>Ruapehu         </td><td>Home ownership by households</td><td>Not Elsewhere Included                           </td><td>  264</td><td>2013</td><td>Census Year</td></tr>\n",
       "\t<tr><th scope=row>2205</th><td>Tararua         </td><td>Home ownership by households</td><td>Dwelling Owned or Partly Owned                   </td><td> 3336</td><td>2013</td><td>Census Year</td></tr>\n",
       "\t<tr><th scope=row>2215</th><td>Tararua         </td><td>Home ownership by households</td><td>Dwelling Not Owned and Not Held in a Family Trust</td><td> 2088</td><td>2013</td><td>Census Year</td></tr>\n",
       "\t<tr><th scope=row>2225</th><td>Tararua         </td><td>Home ownership by households</td><td>Dwelling Held in a Family Trust                  </td><td>  921</td><td>2013</td><td>Census Year</td></tr>\n",
       "\t<tr><th scope=row>2235</th><td>Tararua         </td><td>Home ownership by households</td><td>Not Elsewhere Included                           </td><td>  453</td><td>2013</td><td>Census Year</td></tr>\n",
       "\t<tr><th scope=row>2206</th><td>Whanganui       </td><td>Home ownership by households</td><td>Dwelling Owned or Partly Owned                   </td><td> 8316</td><td>2013</td><td>Census Year</td></tr>\n",
       "\t<tr><th scope=row>2216</th><td>Whanganui       </td><td>Home ownership by households</td><td>Dwelling Not Owned and Not Held in a Family Trust</td><td> 5496</td><td>2013</td><td>Census Year</td></tr>\n",
       "\t<tr><th scope=row>2226</th><td>Whanganui       </td><td>Home ownership by households</td><td>Dwelling Held in a Family Trust                  </td><td> 2271</td><td>2013</td><td>Census Year</td></tr>\n",
       "\t<tr><th scope=row>2236</th><td>Whanganui       </td><td>Home ownership by households</td><td>Not Elsewhere Included                           </td><td> 1227</td><td>2013</td><td>Census Year</td></tr>\n",
       "</tbody>\n",
       "</table>\n"
      ],
      "text/latex": [
       "A data.frame: 28 × 6\n",
       "\\begin{tabular}{r|llllll}\n",
       "  & Territorial.Authority & Measure & Category & Value & Date & DateLabel\\\\\n",
       "  & <chr> & <chr> & <chr> & <dbl> & <chr> & <chr>\\\\\n",
       "\\hline\n",
       "\t220 & Horowhenua       & Home ownership by households & Dwelling Owned or Partly Owned                    &  6483 & 2013 & Census Year\\\\\n",
       "\t221 & Horowhenua       & Home ownership by households & Dwelling Not Owned and Not Held in a Family Trust &  3624 & 2013 & Census Year\\\\\n",
       "\t222 & Horowhenua       & Home ownership by households & Dwelling Held in a Family Trust                   &  1473 & 2013 & Census Year\\\\\n",
       "\t223 & Horowhenua       & Home ownership by households & Not Elsewhere Included                            &   915 & 2013 & Census Year\\\\\n",
       "\t2201 & Manawatu         & Home ownership by households & Dwelling Owned or Partly Owned                    &  5568 & 2013 & Census Year\\\\\n",
       "\t2211 & Manawatu         & Home ownership by households & Dwelling Not Owned and Not Held in a Family Trust &  2892 & 2013 & Census Year\\\\\n",
       "\t2221 & Manawatu         & Home ownership by households & Dwelling Held in a Family Trust                   &  1593 & 2013 & Census Year\\\\\n",
       "\t2231 & Manawatu         & Home ownership by households & Not Elsewhere Included                            &   423 & 2013 & Census Year\\\\\n",
       "\t2202 & Palmerston North & Home ownership by households & Dwelling Owned or Partly Owned                    & 13932 & 2013 & Census Year\\\\\n",
       "\t2212 & Palmerston North & Home ownership by households & Dwelling Not Owned and Not Held in a Family Trust & 10473 & 2013 & Census Year\\\\\n",
       "\t2222 & Palmerston North & Home ownership by households & Dwelling Held in a Family Trust                   &  3480 & 2013 & Census Year\\\\\n",
       "\t2232 & Palmerston North & Home ownership by households & Not Elsewhere Included                            &  1716 & 2013 & Census Year\\\\\n",
       "\t2203 & Rangitikei       & Home ownership by households & Dwelling Owned or Partly Owned                    &  2766 & 2013 & Census Year\\\\\n",
       "\t2213 & Rangitikei       & Home ownership by households & Dwelling Not Owned and Not Held in a Family Trust &  1851 & 2013 & Census Year\\\\\n",
       "\t2223 & Rangitikei       & Home ownership by households & Dwelling Held in a Family Trust                   &   750 & 2013 & Census Year\\\\\n",
       "\t2233 & Rangitikei       & Home ownership by households & Not Elsewhere Included                            &   303 & 2013 & Census Year\\\\\n",
       "\t2204 & Ruapehu          & Home ownership by households & Dwelling Owned or Partly Owned                    &  1806 & 2013 & Census Year\\\\\n",
       "\t2214 & Ruapehu          & Home ownership by households & Dwelling Not Owned and Not Held in a Family Trust &  1941 & 2013 & Census Year\\\\\n",
       "\t2224 & Ruapehu          & Home ownership by households & Dwelling Held in a Family Trust                   &   570 & 2013 & Census Year\\\\\n",
       "\t2234 & Ruapehu          & Home ownership by households & Not Elsewhere Included                            &   264 & 2013 & Census Year\\\\\n",
       "\t2205 & Tararua          & Home ownership by households & Dwelling Owned or Partly Owned                    &  3336 & 2013 & Census Year\\\\\n",
       "\t2215 & Tararua          & Home ownership by households & Dwelling Not Owned and Not Held in a Family Trust &  2088 & 2013 & Census Year\\\\\n",
       "\t2225 & Tararua          & Home ownership by households & Dwelling Held in a Family Trust                   &   921 & 2013 & Census Year\\\\\n",
       "\t2235 & Tararua          & Home ownership by households & Not Elsewhere Included                            &   453 & 2013 & Census Year\\\\\n",
       "\t2206 & Whanganui        & Home ownership by households & Dwelling Owned or Partly Owned                    &  8316 & 2013 & Census Year\\\\\n",
       "\t2216 & Whanganui        & Home ownership by households & Dwelling Not Owned and Not Held in a Family Trust &  5496 & 2013 & Census Year\\\\\n",
       "\t2226 & Whanganui        & Home ownership by households & Dwelling Held in a Family Trust                   &  2271 & 2013 & Census Year\\\\\n",
       "\t2236 & Whanganui        & Home ownership by households & Not Elsewhere Included                            &  1227 & 2013 & Census Year\\\\\n",
       "\\end{tabular}\n"
      ],
      "text/markdown": [
       "\n",
       "A data.frame: 28 × 6\n",
       "\n",
       "| <!--/--> | Territorial.Authority &lt;chr&gt; | Measure &lt;chr&gt; | Category &lt;chr&gt; | Value &lt;dbl&gt; | Date &lt;chr&gt; | DateLabel &lt;chr&gt; |\n",
       "|---|---|---|---|---|---|---|\n",
       "| 220 | Horowhenua       | Home ownership by households | Dwelling Owned or Partly Owned                    |  6483 | 2013 | Census Year |\n",
       "| 221 | Horowhenua       | Home ownership by households | Dwelling Not Owned and Not Held in a Family Trust |  3624 | 2013 | Census Year |\n",
       "| 222 | Horowhenua       | Home ownership by households | Dwelling Held in a Family Trust                   |  1473 | 2013 | Census Year |\n",
       "| 223 | Horowhenua       | Home ownership by households | Not Elsewhere Included                            |   915 | 2013 | Census Year |\n",
       "| 2201 | Manawatu         | Home ownership by households | Dwelling Owned or Partly Owned                    |  5568 | 2013 | Census Year |\n",
       "| 2211 | Manawatu         | Home ownership by households | Dwelling Not Owned and Not Held in a Family Trust |  2892 | 2013 | Census Year |\n",
       "| 2221 | Manawatu         | Home ownership by households | Dwelling Held in a Family Trust                   |  1593 | 2013 | Census Year |\n",
       "| 2231 | Manawatu         | Home ownership by households | Not Elsewhere Included                            |   423 | 2013 | Census Year |\n",
       "| 2202 | Palmerston North | Home ownership by households | Dwelling Owned or Partly Owned                    | 13932 | 2013 | Census Year |\n",
       "| 2212 | Palmerston North | Home ownership by households | Dwelling Not Owned and Not Held in a Family Trust | 10473 | 2013 | Census Year |\n",
       "| 2222 | Palmerston North | Home ownership by households | Dwelling Held in a Family Trust                   |  3480 | 2013 | Census Year |\n",
       "| 2232 | Palmerston North | Home ownership by households | Not Elsewhere Included                            |  1716 | 2013 | Census Year |\n",
       "| 2203 | Rangitikei       | Home ownership by households | Dwelling Owned or Partly Owned                    |  2766 | 2013 | Census Year |\n",
       "| 2213 | Rangitikei       | Home ownership by households | Dwelling Not Owned and Not Held in a Family Trust |  1851 | 2013 | Census Year |\n",
       "| 2223 | Rangitikei       | Home ownership by households | Dwelling Held in a Family Trust                   |   750 | 2013 | Census Year |\n",
       "| 2233 | Rangitikei       | Home ownership by households | Not Elsewhere Included                            |   303 | 2013 | Census Year |\n",
       "| 2204 | Ruapehu          | Home ownership by households | Dwelling Owned or Partly Owned                    |  1806 | 2013 | Census Year |\n",
       "| 2214 | Ruapehu          | Home ownership by households | Dwelling Not Owned and Not Held in a Family Trust |  1941 | 2013 | Census Year |\n",
       "| 2224 | Ruapehu          | Home ownership by households | Dwelling Held in a Family Trust                   |   570 | 2013 | Census Year |\n",
       "| 2234 | Ruapehu          | Home ownership by households | Not Elsewhere Included                            |   264 | 2013 | Census Year |\n",
       "| 2205 | Tararua          | Home ownership by households | Dwelling Owned or Partly Owned                    |  3336 | 2013 | Census Year |\n",
       "| 2215 | Tararua          | Home ownership by households | Dwelling Not Owned and Not Held in a Family Trust |  2088 | 2013 | Census Year |\n",
       "| 2225 | Tararua          | Home ownership by households | Dwelling Held in a Family Trust                   |   921 | 2013 | Census Year |\n",
       "| 2235 | Tararua          | Home ownership by households | Not Elsewhere Included                            |   453 | 2013 | Census Year |\n",
       "| 2206 | Whanganui        | Home ownership by households | Dwelling Owned or Partly Owned                    |  8316 | 2013 | Census Year |\n",
       "| 2216 | Whanganui        | Home ownership by households | Dwelling Not Owned and Not Held in a Family Trust |  5496 | 2013 | Census Year |\n",
       "| 2226 | Whanganui        | Home ownership by households | Dwelling Held in a Family Trust                   |  2271 | 2013 | Census Year |\n",
       "| 2236 | Whanganui        | Home ownership by households | Not Elsewhere Included                            |  1227 | 2013 | Census Year |\n",
       "\n"
      ],
      "text/plain": [
       "     Territorial.Authority Measure                     \n",
       "220  Horowhenua            Home ownership by households\n",
       "221  Horowhenua            Home ownership by households\n",
       "222  Horowhenua            Home ownership by households\n",
       "223  Horowhenua            Home ownership by households\n",
       "2201 Manawatu              Home ownership by households\n",
       "2211 Manawatu              Home ownership by households\n",
       "2221 Manawatu              Home ownership by households\n",
       "2231 Manawatu              Home ownership by households\n",
       "2202 Palmerston North      Home ownership by households\n",
       "2212 Palmerston North      Home ownership by households\n",
       "2222 Palmerston North      Home ownership by households\n",
       "2232 Palmerston North      Home ownership by households\n",
       "2203 Rangitikei            Home ownership by households\n",
       "2213 Rangitikei            Home ownership by households\n",
       "2223 Rangitikei            Home ownership by households\n",
       "2233 Rangitikei            Home ownership by households\n",
       "2204 Ruapehu               Home ownership by households\n",
       "2214 Ruapehu               Home ownership by households\n",
       "2224 Ruapehu               Home ownership by households\n",
       "2234 Ruapehu               Home ownership by households\n",
       "2205 Tararua               Home ownership by households\n",
       "2215 Tararua               Home ownership by households\n",
       "2225 Tararua               Home ownership by households\n",
       "2235 Tararua               Home ownership by households\n",
       "2206 Whanganui             Home ownership by households\n",
       "2216 Whanganui             Home ownership by households\n",
       "2226 Whanganui             Home ownership by households\n",
       "2236 Whanganui             Home ownership by households\n",
       "     Category                                          Value Date DateLabel  \n",
       "220  Dwelling Owned or Partly Owned                     6483 2013 Census Year\n",
       "221  Dwelling Not Owned and Not Held in a Family Trust  3624 2013 Census Year\n",
       "222  Dwelling Held in a Family Trust                    1473 2013 Census Year\n",
       "223  Not Elsewhere Included                              915 2013 Census Year\n",
       "2201 Dwelling Owned or Partly Owned                     5568 2013 Census Year\n",
       "2211 Dwelling Not Owned and Not Held in a Family Trust  2892 2013 Census Year\n",
       "2221 Dwelling Held in a Family Trust                    1593 2013 Census Year\n",
       "2231 Not Elsewhere Included                              423 2013 Census Year\n",
       "2202 Dwelling Owned or Partly Owned                    13932 2013 Census Year\n",
       "2212 Dwelling Not Owned and Not Held in a Family Trust 10473 2013 Census Year\n",
       "2222 Dwelling Held in a Family Trust                    3480 2013 Census Year\n",
       "2232 Not Elsewhere Included                             1716 2013 Census Year\n",
       "2203 Dwelling Owned or Partly Owned                     2766 2013 Census Year\n",
       "2213 Dwelling Not Owned and Not Held in a Family Trust  1851 2013 Census Year\n",
       "2223 Dwelling Held in a Family Trust                     750 2013 Census Year\n",
       "2233 Not Elsewhere Included                              303 2013 Census Year\n",
       "2204 Dwelling Owned or Partly Owned                     1806 2013 Census Year\n",
       "2214 Dwelling Not Owned and Not Held in a Family Trust  1941 2013 Census Year\n",
       "2224 Dwelling Held in a Family Trust                     570 2013 Census Year\n",
       "2234 Not Elsewhere Included                              264 2013 Census Year\n",
       "2205 Dwelling Owned or Partly Owned                     3336 2013 Census Year\n",
       "2215 Dwelling Not Owned and Not Held in a Family Trust  2088 2013 Census Year\n",
       "2225 Dwelling Held in a Family Trust                     921 2013 Census Year\n",
       "2235 Not Elsewhere Included                              453 2013 Census Year\n",
       "2206 Dwelling Owned or Partly Owned                     8316 2013 Census Year\n",
       "2216 Dwelling Not Owned and Not Held in a Family Trust  5496 2013 Census Year\n",
       "2226 Dwelling Held in a Family Trust                    2271 2013 Census Year\n",
       "2236 Not Elsewhere Included                             1227 2013 Census Year"
      ]
     },
     "metadata": {},
     "output_type": "display_data"
    }
   ],
   "source": [
    "Manawatu_Whanganui_homes_df"
   ]
  },
  {
   "cell_type": "markdown",
   "metadata": {},
   "source": [
    "Loop through and make the income into a dataframe"
   ]
  },
  {
   "cell_type": "code",
   "execution_count": 69,
   "metadata": {},
   "outputs": [],
   "source": [
    "Manawatu_Whanganui_median_income_df = data.frame()"
   ]
  },
  {
   "cell_type": "code",
   "execution_count": 278,
   "metadata": {},
   "outputs": [],
   "source": [
    "for (i in 1:length(Manawatu_Whanganui_file_list)){\n",
    "  data = read.csv(Manawatu_Whanganui_file_list[i])\n",
    "  #e.g. if we wanted household information we would change the topic to be \"Households\" below\n",
    "  income_data = data[data$Topic == \"Income\",]\n",
    "\n",
    "  income_data$Topic = NULL\n",
    "  income_data$NullReason = NULL\n",
    "  income_data$Source = NULL\n",
    "  income_data$ValueUnit = NULL\n",
    "  income_data$ValueLabel = NULL  \n",
    "\n",
    "  personal_income = income_data[income_data$Measure == \"Median personal income ($)\",]  \n",
    "  Manawatu_Whanganui_median_income_df <- rbind(Manawatu_Whanganui_median_income_df, personal_income) #for each iteration, bind the new data to the building dataset\n",
    "}"
   ]
  },
  {
   "cell_type": "code",
   "execution_count": 279,
   "metadata": {},
   "outputs": [
    {
     "data": {
      "text/html": [
       "<table>\n",
       "<caption>A data.frame: 14 × 6</caption>\n",
       "<thead>\n",
       "\t<tr><th></th><th scope=col>Territorial.Authority</th><th scope=col>Measure</th><th scope=col>Category</th><th scope=col>Value</th><th scope=col>Date</th><th scope=col>DateLabel</th></tr>\n",
       "\t<tr><th></th><th scope=col>&lt;chr&gt;</th><th scope=col>&lt;chr&gt;</th><th scope=col>&lt;chr&gt;</th><th scope=col>&lt;dbl&gt;</th><th scope=col>&lt;chr&gt;</th><th scope=col>&lt;chr&gt;</th></tr>\n",
       "</thead>\n",
       "<tbody>\n",
       "\t<tr><th scope=row>128</th><td>Horowhenua      </td><td>Median personal income ($)</td><td></td><td>21800</td><td>2013</td><td>Census Year</td></tr>\n",
       "\t<tr><th scope=row>1281</th><td>Manawatu        </td><td>Median personal income ($)</td><td></td><td>28400</td><td>2013</td><td>Census Year</td></tr>\n",
       "\t<tr><th scope=row>1282</th><td>Palmerston North</td><td>Median personal income ($)</td><td></td><td>27000</td><td>2013</td><td>Census Year</td></tr>\n",
       "\t<tr><th scope=row>1283</th><td>Rangitikei      </td><td>Median personal income ($)</td><td></td><td>25700</td><td>2013</td><td>Census Year</td></tr>\n",
       "\t<tr><th scope=row>1284</th><td>Ruapehu         </td><td>Median personal income ($)</td><td></td><td>24100</td><td>2013</td><td>Census Year</td></tr>\n",
       "\t<tr><th scope=row>1285</th><td>Tararua         </td><td>Median personal income ($)</td><td></td><td>25100</td><td>2013</td><td>Census Year</td></tr>\n",
       "\t<tr><th scope=row>1286</th><td>Whanganui       </td><td>Median personal income ($)</td><td></td><td>23500</td><td>2013</td><td>Census Year</td></tr>\n",
       "\t<tr><th scope=row>1287</th><td>Horowhenua      </td><td>Median personal income ($)</td><td></td><td>21800</td><td>2013</td><td>Census Year</td></tr>\n",
       "\t<tr><th scope=row>1288</th><td>Manawatu        </td><td>Median personal income ($)</td><td></td><td>28400</td><td>2013</td><td>Census Year</td></tr>\n",
       "\t<tr><th scope=row>1289</th><td>Palmerston North</td><td>Median personal income ($)</td><td></td><td>27000</td><td>2013</td><td>Census Year</td></tr>\n",
       "\t<tr><th scope=row>12810</th><td>Rangitikei      </td><td>Median personal income ($)</td><td></td><td>25700</td><td>2013</td><td>Census Year</td></tr>\n",
       "\t<tr><th scope=row>12811</th><td>Ruapehu         </td><td>Median personal income ($)</td><td></td><td>24100</td><td>2013</td><td>Census Year</td></tr>\n",
       "\t<tr><th scope=row>12812</th><td>Tararua         </td><td>Median personal income ($)</td><td></td><td>25100</td><td>2013</td><td>Census Year</td></tr>\n",
       "\t<tr><th scope=row>12813</th><td>Whanganui       </td><td>Median personal income ($)</td><td></td><td>23500</td><td>2013</td><td>Census Year</td></tr>\n",
       "</tbody>\n",
       "</table>\n"
      ],
      "text/latex": [
       "A data.frame: 14 × 6\n",
       "\\begin{tabular}{r|llllll}\n",
       "  & Territorial.Authority & Measure & Category & Value & Date & DateLabel\\\\\n",
       "  & <chr> & <chr> & <chr> & <dbl> & <chr> & <chr>\\\\\n",
       "\\hline\n",
       "\t128 & Horowhenua       & Median personal income (\\$) &  & 21800 & 2013 & Census Year\\\\\n",
       "\t1281 & Manawatu         & Median personal income (\\$) &  & 28400 & 2013 & Census Year\\\\\n",
       "\t1282 & Palmerston North & Median personal income (\\$) &  & 27000 & 2013 & Census Year\\\\\n",
       "\t1283 & Rangitikei       & Median personal income (\\$) &  & 25700 & 2013 & Census Year\\\\\n",
       "\t1284 & Ruapehu          & Median personal income (\\$) &  & 24100 & 2013 & Census Year\\\\\n",
       "\t1285 & Tararua          & Median personal income (\\$) &  & 25100 & 2013 & Census Year\\\\\n",
       "\t1286 & Whanganui        & Median personal income (\\$) &  & 23500 & 2013 & Census Year\\\\\n",
       "\t1287 & Horowhenua       & Median personal income (\\$) &  & 21800 & 2013 & Census Year\\\\\n",
       "\t1288 & Manawatu         & Median personal income (\\$) &  & 28400 & 2013 & Census Year\\\\\n",
       "\t1289 & Palmerston North & Median personal income (\\$) &  & 27000 & 2013 & Census Year\\\\\n",
       "\t12810 & Rangitikei       & Median personal income (\\$) &  & 25700 & 2013 & Census Year\\\\\n",
       "\t12811 & Ruapehu          & Median personal income (\\$) &  & 24100 & 2013 & Census Year\\\\\n",
       "\t12812 & Tararua          & Median personal income (\\$) &  & 25100 & 2013 & Census Year\\\\\n",
       "\t12813 & Whanganui        & Median personal income (\\$) &  & 23500 & 2013 & Census Year\\\\\n",
       "\\end{tabular}\n"
      ],
      "text/markdown": [
       "\n",
       "A data.frame: 14 × 6\n",
       "\n",
       "| <!--/--> | Territorial.Authority &lt;chr&gt; | Measure &lt;chr&gt; | Category &lt;chr&gt; | Value &lt;dbl&gt; | Date &lt;chr&gt; | DateLabel &lt;chr&gt; |\n",
       "|---|---|---|---|---|---|---|\n",
       "| 128 | Horowhenua       | Median personal income ($) | <!----> | 21800 | 2013 | Census Year |\n",
       "| 1281 | Manawatu         | Median personal income ($) | <!----> | 28400 | 2013 | Census Year |\n",
       "| 1282 | Palmerston North | Median personal income ($) | <!----> | 27000 | 2013 | Census Year |\n",
       "| 1283 | Rangitikei       | Median personal income ($) | <!----> | 25700 | 2013 | Census Year |\n",
       "| 1284 | Ruapehu          | Median personal income ($) | <!----> | 24100 | 2013 | Census Year |\n",
       "| 1285 | Tararua          | Median personal income ($) | <!----> | 25100 | 2013 | Census Year |\n",
       "| 1286 | Whanganui        | Median personal income ($) | <!----> | 23500 | 2013 | Census Year |\n",
       "| 1287 | Horowhenua       | Median personal income ($) | <!----> | 21800 | 2013 | Census Year |\n",
       "| 1288 | Manawatu         | Median personal income ($) | <!----> | 28400 | 2013 | Census Year |\n",
       "| 1289 | Palmerston North | Median personal income ($) | <!----> | 27000 | 2013 | Census Year |\n",
       "| 12810 | Rangitikei       | Median personal income ($) | <!----> | 25700 | 2013 | Census Year |\n",
       "| 12811 | Ruapehu          | Median personal income ($) | <!----> | 24100 | 2013 | Census Year |\n",
       "| 12812 | Tararua          | Median personal income ($) | <!----> | 25100 | 2013 | Census Year |\n",
       "| 12813 | Whanganui        | Median personal income ($) | <!----> | 23500 | 2013 | Census Year |\n",
       "\n"
      ],
      "text/plain": [
       "      Territorial.Authority Measure                    Category Value Date\n",
       "128   Horowhenua            Median personal income ($)          21800 2013\n",
       "1281  Manawatu              Median personal income ($)          28400 2013\n",
       "1282  Palmerston North      Median personal income ($)          27000 2013\n",
       "1283  Rangitikei            Median personal income ($)          25700 2013\n",
       "1284  Ruapehu               Median personal income ($)          24100 2013\n",
       "1285  Tararua               Median personal income ($)          25100 2013\n",
       "1286  Whanganui             Median personal income ($)          23500 2013\n",
       "1287  Horowhenua            Median personal income ($)          21800 2013\n",
       "1288  Manawatu              Median personal income ($)          28400 2013\n",
       "1289  Palmerston North      Median personal income ($)          27000 2013\n",
       "12810 Rangitikei            Median personal income ($)          25700 2013\n",
       "12811 Ruapehu               Median personal income ($)          24100 2013\n",
       "12812 Tararua               Median personal income ($)          25100 2013\n",
       "12813 Whanganui             Median personal income ($)          23500 2013\n",
       "      DateLabel  \n",
       "128   Census Year\n",
       "1281  Census Year\n",
       "1282  Census Year\n",
       "1283  Census Year\n",
       "1284  Census Year\n",
       "1285  Census Year\n",
       "1286  Census Year\n",
       "1287  Census Year\n",
       "1288  Census Year\n",
       "1289  Census Year\n",
       "12810 Census Year\n",
       "12811 Census Year\n",
       "12812 Census Year\n",
       "12813 Census Year"
      ]
     },
     "metadata": {},
     "output_type": "display_data"
    }
   ],
   "source": [
    "Manawatu_Whanganui_median_income_df"
   ]
  },
  {
   "cell_type": "code",
   "execution_count": 280,
   "metadata": {},
   "outputs": [],
   "source": [
    "Manawatu_Whanganui_income_bracket_df = data.frame()"
   ]
  },
  {
   "cell_type": "code",
   "execution_count": 281,
   "metadata": {},
   "outputs": [],
   "source": [
    "for (i in 1:length(Manawatu_Whanganui_file_list)){\n",
    "  data = read.csv(Manawatu_Whanganui_file_list[i])\n",
    "  #e.g. if we wanted household information we would change the topic to be \"Households\" below\n",
    "  income_bracket_data = data[data$Topic == \"Income\",]\n",
    "\n",
    "  income_bracket_data$Topic = NULL\n",
    "  income_bracket_data$NullReason = NULL\n",
    "  income_bracket_data$Source = NULL\n",
    "  income_bracket_data$ValueUnit = NULL\n",
    "  income_bracket_data$ValueLabel = NULL  \n",
    "\n",
    "  bracket_income = income_bracket_data[income_bracket_data$Measure == \"Number of families in income bracket\",]  \n",
    "  Manawatu_Whanganui_income_bracket_df <- rbind(Manawatu_Whanganui_income_bracket_df, bracket_income) #for each iteration, bind the new data to the building dataset\n",
    "}"
   ]
  },
  {
   "cell_type": "code",
   "execution_count": 282,
   "metadata": {},
   "outputs": [
    {
     "data": {
      "text/html": [
       "<table>\n",
       "<caption>A data.frame: 98 × 6</caption>\n",
       "<thead>\n",
       "\t<tr><th></th><th scope=col>Territorial.Authority</th><th scope=col>Measure</th><th scope=col>Category</th><th scope=col>Value</th><th scope=col>Date</th><th scope=col>DateLabel</th></tr>\n",
       "\t<tr><th></th><th scope=col>&lt;chr&gt;</th><th scope=col>&lt;chr&gt;</th><th scope=col>&lt;chr&gt;</th><th scope=col>&lt;dbl&gt;</th><th scope=col>&lt;chr&gt;</th><th scope=col>&lt;chr&gt;</th></tr>\n",
       "</thead>\n",
       "<tbody>\n",
       "\t<tr><th scope=row>158</th><td>Horowhenua      </td><td>Number of families in income bracket</td><td>$20,000 and under  </td><td> 612.000000</td><td>2013</td><td>Census Year</td></tr>\n",
       "\t<tr><th scope=row>159</th><td>Horowhenua      </td><td>Number of families in income bracket</td><td>$20,001 to $30,000 </td><td> 999.000000</td><td>2013</td><td>Census Year</td></tr>\n",
       "\t<tr><th scope=row>160</th><td>Horowhenua      </td><td>Number of families in income bracket</td><td>$30,001 to $50,000 </td><td>1947.000000</td><td>2013</td><td>Census Year</td></tr>\n",
       "\t<tr><th scope=row>161</th><td>Horowhenua      </td><td>Number of families in income bracket</td><td>$50,001 to $70,000 </td><td>1275.000000</td><td>2013</td><td>Census Year</td></tr>\n",
       "\t<tr><th scope=row>162</th><td>Horowhenua      </td><td>Number of families in income bracket</td><td>$70,001 to $100,000</td><td>1296.000000</td><td>2013</td><td>Census Year</td></tr>\n",
       "\t<tr><th scope=row>163</th><td>Horowhenua      </td><td>Number of families in income bracket</td><td>$100,000 and over  </td><td>1038.000000</td><td>2013</td><td>Census Year</td></tr>\n",
       "\t<tr><th scope=row>164</th><td>Horowhenua      </td><td>Number of families in income bracket</td><td>Not stated         </td><td>1035.000000</td><td>2013</td><td>Census Year</td></tr>\n",
       "\t<tr><th scope=row>165</th><td>Horowhenua      </td><td>Number of families in income bracket</td><td>$20,000 and under  </td><td>   7.461595</td><td>2013</td><td>Census Year</td></tr>\n",
       "\t<tr><th scope=row>166</th><td>Horowhenua      </td><td>Number of families in income bracket</td><td>$20,001 to $30,000 </td><td>  12.179956</td><td>2013</td><td>Census Year</td></tr>\n",
       "\t<tr><th scope=row>167</th><td>Horowhenua      </td><td>Number of families in income bracket</td><td>$30,001 to $50,000 </td><td>  23.738113</td><td>2013</td><td>Census Year</td></tr>\n",
       "\t<tr><th scope=row>168</th><td>Horowhenua      </td><td>Number of families in income bracket</td><td>$50,001 to $70,000 </td><td>  15.544989</td><td>2013</td><td>Census Year</td></tr>\n",
       "\t<tr><th scope=row>169</th><td>Horowhenua      </td><td>Number of families in income bracket</td><td>$70,001 to $100,000</td><td>  15.801024</td><td>2013</td><td>Census Year</td></tr>\n",
       "\t<tr><th scope=row>170</th><td>Horowhenua      </td><td>Number of families in income bracket</td><td>$100,000 and over  </td><td>  12.655450</td><td>2013</td><td>Census Year</td></tr>\n",
       "\t<tr><th scope=row>171</th><td>Horowhenua      </td><td>Number of families in income bracket</td><td>Not stated         </td><td>  12.618873</td><td>2013</td><td>Census Year</td></tr>\n",
       "\t<tr><th scope=row>1581</th><td>Manawatu        </td><td>Number of families in income bracket</td><td>$20,000 and under  </td><td> 435.000000</td><td>2013</td><td>Census Year</td></tr>\n",
       "\t<tr><th scope=row>1591</th><td>Manawatu        </td><td>Number of families in income bracket</td><td>$20,001 to $30,000 </td><td> 582.000000</td><td>2013</td><td>Census Year</td></tr>\n",
       "\t<tr><th scope=row>1601</th><td>Manawatu        </td><td>Number of families in income bracket</td><td>$30,001 to $50,000 </td><td>1332.000000</td><td>2013</td><td>Census Year</td></tr>\n",
       "\t<tr><th scope=row>1611</th><td>Manawatu        </td><td>Number of families in income bracket</td><td>$50,001 to $70,000 </td><td>1305.000000</td><td>2013</td><td>Census Year</td></tr>\n",
       "\t<tr><th scope=row>1621</th><td>Manawatu        </td><td>Number of families in income bracket</td><td>$70,001 to $100,000</td><td>1656.000000</td><td>2013</td><td>Census Year</td></tr>\n",
       "\t<tr><th scope=row>1631</th><td>Manawatu        </td><td>Number of families in income bracket</td><td>$100,000 and over  </td><td>1677.000000</td><td>2013</td><td>Census Year</td></tr>\n",
       "\t<tr><th scope=row>1641</th><td>Manawatu        </td><td>Number of families in income bracket</td><td>Not stated         </td><td> 777.000000</td><td>2013</td><td>Census Year</td></tr>\n",
       "\t<tr><th scope=row>1651</th><td>Manawatu        </td><td>Number of families in income bracket</td><td>$20,000 and under  </td><td>   5.602782</td><td>2013</td><td>Census Year</td></tr>\n",
       "\t<tr><th scope=row>1661</th><td>Manawatu        </td><td>Number of families in income bracket</td><td>$20,001 to $30,000 </td><td>   7.496136</td><td>2013</td><td>Census Year</td></tr>\n",
       "\t<tr><th scope=row>1671</th><td>Manawatu        </td><td>Number of families in income bracket</td><td>$30,001 to $50,000 </td><td>  17.156105</td><td>2013</td><td>Census Year</td></tr>\n",
       "\t<tr><th scope=row>1681</th><td>Manawatu        </td><td>Number of families in income bracket</td><td>$50,001 to $70,000 </td><td>  16.808346</td><td>2013</td><td>Census Year</td></tr>\n",
       "\t<tr><th scope=row>1691</th><td>Manawatu        </td><td>Number of families in income bracket</td><td>$70,001 to $100,000</td><td>  21.329212</td><td>2013</td><td>Census Year</td></tr>\n",
       "\t<tr><th scope=row>1701</th><td>Manawatu        </td><td>Number of families in income bracket</td><td>$100,000 and over  </td><td>  21.599691</td><td>2013</td><td>Census Year</td></tr>\n",
       "\t<tr><th scope=row>1711</th><td>Manawatu        </td><td>Number of families in income bracket</td><td>Not stated         </td><td>  10.007728</td><td>2013</td><td>Census Year</td></tr>\n",
       "\t<tr><th scope=row>1582</th><td>Palmerston North</td><td>Number of families in income bracket</td><td>$20,000 and under  </td><td>1341.000000</td><td>2013</td><td>Census Year</td></tr>\n",
       "\t<tr><th scope=row>1592</th><td>Palmerston North</td><td>Number of families in income bracket</td><td>$20,001 to $30,000 </td><td>1560.000000</td><td>2013</td><td>Census Year</td></tr>\n",
       "\t<tr><th scope=row>⋮</th><td>⋮</td><td>⋮</td><td>⋮</td><td>⋮</td><td>⋮</td><td>⋮</td></tr>\n",
       "\t<tr><th scope=row>1704</th><td>Ruapehu  </td><td>Number of families in income bracket</td><td>$100,000 and over  </td><td>  14.173998</td><td>2013</td><td>Census Year</td></tr>\n",
       "\t<tr><th scope=row>1714</th><td>Ruapehu  </td><td>Number of families in income bracket</td><td>Not stated         </td><td>  17.106549</td><td>2013</td><td>Census Year</td></tr>\n",
       "\t<tr><th scope=row>1585</th><td>Tararua  </td><td>Number of families in income bracket</td><td>$20,000 and under  </td><td> 315.000000</td><td>2013</td><td>Census Year</td></tr>\n",
       "\t<tr><th scope=row>1595</th><td>Tararua  </td><td>Number of families in income bracket</td><td>$20,001 to $30,000 </td><td> 426.000000</td><td>2013</td><td>Census Year</td></tr>\n",
       "\t<tr><th scope=row>1605</th><td>Tararua  </td><td>Number of families in income bracket</td><td>$30,001 to $50,000 </td><td> 939.000000</td><td>2013</td><td>Census Year</td></tr>\n",
       "\t<tr><th scope=row>1615</th><td>Tararua  </td><td>Number of families in income bracket</td><td>$50,001 to $70,000 </td><td> 750.000000</td><td>2013</td><td>Census Year</td></tr>\n",
       "\t<tr><th scope=row>1625</th><td>Tararua  </td><td>Number of families in income bracket</td><td>$70,001 to $100,000</td><td> 900.000000</td><td>2013</td><td>Census Year</td></tr>\n",
       "\t<tr><th scope=row>1635</th><td>Tararua  </td><td>Number of families in income bracket</td><td>$100,000 and over  </td><td> 738.000000</td><td>2013</td><td>Census Year</td></tr>\n",
       "\t<tr><th scope=row>1645</th><td>Tararua  </td><td>Number of families in income bracket</td><td>Not stated         </td><td> 528.000000</td><td>2013</td><td>Census Year</td></tr>\n",
       "\t<tr><th scope=row>1655</th><td>Tararua  </td><td>Number of families in income bracket</td><td>$20,000 and under  </td><td>   6.853786</td><td>2013</td><td>Census Year</td></tr>\n",
       "\t<tr><th scope=row>1665</th><td>Tararua  </td><td>Number of families in income bracket</td><td>$20,001 to $30,000 </td><td>   9.268930</td><td>2013</td><td>Census Year</td></tr>\n",
       "\t<tr><th scope=row>1675</th><td>Tararua  </td><td>Number of families in income bracket</td><td>$30,001 to $50,000 </td><td>  20.430809</td><td>2013</td><td>Census Year</td></tr>\n",
       "\t<tr><th scope=row>1685</th><td>Tararua  </td><td>Number of families in income bracket</td><td>$50,001 to $70,000 </td><td>  16.318538</td><td>2013</td><td>Census Year</td></tr>\n",
       "\t<tr><th scope=row>1695</th><td>Tararua  </td><td>Number of families in income bracket</td><td>$70,001 to $100,000</td><td>  19.582245</td><td>2013</td><td>Census Year</td></tr>\n",
       "\t<tr><th scope=row>1705</th><td>Tararua  </td><td>Number of families in income bracket</td><td>$100,000 and over  </td><td>  16.057441</td><td>2013</td><td>Census Year</td></tr>\n",
       "\t<tr><th scope=row>1715</th><td>Tararua  </td><td>Number of families in income bracket</td><td>Not stated         </td><td>  11.488251</td><td>2013</td><td>Census Year</td></tr>\n",
       "\t<tr><th scope=row>1586</th><td>Whanganui</td><td>Number of families in income bracket</td><td>$20,000 and under  </td><td> 906.000000</td><td>2013</td><td>Census Year</td></tr>\n",
       "\t<tr><th scope=row>1596</th><td>Whanganui</td><td>Number of families in income bracket</td><td>$20,001 to $30,000 </td><td>1128.000000</td><td>2013</td><td>Census Year</td></tr>\n",
       "\t<tr><th scope=row>1606</th><td>Whanganui</td><td>Number of families in income bracket</td><td>$30,001 to $50,000 </td><td>2229.000000</td><td>2013</td><td>Census Year</td></tr>\n",
       "\t<tr><th scope=row>1616</th><td>Whanganui</td><td>Number of families in income bracket</td><td>$50,001 to $70,000 </td><td>1764.000000</td><td>2013</td><td>Census Year</td></tr>\n",
       "\t<tr><th scope=row>1626</th><td>Whanganui</td><td>Number of families in income bracket</td><td>$70,001 to $100,000</td><td>2019.000000</td><td>2013</td><td>Census Year</td></tr>\n",
       "\t<tr><th scope=row>1636</th><td>Whanganui</td><td>Number of families in income bracket</td><td>$100,000 and over  </td><td>1710.000000</td><td>2013</td><td>Census Year</td></tr>\n",
       "\t<tr><th scope=row>1646</th><td>Whanganui</td><td>Number of families in income bracket</td><td>Not stated         </td><td>1374.000000</td><td>2013</td><td>Census Year</td></tr>\n",
       "\t<tr><th scope=row>1656</th><td>Whanganui</td><td>Number of families in income bracket</td><td>$20,000 and under  </td><td>   8.140162</td><td>2013</td><td>Census Year</td></tr>\n",
       "\t<tr><th scope=row>1666</th><td>Whanganui</td><td>Number of families in income bracket</td><td>$20,001 to $30,000 </td><td>  10.134771</td><td>2013</td><td>Census Year</td></tr>\n",
       "\t<tr><th scope=row>1676</th><td>Whanganui</td><td>Number of families in income bracket</td><td>$30,001 to $50,000 </td><td>  20.026954</td><td>2013</td><td>Census Year</td></tr>\n",
       "\t<tr><th scope=row>1686</th><td>Whanganui</td><td>Number of families in income bracket</td><td>$50,001 to $70,000 </td><td>  15.849057</td><td>2013</td><td>Census Year</td></tr>\n",
       "\t<tr><th scope=row>1696</th><td>Whanganui</td><td>Number of families in income bracket</td><td>$70,001 to $100,000</td><td>  18.140162</td><td>2013</td><td>Census Year</td></tr>\n",
       "\t<tr><th scope=row>1706</th><td>Whanganui</td><td>Number of families in income bracket</td><td>$100,000 and over  </td><td>  15.363881</td><td>2013</td><td>Census Year</td></tr>\n",
       "\t<tr><th scope=row>1716</th><td>Whanganui</td><td>Number of families in income bracket</td><td>Not stated         </td><td>  12.345013</td><td>2013</td><td>Census Year</td></tr>\n",
       "</tbody>\n",
       "</table>\n"
      ],
      "text/latex": [
       "A data.frame: 98 × 6\n",
       "\\begin{tabular}{r|llllll}\n",
       "  & Territorial.Authority & Measure & Category & Value & Date & DateLabel\\\\\n",
       "  & <chr> & <chr> & <chr> & <dbl> & <chr> & <chr>\\\\\n",
       "\\hline\n",
       "\t158 & Horowhenua       & Number of families in income bracket & \\$20,000 and under   &  612.000000 & 2013 & Census Year\\\\\n",
       "\t159 & Horowhenua       & Number of families in income bracket & \\$20,001 to \\$30,000  &  999.000000 & 2013 & Census Year\\\\\n",
       "\t160 & Horowhenua       & Number of families in income bracket & \\$30,001 to \\$50,000  & 1947.000000 & 2013 & Census Year\\\\\n",
       "\t161 & Horowhenua       & Number of families in income bracket & \\$50,001 to \\$70,000  & 1275.000000 & 2013 & Census Year\\\\\n",
       "\t162 & Horowhenua       & Number of families in income bracket & \\$70,001 to \\$100,000 & 1296.000000 & 2013 & Census Year\\\\\n",
       "\t163 & Horowhenua       & Number of families in income bracket & \\$100,000 and over   & 1038.000000 & 2013 & Census Year\\\\\n",
       "\t164 & Horowhenua       & Number of families in income bracket & Not stated          & 1035.000000 & 2013 & Census Year\\\\\n",
       "\t165 & Horowhenua       & Number of families in income bracket & \\$20,000 and under   &    7.461595 & 2013 & Census Year\\\\\n",
       "\t166 & Horowhenua       & Number of families in income bracket & \\$20,001 to \\$30,000  &   12.179956 & 2013 & Census Year\\\\\n",
       "\t167 & Horowhenua       & Number of families in income bracket & \\$30,001 to \\$50,000  &   23.738113 & 2013 & Census Year\\\\\n",
       "\t168 & Horowhenua       & Number of families in income bracket & \\$50,001 to \\$70,000  &   15.544989 & 2013 & Census Year\\\\\n",
       "\t169 & Horowhenua       & Number of families in income bracket & \\$70,001 to \\$100,000 &   15.801024 & 2013 & Census Year\\\\\n",
       "\t170 & Horowhenua       & Number of families in income bracket & \\$100,000 and over   &   12.655450 & 2013 & Census Year\\\\\n",
       "\t171 & Horowhenua       & Number of families in income bracket & Not stated          &   12.618873 & 2013 & Census Year\\\\\n",
       "\t1581 & Manawatu         & Number of families in income bracket & \\$20,000 and under   &  435.000000 & 2013 & Census Year\\\\\n",
       "\t1591 & Manawatu         & Number of families in income bracket & \\$20,001 to \\$30,000  &  582.000000 & 2013 & Census Year\\\\\n",
       "\t1601 & Manawatu         & Number of families in income bracket & \\$30,001 to \\$50,000  & 1332.000000 & 2013 & Census Year\\\\\n",
       "\t1611 & Manawatu         & Number of families in income bracket & \\$50,001 to \\$70,000  & 1305.000000 & 2013 & Census Year\\\\\n",
       "\t1621 & Manawatu         & Number of families in income bracket & \\$70,001 to \\$100,000 & 1656.000000 & 2013 & Census Year\\\\\n",
       "\t1631 & Manawatu         & Number of families in income bracket & \\$100,000 and over   & 1677.000000 & 2013 & Census Year\\\\\n",
       "\t1641 & Manawatu         & Number of families in income bracket & Not stated          &  777.000000 & 2013 & Census Year\\\\\n",
       "\t1651 & Manawatu         & Number of families in income bracket & \\$20,000 and under   &    5.602782 & 2013 & Census Year\\\\\n",
       "\t1661 & Manawatu         & Number of families in income bracket & \\$20,001 to \\$30,000  &    7.496136 & 2013 & Census Year\\\\\n",
       "\t1671 & Manawatu         & Number of families in income bracket & \\$30,001 to \\$50,000  &   17.156105 & 2013 & Census Year\\\\\n",
       "\t1681 & Manawatu         & Number of families in income bracket & \\$50,001 to \\$70,000  &   16.808346 & 2013 & Census Year\\\\\n",
       "\t1691 & Manawatu         & Number of families in income bracket & \\$70,001 to \\$100,000 &   21.329212 & 2013 & Census Year\\\\\n",
       "\t1701 & Manawatu         & Number of families in income bracket & \\$100,000 and over   &   21.599691 & 2013 & Census Year\\\\\n",
       "\t1711 & Manawatu         & Number of families in income bracket & Not stated          &   10.007728 & 2013 & Census Year\\\\\n",
       "\t1582 & Palmerston North & Number of families in income bracket & \\$20,000 and under   & 1341.000000 & 2013 & Census Year\\\\\n",
       "\t1592 & Palmerston North & Number of families in income bracket & \\$20,001 to \\$30,000  & 1560.000000 & 2013 & Census Year\\\\\n",
       "\t⋮ & ⋮ & ⋮ & ⋮ & ⋮ & ⋮ & ⋮\\\\\n",
       "\t1704 & Ruapehu   & Number of families in income bracket & \\$100,000 and over   &   14.173998 & 2013 & Census Year\\\\\n",
       "\t1714 & Ruapehu   & Number of families in income bracket & Not stated          &   17.106549 & 2013 & Census Year\\\\\n",
       "\t1585 & Tararua   & Number of families in income bracket & \\$20,000 and under   &  315.000000 & 2013 & Census Year\\\\\n",
       "\t1595 & Tararua   & Number of families in income bracket & \\$20,001 to \\$30,000  &  426.000000 & 2013 & Census Year\\\\\n",
       "\t1605 & Tararua   & Number of families in income bracket & \\$30,001 to \\$50,000  &  939.000000 & 2013 & Census Year\\\\\n",
       "\t1615 & Tararua   & Number of families in income bracket & \\$50,001 to \\$70,000  &  750.000000 & 2013 & Census Year\\\\\n",
       "\t1625 & Tararua   & Number of families in income bracket & \\$70,001 to \\$100,000 &  900.000000 & 2013 & Census Year\\\\\n",
       "\t1635 & Tararua   & Number of families in income bracket & \\$100,000 and over   &  738.000000 & 2013 & Census Year\\\\\n",
       "\t1645 & Tararua   & Number of families in income bracket & Not stated          &  528.000000 & 2013 & Census Year\\\\\n",
       "\t1655 & Tararua   & Number of families in income bracket & \\$20,000 and under   &    6.853786 & 2013 & Census Year\\\\\n",
       "\t1665 & Tararua   & Number of families in income bracket & \\$20,001 to \\$30,000  &    9.268930 & 2013 & Census Year\\\\\n",
       "\t1675 & Tararua   & Number of families in income bracket & \\$30,001 to \\$50,000  &   20.430809 & 2013 & Census Year\\\\\n",
       "\t1685 & Tararua   & Number of families in income bracket & \\$50,001 to \\$70,000  &   16.318538 & 2013 & Census Year\\\\\n",
       "\t1695 & Tararua   & Number of families in income bracket & \\$70,001 to \\$100,000 &   19.582245 & 2013 & Census Year\\\\\n",
       "\t1705 & Tararua   & Number of families in income bracket & \\$100,000 and over   &   16.057441 & 2013 & Census Year\\\\\n",
       "\t1715 & Tararua   & Number of families in income bracket & Not stated          &   11.488251 & 2013 & Census Year\\\\\n",
       "\t1586 & Whanganui & Number of families in income bracket & \\$20,000 and under   &  906.000000 & 2013 & Census Year\\\\\n",
       "\t1596 & Whanganui & Number of families in income bracket & \\$20,001 to \\$30,000  & 1128.000000 & 2013 & Census Year\\\\\n",
       "\t1606 & Whanganui & Number of families in income bracket & \\$30,001 to \\$50,000  & 2229.000000 & 2013 & Census Year\\\\\n",
       "\t1616 & Whanganui & Number of families in income bracket & \\$50,001 to \\$70,000  & 1764.000000 & 2013 & Census Year\\\\\n",
       "\t1626 & Whanganui & Number of families in income bracket & \\$70,001 to \\$100,000 & 2019.000000 & 2013 & Census Year\\\\\n",
       "\t1636 & Whanganui & Number of families in income bracket & \\$100,000 and over   & 1710.000000 & 2013 & Census Year\\\\\n",
       "\t1646 & Whanganui & Number of families in income bracket & Not stated          & 1374.000000 & 2013 & Census Year\\\\\n",
       "\t1656 & Whanganui & Number of families in income bracket & \\$20,000 and under   &    8.140162 & 2013 & Census Year\\\\\n",
       "\t1666 & Whanganui & Number of families in income bracket & \\$20,001 to \\$30,000  &   10.134771 & 2013 & Census Year\\\\\n",
       "\t1676 & Whanganui & Number of families in income bracket & \\$30,001 to \\$50,000  &   20.026954 & 2013 & Census Year\\\\\n",
       "\t1686 & Whanganui & Number of families in income bracket & \\$50,001 to \\$70,000  &   15.849057 & 2013 & Census Year\\\\\n",
       "\t1696 & Whanganui & Number of families in income bracket & \\$70,001 to \\$100,000 &   18.140162 & 2013 & Census Year\\\\\n",
       "\t1706 & Whanganui & Number of families in income bracket & \\$100,000 and over   &   15.363881 & 2013 & Census Year\\\\\n",
       "\t1716 & Whanganui & Number of families in income bracket & Not stated          &   12.345013 & 2013 & Census Year\\\\\n",
       "\\end{tabular}\n"
      ],
      "text/markdown": [
       "\n",
       "A data.frame: 98 × 6\n",
       "\n",
       "| <!--/--> | Territorial.Authority &lt;chr&gt; | Measure &lt;chr&gt; | Category &lt;chr&gt; | Value &lt;dbl&gt; | Date &lt;chr&gt; | DateLabel &lt;chr&gt; |\n",
       "|---|---|---|---|---|---|---|\n",
       "| 158 | Horowhenua       | Number of families in income bracket | $20,000 and under   |  612.000000 | 2013 | Census Year |\n",
       "| 159 | Horowhenua       | Number of families in income bracket | $20,001 to $30,000  |  999.000000 | 2013 | Census Year |\n",
       "| 160 | Horowhenua       | Number of families in income bracket | $30,001 to $50,000  | 1947.000000 | 2013 | Census Year |\n",
       "| 161 | Horowhenua       | Number of families in income bracket | $50,001 to $70,000  | 1275.000000 | 2013 | Census Year |\n",
       "| 162 | Horowhenua       | Number of families in income bracket | $70,001 to $100,000 | 1296.000000 | 2013 | Census Year |\n",
       "| 163 | Horowhenua       | Number of families in income bracket | $100,000 and over   | 1038.000000 | 2013 | Census Year |\n",
       "| 164 | Horowhenua       | Number of families in income bracket | Not stated          | 1035.000000 | 2013 | Census Year |\n",
       "| 165 | Horowhenua       | Number of families in income bracket | $20,000 and under   |    7.461595 | 2013 | Census Year |\n",
       "| 166 | Horowhenua       | Number of families in income bracket | $20,001 to $30,000  |   12.179956 | 2013 | Census Year |\n",
       "| 167 | Horowhenua       | Number of families in income bracket | $30,001 to $50,000  |   23.738113 | 2013 | Census Year |\n",
       "| 168 | Horowhenua       | Number of families in income bracket | $50,001 to $70,000  |   15.544989 | 2013 | Census Year |\n",
       "| 169 | Horowhenua       | Number of families in income bracket | $70,001 to $100,000 |   15.801024 | 2013 | Census Year |\n",
       "| 170 | Horowhenua       | Number of families in income bracket | $100,000 and over   |   12.655450 | 2013 | Census Year |\n",
       "| 171 | Horowhenua       | Number of families in income bracket | Not stated          |   12.618873 | 2013 | Census Year |\n",
       "| 1581 | Manawatu         | Number of families in income bracket | $20,000 and under   |  435.000000 | 2013 | Census Year |\n",
       "| 1591 | Manawatu         | Number of families in income bracket | $20,001 to $30,000  |  582.000000 | 2013 | Census Year |\n",
       "| 1601 | Manawatu         | Number of families in income bracket | $30,001 to $50,000  | 1332.000000 | 2013 | Census Year |\n",
       "| 1611 | Manawatu         | Number of families in income bracket | $50,001 to $70,000  | 1305.000000 | 2013 | Census Year |\n",
       "| 1621 | Manawatu         | Number of families in income bracket | $70,001 to $100,000 | 1656.000000 | 2013 | Census Year |\n",
       "| 1631 | Manawatu         | Number of families in income bracket | $100,000 and over   | 1677.000000 | 2013 | Census Year |\n",
       "| 1641 | Manawatu         | Number of families in income bracket | Not stated          |  777.000000 | 2013 | Census Year |\n",
       "| 1651 | Manawatu         | Number of families in income bracket | $20,000 and under   |    5.602782 | 2013 | Census Year |\n",
       "| 1661 | Manawatu         | Number of families in income bracket | $20,001 to $30,000  |    7.496136 | 2013 | Census Year |\n",
       "| 1671 | Manawatu         | Number of families in income bracket | $30,001 to $50,000  |   17.156105 | 2013 | Census Year |\n",
       "| 1681 | Manawatu         | Number of families in income bracket | $50,001 to $70,000  |   16.808346 | 2013 | Census Year |\n",
       "| 1691 | Manawatu         | Number of families in income bracket | $70,001 to $100,000 |   21.329212 | 2013 | Census Year |\n",
       "| 1701 | Manawatu         | Number of families in income bracket | $100,000 and over   |   21.599691 | 2013 | Census Year |\n",
       "| 1711 | Manawatu         | Number of families in income bracket | Not stated          |   10.007728 | 2013 | Census Year |\n",
       "| 1582 | Palmerston North | Number of families in income bracket | $20,000 and under   | 1341.000000 | 2013 | Census Year |\n",
       "| 1592 | Palmerston North | Number of families in income bracket | $20,001 to $30,000  | 1560.000000 | 2013 | Census Year |\n",
       "| ⋮ | ⋮ | ⋮ | ⋮ | ⋮ | ⋮ | ⋮ |\n",
       "| 1704 | Ruapehu   | Number of families in income bracket | $100,000 and over   |   14.173998 | 2013 | Census Year |\n",
       "| 1714 | Ruapehu   | Number of families in income bracket | Not stated          |   17.106549 | 2013 | Census Year |\n",
       "| 1585 | Tararua   | Number of families in income bracket | $20,000 and under   |  315.000000 | 2013 | Census Year |\n",
       "| 1595 | Tararua   | Number of families in income bracket | $20,001 to $30,000  |  426.000000 | 2013 | Census Year |\n",
       "| 1605 | Tararua   | Number of families in income bracket | $30,001 to $50,000  |  939.000000 | 2013 | Census Year |\n",
       "| 1615 | Tararua   | Number of families in income bracket | $50,001 to $70,000  |  750.000000 | 2013 | Census Year |\n",
       "| 1625 | Tararua   | Number of families in income bracket | $70,001 to $100,000 |  900.000000 | 2013 | Census Year |\n",
       "| 1635 | Tararua   | Number of families in income bracket | $100,000 and over   |  738.000000 | 2013 | Census Year |\n",
       "| 1645 | Tararua   | Number of families in income bracket | Not stated          |  528.000000 | 2013 | Census Year |\n",
       "| 1655 | Tararua   | Number of families in income bracket | $20,000 and under   |    6.853786 | 2013 | Census Year |\n",
       "| 1665 | Tararua   | Number of families in income bracket | $20,001 to $30,000  |    9.268930 | 2013 | Census Year |\n",
       "| 1675 | Tararua   | Number of families in income bracket | $30,001 to $50,000  |   20.430809 | 2013 | Census Year |\n",
       "| 1685 | Tararua   | Number of families in income bracket | $50,001 to $70,000  |   16.318538 | 2013 | Census Year |\n",
       "| 1695 | Tararua   | Number of families in income bracket | $70,001 to $100,000 |   19.582245 | 2013 | Census Year |\n",
       "| 1705 | Tararua   | Number of families in income bracket | $100,000 and over   |   16.057441 | 2013 | Census Year |\n",
       "| 1715 | Tararua   | Number of families in income bracket | Not stated          |   11.488251 | 2013 | Census Year |\n",
       "| 1586 | Whanganui | Number of families in income bracket | $20,000 and under   |  906.000000 | 2013 | Census Year |\n",
       "| 1596 | Whanganui | Number of families in income bracket | $20,001 to $30,000  | 1128.000000 | 2013 | Census Year |\n",
       "| 1606 | Whanganui | Number of families in income bracket | $30,001 to $50,000  | 2229.000000 | 2013 | Census Year |\n",
       "| 1616 | Whanganui | Number of families in income bracket | $50,001 to $70,000  | 1764.000000 | 2013 | Census Year |\n",
       "| 1626 | Whanganui | Number of families in income bracket | $70,001 to $100,000 | 2019.000000 | 2013 | Census Year |\n",
       "| 1636 | Whanganui | Number of families in income bracket | $100,000 and over   | 1710.000000 | 2013 | Census Year |\n",
       "| 1646 | Whanganui | Number of families in income bracket | Not stated          | 1374.000000 | 2013 | Census Year |\n",
       "| 1656 | Whanganui | Number of families in income bracket | $20,000 and under   |    8.140162 | 2013 | Census Year |\n",
       "| 1666 | Whanganui | Number of families in income bracket | $20,001 to $30,000  |   10.134771 | 2013 | Census Year |\n",
       "| 1676 | Whanganui | Number of families in income bracket | $30,001 to $50,000  |   20.026954 | 2013 | Census Year |\n",
       "| 1686 | Whanganui | Number of families in income bracket | $50,001 to $70,000  |   15.849057 | 2013 | Census Year |\n",
       "| 1696 | Whanganui | Number of families in income bracket | $70,001 to $100,000 |   18.140162 | 2013 | Census Year |\n",
       "| 1706 | Whanganui | Number of families in income bracket | $100,000 and over   |   15.363881 | 2013 | Census Year |\n",
       "| 1716 | Whanganui | Number of families in income bracket | Not stated          |   12.345013 | 2013 | Census Year |\n",
       "\n"
      ],
      "text/plain": [
       "     Territorial.Authority Measure                             \n",
       "158  Horowhenua            Number of families in income bracket\n",
       "159  Horowhenua            Number of families in income bracket\n",
       "160  Horowhenua            Number of families in income bracket\n",
       "161  Horowhenua            Number of families in income bracket\n",
       "162  Horowhenua            Number of families in income bracket\n",
       "163  Horowhenua            Number of families in income bracket\n",
       "164  Horowhenua            Number of families in income bracket\n",
       "165  Horowhenua            Number of families in income bracket\n",
       "166  Horowhenua            Number of families in income bracket\n",
       "167  Horowhenua            Number of families in income bracket\n",
       "168  Horowhenua            Number of families in income bracket\n",
       "169  Horowhenua            Number of families in income bracket\n",
       "170  Horowhenua            Number of families in income bracket\n",
       "171  Horowhenua            Number of families in income bracket\n",
       "1581 Manawatu              Number of families in income bracket\n",
       "1591 Manawatu              Number of families in income bracket\n",
       "1601 Manawatu              Number of families in income bracket\n",
       "1611 Manawatu              Number of families in income bracket\n",
       "1621 Manawatu              Number of families in income bracket\n",
       "1631 Manawatu              Number of families in income bracket\n",
       "1641 Manawatu              Number of families in income bracket\n",
       "1651 Manawatu              Number of families in income bracket\n",
       "1661 Manawatu              Number of families in income bracket\n",
       "1671 Manawatu              Number of families in income bracket\n",
       "1681 Manawatu              Number of families in income bracket\n",
       "1691 Manawatu              Number of families in income bracket\n",
       "1701 Manawatu              Number of families in income bracket\n",
       "1711 Manawatu              Number of families in income bracket\n",
       "1582 Palmerston North      Number of families in income bracket\n",
       "1592 Palmerston North      Number of families in income bracket\n",
       "⋮    ⋮                     ⋮                                   \n",
       "1704 Ruapehu               Number of families in income bracket\n",
       "1714 Ruapehu               Number of families in income bracket\n",
       "1585 Tararua               Number of families in income bracket\n",
       "1595 Tararua               Number of families in income bracket\n",
       "1605 Tararua               Number of families in income bracket\n",
       "1615 Tararua               Number of families in income bracket\n",
       "1625 Tararua               Number of families in income bracket\n",
       "1635 Tararua               Number of families in income bracket\n",
       "1645 Tararua               Number of families in income bracket\n",
       "1655 Tararua               Number of families in income bracket\n",
       "1665 Tararua               Number of families in income bracket\n",
       "1675 Tararua               Number of families in income bracket\n",
       "1685 Tararua               Number of families in income bracket\n",
       "1695 Tararua               Number of families in income bracket\n",
       "1705 Tararua               Number of families in income bracket\n",
       "1715 Tararua               Number of families in income bracket\n",
       "1586 Whanganui             Number of families in income bracket\n",
       "1596 Whanganui             Number of families in income bracket\n",
       "1606 Whanganui             Number of families in income bracket\n",
       "1616 Whanganui             Number of families in income bracket\n",
       "1626 Whanganui             Number of families in income bracket\n",
       "1636 Whanganui             Number of families in income bracket\n",
       "1646 Whanganui             Number of families in income bracket\n",
       "1656 Whanganui             Number of families in income bracket\n",
       "1666 Whanganui             Number of families in income bracket\n",
       "1676 Whanganui             Number of families in income bracket\n",
       "1686 Whanganui             Number of families in income bracket\n",
       "1696 Whanganui             Number of families in income bracket\n",
       "1706 Whanganui             Number of families in income bracket\n",
       "1716 Whanganui             Number of families in income bracket\n",
       "     Category            Value       Date DateLabel  \n",
       "158  $20,000 and under    612.000000 2013 Census Year\n",
       "159  $20,001 to $30,000   999.000000 2013 Census Year\n",
       "160  $30,001 to $50,000  1947.000000 2013 Census Year\n",
       "161  $50,001 to $70,000  1275.000000 2013 Census Year\n",
       "162  $70,001 to $100,000 1296.000000 2013 Census Year\n",
       "163  $100,000 and over   1038.000000 2013 Census Year\n",
       "164  Not stated          1035.000000 2013 Census Year\n",
       "165  $20,000 and under      7.461595 2013 Census Year\n",
       "166  $20,001 to $30,000    12.179956 2013 Census Year\n",
       "167  $30,001 to $50,000    23.738113 2013 Census Year\n",
       "168  $50,001 to $70,000    15.544989 2013 Census Year\n",
       "169  $70,001 to $100,000   15.801024 2013 Census Year\n",
       "170  $100,000 and over     12.655450 2013 Census Year\n",
       "171  Not stated            12.618873 2013 Census Year\n",
       "1581 $20,000 and under    435.000000 2013 Census Year\n",
       "1591 $20,001 to $30,000   582.000000 2013 Census Year\n",
       "1601 $30,001 to $50,000  1332.000000 2013 Census Year\n",
       "1611 $50,001 to $70,000  1305.000000 2013 Census Year\n",
       "1621 $70,001 to $100,000 1656.000000 2013 Census Year\n",
       "1631 $100,000 and over   1677.000000 2013 Census Year\n",
       "1641 Not stated           777.000000 2013 Census Year\n",
       "1651 $20,000 and under      5.602782 2013 Census Year\n",
       "1661 $20,001 to $30,000     7.496136 2013 Census Year\n",
       "1671 $30,001 to $50,000    17.156105 2013 Census Year\n",
       "1681 $50,001 to $70,000    16.808346 2013 Census Year\n",
       "1691 $70,001 to $100,000   21.329212 2013 Census Year\n",
       "1701 $100,000 and over     21.599691 2013 Census Year\n",
       "1711 Not stated            10.007728 2013 Census Year\n",
       "1582 $20,000 and under   1341.000000 2013 Census Year\n",
       "1592 $20,001 to $30,000  1560.000000 2013 Census Year\n",
       "⋮    ⋮                   ⋮           ⋮    ⋮          \n",
       "1704 $100,000 and over     14.173998 2013 Census Year\n",
       "1714 Not stated            17.106549 2013 Census Year\n",
       "1585 $20,000 and under    315.000000 2013 Census Year\n",
       "1595 $20,001 to $30,000   426.000000 2013 Census Year\n",
       "1605 $30,001 to $50,000   939.000000 2013 Census Year\n",
       "1615 $50,001 to $70,000   750.000000 2013 Census Year\n",
       "1625 $70,001 to $100,000  900.000000 2013 Census Year\n",
       "1635 $100,000 and over    738.000000 2013 Census Year\n",
       "1645 Not stated           528.000000 2013 Census Year\n",
       "1655 $20,000 and under      6.853786 2013 Census Year\n",
       "1665 $20,001 to $30,000     9.268930 2013 Census Year\n",
       "1675 $30,001 to $50,000    20.430809 2013 Census Year\n",
       "1685 $50,001 to $70,000    16.318538 2013 Census Year\n",
       "1695 $70,001 to $100,000   19.582245 2013 Census Year\n",
       "1705 $100,000 and over     16.057441 2013 Census Year\n",
       "1715 Not stated            11.488251 2013 Census Year\n",
       "1586 $20,000 and under    906.000000 2013 Census Year\n",
       "1596 $20,001 to $30,000  1128.000000 2013 Census Year\n",
       "1606 $30,001 to $50,000  2229.000000 2013 Census Year\n",
       "1616 $50,001 to $70,000  1764.000000 2013 Census Year\n",
       "1626 $70,001 to $100,000 2019.000000 2013 Census Year\n",
       "1636 $100,000 and over   1710.000000 2013 Census Year\n",
       "1646 Not stated          1374.000000 2013 Census Year\n",
       "1656 $20,000 and under      8.140162 2013 Census Year\n",
       "1666 $20,001 to $30,000    10.134771 2013 Census Year\n",
       "1676 $30,001 to $50,000    20.026954 2013 Census Year\n",
       "1686 $50,001 to $70,000    15.849057 2013 Census Year\n",
       "1696 $70,001 to $100,000   18.140162 2013 Census Year\n",
       "1706 $100,000 and over     15.363881 2013 Census Year\n",
       "1716 Not stated            12.345013 2013 Census Year"
      ]
     },
     "metadata": {},
     "output_type": "display_data"
    }
   ],
   "source": [
    "Manawatu_Whanganui_income_bracket_df"
   ]
  },
  {
   "cell_type": "markdown",
   "metadata": {},
   "source": [
    "## **Manawatu-Whanganui Data Frames:**\n",
    "\n",
    " - Manawatu_Whanganui_dogs_df\n",
    " - Manawatu_Whanganui_population_df\n",
    " - Manawatu_Whanganui_homes_df\n",
    " - Manawatu_Whanganui_median_income_df\n",
    " - Manawatu_Whanganui_income_bracket_df"
   ]
  },
  {
   "cell_type": "code",
   "execution_count": 286,
   "metadata": {},
   "outputs": [
    {
     "data": {
      "text/html": [
       "'/Users/oscarevans/Desktop/Region_CSVs/Manawatu - Whanganui'"
      ],
      "text/latex": [
       "'/Users/oscarevans/Desktop/Region\\_CSVs/Manawatu - Whanganui'"
      ],
      "text/markdown": [
       "'/Users/oscarevans/Desktop/Region_CSVs/Manawatu - Whanganui'"
      ],
      "text/plain": [
       "[1] \"/Users/oscarevans/Desktop/Region_CSVs/Manawatu - Whanganui\""
      ]
     },
     "metadata": {},
     "output_type": "display_data"
    }
   ],
   "source": [
    "getwd()\n",
    "#set the working directory to the file that the region you're looking at is saved to\n",
    "setwd(\"/Users/oscarevans/Desktop/Region_CSVs/Marlborough\")"
   ]
  },
  {
   "cell_type": "code",
   "execution_count": 287,
   "metadata": {},
   "outputs": [],
   "source": [
    "#Get the list of files that you're going to be reading from \n",
    "#se the path to be to the folder of the region that you're looking at\n",
    "Marlborough_file_list <- list.files(path=\"/Users/oscarevans/Desktop/Region_CSVs/Marlborough\")\n",
    "#change this above to be where the files are save on your computer"
   ]
  },
  {
   "cell_type": "code",
   "execution_count": 288,
   "metadata": {},
   "outputs": [],
   "source": [
    "#initiate a blank data frame, each iteration of the loop will append the data from the given file to this variable\n",
    "Marlborough_dogs_df <- data.frame()"
   ]
  },
  {
   "cell_type": "code",
   "execution_count": 289,
   "metadata": {},
   "outputs": [
    {
     "name": "stderr",
     "output_type": "stream",
     "text": [
      "Parsed with column specification:\n",
      "cols(\n",
      "  `Territorial Authority` = \u001b[31mcol_character()\u001b[39m,\n",
      "  Topic = \u001b[31mcol_character()\u001b[39m,\n",
      "  Measure = \u001b[31mcol_character()\u001b[39m,\n",
      "  Category = \u001b[31mcol_character()\u001b[39m,\n",
      "  Value = \u001b[32mcol_double()\u001b[39m,\n",
      "  ValueUnit = \u001b[31mcol_character()\u001b[39m,\n",
      "  ValueLabel = \u001b[31mcol_character()\u001b[39m,\n",
      "  NullReason = \u001b[31mcol_character()\u001b[39m,\n",
      "  Date = \u001b[31mcol_character()\u001b[39m,\n",
      "  DateLabel = \u001b[31mcol_character()\u001b[39m,\n",
      "  Source = \u001b[31mcol_character()\u001b[39m\n",
      ")\n",
      "\n"
     ]
    }
   ],
   "source": [
    "#Specifically to get the information about pets this is the loop, \n",
    "#but can change the data[data$Topic == \"\"] to get it to be about other information in the csvs\n",
    "\n",
    "for (i in 1:length(Marlborough_file_list)){\n",
    "  data = read_csv(Marlborough_file_list[i])\n",
    "  #e.g. if we wanted household information we would change the topic to be \"Households\" below\n",
    "  pets_data = data[data$Topic == \"Pets\",]\n",
    "  #and then would just change these variables names to be something sensible like house_data\n",
    "  pets_data$Topic = NULL\n",
    "  pets_data$NullReason = NULL\n",
    "  pets_data$Source = NULL\n",
    "  pets_data$ValueUnit = NULL\n",
    "  pets_data$ValueLabel = NULL\n",
    "    \n",
    "    \n",
    "  #this is specific to the pets portion, this removes the acc data\n",
    "  pets_counts = pets_data[c(-1,-2,-3),]\n",
    "  pets_counts\n",
    "  \n",
    "  \n",
    "  #and if we wanted to get home ownership instead of dogs\n",
    "  #we'd change the measure == \"Home ownership by households\"\n",
    "  total_registered_dogs = pets_counts[pets_counts$Measure ==\"Registered dogs — Total registered dogs\",]\n",
    "    \n",
    "  \n",
    "  Marlborough_dogs_df <- rbind(Marlborough_dogs_df, total_registered_dogs) #for each iteration, bind the new data to the building dataset\n",
    "\n",
    "}"
   ]
  },
  {
   "cell_type": "code",
   "execution_count": 290,
   "metadata": {},
   "outputs": [
    {
     "data": {
      "text/html": [
       "<table>\n",
       "<caption>A tibble: 38 × 6</caption>\n",
       "<thead>\n",
       "\t<tr><th scope=col>Territorial Authority</th><th scope=col>Measure</th><th scope=col>Category</th><th scope=col>Value</th><th scope=col>Date</th><th scope=col>DateLabel</th></tr>\n",
       "\t<tr><th scope=col>&lt;chr&gt;</th><th scope=col>&lt;chr&gt;</th><th scope=col>&lt;chr&gt;</th><th scope=col>&lt;dbl&gt;</th><th scope=col>&lt;chr&gt;</th><th scope=col>&lt;chr&gt;</th></tr>\n",
       "</thead>\n",
       "<tbody>\n",
       "\t<tr><td>Marlborough</td><td>Registered dogs — Total registered dogs</td><td>All pure and cross breeds     </td><td>10444</td><td>2019</td><td>Year ended June</td></tr>\n",
       "\t<tr><td>Marlborough</td><td>Registered dogs — Total registered dogs</td><td>All pure breeds               </td><td> 6244</td><td>2019</td><td>Year ended June</td></tr>\n",
       "\t<tr><td>Marlborough</td><td>Registered dogs — Total registered dogs</td><td>Beagle                        </td><td>   21</td><td>2019</td><td>Year ended June</td></tr>\n",
       "\t<tr><td>Marlborough</td><td>Registered dogs — Total registered dogs</td><td>Bichon Frise                  </td><td>  140</td><td>2019</td><td>Year ended June</td></tr>\n",
       "\t<tr><td>Marlborough</td><td>Registered dogs — Total registered dogs</td><td>Boxer                         </td><td>   80</td><td>2019</td><td>Year ended June</td></tr>\n",
       "\t<tr><td>Marlborough</td><td>Registered dogs — Total registered dogs</td><td>Brazilian Fila                </td><td>    0</td><td>2019</td><td>Year ended June</td></tr>\n",
       "\t<tr><td>Marlborough</td><td>Registered dogs — Total registered dogs</td><td>Cattle, Australian            </td><td>   50</td><td>2019</td><td>Year ended June</td></tr>\n",
       "\t<tr><td>Marlborough</td><td>Registered dogs — Total registered dogs</td><td>Chihuahua, Long Coat          </td><td>   49</td><td>2019</td><td>Year ended June</td></tr>\n",
       "\t<tr><td>Marlborough</td><td>Registered dogs — Total registered dogs</td><td>Chihuahua, Smooth Coat        </td><td>   34</td><td>2019</td><td>Year ended June</td></tr>\n",
       "\t<tr><td>Marlborough</td><td>Registered dogs — Total registered dogs</td><td>Collie, Bearded               </td><td>  116</td><td>2019</td><td>Year ended June</td></tr>\n",
       "\t<tr><td>Marlborough</td><td>Registered dogs — Total registered dogs</td><td>Collie, Border                </td><td>  366</td><td>2019</td><td>Year ended June</td></tr>\n",
       "\t<tr><td>Marlborough</td><td>Registered dogs — Total registered dogs</td><td>Collie, Rough                 </td><td>   30</td><td>2019</td><td>Year ended June</td></tr>\n",
       "\t<tr><td>Marlborough</td><td>Registered dogs — Total registered dogs</td><td>Collie, Smooth                </td><td>  332</td><td>2019</td><td>Year ended June</td></tr>\n",
       "\t<tr><td>Marlborough</td><td>Registered dogs — Total registered dogs</td><td>Dogo Argentino                </td><td>    0</td><td>2019</td><td>Year ended June</td></tr>\n",
       "\t<tr><td>Marlborough</td><td>Registered dogs — Total registered dogs</td><td>Greyhound                     </td><td>   46</td><td>2019</td><td>Year ended June</td></tr>\n",
       "\t<tr><td>Marlborough</td><td>Registered dogs — Total registered dogs</td><td>Heading                       </td><td>  521</td><td>2019</td><td>Year ended June</td></tr>\n",
       "\t<tr><td>Marlborough</td><td>Registered dogs — Total registered dogs</td><td>Huntaway                      </td><td>  633</td><td>2019</td><td>Year ended June</td></tr>\n",
       "\t<tr><td>Marlborough</td><td>Registered dogs — Total registered dogs</td><td>Maltese                       </td><td>   77</td><td>2019</td><td>Year ended June</td></tr>\n",
       "\t<tr><td>Marlborough</td><td>Registered dogs — Total registered dogs</td><td>Perro de Presa Canario        </td><td>    0</td><td>2019</td><td>Year ended June</td></tr>\n",
       "\t<tr><td>Marlborough</td><td>Registered dogs — Total registered dogs</td><td>Poodle, Miniature             </td><td>   42</td><td>2019</td><td>Year ended June</td></tr>\n",
       "\t<tr><td>Marlborough</td><td>Registered dogs — Total registered dogs</td><td>Poodle, Toy                   </td><td>   29</td><td>2019</td><td>Year ended June</td></tr>\n",
       "\t<tr><td>Marlborough</td><td>Registered dogs — Total registered dogs</td><td>Retriever, Golden             </td><td>  132</td><td>2019</td><td>Year ended June</td></tr>\n",
       "\t<tr><td>Marlborough</td><td>Registered dogs — Total registered dogs</td><td>Retriever, Labrador           </td><td>  624</td><td>2019</td><td>Year ended June</td></tr>\n",
       "\t<tr><td>Marlborough</td><td>Registered dogs — Total registered dogs</td><td>Rottweiler                    </td><td>   86</td><td>2019</td><td>Year ended June</td></tr>\n",
       "\t<tr><td>Marlborough</td><td>Registered dogs — Total registered dogs</td><td>Schnauzer, Miniature          </td><td>  136</td><td>2019</td><td>Year ended June</td></tr>\n",
       "\t<tr><td>Marlborough</td><td>Registered dogs — Total registered dogs</td><td>Shepherd, German              </td><td>  128</td><td>2019</td><td>Year ended June</td></tr>\n",
       "\t<tr><td>Marlborough</td><td>Registered dogs — Total registered dogs</td><td>Shih Tzu                      </td><td>   42</td><td>2019</td><td>Year ended June</td></tr>\n",
       "\t<tr><td>Marlborough</td><td>Registered dogs — Total registered dogs</td><td>Spaniel, Cavalier King Charles</td><td>   52</td><td>2019</td><td>Year ended June</td></tr>\n",
       "\t<tr><td>Marlborough</td><td>Registered dogs — Total registered dogs</td><td>Spaniel, Cocker               </td><td>  102</td><td>2019</td><td>Year ended June</td></tr>\n",
       "\t<tr><td>Marlborough</td><td>Registered dogs — Total registered dogs</td><td>Spaniel, English Springer     </td><td>   65</td><td>2019</td><td>Year ended June</td></tr>\n",
       "\t<tr><td>Marlborough</td><td>Registered dogs — Total registered dogs</td><td>Terrier, American Pit Bull    </td><td>   15</td><td>2019</td><td>Year ended June</td></tr>\n",
       "\t<tr><td>Marlborough</td><td>Registered dogs — Total registered dogs</td><td>Terrier, Fox (Smooth)         </td><td>  266</td><td>2019</td><td>Year ended June</td></tr>\n",
       "\t<tr><td>Marlborough</td><td>Registered dogs — Total registered dogs</td><td>Terrier, Jack Russell         </td><td>  379</td><td>2019</td><td>Year ended June</td></tr>\n",
       "\t<tr><td>Marlborough</td><td>Registered dogs — Total registered dogs</td><td>Terrier, Staffordshire Bull   </td><td>  168</td><td>2019</td><td>Year ended June</td></tr>\n",
       "\t<tr><td>Marlborough</td><td>Registered dogs — Total registered dogs</td><td>Terrier, West Highland White  </td><td>   41</td><td>2019</td><td>Year ended June</td></tr>\n",
       "\t<tr><td>Marlborough</td><td>Registered dogs — Total registered dogs</td><td>Tosa, Japanese                </td><td>    0</td><td>2019</td><td>Year ended June</td></tr>\n",
       "\t<tr><td>Marlborough</td><td>Registered dogs — Total registered dogs</td><td>Other pure breeds             </td><td> 1442</td><td>2019</td><td>Year ended June</td></tr>\n",
       "\t<tr><td>Marlborough</td><td>Registered dogs — Total registered dogs</td><td>All cross breeds              </td><td> 4200</td><td>2019</td><td>Year ended June</td></tr>\n",
       "</tbody>\n",
       "</table>\n"
      ],
      "text/latex": [
       "A tibble: 38 × 6\n",
       "\\begin{tabular}{llllll}\n",
       " Territorial Authority & Measure & Category & Value & Date & DateLabel\\\\\n",
       " <chr> & <chr> & <chr> & <dbl> & <chr> & <chr>\\\\\n",
       "\\hline\n",
       "\t Marlborough & Registered dogs — Total registered dogs & All pure and cross breeds      & 10444 & 2019 & Year ended June\\\\\n",
       "\t Marlborough & Registered dogs — Total registered dogs & All pure breeds                &  6244 & 2019 & Year ended June\\\\\n",
       "\t Marlborough & Registered dogs — Total registered dogs & Beagle                         &    21 & 2019 & Year ended June\\\\\n",
       "\t Marlborough & Registered dogs — Total registered dogs & Bichon Frise                   &   140 & 2019 & Year ended June\\\\\n",
       "\t Marlborough & Registered dogs — Total registered dogs & Boxer                          &    80 & 2019 & Year ended June\\\\\n",
       "\t Marlborough & Registered dogs — Total registered dogs & Brazilian Fila                 &     0 & 2019 & Year ended June\\\\\n",
       "\t Marlborough & Registered dogs — Total registered dogs & Cattle, Australian             &    50 & 2019 & Year ended June\\\\\n",
       "\t Marlborough & Registered dogs — Total registered dogs & Chihuahua, Long Coat           &    49 & 2019 & Year ended June\\\\\n",
       "\t Marlborough & Registered dogs — Total registered dogs & Chihuahua, Smooth Coat         &    34 & 2019 & Year ended June\\\\\n",
       "\t Marlborough & Registered dogs — Total registered dogs & Collie, Bearded                &   116 & 2019 & Year ended June\\\\\n",
       "\t Marlborough & Registered dogs — Total registered dogs & Collie, Border                 &   366 & 2019 & Year ended June\\\\\n",
       "\t Marlborough & Registered dogs — Total registered dogs & Collie, Rough                  &    30 & 2019 & Year ended June\\\\\n",
       "\t Marlborough & Registered dogs — Total registered dogs & Collie, Smooth                 &   332 & 2019 & Year ended June\\\\\n",
       "\t Marlborough & Registered dogs — Total registered dogs & Dogo Argentino                 &     0 & 2019 & Year ended June\\\\\n",
       "\t Marlborough & Registered dogs — Total registered dogs & Greyhound                      &    46 & 2019 & Year ended June\\\\\n",
       "\t Marlborough & Registered dogs — Total registered dogs & Heading                        &   521 & 2019 & Year ended June\\\\\n",
       "\t Marlborough & Registered dogs — Total registered dogs & Huntaway                       &   633 & 2019 & Year ended June\\\\\n",
       "\t Marlborough & Registered dogs — Total registered dogs & Maltese                        &    77 & 2019 & Year ended June\\\\\n",
       "\t Marlborough & Registered dogs — Total registered dogs & Perro de Presa Canario         &     0 & 2019 & Year ended June\\\\\n",
       "\t Marlborough & Registered dogs — Total registered dogs & Poodle, Miniature              &    42 & 2019 & Year ended June\\\\\n",
       "\t Marlborough & Registered dogs — Total registered dogs & Poodle, Toy                    &    29 & 2019 & Year ended June\\\\\n",
       "\t Marlborough & Registered dogs — Total registered dogs & Retriever, Golden              &   132 & 2019 & Year ended June\\\\\n",
       "\t Marlborough & Registered dogs — Total registered dogs & Retriever, Labrador            &   624 & 2019 & Year ended June\\\\\n",
       "\t Marlborough & Registered dogs — Total registered dogs & Rottweiler                     &    86 & 2019 & Year ended June\\\\\n",
       "\t Marlborough & Registered dogs — Total registered dogs & Schnauzer, Miniature           &   136 & 2019 & Year ended June\\\\\n",
       "\t Marlborough & Registered dogs — Total registered dogs & Shepherd, German               &   128 & 2019 & Year ended June\\\\\n",
       "\t Marlborough & Registered dogs — Total registered dogs & Shih Tzu                       &    42 & 2019 & Year ended June\\\\\n",
       "\t Marlborough & Registered dogs — Total registered dogs & Spaniel, Cavalier King Charles &    52 & 2019 & Year ended June\\\\\n",
       "\t Marlborough & Registered dogs — Total registered dogs & Spaniel, Cocker                &   102 & 2019 & Year ended June\\\\\n",
       "\t Marlborough & Registered dogs — Total registered dogs & Spaniel, English Springer      &    65 & 2019 & Year ended June\\\\\n",
       "\t Marlborough & Registered dogs — Total registered dogs & Terrier, American Pit Bull     &    15 & 2019 & Year ended June\\\\\n",
       "\t Marlborough & Registered dogs — Total registered dogs & Terrier, Fox (Smooth)          &   266 & 2019 & Year ended June\\\\\n",
       "\t Marlborough & Registered dogs — Total registered dogs & Terrier, Jack Russell          &   379 & 2019 & Year ended June\\\\\n",
       "\t Marlborough & Registered dogs — Total registered dogs & Terrier, Staffordshire Bull    &   168 & 2019 & Year ended June\\\\\n",
       "\t Marlborough & Registered dogs — Total registered dogs & Terrier, West Highland White   &    41 & 2019 & Year ended June\\\\\n",
       "\t Marlborough & Registered dogs — Total registered dogs & Tosa, Japanese                 &     0 & 2019 & Year ended June\\\\\n",
       "\t Marlborough & Registered dogs — Total registered dogs & Other pure breeds              &  1442 & 2019 & Year ended June\\\\\n",
       "\t Marlborough & Registered dogs — Total registered dogs & All cross breeds               &  4200 & 2019 & Year ended June\\\\\n",
       "\\end{tabular}\n"
      ],
      "text/markdown": [
       "\n",
       "A tibble: 38 × 6\n",
       "\n",
       "| Territorial Authority &lt;chr&gt; | Measure &lt;chr&gt; | Category &lt;chr&gt; | Value &lt;dbl&gt; | Date &lt;chr&gt; | DateLabel &lt;chr&gt; |\n",
       "|---|---|---|---|---|---|\n",
       "| Marlborough | Registered dogs — Total registered dogs | All pure and cross breeds      | 10444 | 2019 | Year ended June |\n",
       "| Marlborough | Registered dogs — Total registered dogs | All pure breeds                |  6244 | 2019 | Year ended June |\n",
       "| Marlborough | Registered dogs — Total registered dogs | Beagle                         |    21 | 2019 | Year ended June |\n",
       "| Marlborough | Registered dogs — Total registered dogs | Bichon Frise                   |   140 | 2019 | Year ended June |\n",
       "| Marlborough | Registered dogs — Total registered dogs | Boxer                          |    80 | 2019 | Year ended June |\n",
       "| Marlborough | Registered dogs — Total registered dogs | Brazilian Fila                 |     0 | 2019 | Year ended June |\n",
       "| Marlborough | Registered dogs — Total registered dogs | Cattle, Australian             |    50 | 2019 | Year ended June |\n",
       "| Marlborough | Registered dogs — Total registered dogs | Chihuahua, Long Coat           |    49 | 2019 | Year ended June |\n",
       "| Marlborough | Registered dogs — Total registered dogs | Chihuahua, Smooth Coat         |    34 | 2019 | Year ended June |\n",
       "| Marlborough | Registered dogs — Total registered dogs | Collie, Bearded                |   116 | 2019 | Year ended June |\n",
       "| Marlborough | Registered dogs — Total registered dogs | Collie, Border                 |   366 | 2019 | Year ended June |\n",
       "| Marlborough | Registered dogs — Total registered dogs | Collie, Rough                  |    30 | 2019 | Year ended June |\n",
       "| Marlborough | Registered dogs — Total registered dogs | Collie, Smooth                 |   332 | 2019 | Year ended June |\n",
       "| Marlborough | Registered dogs — Total registered dogs | Dogo Argentino                 |     0 | 2019 | Year ended June |\n",
       "| Marlborough | Registered dogs — Total registered dogs | Greyhound                      |    46 | 2019 | Year ended June |\n",
       "| Marlborough | Registered dogs — Total registered dogs | Heading                        |   521 | 2019 | Year ended June |\n",
       "| Marlborough | Registered dogs — Total registered dogs | Huntaway                       |   633 | 2019 | Year ended June |\n",
       "| Marlborough | Registered dogs — Total registered dogs | Maltese                        |    77 | 2019 | Year ended June |\n",
       "| Marlborough | Registered dogs — Total registered dogs | Perro de Presa Canario         |     0 | 2019 | Year ended June |\n",
       "| Marlborough | Registered dogs — Total registered dogs | Poodle, Miniature              |    42 | 2019 | Year ended June |\n",
       "| Marlborough | Registered dogs — Total registered dogs | Poodle, Toy                    |    29 | 2019 | Year ended June |\n",
       "| Marlborough | Registered dogs — Total registered dogs | Retriever, Golden              |   132 | 2019 | Year ended June |\n",
       "| Marlborough | Registered dogs — Total registered dogs | Retriever, Labrador            |   624 | 2019 | Year ended June |\n",
       "| Marlborough | Registered dogs — Total registered dogs | Rottweiler                     |    86 | 2019 | Year ended June |\n",
       "| Marlborough | Registered dogs — Total registered dogs | Schnauzer, Miniature           |   136 | 2019 | Year ended June |\n",
       "| Marlborough | Registered dogs — Total registered dogs | Shepherd, German               |   128 | 2019 | Year ended June |\n",
       "| Marlborough | Registered dogs — Total registered dogs | Shih Tzu                       |    42 | 2019 | Year ended June |\n",
       "| Marlborough | Registered dogs — Total registered dogs | Spaniel, Cavalier King Charles |    52 | 2019 | Year ended June |\n",
       "| Marlborough | Registered dogs — Total registered dogs | Spaniel, Cocker                |   102 | 2019 | Year ended June |\n",
       "| Marlborough | Registered dogs — Total registered dogs | Spaniel, English Springer      |    65 | 2019 | Year ended June |\n",
       "| Marlborough | Registered dogs — Total registered dogs | Terrier, American Pit Bull     |    15 | 2019 | Year ended June |\n",
       "| Marlborough | Registered dogs — Total registered dogs | Terrier, Fox (Smooth)          |   266 | 2019 | Year ended June |\n",
       "| Marlborough | Registered dogs — Total registered dogs | Terrier, Jack Russell          |   379 | 2019 | Year ended June |\n",
       "| Marlborough | Registered dogs — Total registered dogs | Terrier, Staffordshire Bull    |   168 | 2019 | Year ended June |\n",
       "| Marlborough | Registered dogs — Total registered dogs | Terrier, West Highland White   |    41 | 2019 | Year ended June |\n",
       "| Marlborough | Registered dogs — Total registered dogs | Tosa, Japanese                 |     0 | 2019 | Year ended June |\n",
       "| Marlborough | Registered dogs — Total registered dogs | Other pure breeds              |  1442 | 2019 | Year ended June |\n",
       "| Marlborough | Registered dogs — Total registered dogs | All cross breeds               |  4200 | 2019 | Year ended June |\n",
       "\n"
      ],
      "text/plain": [
       "   Territorial Authority Measure                                \n",
       "1  Marlborough           Registered dogs — Total registered dogs\n",
       "2  Marlborough           Registered dogs — Total registered dogs\n",
       "3  Marlborough           Registered dogs — Total registered dogs\n",
       "4  Marlborough           Registered dogs — Total registered dogs\n",
       "5  Marlborough           Registered dogs — Total registered dogs\n",
       "6  Marlborough           Registered dogs — Total registered dogs\n",
       "7  Marlborough           Registered dogs — Total registered dogs\n",
       "8  Marlborough           Registered dogs — Total registered dogs\n",
       "9  Marlborough           Registered dogs — Total registered dogs\n",
       "10 Marlborough           Registered dogs — Total registered dogs\n",
       "11 Marlborough           Registered dogs — Total registered dogs\n",
       "12 Marlborough           Registered dogs — Total registered dogs\n",
       "13 Marlborough           Registered dogs — Total registered dogs\n",
       "14 Marlborough           Registered dogs — Total registered dogs\n",
       "15 Marlborough           Registered dogs — Total registered dogs\n",
       "16 Marlborough           Registered dogs — Total registered dogs\n",
       "17 Marlborough           Registered dogs — Total registered dogs\n",
       "18 Marlborough           Registered dogs — Total registered dogs\n",
       "19 Marlborough           Registered dogs — Total registered dogs\n",
       "20 Marlborough           Registered dogs — Total registered dogs\n",
       "21 Marlborough           Registered dogs — Total registered dogs\n",
       "22 Marlborough           Registered dogs — Total registered dogs\n",
       "23 Marlborough           Registered dogs — Total registered dogs\n",
       "24 Marlborough           Registered dogs — Total registered dogs\n",
       "25 Marlborough           Registered dogs — Total registered dogs\n",
       "26 Marlborough           Registered dogs — Total registered dogs\n",
       "27 Marlborough           Registered dogs — Total registered dogs\n",
       "28 Marlborough           Registered dogs — Total registered dogs\n",
       "29 Marlborough           Registered dogs — Total registered dogs\n",
       "30 Marlborough           Registered dogs — Total registered dogs\n",
       "31 Marlborough           Registered dogs — Total registered dogs\n",
       "32 Marlborough           Registered dogs — Total registered dogs\n",
       "33 Marlborough           Registered dogs — Total registered dogs\n",
       "34 Marlborough           Registered dogs — Total registered dogs\n",
       "35 Marlborough           Registered dogs — Total registered dogs\n",
       "36 Marlborough           Registered dogs — Total registered dogs\n",
       "37 Marlborough           Registered dogs — Total registered dogs\n",
       "38 Marlborough           Registered dogs — Total registered dogs\n",
       "   Category                       Value Date DateLabel      \n",
       "1  All pure and cross breeds      10444 2019 Year ended June\n",
       "2  All pure breeds                 6244 2019 Year ended June\n",
       "3  Beagle                            21 2019 Year ended June\n",
       "4  Bichon Frise                     140 2019 Year ended June\n",
       "5  Boxer                             80 2019 Year ended June\n",
       "6  Brazilian Fila                     0 2019 Year ended June\n",
       "7  Cattle, Australian                50 2019 Year ended June\n",
       "8  Chihuahua, Long Coat              49 2019 Year ended June\n",
       "9  Chihuahua, Smooth Coat            34 2019 Year ended June\n",
       "10 Collie, Bearded                  116 2019 Year ended June\n",
       "11 Collie, Border                   366 2019 Year ended June\n",
       "12 Collie, Rough                     30 2019 Year ended June\n",
       "13 Collie, Smooth                   332 2019 Year ended June\n",
       "14 Dogo Argentino                     0 2019 Year ended June\n",
       "15 Greyhound                         46 2019 Year ended June\n",
       "16 Heading                          521 2019 Year ended June\n",
       "17 Huntaway                         633 2019 Year ended June\n",
       "18 Maltese                           77 2019 Year ended June\n",
       "19 Perro de Presa Canario             0 2019 Year ended June\n",
       "20 Poodle, Miniature                 42 2019 Year ended June\n",
       "21 Poodle, Toy                       29 2019 Year ended June\n",
       "22 Retriever, Golden                132 2019 Year ended June\n",
       "23 Retriever, Labrador              624 2019 Year ended June\n",
       "24 Rottweiler                        86 2019 Year ended June\n",
       "25 Schnauzer, Miniature             136 2019 Year ended June\n",
       "26 Shepherd, German                 128 2019 Year ended June\n",
       "27 Shih Tzu                          42 2019 Year ended June\n",
       "28 Spaniel, Cavalier King Charles    52 2019 Year ended June\n",
       "29 Spaniel, Cocker                  102 2019 Year ended June\n",
       "30 Spaniel, English Springer         65 2019 Year ended June\n",
       "31 Terrier, American Pit Bull        15 2019 Year ended June\n",
       "32 Terrier, Fox (Smooth)            266 2019 Year ended June\n",
       "33 Terrier, Jack Russell            379 2019 Year ended June\n",
       "34 Terrier, Staffordshire Bull      168 2019 Year ended June\n",
       "35 Terrier, West Highland White      41 2019 Year ended June\n",
       "36 Tosa, Japanese                     0 2019 Year ended June\n",
       "37 Other pure breeds               1442 2019 Year ended June\n",
       "38 All cross breeds                4200 2019 Year ended June"
      ]
     },
     "metadata": {},
     "output_type": "display_data"
    }
   ],
   "source": [
    "Marlborough_dogs_df"
   ]
  },
  {
   "cell_type": "code",
   "execution_count": 86,
   "metadata": {},
   "outputs": [],
   "source": [
    "Marlborough_population_df = data.frame()"
   ]
  },
  {
   "cell_type": "code",
   "execution_count": 291,
   "metadata": {},
   "outputs": [],
   "source": [
    "for (i in 1:length(Marlborough_file_list)){\n",
    "  data = read.csv(Marlborough_file_list[i])\n",
    "  #e.g. if we wanted household information we would change the topic to be \"Households\" below\n",
    "  demo_data = data[data$Topic == \"Demographics\",]\n",
    "\n",
    "  demo_data$Topic = NULL\n",
    "  demo_data$NullReason = NULL\n",
    "  demo_data$Source = NULL\n",
    "  demo_data$ValueUnit = NULL\n",
    "  demo_data$ValueLabel = NULL  \n",
    "\n",
    "  population = demo_data[demo_data$Measure == \"Population - residents at 2013 census\",]  \n",
    "  Marlborough_population_df <- rbind(Marlborough_population_df, population) #for each iteration, bind the new data to the building dataset\n",
    "  #dataset <- rbind(dataset, population)  \n",
    "}\n",
    "#population_df"
   ]
  },
  {
   "cell_type": "code",
   "execution_count": 292,
   "metadata": {},
   "outputs": [
    {
     "data": {
      "text/html": [
       "<table>\n",
       "<caption>A data.frame: 2 × 6</caption>\n",
       "<thead>\n",
       "\t<tr><th scope=col>Territorial.Authority</th><th scope=col>Measure</th><th scope=col>Category</th><th scope=col>Value</th><th scope=col>Date</th><th scope=col>DateLabel</th></tr>\n",
       "\t<tr><th scope=col>&lt;chr&gt;</th><th scope=col>&lt;chr&gt;</th><th scope=col>&lt;chr&gt;</th><th scope=col>&lt;dbl&gt;</th><th scope=col>&lt;chr&gt;</th><th scope=col>&lt;chr&gt;</th></tr>\n",
       "</thead>\n",
       "<tbody>\n",
       "\t<tr><td>Marlborough</td><td>Population - residents at 2013 census</td><td>Total people</td><td>43416</td><td>2013</td><td>Census Year</td></tr>\n",
       "\t<tr><td>Marlborough</td><td>Population - residents at 2013 census</td><td>Total people</td><td>43416</td><td>2013</td><td>Census Year</td></tr>\n",
       "</tbody>\n",
       "</table>\n"
      ],
      "text/latex": [
       "A data.frame: 2 × 6\n",
       "\\begin{tabular}{llllll}\n",
       " Territorial.Authority & Measure & Category & Value & Date & DateLabel\\\\\n",
       " <chr> & <chr> & <chr> & <dbl> & <chr> & <chr>\\\\\n",
       "\\hline\n",
       "\t Marlborough & Population - residents at 2013 census & Total people & 43416 & 2013 & Census Year\\\\\n",
       "\t Marlborough & Population - residents at 2013 census & Total people & 43416 & 2013 & Census Year\\\\\n",
       "\\end{tabular}\n"
      ],
      "text/markdown": [
       "\n",
       "A data.frame: 2 × 6\n",
       "\n",
       "| Territorial.Authority &lt;chr&gt; | Measure &lt;chr&gt; | Category &lt;chr&gt; | Value &lt;dbl&gt; | Date &lt;chr&gt; | DateLabel &lt;chr&gt; |\n",
       "|---|---|---|---|---|---|\n",
       "| Marlborough | Population - residents at 2013 census | Total people | 43416 | 2013 | Census Year |\n",
       "| Marlborough | Population - residents at 2013 census | Total people | 43416 | 2013 | Census Year |\n",
       "\n"
      ],
      "text/plain": [
       "  Territorial.Authority Measure                               Category    \n",
       "1 Marlborough           Population - residents at 2013 census Total people\n",
       "2 Marlborough           Population - residents at 2013 census Total people\n",
       "  Value Date DateLabel  \n",
       "1 43416 2013 Census Year\n",
       "2 43416 2013 Census Year"
      ]
     },
     "metadata": {},
     "output_type": "display_data"
    }
   ],
   "source": [
    "Marlborough_population_df"
   ]
  },
  {
   "cell_type": "code",
   "execution_count": 295,
   "metadata": {},
   "outputs": [],
   "source": [
    "Marlborough_homes_df  = data.frame()"
   ]
  },
  {
   "cell_type": "code",
   "execution_count": 296,
   "metadata": {},
   "outputs": [],
   "source": [
    "for (i in 1:length(Marlborough_file_list)){\n",
    "  data = read.csv(Marlborough_file_list[i])\n",
    "  #e.g. if we wanted household information we would change the topic to be \"Households\" below\n",
    "  home_data = data[data$Topic == \"Households\",]\n",
    "\n",
    "  home_data$Topic = NULL\n",
    "  home_data$NullReason = NULL\n",
    "  home_data$Source = NULL\n",
    "  home_data$ValueUnit = NULL\n",
    "  home_data$ValueLabel = NULL  \n",
    "\n",
    "  ownership = home_data[home_data$Measure == \"Home ownership by households\",]  \n",
    "  Marlborough_homes_df <- rbind(Marlborough_homes_df, ownership) #for each iteration, bind the new data to the building dataset\n",
    "}"
   ]
  },
  {
   "cell_type": "code",
   "execution_count": 297,
   "metadata": {},
   "outputs": [
    {
     "data": {
      "text/html": [
       "<table>\n",
       "<caption>A data.frame: 4 × 6</caption>\n",
       "<thead>\n",
       "\t<tr><th></th><th scope=col>Territorial.Authority</th><th scope=col>Measure</th><th scope=col>Category</th><th scope=col>Value</th><th scope=col>Date</th><th scope=col>DateLabel</th></tr>\n",
       "\t<tr><th></th><th scope=col>&lt;chr&gt;</th><th scope=col>&lt;chr&gt;</th><th scope=col>&lt;chr&gt;</th><th scope=col>&lt;dbl&gt;</th><th scope=col>&lt;chr&gt;</th><th scope=col>&lt;chr&gt;</th></tr>\n",
       "</thead>\n",
       "<tbody>\n",
       "\t<tr><th scope=row>220</th><td>Marlborough</td><td>Home ownership by households</td><td>Dwelling Owned or Partly Owned                   </td><td>9249</td><td>2013</td><td>Census Year</td></tr>\n",
       "\t<tr><th scope=row>221</th><td>Marlborough</td><td>Home ownership by households</td><td>Dwelling Not Owned and Not Held in a Family Trust</td><td>4863</td><td>2013</td><td>Census Year</td></tr>\n",
       "\t<tr><th scope=row>222</th><td>Marlborough</td><td>Home ownership by households</td><td>Dwelling Held in a Family Trust                  </td><td>2607</td><td>2013</td><td>Census Year</td></tr>\n",
       "\t<tr><th scope=row>223</th><td>Marlborough</td><td>Home ownership by households</td><td>Not Elsewhere Included                           </td><td> 954</td><td>2013</td><td>Census Year</td></tr>\n",
       "</tbody>\n",
       "</table>\n"
      ],
      "text/latex": [
       "A data.frame: 4 × 6\n",
       "\\begin{tabular}{r|llllll}\n",
       "  & Territorial.Authority & Measure & Category & Value & Date & DateLabel\\\\\n",
       "  & <chr> & <chr> & <chr> & <dbl> & <chr> & <chr>\\\\\n",
       "\\hline\n",
       "\t220 & Marlborough & Home ownership by households & Dwelling Owned or Partly Owned                    & 9249 & 2013 & Census Year\\\\\n",
       "\t221 & Marlborough & Home ownership by households & Dwelling Not Owned and Not Held in a Family Trust & 4863 & 2013 & Census Year\\\\\n",
       "\t222 & Marlborough & Home ownership by households & Dwelling Held in a Family Trust                   & 2607 & 2013 & Census Year\\\\\n",
       "\t223 & Marlborough & Home ownership by households & Not Elsewhere Included                            &  954 & 2013 & Census Year\\\\\n",
       "\\end{tabular}\n"
      ],
      "text/markdown": [
       "\n",
       "A data.frame: 4 × 6\n",
       "\n",
       "| <!--/--> | Territorial.Authority &lt;chr&gt; | Measure &lt;chr&gt; | Category &lt;chr&gt; | Value &lt;dbl&gt; | Date &lt;chr&gt; | DateLabel &lt;chr&gt; |\n",
       "|---|---|---|---|---|---|---|\n",
       "| 220 | Marlborough | Home ownership by households | Dwelling Owned or Partly Owned                    | 9249 | 2013 | Census Year |\n",
       "| 221 | Marlborough | Home ownership by households | Dwelling Not Owned and Not Held in a Family Trust | 4863 | 2013 | Census Year |\n",
       "| 222 | Marlborough | Home ownership by households | Dwelling Held in a Family Trust                   | 2607 | 2013 | Census Year |\n",
       "| 223 | Marlborough | Home ownership by households | Not Elsewhere Included                            |  954 | 2013 | Census Year |\n",
       "\n"
      ],
      "text/plain": [
       "    Territorial.Authority Measure                     \n",
       "220 Marlborough           Home ownership by households\n",
       "221 Marlborough           Home ownership by households\n",
       "222 Marlborough           Home ownership by households\n",
       "223 Marlborough           Home ownership by households\n",
       "    Category                                          Value Date DateLabel  \n",
       "220 Dwelling Owned or Partly Owned                    9249  2013 Census Year\n",
       "221 Dwelling Not Owned and Not Held in a Family Trust 4863  2013 Census Year\n",
       "222 Dwelling Held in a Family Trust                   2607  2013 Census Year\n",
       "223 Not Elsewhere Included                             954  2013 Census Year"
      ]
     },
     "metadata": {},
     "output_type": "display_data"
    }
   ],
   "source": [
    "Marlborough_homes_df"
   ]
  },
  {
   "cell_type": "code",
   "execution_count": 298,
   "metadata": {},
   "outputs": [],
   "source": [
    "Marlborough_median_income_df = data.frame()"
   ]
  },
  {
   "cell_type": "code",
   "execution_count": 299,
   "metadata": {},
   "outputs": [],
   "source": [
    "for (i in 1:length(Marlborough_file_list)){\n",
    "  data = read.csv(Marlborough_file_list[i])\n",
    "  #e.g. if we wanted household information we would change the topic to be \"Households\" below\n",
    "  income_data = data[data$Topic == \"Income\",]\n",
    "\n",
    "  income_data$Topic = NULL\n",
    "  income_data$NullReason = NULL\n",
    "  income_data$Source = NULL\n",
    "  income_data$ValueUnit = NULL\n",
    "  income_data$ValueLabel = NULL  \n",
    "\n",
    "  personal_income = income_data[income_data$Measure == \"Median personal income ($)\",]  \n",
    "  Marlborough_median_income_df <- rbind(Marlborough_median_income_df, personal_income) #for each iteration, bind the new data to the building dataset\n",
    "}"
   ]
  },
  {
   "cell_type": "code",
   "execution_count": 300,
   "metadata": {},
   "outputs": [
    {
     "data": {
      "text/html": [
       "<table>\n",
       "<caption>A data.frame: 1 × 6</caption>\n",
       "<thead>\n",
       "\t<tr><th></th><th scope=col>Territorial.Authority</th><th scope=col>Measure</th><th scope=col>Category</th><th scope=col>Value</th><th scope=col>Date</th><th scope=col>DateLabel</th></tr>\n",
       "\t<tr><th></th><th scope=col>&lt;chr&gt;</th><th scope=col>&lt;chr&gt;</th><th scope=col>&lt;chr&gt;</th><th scope=col>&lt;dbl&gt;</th><th scope=col>&lt;chr&gt;</th><th scope=col>&lt;chr&gt;</th></tr>\n",
       "</thead>\n",
       "<tbody>\n",
       "\t<tr><th scope=row>128</th><td>Marlborough</td><td>Median personal income ($)</td><td></td><td>27900</td><td>2013</td><td>Census Year</td></tr>\n",
       "</tbody>\n",
       "</table>\n"
      ],
      "text/latex": [
       "A data.frame: 1 × 6\n",
       "\\begin{tabular}{r|llllll}\n",
       "  & Territorial.Authority & Measure & Category & Value & Date & DateLabel\\\\\n",
       "  & <chr> & <chr> & <chr> & <dbl> & <chr> & <chr>\\\\\n",
       "\\hline\n",
       "\t128 & Marlborough & Median personal income (\\$) &  & 27900 & 2013 & Census Year\\\\\n",
       "\\end{tabular}\n"
      ],
      "text/markdown": [
       "\n",
       "A data.frame: 1 × 6\n",
       "\n",
       "| <!--/--> | Territorial.Authority &lt;chr&gt; | Measure &lt;chr&gt; | Category &lt;chr&gt; | Value &lt;dbl&gt; | Date &lt;chr&gt; | DateLabel &lt;chr&gt; |\n",
       "|---|---|---|---|---|---|---|\n",
       "| 128 | Marlborough | Median personal income ($) | <!----> | 27900 | 2013 | Census Year |\n",
       "\n"
      ],
      "text/plain": [
       "    Territorial.Authority Measure                    Category Value Date\n",
       "128 Marlborough           Median personal income ($)          27900 2013\n",
       "    DateLabel  \n",
       "128 Census Year"
      ]
     },
     "metadata": {},
     "output_type": "display_data"
    }
   ],
   "source": [
    "Marlborough_median_income_df"
   ]
  },
  {
   "cell_type": "code",
   "execution_count": 301,
   "metadata": {},
   "outputs": [],
   "source": [
    "Marlborough_income_bracket_df = data.frame()"
   ]
  },
  {
   "cell_type": "code",
   "execution_count": 302,
   "metadata": {},
   "outputs": [],
   "source": [
    "for (i in 1:length(Marlborough_file_list)){\n",
    "  data = read.csv(Marlborough_file_list[i])\n",
    "  #e.g. if we wanted household information we would change the topic to be \"Households\" below\n",
    "  income_bracket_data = data[data$Topic == \"Income\",]\n",
    "\n",
    "  income_bracket_data$Topic = NULL\n",
    "  income_bracket_data$NullReason = NULL\n",
    "  income_bracket_data$Source = NULL\n",
    "  income_bracket_data$ValueUnit = NULL\n",
    "  income_bracket_data$ValueLabel = NULL  \n",
    "\n",
    "  bracket_income = income_bracket_data[income_bracket_data$Measure == \"Number of families in income bracket\",]  \n",
    "  Marlborough_income_bracket_df <- rbind(Marlborough_income_bracket_df, bracket_income) #for each iteration, bind the new data to the building dataset\n",
    "}"
   ]
  },
  {
   "cell_type": "code",
   "execution_count": 303,
   "metadata": {},
   "outputs": [
    {
     "data": {
      "text/html": [
       "<table>\n",
       "<caption>A data.frame: 14 × 6</caption>\n",
       "<thead>\n",
       "\t<tr><th></th><th scope=col>Territorial.Authority</th><th scope=col>Measure</th><th scope=col>Category</th><th scope=col>Value</th><th scope=col>Date</th><th scope=col>DateLabel</th></tr>\n",
       "\t<tr><th></th><th scope=col>&lt;chr&gt;</th><th scope=col>&lt;chr&gt;</th><th scope=col>&lt;chr&gt;</th><th scope=col>&lt;dbl&gt;</th><th scope=col>&lt;chr&gt;</th><th scope=col>&lt;chr&gt;</th></tr>\n",
       "</thead>\n",
       "<tbody>\n",
       "\t<tr><th scope=row>158</th><td>Marlborough</td><td>Number of families in income bracket</td><td>$20,000 and under  </td><td> 645.000000</td><td>2013</td><td>Census Year</td></tr>\n",
       "\t<tr><th scope=row>159</th><td>Marlborough</td><td>Number of families in income bracket</td><td>$20,001 to $30,000 </td><td> 942.000000</td><td>2013</td><td>Census Year</td></tr>\n",
       "\t<tr><th scope=row>160</th><td>Marlborough</td><td>Number of families in income bracket</td><td>$30,001 to $50,000 </td><td>2373.000000</td><td>2013</td><td>Census Year</td></tr>\n",
       "\t<tr><th scope=row>161</th><td>Marlborough</td><td>Number of families in income bracket</td><td>$50,001 to $70,000 </td><td>2094.000000</td><td>2013</td><td>Census Year</td></tr>\n",
       "\t<tr><th scope=row>162</th><td>Marlborough</td><td>Number of families in income bracket</td><td>$70,001 to $100,000</td><td>2679.000000</td><td>2013</td><td>Census Year</td></tr>\n",
       "\t<tr><th scope=row>163</th><td>Marlborough</td><td>Number of families in income bracket</td><td>$100,000 and over  </td><td>2580.000000</td><td>2013</td><td>Census Year</td></tr>\n",
       "\t<tr><th scope=row>164</th><td>Marlborough</td><td>Number of families in income bracket</td><td>Not stated         </td><td>1248.000000</td><td>2013</td><td>Census Year</td></tr>\n",
       "\t<tr><th scope=row>165</th><td>Marlborough</td><td>Number of families in income bracket</td><td>$20,000 and under  </td><td>   5.134941</td><td>2013</td><td>Census Year</td></tr>\n",
       "\t<tr><th scope=row>166</th><td>Marlborough</td><td>Number of families in income bracket</td><td>$20,001 to $30,000 </td><td>   7.499403</td><td>2013</td><td>Census Year</td></tr>\n",
       "\t<tr><th scope=row>167</th><td>Marlborough</td><td>Number of families in income bracket</td><td>$30,001 to $50,000 </td><td>  18.891808</td><td>2013</td><td>Census Year</td></tr>\n",
       "\t<tr><th scope=row>168</th><td>Marlborough</td><td>Number of families in income bracket</td><td>$50,001 to $70,000 </td><td>  16.670647</td><td>2013</td><td>Census Year</td></tr>\n",
       "\t<tr><th scope=row>169</th><td>Marlborough</td><td>Number of families in income bracket</td><td>$70,001 to $100,000</td><td>  21.327920</td><td>2013</td><td>Census Year</td></tr>\n",
       "\t<tr><th scope=row>170</th><td>Marlborough</td><td>Number of families in income bracket</td><td>$100,000 and over  </td><td>  20.539766</td><td>2013</td><td>Census Year</td></tr>\n",
       "\t<tr><th scope=row>171</th><td>Marlborough</td><td>Number of families in income bracket</td><td>Not stated         </td><td>   9.935515</td><td>2013</td><td>Census Year</td></tr>\n",
       "</tbody>\n",
       "</table>\n"
      ],
      "text/latex": [
       "A data.frame: 14 × 6\n",
       "\\begin{tabular}{r|llllll}\n",
       "  & Territorial.Authority & Measure & Category & Value & Date & DateLabel\\\\\n",
       "  & <chr> & <chr> & <chr> & <dbl> & <chr> & <chr>\\\\\n",
       "\\hline\n",
       "\t158 & Marlborough & Number of families in income bracket & \\$20,000 and under   &  645.000000 & 2013 & Census Year\\\\\n",
       "\t159 & Marlborough & Number of families in income bracket & \\$20,001 to \\$30,000  &  942.000000 & 2013 & Census Year\\\\\n",
       "\t160 & Marlborough & Number of families in income bracket & \\$30,001 to \\$50,000  & 2373.000000 & 2013 & Census Year\\\\\n",
       "\t161 & Marlborough & Number of families in income bracket & \\$50,001 to \\$70,000  & 2094.000000 & 2013 & Census Year\\\\\n",
       "\t162 & Marlborough & Number of families in income bracket & \\$70,001 to \\$100,000 & 2679.000000 & 2013 & Census Year\\\\\n",
       "\t163 & Marlborough & Number of families in income bracket & \\$100,000 and over   & 2580.000000 & 2013 & Census Year\\\\\n",
       "\t164 & Marlborough & Number of families in income bracket & Not stated          & 1248.000000 & 2013 & Census Year\\\\\n",
       "\t165 & Marlborough & Number of families in income bracket & \\$20,000 and under   &    5.134941 & 2013 & Census Year\\\\\n",
       "\t166 & Marlborough & Number of families in income bracket & \\$20,001 to \\$30,000  &    7.499403 & 2013 & Census Year\\\\\n",
       "\t167 & Marlborough & Number of families in income bracket & \\$30,001 to \\$50,000  &   18.891808 & 2013 & Census Year\\\\\n",
       "\t168 & Marlborough & Number of families in income bracket & \\$50,001 to \\$70,000  &   16.670647 & 2013 & Census Year\\\\\n",
       "\t169 & Marlborough & Number of families in income bracket & \\$70,001 to \\$100,000 &   21.327920 & 2013 & Census Year\\\\\n",
       "\t170 & Marlborough & Number of families in income bracket & \\$100,000 and over   &   20.539766 & 2013 & Census Year\\\\\n",
       "\t171 & Marlborough & Number of families in income bracket & Not stated          &    9.935515 & 2013 & Census Year\\\\\n",
       "\\end{tabular}\n"
      ],
      "text/markdown": [
       "\n",
       "A data.frame: 14 × 6\n",
       "\n",
       "| <!--/--> | Territorial.Authority &lt;chr&gt; | Measure &lt;chr&gt; | Category &lt;chr&gt; | Value &lt;dbl&gt; | Date &lt;chr&gt; | DateLabel &lt;chr&gt; |\n",
       "|---|---|---|---|---|---|---|\n",
       "| 158 | Marlborough | Number of families in income bracket | $20,000 and under   |  645.000000 | 2013 | Census Year |\n",
       "| 159 | Marlborough | Number of families in income bracket | $20,001 to $30,000  |  942.000000 | 2013 | Census Year |\n",
       "| 160 | Marlborough | Number of families in income bracket | $30,001 to $50,000  | 2373.000000 | 2013 | Census Year |\n",
       "| 161 | Marlborough | Number of families in income bracket | $50,001 to $70,000  | 2094.000000 | 2013 | Census Year |\n",
       "| 162 | Marlborough | Number of families in income bracket | $70,001 to $100,000 | 2679.000000 | 2013 | Census Year |\n",
       "| 163 | Marlborough | Number of families in income bracket | $100,000 and over   | 2580.000000 | 2013 | Census Year |\n",
       "| 164 | Marlborough | Number of families in income bracket | Not stated          | 1248.000000 | 2013 | Census Year |\n",
       "| 165 | Marlborough | Number of families in income bracket | $20,000 and under   |    5.134941 | 2013 | Census Year |\n",
       "| 166 | Marlborough | Number of families in income bracket | $20,001 to $30,000  |    7.499403 | 2013 | Census Year |\n",
       "| 167 | Marlborough | Number of families in income bracket | $30,001 to $50,000  |   18.891808 | 2013 | Census Year |\n",
       "| 168 | Marlborough | Number of families in income bracket | $50,001 to $70,000  |   16.670647 | 2013 | Census Year |\n",
       "| 169 | Marlborough | Number of families in income bracket | $70,001 to $100,000 |   21.327920 | 2013 | Census Year |\n",
       "| 170 | Marlborough | Number of families in income bracket | $100,000 and over   |   20.539766 | 2013 | Census Year |\n",
       "| 171 | Marlborough | Number of families in income bracket | Not stated          |    9.935515 | 2013 | Census Year |\n",
       "\n"
      ],
      "text/plain": [
       "    Territorial.Authority Measure                             \n",
       "158 Marlborough           Number of families in income bracket\n",
       "159 Marlborough           Number of families in income bracket\n",
       "160 Marlborough           Number of families in income bracket\n",
       "161 Marlborough           Number of families in income bracket\n",
       "162 Marlborough           Number of families in income bracket\n",
       "163 Marlborough           Number of families in income bracket\n",
       "164 Marlborough           Number of families in income bracket\n",
       "165 Marlborough           Number of families in income bracket\n",
       "166 Marlborough           Number of families in income bracket\n",
       "167 Marlborough           Number of families in income bracket\n",
       "168 Marlborough           Number of families in income bracket\n",
       "169 Marlborough           Number of families in income bracket\n",
       "170 Marlborough           Number of families in income bracket\n",
       "171 Marlborough           Number of families in income bracket\n",
       "    Category            Value       Date DateLabel  \n",
       "158 $20,000 and under    645.000000 2013 Census Year\n",
       "159 $20,001 to $30,000   942.000000 2013 Census Year\n",
       "160 $30,001 to $50,000  2373.000000 2013 Census Year\n",
       "161 $50,001 to $70,000  2094.000000 2013 Census Year\n",
       "162 $70,001 to $100,000 2679.000000 2013 Census Year\n",
       "163 $100,000 and over   2580.000000 2013 Census Year\n",
       "164 Not stated          1248.000000 2013 Census Year\n",
       "165 $20,000 and under      5.134941 2013 Census Year\n",
       "166 $20,001 to $30,000     7.499403 2013 Census Year\n",
       "167 $30,001 to $50,000    18.891808 2013 Census Year\n",
       "168 $50,001 to $70,000    16.670647 2013 Census Year\n",
       "169 $70,001 to $100,000   21.327920 2013 Census Year\n",
       "170 $100,000 and over     20.539766 2013 Census Year\n",
       "171 Not stated             9.935515 2013 Census Year"
      ]
     },
     "metadata": {},
     "output_type": "display_data"
    }
   ],
   "source": [
    "Marlborough_income_bracket_df"
   ]
  },
  {
   "cell_type": "markdown",
   "metadata": {},
   "source": [
    "## **Marlborough Data Frames:**\n",
    "\n",
    " - Marlborough_dogs_df\n",
    " - Marlborough_population_df\n",
    " - Marlborough_homes_df\n",
    " - Marlborough_median_income_df\n",
    " - Marlborough_income_bracket_df"
   ]
  },
  {
   "cell_type": "code",
   "execution_count": 306,
   "metadata": {},
   "outputs": [
    {
     "data": {
      "text/html": [
       "'/Users/oscarevans/Desktop/Region_CSVs/Nelson'"
      ],
      "text/latex": [
       "'/Users/oscarevans/Desktop/Region\\_CSVs/Nelson'"
      ],
      "text/markdown": [
       "'/Users/oscarevans/Desktop/Region_CSVs/Nelson'"
      ],
      "text/plain": [
       "[1] \"/Users/oscarevans/Desktop/Region_CSVs/Nelson\""
      ]
     },
     "metadata": {},
     "output_type": "display_data"
    }
   ],
   "source": [
    "getwd()\n",
    "#set the working directory to the file that the region you're looking at is saved to\n",
    "setwd(\"/Users/oscarevans/Desktop/Region_CSVs/Nelson\")"
   ]
  },
  {
   "cell_type": "code",
   "execution_count": 307,
   "metadata": {},
   "outputs": [],
   "source": [
    "#Get the list of files that you're going to be reading from \n",
    "#se the path to be to the folder of the region that you're looking at\n",
    "Nelson_file_list <- list.files(path=\"/Users/oscarevans/Desktop/Region_CSVs/Nelson\")\n",
    "#change this above to be where the files are save on your computer"
   ]
  },
  {
   "cell_type": "code",
   "execution_count": 308,
   "metadata": {},
   "outputs": [],
   "source": [
    "#initiate a blank data frame, each iteration of the loop will append the data from the given file to this variable\n",
    "Nelson_dogs_df <- data.frame()"
   ]
  },
  {
   "cell_type": "code",
   "execution_count": 309,
   "metadata": {},
   "outputs": [
    {
     "name": "stderr",
     "output_type": "stream",
     "text": [
      "Parsed with column specification:\n",
      "cols(\n",
      "  `Territorial Authority` = \u001b[31mcol_character()\u001b[39m,\n",
      "  Topic = \u001b[31mcol_character()\u001b[39m,\n",
      "  Measure = \u001b[31mcol_character()\u001b[39m,\n",
      "  Category = \u001b[31mcol_character()\u001b[39m,\n",
      "  Value = \u001b[32mcol_double()\u001b[39m,\n",
      "  ValueUnit = \u001b[31mcol_character()\u001b[39m,\n",
      "  ValueLabel = \u001b[31mcol_character()\u001b[39m,\n",
      "  NullReason = \u001b[31mcol_character()\u001b[39m,\n",
      "  Date = \u001b[31mcol_character()\u001b[39m,\n",
      "  DateLabel = \u001b[31mcol_character()\u001b[39m,\n",
      "  Source = \u001b[31mcol_character()\u001b[39m\n",
      ")\n",
      "\n"
     ]
    }
   ],
   "source": [
    "#Specifically to get the information about pets this is the loop, \n",
    "#but can change the data[data$Topic == \"\"] to get it to be about other information in the csvs\n",
    "\n",
    "for (i in 1:length(Nelson_file_list)){\n",
    "  data = read_csv(Nelson_file_list[i])\n",
    "  #e.g. if we wanted household information we would change the topic to be \"Households\" below\n",
    "  pets_data = data[data$Topic == \"Pets\",]\n",
    "  #and then would just change these variables names to be something sensible like house_data\n",
    "  pets_data$Topic = NULL\n",
    "  pets_data$NullReason = NULL\n",
    "  pets_data$Source = NULL\n",
    "  pets_data$ValueUnit = NULL\n",
    "  pets_data$ValueLabel = NULL\n",
    "    \n",
    "    \n",
    "  #this is specific to the pets portion, this removes the acc data\n",
    "  pets_counts = pets_data[c(-1,-2,-3),]\n",
    "  pets_counts\n",
    "  \n",
    "  \n",
    "  #and if we wanted to get home ownership instead of dogs\n",
    "  #we'd change the measure == \"Home ownership by households\"\n",
    "  total_registered_dogs = pets_counts[pets_counts$Measure ==\"Registered dogs — Total registered dogs\",]\n",
    "    \n",
    "  \n",
    "  Nelson_dogs_df <- rbind(Nelson_dogs_df, total_registered_dogs) #for each iteration, bind the new data to the building dataset\n",
    "\n",
    "}"
   ]
  },
  {
   "cell_type": "code",
   "execution_count": 310,
   "metadata": {},
   "outputs": [],
   "source": [
    "Nelson_population_df = data.frame()"
   ]
  },
  {
   "cell_type": "code",
   "execution_count": 311,
   "metadata": {},
   "outputs": [],
   "source": [
    "for (i in 1:length(Nelson_file_list)){\n",
    "  data = read.csv(Nelson_file_list[i])\n",
    "  #e.g. if we wanted household information we would change the topic to be \"Households\" below\n",
    "  demo_data = data[data$Topic == \"Demographics\",]\n",
    "\n",
    "  demo_data$Topic = NULL\n",
    "  demo_data$NullReason = NULL\n",
    "  demo_data$Source = NULL\n",
    "  demo_data$ValueUnit = NULL\n",
    "  demo_data$ValueLabel = NULL  \n",
    "\n",
    "  population = demo_data[demo_data$Measure == \"Population - residents at 2013 census\",]  \n",
    "  Nelson_population_df <- rbind(Nelson_population_df, population) #for each iteration, bind the new data to the building dataset\n",
    "  #dataset <- rbind(dataset, population)  \n",
    "}\n",
    "#population_df"
   ]
  },
  {
   "cell_type": "code",
   "execution_count": 312,
   "metadata": {},
   "outputs": [],
   "source": [
    "Nelson_homes_df  = data.frame()"
   ]
  },
  {
   "cell_type": "code",
   "execution_count": 313,
   "metadata": {},
   "outputs": [],
   "source": [
    "for (i in 1:length(Nelson_file_list)){\n",
    "  data = read.csv(Nelson_file_list[i])\n",
    "  #e.g. if we wanted household information we would change the topic to be \"Households\" below\n",
    "  home_data = data[data$Topic == \"Households\",]\n",
    "\n",
    "  home_data$Topic = NULL\n",
    "  home_data$NullReason = NULL\n",
    "  home_data$Source = NULL\n",
    "  home_data$ValueUnit = NULL\n",
    "  home_data$ValueLabel = NULL  \n",
    "\n",
    "  ownership = home_data[home_data$Measure == \"Home ownership by households\",]  \n",
    "  Nelson_homes_df <- rbind(Nelson_homes_df, ownership) #for each iteration, bind the new data to the building dataset\n",
    "}"
   ]
  },
  {
   "cell_type": "code",
   "execution_count": 314,
   "metadata": {},
   "outputs": [],
   "source": [
    "Nelson_median_income_df = data.frame()"
   ]
  },
  {
   "cell_type": "code",
   "execution_count": 315,
   "metadata": {},
   "outputs": [],
   "source": [
    "for (i in 1:length(Nelson_file_list)){\n",
    "  data = read.csv(Nelson_file_list[i])\n",
    "  #e.g. if we wanted household information we would change the topic to be \"Households\" below\n",
    "  income_data = data[data$Topic == \"Income\",]\n",
    "\n",
    "  income_data$Topic = NULL\n",
    "  income_data$NullReason = NULL\n",
    "  income_data$Source = NULL\n",
    "  income_data$ValueUnit = NULL\n",
    "  income_data$ValueLabel = NULL  \n",
    "\n",
    "  personal_income = income_data[income_data$Measure == \"Median personal income ($)\",]  \n",
    "  Nelson_median_income_df <- rbind(Nelson_median_income_df, personal_income) #for each iteration, bind the new data to the building dataset\n",
    "}"
   ]
  },
  {
   "cell_type": "code",
   "execution_count": 316,
   "metadata": {},
   "outputs": [],
   "source": [
    "Nelson_income_bracket_df = data.frame()"
   ]
  },
  {
   "cell_type": "code",
   "execution_count": 317,
   "metadata": {},
   "outputs": [],
   "source": [
    "for (i in 1:length(Nelson_file_list)){\n",
    "  data = read.csv(Nelson_file_list[i])\n",
    "  #e.g. if we wanted household information we would change the topic to be \"Households\" below\n",
    "  income_bracket_data = data[data$Topic == \"Income\",]\n",
    "\n",
    "  income_bracket_data$Topic = NULL\n",
    "  income_bracket_data$NullReason = NULL\n",
    "  income_bracket_data$Source = NULL\n",
    "  income_bracket_data$ValueUnit = NULL\n",
    "  income_bracket_data$ValueLabel = NULL  \n",
    "\n",
    "  bracket_income = income_bracket_data[income_bracket_data$Measure == \"Number of families in income bracket\",]  \n",
    "  Nelson_income_bracket_df <- rbind(Nelson_income_bracket_df, bracket_income) #for each iteration, bind the new data to the building dataset\n",
    "}"
   ]
  },
  {
   "cell_type": "markdown",
   "metadata": {},
   "source": [
    "## **Nelson Data Frames:**\n",
    "\n",
    " - Nelson_dogs_df\n",
    " - Nelson_population_df\n",
    " - Nelson_homes_df\n",
    " - Nelson_median_income_df\n",
    " - Nelson_income_bracket_df"
   ]
  },
  {
   "cell_type": "code",
   "execution_count": 319,
   "metadata": {},
   "outputs": [
    {
     "data": {
      "text/html": [
       "'/Users/oscarevans/Desktop/Region_CSVs/Northland'"
      ],
      "text/latex": [
       "'/Users/oscarevans/Desktop/Region\\_CSVs/Northland'"
      ],
      "text/markdown": [
       "'/Users/oscarevans/Desktop/Region_CSVs/Northland'"
      ],
      "text/plain": [
       "[1] \"/Users/oscarevans/Desktop/Region_CSVs/Northland\""
      ]
     },
     "metadata": {},
     "output_type": "display_data"
    }
   ],
   "source": [
    "getwd()\n",
    "#set the working directory to the file that the region you're looking at is saved to\n",
    "setwd(\"/Users/oscarevans/Desktop/Region_CSVs/Northland\")"
   ]
  },
  {
   "cell_type": "code",
   "execution_count": 320,
   "metadata": {},
   "outputs": [],
   "source": [
    "#Get the list of files that you're going to be reading from \n",
    "#se the path to be to the folder of the region that you're looking at\n",
    "Northland_file_list <- list.files(path=\"/Users/oscarevans/Desktop/Region_CSVs/Northland\")\n",
    "#change this above to be where the files are save on your computer"
   ]
  },
  {
   "cell_type": "code",
   "execution_count": 321,
   "metadata": {},
   "outputs": [],
   "source": [
    "#initiate a blank data frame, each iteration of the loop will append the data from the given file to this variable\n",
    "Northland_dogs_df <- data.frame()"
   ]
  },
  {
   "cell_type": "code",
   "execution_count": 322,
   "metadata": {},
   "outputs": [
    {
     "name": "stderr",
     "output_type": "stream",
     "text": [
      "Parsed with column specification:\n",
      "cols(\n",
      "  `Territorial Authority` = \u001b[31mcol_character()\u001b[39m,\n",
      "  Topic = \u001b[31mcol_character()\u001b[39m,\n",
      "  Measure = \u001b[31mcol_character()\u001b[39m,\n",
      "  Category = \u001b[31mcol_character()\u001b[39m,\n",
      "  Value = \u001b[32mcol_double()\u001b[39m,\n",
      "  ValueUnit = \u001b[31mcol_character()\u001b[39m,\n",
      "  ValueLabel = \u001b[31mcol_character()\u001b[39m,\n",
      "  NullReason = \u001b[31mcol_character()\u001b[39m,\n",
      "  Date = \u001b[31mcol_character()\u001b[39m,\n",
      "  DateLabel = \u001b[31mcol_character()\u001b[39m,\n",
      "  Source = \u001b[31mcol_character()\u001b[39m\n",
      ")\n",
      "\n",
      "Parsed with column specification:\n",
      "cols(\n",
      "  `Territorial Authority` = \u001b[31mcol_character()\u001b[39m,\n",
      "  Topic = \u001b[31mcol_character()\u001b[39m,\n",
      "  Measure = \u001b[31mcol_character()\u001b[39m,\n",
      "  Category = \u001b[31mcol_character()\u001b[39m,\n",
      "  Value = \u001b[32mcol_double()\u001b[39m,\n",
      "  ValueUnit = \u001b[31mcol_character()\u001b[39m,\n",
      "  ValueLabel = \u001b[31mcol_character()\u001b[39m,\n",
      "  NullReason = \u001b[31mcol_character()\u001b[39m,\n",
      "  Date = \u001b[31mcol_character()\u001b[39m,\n",
      "  DateLabel = \u001b[31mcol_character()\u001b[39m,\n",
      "  Source = \u001b[31mcol_character()\u001b[39m\n",
      ")\n",
      "\n",
      "Parsed with column specification:\n",
      "cols(\n",
      "  `Territorial Authority` = \u001b[31mcol_character()\u001b[39m,\n",
      "  Topic = \u001b[31mcol_character()\u001b[39m,\n",
      "  Measure = \u001b[31mcol_character()\u001b[39m,\n",
      "  Category = \u001b[31mcol_character()\u001b[39m,\n",
      "  Value = \u001b[32mcol_double()\u001b[39m,\n",
      "  ValueUnit = \u001b[31mcol_character()\u001b[39m,\n",
      "  ValueLabel = \u001b[31mcol_character()\u001b[39m,\n",
      "  NullReason = \u001b[31mcol_character()\u001b[39m,\n",
      "  Date = \u001b[31mcol_character()\u001b[39m,\n",
      "  DateLabel = \u001b[31mcol_character()\u001b[39m,\n",
      "  Source = \u001b[31mcol_character()\u001b[39m\n",
      ")\n",
      "\n"
     ]
    }
   ],
   "source": [
    "#Specifically to get the information about pets this is the loop, \n",
    "#but can change the data[data$Topic == \"\"] to get it to be about other information in the csvs\n",
    "\n",
    "for (i in 1:length(Northland_file_list)){\n",
    "  data = read_csv(Northland_file_list[i])\n",
    "  #e.g. if we wanted household information we would change the topic to be \"Households\" below\n",
    "  pets_data = data[data$Topic == \"Pets\",]\n",
    "  #and then would just change these variables names to be something sensible like house_data\n",
    "  pets_data$Topic = NULL\n",
    "  pets_data$NullReason = NULL\n",
    "  pets_data$Source = NULL\n",
    "  pets_data$ValueUnit = NULL\n",
    "  pets_data$ValueLabel = NULL\n",
    "    \n",
    "    \n",
    "  #this is specific to the pets portion, this removes the acc data\n",
    "  pets_counts = pets_data[c(-1,-2,-3),]\n",
    "  pets_counts\n",
    "  \n",
    "  \n",
    "  #and if we wanted to get home ownership instead of dogs\n",
    "  #we'd change the measure == \"Home ownership by households\"\n",
    "  total_registered_dogs = pets_counts[pets_counts$Measure ==\"Registered dogs — Total registered dogs\",]\n",
    "    \n",
    "  \n",
    "  Northland_dogs_df <- rbind(Northland_dogs_df, total_registered_dogs) #for each iteration, bind the new data to the building dataset\n",
    "\n",
    "}"
   ]
  },
  {
   "cell_type": "code",
   "execution_count": 323,
   "metadata": {},
   "outputs": [],
   "source": [
    "Northland_population_df = data.frame()"
   ]
  },
  {
   "cell_type": "code",
   "execution_count": 324,
   "metadata": {},
   "outputs": [],
   "source": [
    "for (i in 1:length(Northland_file_list)){\n",
    "  data = read.csv(Northland_file_list[i])\n",
    "  #e.g. if we wanted household information we would change the topic to be \"Households\" below\n",
    "  demo_data = data[data$Topic == \"Demographics\",]\n",
    "\n",
    "  demo_data$Topic = NULL\n",
    "  demo_data$NullReason = NULL\n",
    "  demo_data$Source = NULL\n",
    "  demo_data$ValueUnit = NULL\n",
    "  demo_data$ValueLabel = NULL  \n",
    "\n",
    "  population = demo_data[demo_data$Measure == \"Population - residents at 2013 census\",]  \n",
    "  Northland_population_df <- rbind(Northland_population_df, population) #for each iteration, bind the new data to the building dataset\n",
    "  #dataset <- rbind(dataset, population)  \n",
    "}\n",
    "#population_df"
   ]
  },
  {
   "cell_type": "code",
   "execution_count": 325,
   "metadata": {},
   "outputs": [],
   "source": [
    "Northland_homes_df  = data.frame()"
   ]
  },
  {
   "cell_type": "code",
   "execution_count": 326,
   "metadata": {},
   "outputs": [],
   "source": [
    "for (i in 1:length(Northland_file_list)){\n",
    "  data = read.csv(Northland_file_list[i])\n",
    "  #e.g. if we wanted household information we would change the topic to be \"Households\" below\n",
    "  home_data = data[data$Topic == \"Households\",]\n",
    "\n",
    "  home_data$Topic = NULL\n",
    "  home_data$NullReason = NULL\n",
    "  home_data$Source = NULL\n",
    "  home_data$ValueUnit = NULL\n",
    "  home_data$ValueLabel = NULL  \n",
    "\n",
    "  ownership = home_data[home_data$Measure == \"Home ownership by households\",]  \n",
    "  Northland_homes_df <- rbind(Northland_homes_df, ownership) #for each iteration, bind the new data to the building dataset\n",
    "}"
   ]
  },
  {
   "cell_type": "code",
   "execution_count": 327,
   "metadata": {},
   "outputs": [],
   "source": [
    "Northland_median_income_df = data.frame()"
   ]
  },
  {
   "cell_type": "code",
   "execution_count": 328,
   "metadata": {},
   "outputs": [],
   "source": [
    "for (i in 1:length(Northland_file_list)){\n",
    "  data = read.csv(Northland_file_list[i])\n",
    "  #e.g. if we wanted household information we would change the topic to be \"Households\" below\n",
    "  income_data = data[data$Topic == \"Income\",]\n",
    "\n",
    "  income_data$Topic = NULL\n",
    "  income_data$NullReason = NULL\n",
    "  income_data$Source = NULL\n",
    "  income_data$ValueUnit = NULL\n",
    "  income_data$ValueLabel = NULL  \n",
    "\n",
    "  personal_income = income_data[income_data$Measure == \"Median personal income ($)\",]  \n",
    "  Northland_median_income_df <- rbind(Northland_median_income_df, personal_income) #for each iteration, bind the new data to the building dataset\n",
    "}"
   ]
  },
  {
   "cell_type": "code",
   "execution_count": 329,
   "metadata": {},
   "outputs": [],
   "source": [
    "Northland_income_bracket_df = data.frame()"
   ]
  },
  {
   "cell_type": "code",
   "execution_count": 330,
   "metadata": {},
   "outputs": [],
   "source": [
    "for (i in 1:length(Northland_file_list)){\n",
    "  data = read.csv(Northland_file_list[i])\n",
    "  #e.g. if we wanted household information we would change the topic to be \"Households\" below\n",
    "  income_bracket_data = data[data$Topic == \"Income\",]\n",
    "\n",
    "  income_bracket_data$Topic = NULL\n",
    "  income_bracket_data$NullReason = NULL\n",
    "  income_bracket_data$Source = NULL\n",
    "  income_bracket_data$ValueUnit = NULL\n",
    "  income_bracket_data$ValueLabel = NULL  \n",
    "\n",
    "  bracket_income = income_bracket_data[income_bracket_data$Measure == \"Number of families in income bracket\",]  \n",
    "  Northland_income_bracket_df <- rbind(Northland_income_bracket_df, bracket_income) #for each iteration, bind the new data to the building dataset\n",
    "}"
   ]
  },
  {
   "cell_type": "markdown",
   "metadata": {},
   "source": [
    "## **Northland Data Frames:**\n",
    "\n",
    " - Northland_dogs_df\n",
    " - Northland_population_df\n",
    " - Northland_homes_df\n",
    " - Northland_median_income_df\n",
    " - Northland_income_bracket_df"
   ]
  },
  {
   "cell_type": "code",
   "execution_count": 332,
   "metadata": {},
   "outputs": [
    {
     "data": {
      "text/html": [
       "'/Users/oscarevans/Desktop/Region_CSVs/Otago'"
      ],
      "text/latex": [
       "'/Users/oscarevans/Desktop/Region\\_CSVs/Otago'"
      ],
      "text/markdown": [
       "'/Users/oscarevans/Desktop/Region_CSVs/Otago'"
      ],
      "text/plain": [
       "[1] \"/Users/oscarevans/Desktop/Region_CSVs/Otago\""
      ]
     },
     "metadata": {},
     "output_type": "display_data"
    }
   ],
   "source": [
    "getwd()\n",
    "#set the working directory to the file that the region you're looking at is saved to\n",
    "setwd(\"/Users/oscarevans/Desktop/Region_CSVs/Otago\")"
   ]
  },
  {
   "cell_type": "code",
   "execution_count": 333,
   "metadata": {},
   "outputs": [],
   "source": [
    "#Get the list of files that you're going to be reading from \n",
    "#se the path to be to the folder of the region that you're looking at\n",
    "Otago_file_list <- list.files(path=\"/Users/oscarevans/Desktop/Region_CSVs/Otago\")\n",
    "#change this above to be where the files are save on your computer"
   ]
  },
  {
   "cell_type": "code",
   "execution_count": 334,
   "metadata": {},
   "outputs": [],
   "source": [
    "#initiate a blank data frame, each iteration of the loop will append the data from the given file to this variable\n",
    "Otago_dogs_df <- data.frame()"
   ]
  },
  {
   "cell_type": "code",
   "execution_count": 335,
   "metadata": {},
   "outputs": [
    {
     "name": "stderr",
     "output_type": "stream",
     "text": [
      "Parsed with column specification:\n",
      "cols(\n",
      "  `Territorial Authority` = \u001b[31mcol_character()\u001b[39m,\n",
      "  Topic = \u001b[31mcol_character()\u001b[39m,\n",
      "  Measure = \u001b[31mcol_character()\u001b[39m,\n",
      "  Category = \u001b[31mcol_character()\u001b[39m,\n",
      "  Value = \u001b[32mcol_double()\u001b[39m,\n",
      "  ValueUnit = \u001b[31mcol_character()\u001b[39m,\n",
      "  ValueLabel = \u001b[31mcol_character()\u001b[39m,\n",
      "  NullReason = \u001b[31mcol_character()\u001b[39m,\n",
      "  Date = \u001b[31mcol_character()\u001b[39m,\n",
      "  DateLabel = \u001b[31mcol_character()\u001b[39m,\n",
      "  Source = \u001b[31mcol_character()\u001b[39m\n",
      ")\n",
      "\n",
      "Parsed with column specification:\n",
      "cols(\n",
      "  `Territorial Authority` = \u001b[31mcol_character()\u001b[39m,\n",
      "  Topic = \u001b[31mcol_character()\u001b[39m,\n",
      "  Measure = \u001b[31mcol_character()\u001b[39m,\n",
      "  Category = \u001b[31mcol_character()\u001b[39m,\n",
      "  Value = \u001b[32mcol_double()\u001b[39m,\n",
      "  ValueUnit = \u001b[31mcol_character()\u001b[39m,\n",
      "  ValueLabel = \u001b[31mcol_character()\u001b[39m,\n",
      "  NullReason = \u001b[31mcol_character()\u001b[39m,\n",
      "  Date = \u001b[31mcol_character()\u001b[39m,\n",
      "  DateLabel = \u001b[31mcol_character()\u001b[39m,\n",
      "  Source = \u001b[31mcol_character()\u001b[39m\n",
      ")\n",
      "\n",
      "Parsed with column specification:\n",
      "cols(\n",
      "  `Territorial Authority` = \u001b[31mcol_character()\u001b[39m,\n",
      "  Topic = \u001b[31mcol_character()\u001b[39m,\n",
      "  Measure = \u001b[31mcol_character()\u001b[39m,\n",
      "  Category = \u001b[31mcol_character()\u001b[39m,\n",
      "  Value = \u001b[32mcol_double()\u001b[39m,\n",
      "  ValueUnit = \u001b[31mcol_character()\u001b[39m,\n",
      "  ValueLabel = \u001b[31mcol_character()\u001b[39m,\n",
      "  NullReason = \u001b[31mcol_character()\u001b[39m,\n",
      "  Date = \u001b[31mcol_character()\u001b[39m,\n",
      "  DateLabel = \u001b[31mcol_character()\u001b[39m,\n",
      "  Source = \u001b[31mcol_character()\u001b[39m\n",
      ")\n",
      "\n",
      "Parsed with column specification:\n",
      "cols(\n",
      "  `Territorial Authority` = \u001b[31mcol_character()\u001b[39m,\n",
      "  Topic = \u001b[31mcol_character()\u001b[39m,\n",
      "  Measure = \u001b[31mcol_character()\u001b[39m,\n",
      "  Category = \u001b[31mcol_character()\u001b[39m,\n",
      "  Value = \u001b[32mcol_double()\u001b[39m,\n",
      "  ValueUnit = \u001b[31mcol_character()\u001b[39m,\n",
      "  ValueLabel = \u001b[31mcol_character()\u001b[39m,\n",
      "  NullReason = \u001b[31mcol_character()\u001b[39m,\n",
      "  Date = \u001b[31mcol_character()\u001b[39m,\n",
      "  DateLabel = \u001b[31mcol_character()\u001b[39m,\n",
      "  Source = \u001b[31mcol_character()\u001b[39m\n",
      ")\n",
      "\n"
     ]
    }
   ],
   "source": [
    "#Specifically to get the information about pets this is the loop, \n",
    "#but can change the data[data$Topic == \"\"] to get it to be about other information in the csvs\n",
    "\n",
    "for (i in 1:length(Otago_file_list)){\n",
    "  data = read_csv(Otago_file_list[i])\n",
    "  #e.g. if we wanted household information we would change the topic to be \"Households\" below\n",
    "  pets_data = data[data$Topic == \"Pets\",]\n",
    "  #and then would just change these variables names to be something sensible like house_data\n",
    "  pets_data$Topic = NULL\n",
    "  pets_data$NullReason = NULL\n",
    "  pets_data$Source = NULL\n",
    "  pets_data$ValueUnit = NULL\n",
    "  pets_data$ValueLabel = NULL\n",
    "    \n",
    "    \n",
    "  #this is specific to the pets portion, this removes the acc data\n",
    "  pets_counts = pets_data[c(-1,-2,-3),]\n",
    "  pets_counts\n",
    "  \n",
    "  \n",
    "  #and if we wanted to get home ownership instead of dogs\n",
    "  #we'd change the measure == \"Home ownership by households\"\n",
    "  total_registered_dogs = pets_counts[pets_counts$Measure ==\"Registered dogs — Total registered dogs\",]\n",
    "    \n",
    "  \n",
    "  Otago_dogs_df <- rbind(Otago_dogs_df, total_registered_dogs) #for each iteration, bind the new data to the building dataset\n",
    "\n",
    "}"
   ]
  },
  {
   "cell_type": "code",
   "execution_count": 336,
   "metadata": {},
   "outputs": [],
   "source": [
    "Otago_population_df = data.frame()"
   ]
  },
  {
   "cell_type": "code",
   "execution_count": 337,
   "metadata": {},
   "outputs": [],
   "source": [
    "for (i in 1:length(Otago_file_list)){\n",
    "  data = read.csv(Otago_file_list[i])\n",
    "  #e.g. if we wanted household information we would change the topic to be \"Households\" below\n",
    "  demo_data = data[data$Topic == \"Demographics\",]\n",
    "\n",
    "  demo_data$Topic = NULL\n",
    "  demo_data$NullReason = NULL\n",
    "  demo_data$Source = NULL\n",
    "  demo_data$ValueUnit = NULL\n",
    "  demo_data$ValueLabel = NULL  \n",
    "\n",
    "  population = demo_data[demo_data$Measure == \"Population - residents at 2013 census\",]  \n",
    "  Otago_population_df <- rbind(Otago_population_df, population) #for each iteration, bind the new data to the building dataset\n",
    "  #dataset <- rbind(dataset, population)  \n",
    "}\n",
    "#population_df"
   ]
  },
  {
   "cell_type": "code",
   "execution_count": 338,
   "metadata": {},
   "outputs": [],
   "source": [
    "Otago_homes_df  = data.frame()"
   ]
  },
  {
   "cell_type": "code",
   "execution_count": 339,
   "metadata": {},
   "outputs": [],
   "source": [
    "for (i in 1:length(Otago_file_list)){\n",
    "  data = read.csv(Otago_file_list[i])\n",
    "  #e.g. if we wanted household information we would change the topic to be \"Households\" below\n",
    "  home_data = data[data$Topic == \"Households\",]\n",
    "\n",
    "  home_data$Topic = NULL\n",
    "  home_data$NullReason = NULL\n",
    "  home_data$Source = NULL\n",
    "  home_data$ValueUnit = NULL\n",
    "  home_data$ValueLabel = NULL  \n",
    "\n",
    "  ownership = home_data[home_data$Measure == \"Home ownership by households\",]  \n",
    "  Otago_homes_df <- rbind(Otago_homes_df, ownership) #for each iteration, bind the new data to the building dataset\n",
    "}"
   ]
  },
  {
   "cell_type": "code",
   "execution_count": 340,
   "metadata": {},
   "outputs": [],
   "source": [
    "Otago_median_income_df = data.frame()"
   ]
  },
  {
   "cell_type": "code",
   "execution_count": 341,
   "metadata": {},
   "outputs": [],
   "source": [
    "for (i in 1:length(Otago_file_list)){\n",
    "  data = read.csv(Otago_file_list[i])\n",
    "  #e.g. if we wanted household information we would change the topic to be \"Households\" below\n",
    "  income_data = data[data$Topic == \"Income\",]\n",
    "\n",
    "  income_data$Topic = NULL\n",
    "  income_data$NullReason = NULL\n",
    "  income_data$Source = NULL\n",
    "  income_data$ValueUnit = NULL\n",
    "  income_data$ValueLabel = NULL  \n",
    "\n",
    "  personal_income = income_data[income_data$Measure == \"Median personal income ($)\",]  \n",
    "  Otago_median_income_df <- rbind(Otago_median_income_df, personal_income) #for each iteration, bind the new data to the building dataset\n",
    "}"
   ]
  },
  {
   "cell_type": "code",
   "execution_count": 342,
   "metadata": {},
   "outputs": [],
   "source": [
    "Otago_income_bracket_df = data.frame()"
   ]
  },
  {
   "cell_type": "code",
   "execution_count": 343,
   "metadata": {},
   "outputs": [],
   "source": [
    "for (i in 1:length(Otago_file_list)){\n",
    "  data = read.csv(Otago_file_list[i])\n",
    "  #e.g. if we wanted household information we would change the topic to be \"Households\" below\n",
    "  income_bracket_data = data[data$Topic == \"Income\",]\n",
    "\n",
    "  income_bracket_data$Topic = NULL\n",
    "  income_bracket_data$NullReason = NULL\n",
    "  income_bracket_data$Source = NULL\n",
    "  income_bracket_data$ValueUnit = NULL\n",
    "  income_bracket_data$ValueLabel = NULL  \n",
    "\n",
    "  bracket_income = income_bracket_data[income_bracket_data$Measure == \"Number of families in income bracket\",]  \n",
    "  Otago_income_bracket_df <- rbind(Otago_income_bracket_df, bracket_income) #for each iteration, bind the new data to the building dataset\n",
    "}"
   ]
  },
  {
   "cell_type": "markdown",
   "metadata": {},
   "source": [
    "## **Otago Data Frames:**\n",
    "\n",
    " - Otago_dogs_df\n",
    " - Otago_population_df\n",
    " - Otago_homes_df\n",
    " - Otago_median_income_df\n",
    " - Otago_income_bracket_df"
   ]
  },
  {
   "cell_type": "code",
   "execution_count": 347,
   "metadata": {},
   "outputs": [
    {
     "data": {
      "text/html": [
       "'/Users/oscarevans/Desktop/Region_CSVs/Southland'"
      ],
      "text/latex": [
       "'/Users/oscarevans/Desktop/Region\\_CSVs/Southland'"
      ],
      "text/markdown": [
       "'/Users/oscarevans/Desktop/Region_CSVs/Southland'"
      ],
      "text/plain": [
       "[1] \"/Users/oscarevans/Desktop/Region_CSVs/Southland\""
      ]
     },
     "metadata": {},
     "output_type": "display_data"
    }
   ],
   "source": [
    "getwd()\n",
    "#set the working directory to the file that the region you're looking at is saved to\n",
    "setwd(\"/Users/oscarevans/Desktop/Region_CSVs/Southland\")"
   ]
  },
  {
   "cell_type": "code",
   "execution_count": 348,
   "metadata": {},
   "outputs": [],
   "source": [
    "#Get the list of files that you're going to be reading from \n",
    "#se the path to be to the folder of the region that you're looking at\n",
    "Southland_file_list <- list.files(path=\"/Users/oscarevans/Desktop/Region_CSVs/Southland\")\n",
    "#change this above to be where the files are save on your computer"
   ]
  },
  {
   "cell_type": "code",
   "execution_count": 349,
   "metadata": {},
   "outputs": [],
   "source": [
    "#initiate a blank data frame, each iteration of the loop will append the data from the given file to this variable\n",
    "Southland_dogs_df <- data.frame()"
   ]
  },
  {
   "cell_type": "code",
   "execution_count": 350,
   "metadata": {},
   "outputs": [
    {
     "name": "stderr",
     "output_type": "stream",
     "text": [
      "Parsed with column specification:\n",
      "cols(\n",
      "  `Territorial Authority` = \u001b[31mcol_character()\u001b[39m,\n",
      "  Topic = \u001b[31mcol_character()\u001b[39m,\n",
      "  Measure = \u001b[31mcol_character()\u001b[39m,\n",
      "  Category = \u001b[31mcol_character()\u001b[39m,\n",
      "  Value = \u001b[32mcol_double()\u001b[39m,\n",
      "  ValueUnit = \u001b[31mcol_character()\u001b[39m,\n",
      "  ValueLabel = \u001b[31mcol_character()\u001b[39m,\n",
      "  NullReason = \u001b[31mcol_character()\u001b[39m,\n",
      "  Date = \u001b[31mcol_character()\u001b[39m,\n",
      "  DateLabel = \u001b[31mcol_character()\u001b[39m,\n",
      "  Source = \u001b[31mcol_character()\u001b[39m\n",
      ")\n",
      "\n",
      "Parsed with column specification:\n",
      "cols(\n",
      "  `Territorial Authority` = \u001b[31mcol_character()\u001b[39m,\n",
      "  Topic = \u001b[31mcol_character()\u001b[39m,\n",
      "  Measure = \u001b[31mcol_character()\u001b[39m,\n",
      "  Category = \u001b[31mcol_character()\u001b[39m,\n",
      "  Value = \u001b[32mcol_double()\u001b[39m,\n",
      "  ValueUnit = \u001b[31mcol_character()\u001b[39m,\n",
      "  ValueLabel = \u001b[31mcol_character()\u001b[39m,\n",
      "  NullReason = \u001b[31mcol_character()\u001b[39m,\n",
      "  Date = \u001b[31mcol_character()\u001b[39m,\n",
      "  DateLabel = \u001b[31mcol_character()\u001b[39m,\n",
      "  Source = \u001b[31mcol_character()\u001b[39m\n",
      ")\n",
      "\n",
      "Parsed with column specification:\n",
      "cols(\n",
      "  `Territorial Authority` = \u001b[31mcol_character()\u001b[39m,\n",
      "  Topic = \u001b[31mcol_character()\u001b[39m,\n",
      "  Measure = \u001b[31mcol_character()\u001b[39m,\n",
      "  Category = \u001b[31mcol_character()\u001b[39m,\n",
      "  Value = \u001b[32mcol_double()\u001b[39m,\n",
      "  ValueUnit = \u001b[31mcol_character()\u001b[39m,\n",
      "  ValueLabel = \u001b[31mcol_character()\u001b[39m,\n",
      "  NullReason = \u001b[31mcol_character()\u001b[39m,\n",
      "  Date = \u001b[31mcol_character()\u001b[39m,\n",
      "  DateLabel = \u001b[31mcol_character()\u001b[39m,\n",
      "  Source = \u001b[31mcol_character()\u001b[39m\n",
      ")\n",
      "\n"
     ]
    }
   ],
   "source": [
    "#Specifically to get the information about pets this is the loop, \n",
    "#but can change the data[data$Topic == \"\"] to get it to be about other information in the csvs\n",
    "\n",
    "for (i in 1:length(Southland_file_list)){\n",
    "  data = read_csv(Southland_file_list[i])\n",
    "  #e.g. if we wanted household information we would change the topic to be \"Households\" below\n",
    "  pets_data = data[data$Topic == \"Pets\",]\n",
    "  #and then would just change these variables names to be something sensible like house_data\n",
    "  pets_data$Topic = NULL\n",
    "  pets_data$NullReason = NULL\n",
    "  pets_data$Source = NULL\n",
    "  pets_data$ValueUnit = NULL\n",
    "  pets_data$ValueLabel = NULL\n",
    "    \n",
    "    \n",
    "  #this is specific to the pets portion, this removes the acc data\n",
    "  pets_counts = pets_data[c(-1,-2,-3),]\n",
    "  pets_counts\n",
    "  \n",
    "  \n",
    "  #and if we wanted to get home ownership instead of dogs\n",
    "  #we'd change the measure == \"Home ownership by households\"\n",
    "  total_registered_dogs = pets_counts[pets_counts$Measure ==\"Registered dogs — Total registered dogs\",]\n",
    "    \n",
    "  \n",
    "  Southland_dogs_df <- rbind(Southland_dogs_df, total_registered_dogs) #for each iteration, bind the new data to the building dataset\n",
    "\n",
    "}"
   ]
  },
  {
   "cell_type": "code",
   "execution_count": 351,
   "metadata": {},
   "outputs": [],
   "source": [
    "Southland_population_df = data.frame()"
   ]
  },
  {
   "cell_type": "code",
   "execution_count": 352,
   "metadata": {},
   "outputs": [],
   "source": [
    "for (i in 1:length(Southland_file_list)){\n",
    "  data = read.csv(Southland_file_list[i])\n",
    "  #e.g. if we wanted household information we would change the topic to be \"Households\" below\n",
    "  demo_data = data[data$Topic == \"Demographics\",]\n",
    "\n",
    "  demo_data$Topic = NULL\n",
    "  demo_data$NullReason = NULL\n",
    "  demo_data$Source = NULL\n",
    "  demo_data$ValueUnit = NULL\n",
    "  demo_data$ValueLabel = NULL  \n",
    "\n",
    "  population = demo_data[demo_data$Measure == \"Population - residents at 2013 census\",]  \n",
    "  Southland_population_df <- rbind(Southland_population_df, population) #for each iteration, bind the new data to the building dataset\n",
    "  #dataset <- rbind(dataset, population)  \n",
    "}\n",
    "#population_df"
   ]
  },
  {
   "cell_type": "code",
   "execution_count": 353,
   "metadata": {},
   "outputs": [],
   "source": [
    "Southland_homes_df  = data.frame()"
   ]
  },
  {
   "cell_type": "code",
   "execution_count": 354,
   "metadata": {},
   "outputs": [],
   "source": [
    "for (i in 1:length(Southland_file_list)){\n",
    "  data = read.csv(Southland_file_list[i])\n",
    "  #e.g. if we wanted household information we would change the topic to be \"Households\" below\n",
    "  home_data = data[data$Topic == \"Households\",]\n",
    "\n",
    "  home_data$Topic = NULL\n",
    "  home_data$NullReason = NULL\n",
    "  home_data$Source = NULL\n",
    "  home_data$ValueUnit = NULL\n",
    "  home_data$ValueLabel = NULL  \n",
    "\n",
    "  ownership = home_data[home_data$Measure == \"Home ownership by households\",]  \n",
    "  Southland_homes_df <- rbind(Southland_homes_df, ownership) #for each iteration, bind the new data to the building dataset\n",
    "}"
   ]
  },
  {
   "cell_type": "code",
   "execution_count": 355,
   "metadata": {},
   "outputs": [],
   "source": [
    "Southland_median_income_df = data.frame()"
   ]
  },
  {
   "cell_type": "code",
   "execution_count": 356,
   "metadata": {},
   "outputs": [],
   "source": [
    "for (i in 1:length(Southland_file_list)){\n",
    "  data = read.csv(Southland_file_list[i])\n",
    "  #e.g. if we wanted household information we would change the topic to be \"Households\" below\n",
    "  income_data = data[data$Topic == \"Income\",]\n",
    "\n",
    "  income_data$Topic = NULL\n",
    "  income_data$NullReason = NULL\n",
    "  income_data$Source = NULL\n",
    "  income_data$ValueUnit = NULL\n",
    "  income_data$ValueLabel = NULL  \n",
    "\n",
    "  personal_income = income_data[income_data$Measure == \"Median personal income ($)\",]  \n",
    "  Southland_median_income_df <- rbind(Southland_median_income_df, personal_income) #for each iteration, bind the new data to the building dataset\n",
    "}"
   ]
  },
  {
   "cell_type": "code",
   "execution_count": 357,
   "metadata": {},
   "outputs": [],
   "source": [
    "Southland_income_bracket_df = data.frame()"
   ]
  },
  {
   "cell_type": "code",
   "execution_count": 358,
   "metadata": {},
   "outputs": [],
   "source": [
    "for (i in 1:length(Southland_file_list)){\n",
    "  data = read.csv(Southland_file_list[i])\n",
    "  #e.g. if we wanted household information we would change the topic to be \"Households\" below\n",
    "  income_bracket_data = data[data$Topic == \"Income\",]\n",
    "\n",
    "  income_bracket_data$Topic = NULL\n",
    "  income_bracket_data$NullReason = NULL\n",
    "  income_bracket_data$Source = NULL\n",
    "  income_bracket_data$ValueUnit = NULL\n",
    "  income_bracket_data$ValueLabel = NULL  \n",
    "\n",
    "  bracket_income = income_bracket_data[income_bracket_data$Measure == \"Number of families in income bracket\",]  \n",
    "  Southland_income_bracket_df <- rbind(Southland_income_bracket_df, bracket_income) #for each iteration, bind the new data to the building dataset\n",
    "}"
   ]
  },
  {
   "cell_type": "markdown",
   "metadata": {},
   "source": [
    "## **Southland Data Frames:**\n",
    "\n",
    " - Southland_dogs_df\n",
    " - Southland_population_df\n",
    " - Southland_homes_df\n",
    " - Southland_median_income_df\n",
    " - Southland_income_bracket_df"
   ]
  },
  {
   "cell_type": "markdown",
   "metadata": {},
   "source": [
    "## **All Data Frames:**\n",
    "\n",
    " - Manawatu_Whanganui_dogs_df\n",
    " - Manawatu_Whanganui_population_df\n",
    " - Manawatu_Whanganui_homes_df\n",
    " - Manawatu_Whanganui_median_income_df\n",
    " - Manawatu_Whanganui_income_bracket_dfSouthland_file_listNelson_dogs_df\n",
    " - Marlborough_dogs_df\n",
    " - Marlborough_population_df\n",
    " - Marlborugh_homes_df\n",
    " - Marlborough_median_income_df\n",
    " - Marlborough_income_bracket_df\n",
    " - Nelson_dogs_df\n",
    " - Nelson_population_df\n",
    " - Nelson_homes_df\n",
    " - Nelson_median_income_df\n",
    " - Nelson_income_bracket_df\n",
    " - Northland_dogs_df\n",
    " - Northland_population_df\n",
    " - Northland_homes_df\n",
    " - Northland_median_income_df\n",
    " - Northland_income_bracket_df\n",
    " - Otago_dogs_df\n",
    " - Otago_population_df\n",
    " - Otago_homes_df\n",
    " - Otago_median_income_df\n",
    " - Otago_income_bracket_df\n",
    " - Southland_dogs_df\n",
    " - Southland_population_df\n",
    " - Southland_homes_df\n",
    " - Southland_median_income_df\n",
    " - Southland_income_bracket_df"
   ]
  },
  {
   "cell_type": "code",
   "execution_count": 361,
   "metadata": {},
   "outputs": [],
   "source": [
    "Manawatu_Whanganui_dogs_totals_df <- aggregate(Manawatu_Whanganui_dogs_df['Value'], by=Manawatu_Whanganui_dogs_df['Category'], sum) "
   ]
  },
  {
   "cell_type": "code",
   "execution_count": 364,
   "metadata": {},
   "outputs": [],
   "source": [
    "Marlborough_dogs_totals_df <- aggregate(Marlborough_dogs_df['Value'], by=Marlborough_dogs_df['Category'], sum) "
   ]
  },
  {
   "cell_type": "code",
   "execution_count": 365,
   "metadata": {},
   "outputs": [],
   "source": [
    "Nelson_dogs_totals_df <- aggregate(Nelson_dogs_df['Value'], by=Nelson_dogs_df['Category'], sum) "
   ]
  },
  {
   "cell_type": "code",
   "execution_count": 366,
   "metadata": {},
   "outputs": [],
   "source": [
    "Otago_dogs_totals_df <- aggregate(Otago_dogs_df['Value'], by=Otago_dogs_df['Category'], sum) "
   ]
  },
  {
   "cell_type": "code",
   "execution_count": 368,
   "metadata": {},
   "outputs": [],
   "source": [
    "Southland_dogs_totals_df <- aggregate(Southland_dogs_df['Value'], by=Southland_dogs_df['Category'], sum) "
   ]
  },
  {
   "cell_type": "code",
   "execution_count": 369,
   "metadata": {},
   "outputs": [],
   "source": [
    "Northland_dogs_totals_df <- aggregate(Northland_dogs_df['Value'], by=Northland_dogs_df['Category'], sum) "
   ]
  },
  {
   "cell_type": "code",
   "execution_count": 396,
   "metadata": {},
   "outputs": [
    {
     "name": "stderr",
     "output_type": "stream",
     "text": [
      "New names:\n",
      "* Category -> Category...1\n",
      "* Value -> Value...2\n",
      "* Category -> Category...3\n",
      "* Value -> Value...4\n",
      "* Category -> Category...5\n",
      "* ...\n",
      "\n"
     ]
    }
   ],
   "source": [
    "dog_totals_df <- bind_cols(Manawatu_Whanganui_dogs_totals_df, Marlborough_dogs_totals_df, Nelson_dogs_totals_df, Otago_dogs_totals_df, Southland_dogs_totals_df, Northland_dogs_totals_df)"
   ]
  },
  {
   "cell_type": "code",
   "execution_count": 397,
   "metadata": {},
   "outputs": [],
   "source": [
    "clean_dog_totals_df <- subset(dog_totals_df, select = -c(Category...3, Category...5, Category...7, Category...9, Category...11))"
   ]
  },
  {
   "cell_type": "code",
   "execution_count": 398,
   "metadata": {},
   "outputs": [],
   "source": [
    "Final_dog_df <- rename(clean_dog_totals_df, c(\"Breed\"=\"Category...1\", \"Manawatu_Whanganui\"=\"Value...2\", \"Marlborough\"=\"Value...4\", \"Nelson\"=\"Value...6\", \"Otago\"=\"Value...8\", \"Southland\"=\"Value...10\", \"Northland\"=\"Value...12\"))"
   ]
  },
  {
   "cell_type": "code",
   "execution_count": 399,
   "metadata": {},
   "outputs": [
    {
     "data": {
      "text/html": [
       "<table>\n",
       "<caption>A data.frame: 38 × 7</caption>\n",
       "<thead>\n",
       "\t<tr><th></th><th scope=col>Breed</th><th scope=col>Manawatu_Whanganui</th><th scope=col>Marlborough</th><th scope=col>Nelson</th><th scope=col>Otago</th><th scope=col>Southland</th><th scope=col>Northland</th></tr>\n",
       "\t<tr><th></th><th scope=col>&lt;chr&gt;</th><th scope=col>&lt;dbl&gt;</th><th scope=col>&lt;dbl&gt;</th><th scope=col>&lt;dbl&gt;</th><th scope=col>&lt;dbl&gt;</th><th scope=col>&lt;dbl&gt;</th><th scope=col>&lt;dbl&gt;</th></tr>\n",
       "</thead>\n",
       "<tbody>\n",
       "\t<tr><th scope=row>1</th><td>All cross breeds              </td><td>11987</td><td> 4200</td><td>2693</td><td>11666</td><td> 7499</td><td> 9349</td></tr>\n",
       "\t<tr><th scope=row>2</th><td>All pure and cross breeds     </td><td>45676</td><td>10444</td><td>5377</td><td>33644</td><td>24552</td><td>24532</td></tr>\n",
       "\t<tr><th scope=row>3</th><td>All pure breeds               </td><td>33689</td><td> 6244</td><td>2684</td><td>21978</td><td>17053</td><td>15183</td></tr>\n",
       "\t<tr><th scope=row>4</th><td>Beagle                        </td><td>  183</td><td>   21</td><td>  27</td><td>  100</td><td>   72</td><td>   51</td></tr>\n",
       "\t<tr><th scope=row>5</th><td>Bichon Frise                  </td><td>  527</td><td>  140</td><td> 101</td><td>  396</td><td>  391</td><td>  273</td></tr>\n",
       "\t<tr><th scope=row>6</th><td>Boxer                         </td><td>  343</td><td>   80</td><td>  45</td><td>  212</td><td>  146</td><td>  169</td></tr>\n",
       "\t<tr><th scope=row>7</th><td>Brazilian Fila                </td><td>    0</td><td>    0</td><td>   0</td><td>    0</td><td>    0</td><td>    0</td></tr>\n",
       "\t<tr><th scope=row>8</th><td>Cattle, Australian            </td><td>  286</td><td>   50</td><td>  39</td><td>  103</td><td>   54</td><td>  391</td></tr>\n",
       "\t<tr><th scope=row>9</th><td>Chihuahua, Long Coat          </td><td>  169</td><td>   49</td><td>  17</td><td>   81</td><td>   67</td><td>  179</td></tr>\n",
       "\t<tr><th scope=row>10</th><td>Chihuahua, Smooth Coat        </td><td>  303</td><td>   34</td><td>  40</td><td>  278</td><td>  247</td><td>  149</td></tr>\n",
       "\t<tr><th scope=row>11</th><td>Collie, Bearded               </td><td>  255</td><td>  116</td><td>  27</td><td>  208</td><td>  204</td><td>  127</td></tr>\n",
       "\t<tr><th scope=row>12</th><td>Collie, Border                </td><td> 1619</td><td>  366</td><td> 173</td><td> 2538</td><td>  744</td><td> 1442</td></tr>\n",
       "\t<tr><th scope=row>13</th><td>Collie, Rough                 </td><td>  114</td><td>   30</td><td>   7</td><td>  116</td><td>  399</td><td>   22</td></tr>\n",
       "\t<tr><th scope=row>14</th><td>Collie, Smooth                </td><td>   77</td><td>  332</td><td>   4</td><td> 1538</td><td> 1199</td><td>   23</td></tr>\n",
       "\t<tr><th scope=row>15</th><td>Dogo Argentino                </td><td>   10</td><td>    0</td><td>   0</td><td>    0</td><td>    3</td><td>    0</td></tr>\n",
       "\t<tr><th scope=row>16</th><td>Greyhound                     </td><td> 1067</td><td>   46</td><td>  34</td><td>  136</td><td>   87</td><td>   72</td></tr>\n",
       "\t<tr><th scope=row>17</th><td>Heading                       </td><td> 3705</td><td>  521</td><td>  20</td><td> 1130</td><td> 1597</td><td>  512</td></tr>\n",
       "\t<tr><th scope=row>18</th><td>Huntaway                      </td><td> 6325</td><td>  633</td><td>  54</td><td> 1841</td><td> 2541</td><td> 1654</td></tr>\n",
       "\t<tr><th scope=row>19</th><td>Maltese                       </td><td>  292</td><td>   77</td><td>  39</td><td>  189</td><td>  134</td><td>  135</td></tr>\n",
       "\t<tr><th scope=row>20</th><td>Other pure breeds             </td><td> 6734</td><td> 1442</td><td> 857</td><td> 4617</td><td> 2800</td><td> 3987</td></tr>\n",
       "\t<tr><th scope=row>21</th><td>Perro de Presa Canario        </td><td>    0</td><td>    0</td><td>   0</td><td>    0</td><td>    0</td><td>    0</td></tr>\n",
       "\t<tr><th scope=row>22</th><td>Poodle, Miniature             </td><td>  220</td><td>   42</td><td>  33</td><td>  121</td><td>   87</td><td>  140</td></tr>\n",
       "\t<tr><th scope=row>23</th><td>Poodle, Toy                   </td><td>  204</td><td>   29</td><td>  17</td><td>  120</td><td>   91</td><td>  131</td></tr>\n",
       "\t<tr><th scope=row>24</th><td>Retriever, Golden             </td><td>  467</td><td>  132</td><td>  85</td><td>  520</td><td>  247</td><td>  235</td></tr>\n",
       "\t<tr><th scope=row>25</th><td>Retriever, Labrador           </td><td> 3444</td><td>  624</td><td> 246</td><td> 2767</td><td> 2225</td><td> 1624</td></tr>\n",
       "\t<tr><th scope=row>26</th><td>Rottweiler                    </td><td>  745</td><td>   86</td><td>  42</td><td>  268</td><td>  310</td><td>  354</td></tr>\n",
       "\t<tr><th scope=row>27</th><td>Schnauzer, Miniature          </td><td>  368</td><td>  136</td><td>  94</td><td>  420</td><td>  207</td><td>  124</td></tr>\n",
       "\t<tr><th scope=row>28</th><td>Shepherd, German              </td><td>  844</td><td>  128</td><td>  53</td><td>  426</td><td>  378</td><td>  549</td></tr>\n",
       "\t<tr><th scope=row>29</th><td>Shih Tzu                      </td><td>  540</td><td>   42</td><td>  43</td><td>  296</td><td>  267</td><td>  418</td></tr>\n",
       "\t<tr><th scope=row>30</th><td>Spaniel, Cavalier King Charles</td><td>  321</td><td>   52</td><td>  36</td><td>  133</td><td>   91</td><td>   88</td></tr>\n",
       "\t<tr><th scope=row>31</th><td>Spaniel, Cocker               </td><td>  188</td><td>  102</td><td>  72</td><td>  341</td><td>  228</td><td>  135</td></tr>\n",
       "\t<tr><th scope=row>32</th><td>Spaniel, English Springer     </td><td>  178</td><td>   65</td><td>  27</td><td>  419</td><td>  238</td><td>  104</td></tr>\n",
       "\t<tr><th scope=row>33</th><td>Terrier, American Pit Bull    </td><td>  358</td><td>   15</td><td>  13</td><td>   55</td><td>   28</td><td>   45</td></tr>\n",
       "\t<tr><th scope=row>34</th><td>Terrier, Fox (Smooth)         </td><td> 1731</td><td>  266</td><td>  96</td><td>  644</td><td>  566</td><td>  705</td></tr>\n",
       "\t<tr><th scope=row>35</th><td>Terrier, Jack Russell         </td><td> 1187</td><td>  379</td><td> 149</td><td> 1111</td><td>  928</td><td>  866</td></tr>\n",
       "\t<tr><th scope=row>36</th><td>Terrier, Staffordshire Bull   </td><td>  679</td><td>  168</td><td> 145</td><td>  688</td><td>  424</td><td>  403</td></tr>\n",
       "\t<tr><th scope=row>37</th><td>Terrier, West Highland White  </td><td>  206</td><td>   41</td><td>  49</td><td>  166</td><td>   53</td><td>   76</td></tr>\n",
       "\t<tr><th scope=row>38</th><td>Tosa, Japanese                </td><td>    0</td><td>    0</td><td>   0</td><td>    0</td><td>    0</td><td>    0</td></tr>\n",
       "</tbody>\n",
       "</table>\n"
      ],
      "text/latex": [
       "A data.frame: 38 × 7\n",
       "\\begin{tabular}{r|lllllll}\n",
       "  & Breed & Manawatu\\_Whanganui & Marlborough & Nelson & Otago & Southland & Northland\\\\\n",
       "  & <chr> & <dbl> & <dbl> & <dbl> & <dbl> & <dbl> & <dbl>\\\\\n",
       "\\hline\n",
       "\t1 & All cross breeds               & 11987 &  4200 & 2693 & 11666 &  7499 &  9349\\\\\n",
       "\t2 & All pure and cross breeds      & 45676 & 10444 & 5377 & 33644 & 24552 & 24532\\\\\n",
       "\t3 & All pure breeds                & 33689 &  6244 & 2684 & 21978 & 17053 & 15183\\\\\n",
       "\t4 & Beagle                         &   183 &    21 &   27 &   100 &    72 &    51\\\\\n",
       "\t5 & Bichon Frise                   &   527 &   140 &  101 &   396 &   391 &   273\\\\\n",
       "\t6 & Boxer                          &   343 &    80 &   45 &   212 &   146 &   169\\\\\n",
       "\t7 & Brazilian Fila                 &     0 &     0 &    0 &     0 &     0 &     0\\\\\n",
       "\t8 & Cattle, Australian             &   286 &    50 &   39 &   103 &    54 &   391\\\\\n",
       "\t9 & Chihuahua, Long Coat           &   169 &    49 &   17 &    81 &    67 &   179\\\\\n",
       "\t10 & Chihuahua, Smooth Coat         &   303 &    34 &   40 &   278 &   247 &   149\\\\\n",
       "\t11 & Collie, Bearded                &   255 &   116 &   27 &   208 &   204 &   127\\\\\n",
       "\t12 & Collie, Border                 &  1619 &   366 &  173 &  2538 &   744 &  1442\\\\\n",
       "\t13 & Collie, Rough                  &   114 &    30 &    7 &   116 &   399 &    22\\\\\n",
       "\t14 & Collie, Smooth                 &    77 &   332 &    4 &  1538 &  1199 &    23\\\\\n",
       "\t15 & Dogo Argentino                 &    10 &     0 &    0 &     0 &     3 &     0\\\\\n",
       "\t16 & Greyhound                      &  1067 &    46 &   34 &   136 &    87 &    72\\\\\n",
       "\t17 & Heading                        &  3705 &   521 &   20 &  1130 &  1597 &   512\\\\\n",
       "\t18 & Huntaway                       &  6325 &   633 &   54 &  1841 &  2541 &  1654\\\\\n",
       "\t19 & Maltese                        &   292 &    77 &   39 &   189 &   134 &   135\\\\\n",
       "\t20 & Other pure breeds              &  6734 &  1442 &  857 &  4617 &  2800 &  3987\\\\\n",
       "\t21 & Perro de Presa Canario         &     0 &     0 &    0 &     0 &     0 &     0\\\\\n",
       "\t22 & Poodle, Miniature              &   220 &    42 &   33 &   121 &    87 &   140\\\\\n",
       "\t23 & Poodle, Toy                    &   204 &    29 &   17 &   120 &    91 &   131\\\\\n",
       "\t24 & Retriever, Golden              &   467 &   132 &   85 &   520 &   247 &   235\\\\\n",
       "\t25 & Retriever, Labrador            &  3444 &   624 &  246 &  2767 &  2225 &  1624\\\\\n",
       "\t26 & Rottweiler                     &   745 &    86 &   42 &   268 &   310 &   354\\\\\n",
       "\t27 & Schnauzer, Miniature           &   368 &   136 &   94 &   420 &   207 &   124\\\\\n",
       "\t28 & Shepherd, German               &   844 &   128 &   53 &   426 &   378 &   549\\\\\n",
       "\t29 & Shih Tzu                       &   540 &    42 &   43 &   296 &   267 &   418\\\\\n",
       "\t30 & Spaniel, Cavalier King Charles &   321 &    52 &   36 &   133 &    91 &    88\\\\\n",
       "\t31 & Spaniel, Cocker                &   188 &   102 &   72 &   341 &   228 &   135\\\\\n",
       "\t32 & Spaniel, English Springer      &   178 &    65 &   27 &   419 &   238 &   104\\\\\n",
       "\t33 & Terrier, American Pit Bull     &   358 &    15 &   13 &    55 &    28 &    45\\\\\n",
       "\t34 & Terrier, Fox (Smooth)          &  1731 &   266 &   96 &   644 &   566 &   705\\\\\n",
       "\t35 & Terrier, Jack Russell          &  1187 &   379 &  149 &  1111 &   928 &   866\\\\\n",
       "\t36 & Terrier, Staffordshire Bull    &   679 &   168 &  145 &   688 &   424 &   403\\\\\n",
       "\t37 & Terrier, West Highland White   &   206 &    41 &   49 &   166 &    53 &    76\\\\\n",
       "\t38 & Tosa, Japanese                 &     0 &     0 &    0 &     0 &     0 &     0\\\\\n",
       "\\end{tabular}\n"
      ],
      "text/markdown": [
       "\n",
       "A data.frame: 38 × 7\n",
       "\n",
       "| <!--/--> | Breed &lt;chr&gt; | Manawatu_Whanganui &lt;dbl&gt; | Marlborough &lt;dbl&gt; | Nelson &lt;dbl&gt; | Otago &lt;dbl&gt; | Southland &lt;dbl&gt; | Northland &lt;dbl&gt; |\n",
       "|---|---|---|---|---|---|---|---|\n",
       "| 1 | All cross breeds               | 11987 |  4200 | 2693 | 11666 |  7499 |  9349 |\n",
       "| 2 | All pure and cross breeds      | 45676 | 10444 | 5377 | 33644 | 24552 | 24532 |\n",
       "| 3 | All pure breeds                | 33689 |  6244 | 2684 | 21978 | 17053 | 15183 |\n",
       "| 4 | Beagle                         |   183 |    21 |   27 |   100 |    72 |    51 |\n",
       "| 5 | Bichon Frise                   |   527 |   140 |  101 |   396 |   391 |   273 |\n",
       "| 6 | Boxer                          |   343 |    80 |   45 |   212 |   146 |   169 |\n",
       "| 7 | Brazilian Fila                 |     0 |     0 |    0 |     0 |     0 |     0 |\n",
       "| 8 | Cattle, Australian             |   286 |    50 |   39 |   103 |    54 |   391 |\n",
       "| 9 | Chihuahua, Long Coat           |   169 |    49 |   17 |    81 |    67 |   179 |\n",
       "| 10 | Chihuahua, Smooth Coat         |   303 |    34 |   40 |   278 |   247 |   149 |\n",
       "| 11 | Collie, Bearded                |   255 |   116 |   27 |   208 |   204 |   127 |\n",
       "| 12 | Collie, Border                 |  1619 |   366 |  173 |  2538 |   744 |  1442 |\n",
       "| 13 | Collie, Rough                  |   114 |    30 |    7 |   116 |   399 |    22 |\n",
       "| 14 | Collie, Smooth                 |    77 |   332 |    4 |  1538 |  1199 |    23 |\n",
       "| 15 | Dogo Argentino                 |    10 |     0 |    0 |     0 |     3 |     0 |\n",
       "| 16 | Greyhound                      |  1067 |    46 |   34 |   136 |    87 |    72 |\n",
       "| 17 | Heading                        |  3705 |   521 |   20 |  1130 |  1597 |   512 |\n",
       "| 18 | Huntaway                       |  6325 |   633 |   54 |  1841 |  2541 |  1654 |\n",
       "| 19 | Maltese                        |   292 |    77 |   39 |   189 |   134 |   135 |\n",
       "| 20 | Other pure breeds              |  6734 |  1442 |  857 |  4617 |  2800 |  3987 |\n",
       "| 21 | Perro de Presa Canario         |     0 |     0 |    0 |     0 |     0 |     0 |\n",
       "| 22 | Poodle, Miniature              |   220 |    42 |   33 |   121 |    87 |   140 |\n",
       "| 23 | Poodle, Toy                    |   204 |    29 |   17 |   120 |    91 |   131 |\n",
       "| 24 | Retriever, Golden              |   467 |   132 |   85 |   520 |   247 |   235 |\n",
       "| 25 | Retriever, Labrador            |  3444 |   624 |  246 |  2767 |  2225 |  1624 |\n",
       "| 26 | Rottweiler                     |   745 |    86 |   42 |   268 |   310 |   354 |\n",
       "| 27 | Schnauzer, Miniature           |   368 |   136 |   94 |   420 |   207 |   124 |\n",
       "| 28 | Shepherd, German               |   844 |   128 |   53 |   426 |   378 |   549 |\n",
       "| 29 | Shih Tzu                       |   540 |    42 |   43 |   296 |   267 |   418 |\n",
       "| 30 | Spaniel, Cavalier King Charles |   321 |    52 |   36 |   133 |    91 |    88 |\n",
       "| 31 | Spaniel, Cocker                |   188 |   102 |   72 |   341 |   228 |   135 |\n",
       "| 32 | Spaniel, English Springer      |   178 |    65 |   27 |   419 |   238 |   104 |\n",
       "| 33 | Terrier, American Pit Bull     |   358 |    15 |   13 |    55 |    28 |    45 |\n",
       "| 34 | Terrier, Fox (Smooth)          |  1731 |   266 |   96 |   644 |   566 |   705 |\n",
       "| 35 | Terrier, Jack Russell          |  1187 |   379 |  149 |  1111 |   928 |   866 |\n",
       "| 36 | Terrier, Staffordshire Bull    |   679 |   168 |  145 |   688 |   424 |   403 |\n",
       "| 37 | Terrier, West Highland White   |   206 |    41 |   49 |   166 |    53 |    76 |\n",
       "| 38 | Tosa, Japanese                 |     0 |     0 |    0 |     0 |     0 |     0 |\n",
       "\n"
      ],
      "text/plain": [
       "   Breed                          Manawatu_Whanganui Marlborough Nelson Otago\n",
       "1  All cross breeds               11987               4200       2693   11666\n",
       "2  All pure and cross breeds      45676              10444       5377   33644\n",
       "3  All pure breeds                33689               6244       2684   21978\n",
       "4  Beagle                           183                 21         27     100\n",
       "5  Bichon Frise                     527                140        101     396\n",
       "6  Boxer                            343                 80         45     212\n",
       "7  Brazilian Fila                     0                  0          0       0\n",
       "8  Cattle, Australian               286                 50         39     103\n",
       "9  Chihuahua, Long Coat             169                 49         17      81\n",
       "10 Chihuahua, Smooth Coat           303                 34         40     278\n",
       "11 Collie, Bearded                  255                116         27     208\n",
       "12 Collie, Border                  1619                366        173    2538\n",
       "13 Collie, Rough                    114                 30          7     116\n",
       "14 Collie, Smooth                    77                332          4    1538\n",
       "15 Dogo Argentino                    10                  0          0       0\n",
       "16 Greyhound                       1067                 46         34     136\n",
       "17 Heading                         3705                521         20    1130\n",
       "18 Huntaway                        6325                633         54    1841\n",
       "19 Maltese                          292                 77         39     189\n",
       "20 Other pure breeds               6734               1442        857    4617\n",
       "21 Perro de Presa Canario             0                  0          0       0\n",
       "22 Poodle, Miniature                220                 42         33     121\n",
       "23 Poodle, Toy                      204                 29         17     120\n",
       "24 Retriever, Golden                467                132         85     520\n",
       "25 Retriever, Labrador             3444                624        246    2767\n",
       "26 Rottweiler                       745                 86         42     268\n",
       "27 Schnauzer, Miniature             368                136         94     420\n",
       "28 Shepherd, German                 844                128         53     426\n",
       "29 Shih Tzu                         540                 42         43     296\n",
       "30 Spaniel, Cavalier King Charles   321                 52         36     133\n",
       "31 Spaniel, Cocker                  188                102         72     341\n",
       "32 Spaniel, English Springer        178                 65         27     419\n",
       "33 Terrier, American Pit Bull       358                 15         13      55\n",
       "34 Terrier, Fox (Smooth)           1731                266         96     644\n",
       "35 Terrier, Jack Russell           1187                379        149    1111\n",
       "36 Terrier, Staffordshire Bull      679                168        145     688\n",
       "37 Terrier, West Highland White     206                 41         49     166\n",
       "38 Tosa, Japanese                     0                  0          0       0\n",
       "   Southland Northland\n",
       "1   7499      9349    \n",
       "2  24552     24532    \n",
       "3  17053     15183    \n",
       "4     72        51    \n",
       "5    391       273    \n",
       "6    146       169    \n",
       "7      0         0    \n",
       "8     54       391    \n",
       "9     67       179    \n",
       "10   247       149    \n",
       "11   204       127    \n",
       "12   744      1442    \n",
       "13   399        22    \n",
       "14  1199        23    \n",
       "15     3         0    \n",
       "16    87        72    \n",
       "17  1597       512    \n",
       "18  2541      1654    \n",
       "19   134       135    \n",
       "20  2800      3987    \n",
       "21     0         0    \n",
       "22    87       140    \n",
       "23    91       131    \n",
       "24   247       235    \n",
       "25  2225      1624    \n",
       "26   310       354    \n",
       "27   207       124    \n",
       "28   378       549    \n",
       "29   267       418    \n",
       "30    91        88    \n",
       "31   228       135    \n",
       "32   238       104    \n",
       "33    28        45    \n",
       "34   566       705    \n",
       "35   928       866    \n",
       "36   424       403    \n",
       "37    53        76    \n",
       "38     0         0    "
      ]
     },
     "metadata": {},
     "output_type": "display_data"
    }
   ],
   "source": [
    "Final_dog_df"
   ]
  },
  {
   "cell_type": "code",
   "execution_count": 385,
   "metadata": {},
   "outputs": [],
   "source": [
    "Manawatu_Whanganui_populations_totals_df <- aggregate(Manawatu_Whanganui_population_df['Value'], by=Manawatu_Whanganui_population_df['Category'], sum)"
   ]
  },
  {
   "cell_type": "code",
   "execution_count": 387,
   "metadata": {},
   "outputs": [],
   "source": [
    "Marlborough_populations_totals_df <- aggregate(Marlborough_population_df['Value'], by=Marlborough_population_df['Category'], sum)"
   ]
  },
  {
   "cell_type": "code",
   "execution_count": 388,
   "metadata": {},
   "outputs": [],
   "source": [
    "Nelson_populations_totals_df <- aggregate(Nelson_population_df['Value'], by=Nelson_population_df['Category'], sum)"
   ]
  },
  {
   "cell_type": "code",
   "execution_count": 389,
   "metadata": {},
   "outputs": [],
   "source": [
    "Otago_populations_totals_df <- aggregate(Otago_population_df['Value'], by=Otago_population_df['Category'], sum)"
   ]
  },
  {
   "cell_type": "code",
   "execution_count": 390,
   "metadata": {},
   "outputs": [],
   "source": [
    "Southland_populations_totals_df <- aggregate(Southland_population_df['Value'], by=Southland_population_df['Category'], sum)"
   ]
  },
  {
   "cell_type": "code",
   "execution_count": 391,
   "metadata": {},
   "outputs": [],
   "source": [
    "Northland_populations_totals_df <- aggregate(Northland_population_df['Value'], by=Northland_population_df['Category'], sum)"
   ]
  },
  {
   "cell_type": "code",
   "execution_count": 394,
   "metadata": {},
   "outputs": [
    {
     "name": "stderr",
     "output_type": "stream",
     "text": [
      "New names:\n",
      "* Category -> Category...1\n",
      "* Value -> Value...2\n",
      "* Category -> Category...3\n",
      "* Value -> Value...4\n",
      "* Category -> Category...5\n",
      "* ...\n",
      "\n"
     ]
    }
   ],
   "source": [
    "populations_totals_df <- bind_cols(Manawatu_Whanganui_populations_totals_df, Marlborough_populations_totals_df, Nelson_populations_totals_df, Otago_populations_totals_df, Southland_populations_totals_df, Northland_populations_totals_df)"
   ]
  },
  {
   "cell_type": "code",
   "execution_count": 400,
   "metadata": {},
   "outputs": [],
   "source": [
    "clean_populations_totals_df <- subset(populations_totals_df, select = -c(Category...3, Category...5, Category...7, Category...9, Category...11))"
   ]
  },
  {
   "cell_type": "code",
   "execution_count": 411,
   "metadata": {},
   "outputs": [],
   "source": [
    "Final_populations_df <- rename(clean_populations_totals_df, c(\"Total_People\"=\"Category...1\", \"Manawatu_Whanganui\"=\"Value...2\", \"Marlborough\"=\"Value...4\", \"Nelson\"=\"Value...6\", \"Otago\"=\"Value...8\", \"Southland\"=\"Value...10\", \"Northland\"=\"Value...12\"))"
   ]
  },
  {
   "cell_type": "code",
   "execution_count": 412,
   "metadata": {},
   "outputs": [
    {
     "data": {
      "text/html": [
       "<table>\n",
       "<caption>A data.frame: 1 × 7</caption>\n",
       "<thead>\n",
       "\t<tr><th></th><th scope=col>Total_People</th><th scope=col>Manawatu_Whanganui</th><th scope=col>Marlborough</th><th scope=col>Nelson</th><th scope=col>Otago</th><th scope=col>Southland</th><th scope=col>Northland</th></tr>\n",
       "\t<tr><th></th><th scope=col>&lt;chr&gt;</th><th scope=col>&lt;dbl&gt;</th><th scope=col>&lt;dbl&gt;</th><th scope=col>&lt;dbl&gt;</th><th scope=col>&lt;dbl&gt;</th><th scope=col>&lt;dbl&gt;</th><th scope=col>&lt;dbl&gt;</th></tr>\n",
       "</thead>\n",
       "<tbody>\n",
       "\t<tr><th scope=row>1</th><td>Total people</td><td>445002</td><td>86832</td><td>46437</td><td>183258</td><td>93342</td><td>151692</td></tr>\n",
       "</tbody>\n",
       "</table>\n"
      ],
      "text/latex": [
       "A data.frame: 1 × 7\n",
       "\\begin{tabular}{r|lllllll}\n",
       "  & Total\\_People & Manawatu\\_Whanganui & Marlborough & Nelson & Otago & Southland & Northland\\\\\n",
       "  & <chr> & <dbl> & <dbl> & <dbl> & <dbl> & <dbl> & <dbl>\\\\\n",
       "\\hline\n",
       "\t1 & Total people & 445002 & 86832 & 46437 & 183258 & 93342 & 151692\\\\\n",
       "\\end{tabular}\n"
      ],
      "text/markdown": [
       "\n",
       "A data.frame: 1 × 7\n",
       "\n",
       "| <!--/--> | Total_People &lt;chr&gt; | Manawatu_Whanganui &lt;dbl&gt; | Marlborough &lt;dbl&gt; | Nelson &lt;dbl&gt; | Otago &lt;dbl&gt; | Southland &lt;dbl&gt; | Northland &lt;dbl&gt; |\n",
       "|---|---|---|---|---|---|---|---|\n",
       "| 1 | Total people | 445002 | 86832 | 46437 | 183258 | 93342 | 151692 |\n",
       "\n"
      ],
      "text/plain": [
       "  Total_People Manawatu_Whanganui Marlborough Nelson Otago  Southland Northland\n",
       "1 Total people 445002             86832       46437  183258 93342     151692   "
      ]
     },
     "metadata": {},
     "output_type": "display_data"
    }
   ],
   "source": [
    "Final_populations_df"
   ]
  },
  {
   "cell_type": "code",
   "execution_count": 404,
   "metadata": {},
   "outputs": [],
   "source": [
    "Manawatu_Whanganui_homes_totals_df <- aggregate(Manawatu_Whanganui_homes_df['Value'], by=Manawatu_Whanganui_homes_df['Category'], sum)"
   ]
  },
  {
   "cell_type": "code",
   "execution_count": 405,
   "metadata": {},
   "outputs": [],
   "source": [
    "Marlborough_homes_totals_df <- aggregate(Marlborough_homes_df['Value'], by=Marlborough_homes_df['Category'], sum)"
   ]
  },
  {
   "cell_type": "code",
   "execution_count": 406,
   "metadata": {},
   "outputs": [],
   "source": [
    "Nelson_homes_totals_df <- aggregate(Nelson_homes_df['Value'], by=Nelson_homes_df['Category'], sum)"
   ]
  },
  {
   "cell_type": "code",
   "execution_count": 407,
   "metadata": {},
   "outputs": [],
   "source": [
    "Otago_homes_totals_df <- aggregate(Otago_homes_df['Value'], by=Otago_homes_df['Category'], sum)"
   ]
  },
  {
   "cell_type": "code",
   "execution_count": 409,
   "metadata": {},
   "outputs": [],
   "source": [
    "Southland_homes_totals_df <- aggregate(Southland_homes_df['Value'], by=Southland_homes_df['Category'], sum)"
   ]
  },
  {
   "cell_type": "code",
   "execution_count": 410,
   "metadata": {},
   "outputs": [],
   "source": [
    "Northland_homes_totals_df <- aggregate(Northland_homes_df['Value'], by=Northland_homes_df['Category'], sum)"
   ]
  },
  {
   "cell_type": "code",
   "execution_count": 419,
   "metadata": {},
   "outputs": [
    {
     "name": "stderr",
     "output_type": "stream",
     "text": [
      "New names:\n",
      "* Category -> Category...1\n",
      "* Value -> Value...2\n",
      "* Category -> Category...3\n",
      "* Value -> Value...4\n",
      "* Category -> Category...5\n",
      "* ...\n",
      "\n"
     ]
    }
   ],
   "source": [
    "homes_totals_df <- bind_cols(Manawatu_Whanganui_homes_totals_df, Marlborough_homes_totals_df, Nelson_homes_totals_df, Otago_homes_totals_df, Southland_homes_totals_df, Northland_homes_totals_df)"
   ]
  },
  {
   "cell_type": "code",
   "execution_count": 420,
   "metadata": {},
   "outputs": [],
   "source": [
    "clean_homes_totals_df <- subset(homes_totals_df, select = -c(Category...3, Category...5, Category...7, Category...9, Category...11))"
   ]
  },
  {
   "cell_type": "code",
   "execution_count": 421,
   "metadata": {},
   "outputs": [],
   "source": [
    "Final_homes_df <- rename(clean_homes_totals_df, c(\"Total_People\"=\"Category...1\", \"Manawatu_Whanganui\"=\"Value...2\", \"Marlborough\"=\"Value...4\", \"Nelson\"=\"Value...6\", \"Otago\"=\"Value...8\", \"Southland\"=\"Value...10\", \"Northland\"=\"Value...12\"))"
   ]
  },
  {
   "cell_type": "code",
   "execution_count": 422,
   "metadata": {},
   "outputs": [
    {
     "data": {
      "text/html": [
       "<table>\n",
       "<caption>A data.frame: 4 × 7</caption>\n",
       "<thead>\n",
       "\t<tr><th></th><th scope=col>Total_People</th><th scope=col>Manawatu_Whanganui</th><th scope=col>Marlborough</th><th scope=col>Nelson</th><th scope=col>Otago</th><th scope=col>Southland</th><th scope=col>Northland</th></tr>\n",
       "\t<tr><th></th><th scope=col>&lt;chr&gt;</th><th scope=col>&lt;dbl&gt;</th><th scope=col>&lt;dbl&gt;</th><th scope=col>&lt;dbl&gt;</th><th scope=col>&lt;dbl&gt;</th><th scope=col>&lt;dbl&gt;</th><th scope=col>&lt;dbl&gt;</th></tr>\n",
       "</thead>\n",
       "<tbody>\n",
       "\t<tr><th scope=row>1</th><td>Dwelling Held in a Family Trust                  </td><td>22116</td><td>2607</td><td>2445</td><td>12204</td><td> 5709</td><td> 7581</td></tr>\n",
       "\t<tr><th scope=row>2</th><td>Dwelling Not Owned and Not Held in a Family Trust</td><td>56730</td><td>4863</td><td>5598</td><td>21825</td><td>10740</td><td>18063</td></tr>\n",
       "\t<tr><th scope=row>3</th><td>Dwelling Owned or Partly Owned                   </td><td>84414</td><td>9249</td><td>9648</td><td>32904</td><td>18960</td><td>27861</td></tr>\n",
       "\t<tr><th scope=row>4</th><td>Not Elsewhere Included                           </td><td>10602</td><td> 954</td><td> 849</td><td> 3855</td><td> 2037</td><td> 5439</td></tr>\n",
       "</tbody>\n",
       "</table>\n"
      ],
      "text/latex": [
       "A data.frame: 4 × 7\n",
       "\\begin{tabular}{r|lllllll}\n",
       "  & Total\\_People & Manawatu\\_Whanganui & Marlborough & Nelson & Otago & Southland & Northland\\\\\n",
       "  & <chr> & <dbl> & <dbl> & <dbl> & <dbl> & <dbl> & <dbl>\\\\\n",
       "\\hline\n",
       "\t1 & Dwelling Held in a Family Trust                   & 22116 & 2607 & 2445 & 12204 &  5709 &  7581\\\\\n",
       "\t2 & Dwelling Not Owned and Not Held in a Family Trust & 56730 & 4863 & 5598 & 21825 & 10740 & 18063\\\\\n",
       "\t3 & Dwelling Owned or Partly Owned                    & 84414 & 9249 & 9648 & 32904 & 18960 & 27861\\\\\n",
       "\t4 & Not Elsewhere Included                            & 10602 &  954 &  849 &  3855 &  2037 &  5439\\\\\n",
       "\\end{tabular}\n"
      ],
      "text/markdown": [
       "\n",
       "A data.frame: 4 × 7\n",
       "\n",
       "| <!--/--> | Total_People &lt;chr&gt; | Manawatu_Whanganui &lt;dbl&gt; | Marlborough &lt;dbl&gt; | Nelson &lt;dbl&gt; | Otago &lt;dbl&gt; | Southland &lt;dbl&gt; | Northland &lt;dbl&gt; |\n",
       "|---|---|---|---|---|---|---|---|\n",
       "| 1 | Dwelling Held in a Family Trust                   | 22116 | 2607 | 2445 | 12204 |  5709 |  7581 |\n",
       "| 2 | Dwelling Not Owned and Not Held in a Family Trust | 56730 | 4863 | 5598 | 21825 | 10740 | 18063 |\n",
       "| 3 | Dwelling Owned or Partly Owned                    | 84414 | 9249 | 9648 | 32904 | 18960 | 27861 |\n",
       "| 4 | Not Elsewhere Included                            | 10602 |  954 |  849 |  3855 |  2037 |  5439 |\n",
       "\n"
      ],
      "text/plain": [
       "  Total_People                                      Manawatu_Whanganui\n",
       "1 Dwelling Held in a Family Trust                   22116             \n",
       "2 Dwelling Not Owned and Not Held in a Family Trust 56730             \n",
       "3 Dwelling Owned or Partly Owned                    84414             \n",
       "4 Not Elsewhere Included                            10602             \n",
       "  Marlborough Nelson Otago Southland Northland\n",
       "1 2607        2445   12204  5709      7581    \n",
       "2 4863        5598   21825 10740     18063    \n",
       "3 9249        9648   32904 18960     27861    \n",
       "4  954         849    3855  2037      5439    "
      ]
     },
     "metadata": {},
     "output_type": "display_data"
    }
   ],
   "source": [
    "Final_homes_df"
   ]
  },
  {
   "cell_type": "code",
   "execution_count": 436,
   "metadata": {},
   "outputs": [],
   "source": [
    "Manawatu_Whanganui_median_income_totals_df <- aggregate(Manawatu_Whanganui_median_income_df['Value'], by=Manawatu_Whanganui_median_income_df['Measure'], sum)"
   ]
  },
  {
   "cell_type": "code",
   "execution_count": 437,
   "metadata": {},
   "outputs": [],
   "source": [
    "Marlborough_median_income_totals_df <- aggregate(Marlborough_median_income_df['Value'], by=Marlborough_median_income_df['Measure'], sum)"
   ]
  },
  {
   "cell_type": "code",
   "execution_count": 438,
   "metadata": {},
   "outputs": [],
   "source": [
    "Nelson_median_income_totals_df <- aggregate(Nelson_median_income_df['Value'], by=Nelson_median_income_df['Measure'], sum)"
   ]
  },
  {
   "cell_type": "code",
   "execution_count": 439,
   "metadata": {},
   "outputs": [],
   "source": [
    "Otago_median_income_totals_df <- aggregate(Otago_median_income_df['Value'], by=Otago_median_income_df['Measure'], sum)"
   ]
  },
  {
   "cell_type": "code",
   "execution_count": 440,
   "metadata": {},
   "outputs": [],
   "source": [
    "Southland_median_income_totals_df <- aggregate(Southland_median_income_df['Value'], by=Southland_median_income_df['Measure'], sum)"
   ]
  },
  {
   "cell_type": "code",
   "execution_count": 441,
   "metadata": {},
   "outputs": [],
   "source": [
    "Northland_median_income_totals_df <- aggregate(Northland_median_income_df['Value'], by=Northland_median_income_df['Measure'], sum)"
   ]
  },
  {
   "cell_type": "code",
   "execution_count": 442,
   "metadata": {},
   "outputs": [
    {
     "name": "stderr",
     "output_type": "stream",
     "text": [
      "New names:\n",
      "* Measure -> Measure...1\n",
      "* Value -> Value...2\n",
      "* Measure -> Measure...3\n",
      "* Value -> Value...4\n",
      "* Measure -> Measure...5\n",
      "* ...\n",
      "\n"
     ]
    }
   ],
   "source": [
    "median_income_totals_df <- bind_cols(Manawatu_Whanganui_median_income_totals_df, Marlborough_median_income_totals_df, Nelson_median_income_totals_df, Otago_median_income_totals_df, Southland_median_income_totals_df, Northland_median_income_totals_df)"
   ]
  },
  {
   "cell_type": "code",
   "execution_count": 443,
   "metadata": {},
   "outputs": [],
   "source": [
    "clean_median_income_totals_df <- subset(median_income_totals_df, select = -c(Measure...3, Measure...5, Measure...7, Measure...9, Measure...11))"
   ]
  },
  {
   "cell_type": "code",
   "execution_count": 444,
   "metadata": {},
   "outputs": [],
   "source": [
    "Final_median_income_totals_df <- rename(clean_median_income_totals_df, c(\"Median_Incomes\"=\"Measure...1\", \"Manawatu_Whanganui\"=\"Value...2\", \"Marlborough\"=\"Value...4\", \"Nelson\"=\"Value...6\", \"Otago\"=\"Value...8\", \"Southland\"=\"Value...10\", \"Northland\"=\"Value...12\"))"
   ]
  },
  {
   "cell_type": "code",
   "execution_count": 445,
   "metadata": {},
   "outputs": [
    {
     "data": {
      "text/html": [
       "<table>\n",
       "<caption>A data.frame: 1 × 7</caption>\n",
       "<thead>\n",
       "\t<tr><th></th><th scope=col>Median_Incomes</th><th scope=col>Manawatu_Whanganui</th><th scope=col>Marlborough</th><th scope=col>Nelson</th><th scope=col>Otago</th><th scope=col>Southland</th><th scope=col>Northland</th></tr>\n",
       "\t<tr><th></th><th scope=col>&lt;chr&gt;</th><th scope=col>&lt;dbl&gt;</th><th scope=col>&lt;dbl&gt;</th><th scope=col>&lt;dbl&gt;</th><th scope=col>&lt;dbl&gt;</th><th scope=col>&lt;dbl&gt;</th><th scope=col>&lt;dbl&gt;</th></tr>\n",
       "</thead>\n",
       "<tbody>\n",
       "\t<tr><th scope=row>1</th><td>Median personal income ($)</td><td>351200</td><td>27900</td><td>27200</td><td>116600</td><td>90100</td><td>69400</td></tr>\n",
       "</tbody>\n",
       "</table>\n"
      ],
      "text/latex": [
       "A data.frame: 1 × 7\n",
       "\\begin{tabular}{r|lllllll}\n",
       "  & Median\\_Incomes & Manawatu\\_Whanganui & Marlborough & Nelson & Otago & Southland & Northland\\\\\n",
       "  & <chr> & <dbl> & <dbl> & <dbl> & <dbl> & <dbl> & <dbl>\\\\\n",
       "\\hline\n",
       "\t1 & Median personal income (\\$) & 351200 & 27900 & 27200 & 116600 & 90100 & 69400\\\\\n",
       "\\end{tabular}\n"
      ],
      "text/markdown": [
       "\n",
       "A data.frame: 1 × 7\n",
       "\n",
       "| <!--/--> | Median_Incomes &lt;chr&gt; | Manawatu_Whanganui &lt;dbl&gt; | Marlborough &lt;dbl&gt; | Nelson &lt;dbl&gt; | Otago &lt;dbl&gt; | Southland &lt;dbl&gt; | Northland &lt;dbl&gt; |\n",
       "|---|---|---|---|---|---|---|---|\n",
       "| 1 | Median personal income ($) | 351200 | 27900 | 27200 | 116600 | 90100 | 69400 |\n",
       "\n"
      ],
      "text/plain": [
       "  Median_Incomes             Manawatu_Whanganui Marlborough Nelson Otago \n",
       "1 Median personal income ($) 351200             27900       27200  116600\n",
       "  Southland Northland\n",
       "1 90100     69400    "
      ]
     },
     "metadata": {},
     "output_type": "display_data"
    }
   ],
   "source": [
    "Final_median_income_totals_df"
   ]
  },
  {
   "cell_type": "markdown",
   "metadata": {},
   "source": [
    "## **Final Total Data Frames:**\n",
    "\n",
    " - Final_dog_df\n",
    " - Final_populations_df\n",
    " - Final_homes_df\n",
    " - Final_median_income_totals_df"
   ]
  },
  {
   "cell_type": "code",
   "execution_count": 446,
   "metadata": {},
   "outputs": [],
   "source": [
    "write.csv(Final_dog_df,'Dog_Breeds_Manawatu-Whanganui_to_Southland.csv')"
   ]
  },
  {
   "cell_type": "code",
   "execution_count": 447,
   "metadata": {},
   "outputs": [],
   "source": [
    "write.csv(Final_populations_df,'2013_Regional_Populations_Manawatu-Whanganui_to_Southland.csv')"
   ]
  },
  {
   "cell_type": "code",
   "execution_count": 448,
   "metadata": {},
   "outputs": [],
   "source": [
    "write.csv(Final_homes_df,'2013_Home_Ownership_Manawatu-Whanganui_to_Southland.csv')"
   ]
  },
  {
   "cell_type": "code",
   "execution_count": 449,
   "metadata": {},
   "outputs": [],
   "source": [
    "write.csv(Final_median_income_totals_df,'2013_Median_Income_Manawatu-Whanganui_to_Southland.csv')"
   ]
  },
  {
   "cell_type": "code",
   "execution_count": null,
   "metadata": {},
   "outputs": [],
   "source": []
  }
 ],
 "metadata": {
  "kernelspec": {
   "display_name": "R",
   "language": "R",
   "name": "ir"
  },
  "language_info": {
   "codemirror_mode": "r",
   "file_extension": ".r",
   "mimetype": "text/x-r-source",
   "name": "R",
   "pygments_lexer": "r",
   "version": "4.0.2"
  }
 },
 "nbformat": 4,
 "nbformat_minor": 4
}
